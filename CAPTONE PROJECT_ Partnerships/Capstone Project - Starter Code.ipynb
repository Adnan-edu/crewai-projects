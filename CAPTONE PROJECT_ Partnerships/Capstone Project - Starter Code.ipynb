{
 "cells": [
  {
   "cell_type": "markdown",
   "metadata": {
    "id": "fHFqbBWqNd4Z"
   },
   "source": [
    "# Setup"
   ]
  },
  {
   "cell_type": "code",
   "execution_count": 1,
   "metadata": {},
   "outputs": [
    {
     "data": {
      "text/plain": [
       "True"
      ]
     },
     "execution_count": 1,
     "metadata": {},
     "output_type": "execute_result"
    }
   ],
   "source": [
    "from dotenv import load_dotenv, find_dotenv\n",
    "load_dotenv(find_dotenv(), override=True)"
   ]
  },
  {
   "cell_type": "code",
   "execution_count": 2,
   "metadata": {
    "executionInfo": {
     "elapsed": 5,
     "status": "ok",
     "timestamp": 1739208792865,
     "user": {
      "displayName": "Diogo Resende",
      "userId": "05706604408624562002"
     },
     "user_tz": -60
    },
    "id": "Y4zkzMbwN4Ti"
   },
   "outputs": [
    {
     "name": "stderr",
     "output_type": "stream",
     "text": [
      "/Users/mdashikadnan/Documents/adnanedu/python/ztm/crewai/crewai_venv/lib/python3.11/site-packages/pydantic/_internal/_generate_schema.py:623: UserWarning: <built-in function callable> is not a Python type (it may be an instance of an object), Pydantic will allow any object with no validation since we cannot even enforce that the input is an instance of the given type. To get rid of this error wrap the type with `pydantic.SkipValidation`.\n",
      "  warn(\n"
     ]
    }
   ],
   "source": [
    "from crewai import Agent, Crew, Process, Task\n",
    "from langchain_openai import ChatOpenAI\n",
    "from IPython.display import display, Markdown\n",
    "from crewai_tools import ScrapeWebsiteTool, SerperDevTool, YoutubeChannelSearchTool, YoutubeVideoSearchTool\n",
    "from pydantic import BaseModel"
   ]
  },
  {
   "cell_type": "code",
   "execution_count": 3,
   "metadata": {
    "executionInfo": {
     "elapsed": 100,
     "status": "ok",
     "timestamp": 1739196717556,
     "user": {
      "displayName": "Diogo Resende",
      "userId": "05706604408624562002"
     },
     "user_tz": -60
    },
    "id": "Tc4DbIdpN5UR"
   },
   "outputs": [],
   "source": [
    "# Define the LLM\n",
    "llm = ChatOpenAI(model_name='gpt-4o', temperature=0.5)"
   ]
  },
  {
   "cell_type": "markdown",
   "metadata": {
    "id": "KvNbZCx3ODjN"
   },
   "source": [
    "# Data Inputs"
   ]
  },
  {
   "cell_type": "code",
   "execution_count": 4,
   "metadata": {
    "executionInfo": {
     "elapsed": 9,
     "status": "ok",
     "timestamp": 1739196731623,
     "user": {
      "displayName": "Diogo Resende",
      "userId": "05706604408624562002"
     },
     "user_tz": -60
    },
    "id": "mepSUmRXOBi2"
   },
   "outputs": [],
   "source": [
    "brand_info = {\n",
    "    \"name\": \"Zero to Mastery\",\n",
    "    \"description\": \"An online tech academy that offers comprehensive courses and a community for learners seeking in-demand software and tech skills.\",\n",
    "    \"brand_values\": \"Quality education, community-driven growth, career-focused learning, and up-to-date tech stacks.\",\n",
    "    \"ideal_partner\": \"A YouTube channel focused on programming, software engineering, or tech career advice with an audience of motivated learners.\"\n",
    "}"
   ]
  },
  {
   "cell_type": "code",
   "execution_count": 5,
   "metadata": {
    "executionInfo": {
     "elapsed": 4,
     "status": "ok",
     "timestamp": 1739196733084,
     "user": {
      "displayName": "Diogo Resende",
      "userId": "05706604408624562002"
     },
     "user_tz": -60
    },
    "id": "MmKa-nDqOHWH"
   },
   "outputs": [],
   "source": [
    "# Define a single YouTube lead for demonstration\n",
    "youtube_lead = {\n",
    "    \"name\": \"Theo - t3․gg\",\n",
    "    \"channel_url\": \"https://www.youtube.com/@t3dotgg\"\n",
    "}"
   ]
  },
  {
   "cell_type": "markdown",
   "metadata": {
    "id": "ryPun_MBNgJq"
   },
   "source": [
    "# Research"
   ]
  },
  {
   "cell_type": "code",
   "execution_count": 6,
   "metadata": {
    "executionInfo": {
     "elapsed": 1129,
     "status": "ok",
     "timestamp": 1739197770668,
     "user": {
      "displayName": "Diogo Resende",
      "userId": "05706604408624562002"
     },
     "user_tz": -60
    },
    "id": "QgV634n_NBXS"
   },
   "outputs": [
    {
     "name": "stderr",
     "output_type": "stream",
     "text": [
      "/Users/mdashikadnan/Documents/adnanedu/python/ztm/crewai/crewai_venv/lib/python3.11/site-packages/chromadb/types.py:144: PydanticDeprecatedSince211: Accessing the 'model_fields' attribute on the instance is deprecated. Instead, you should access this attribute from the model class. Deprecated in Pydantic V2.11 to be removed in V3.0.\n",
      "  return self.model_fields  # pydantic 2.x\n"
     ]
    }
   ],
   "source": [
    "# Build a Research Agent\n",
    "research_agent = Agent(\n",
    "    role = \"Influencer researcher\",\n",
    "    goal = f\"Research about {youtube_lead['name']}'s channel {youtube_lead['channel_url']} to assess their suitability for {brand_info['name']}\",\n",
    "    backstory = f\"You are an expert in Influencer partnerships that align with {brand_info['name']} and its respective values: {brand_info['brand_values']}\",\n",
    "    llm = llm,\n",
    "    tools = [SerperDevTool(), ScrapeWebsiteTool(), YoutubeChannelSearchTool(), YoutubeVideoSearchTool()]\n",
    ")"
   ]
  },
  {
   "cell_type": "code",
   "execution_count": 7,
   "metadata": {
    "executionInfo": {
     "elapsed": 3,
     "status": "ok",
     "timestamp": 1739197846303,
     "user": {
      "displayName": "Diogo Resende",
      "userId": "05706604408624562002"
     },
     "user_tz": -60
    },
    "id": "NEHC4jcZOojt"
   },
   "outputs": [],
   "source": [
    "# Define the google research task\n",
    "channel_research_task = Task(\n",
    "    description = f\"\"\"\n",
    "    Research the channel {youtube_lead['name']} at {youtube_lead['channel_url']}:\n",
    "    1. Identify channel focus and content type.\n",
    "    2. Determine approximate subscriber count and engagement.\n",
    "    3. Check for audience alignment with {brand_info['name']}\"\"\",\n",
    "    expected_output = \"A research report on the channel's key attributes and audience\",\n",
    "    agent = research_agent\n",
    ")"
   ]
  },
  {
   "cell_type": "code",
   "execution_count": 8,
   "metadata": {
    "executionInfo": {
     "elapsed": 3,
     "status": "ok",
     "timestamp": 1739197554829,
     "user": {
      "displayName": "Diogo Resende",
      "userId": "05706604408624562002"
     },
     "user_tz": -60
    },
    "id": "s48IJ0aOPOZ_"
   },
   "outputs": [],
   "source": [
    "# Define the research videos task\n",
    "videos_research_task = Task(\n",
    "    description = f\"\"\"\n",
    "    Research the most popular videos from channel {youtube_lead['name']} at {youtube_lead['channel_url']}.\n",
    "    Summarise their topics and analyse the audiences.\"\"\",\n",
    "    expected_output=\"A research report on the most popular videos and their topics\",\n",
    "    agent = research_agent)"
   ]
  },
  {
   "cell_type": "code",
   "execution_count": 9,
   "metadata": {
    "executionInfo": {
     "elapsed": 9,
     "status": "ok",
     "timestamp": 1739197673095,
     "user": {
      "displayName": "Diogo Resende",
      "userId": "05706604408624562002"
     },
     "user_tz": -60
    },
    "id": "pzJ0zY_LQIRs"
   },
   "outputs": [],
   "source": [
    "# Define a sentiment on the channel via Google searches\n",
    "sentiment_task = Task(\n",
    "    description = f\"\"\"\n",
    "    Conduct a sentiment analysis via Google Search on the channel {youtube_lead['name']} at {youtube_lead['channel_url']}.\n",
    "    Look for user feedbacks, reviews, or discussions that indicate general sentiment.\n",
    "    Search for instance on reddit.\"\"\",\n",
    "    expected_output= \"A sentiment analysis report on the channel's\",\n",
    "    agent = research_agent)"
   ]
  },
  {
   "cell_type": "markdown",
   "metadata": {
    "id": "Gy05LZ3w5g8S"
   },
   "source": [
    "# AI Scoring Agent\n",
    "\n",
    "Evaluate the potential partnership based on brand values and based on YouTube channels, videos and Google search."
   ]
  },
  {
   "cell_type": "code",
   "execution_count": 10,
   "metadata": {
    "executionInfo": {
     "elapsed": 40,
     "status": "ok",
     "timestamp": 1739208548339,
     "user": {
      "displayName": "Diogo Resende",
      "userId": "05706604408624562002"
     },
     "user_tz": -60
    },
    "id": "zS0rE4X15jCs"
   },
   "outputs": [],
   "source": [
    "# Developping the Scoring Agent\n",
    "scoring_agent =  Agent(\n",
    "    role = \"Partnership Scoring Agent\",\n",
    "    goal = f\"\"\"Score the partnership between {brand_info['name']} and {youtube_lead['name']}.\n",
    "    Assess based on the {brand_info['brand_values']}\"\"\",\n",
    "    backstory = f\"You are an expert in Influencer Marking working for {brand_info['name']}\",\n",
    "    llm = llm,\n",
    ")"
   ]
  },
  {
   "cell_type": "code",
   "execution_count": 11,
   "metadata": {
    "executionInfo": {
     "elapsed": 6,
     "status": "ok",
     "timestamp": 1739209095002,
     "user": {
      "displayName": "Diogo Resende",
      "userId": "05706604408624562002"
     },
     "user_tz": -60
    },
    "id": "ZjmIEHDp61nI"
   },
   "outputs": [],
   "source": [
    "# Create a Base Model Class to provide a score\n",
    "class Score(BaseModel):\n",
    "    score: int\n",
    "    justification: str"
   ]
  },
  {
   "cell_type": "code",
   "execution_count": 12,
   "metadata": {
    "executionInfo": {
     "elapsed": 11,
     "status": "ok",
     "timestamp": 1739209097621,
     "user": {
      "displayName": "Diogo Resende",
      "userId": "05706604408624562002"
     },
     "user_tz": -60
    },
    "id": "ntX5s54m6F8K"
   },
   "outputs": [],
   "source": [
    "# Define the Scoring Task\n",
    "scoring_task = Task(\n",
    "    description = f\"\"\"\n",
    "    Score the partnership between {brand_info['name']} and {youtube_lead['name']}\"\"\",\n",
    "    expected_output = \"A score between 1 and 10 and justification for the scoring. An explanation of the score indicating what fits the brand and what does not\",\n",
    "    agent = scoring_agent,\n",
    "    context = [channel_research_task, videos_research_task, sentiment_task],\n",
    "    output_pydantic= Score\n",
    ")\n"
   ]
  },
  {
   "cell_type": "markdown",
   "metadata": {
    "id": "WvfmLsi_RA4C"
   },
   "source": [
    "# Build the AI Crew"
   ]
  },
  {
   "cell_type": "code",
   "execution_count": 13,
   "metadata": {
    "colab": {
     "base_uri": "https://localhost:8080/"
    },
    "executionInfo": {
     "elapsed": 50800,
     "status": "ok",
     "timestamp": 1739209151035,
     "user": {
      "displayName": "Diogo Resende",
      "userId": "05706604408624562002"
     },
     "user_tz": -60
    },
    "id": "PtGgk4NhRDLI",
    "outputId": "83c162de-59c9-4746-960f-6ba97e4dc1e4"
   },
   "outputs": [
    {
     "data": {
      "text/html": [
       "<pre style=\"white-space:pre;overflow-x:auto;line-height:normal;font-family:Menlo,'DejaVu Sans Mono',consolas,'Courier New',monospace\"><span style=\"color: #008080; text-decoration-color: #008080\">╭──────────────────────────────────────────── Crew Execution Started ─────────────────────────────────────────────╮</span>\n",
       "<span style=\"color: #008080; text-decoration-color: #008080\">│</span>                                                                                                                 <span style=\"color: #008080; text-decoration-color: #008080\">│</span>\n",
       "<span style=\"color: #008080; text-decoration-color: #008080\">│</span>  <span style=\"color: #008080; text-decoration-color: #008080; font-weight: bold\">Crew Execution Started</span>                                                                                         <span style=\"color: #008080; text-decoration-color: #008080\">│</span>\n",
       "<span style=\"color: #008080; text-decoration-color: #008080\">│</span>  <span style=\"color: #c0c0c0; text-decoration-color: #c0c0c0\">Name: </span><span style=\"color: #008080; text-decoration-color: #008080\">crew</span>                                                                                                     <span style=\"color: #008080; text-decoration-color: #008080\">│</span>\n",
       "<span style=\"color: #008080; text-decoration-color: #008080\">│</span>  <span style=\"color: #c0c0c0; text-decoration-color: #c0c0c0\">ID: </span><span style=\"color: #008080; text-decoration-color: #008080\">0fc651a1-99f0-490e-9a34-d5b7024745be</span>                                                                       <span style=\"color: #008080; text-decoration-color: #008080\">│</span>\n",
       "<span style=\"color: #008080; text-decoration-color: #008080\">│</span>                                                                                                                 <span style=\"color: #008080; text-decoration-color: #008080\">│</span>\n",
       "<span style=\"color: #008080; text-decoration-color: #008080\">│</span>                                                                                                                 <span style=\"color: #008080; text-decoration-color: #008080\">│</span>\n",
       "<span style=\"color: #008080; text-decoration-color: #008080\">╰─────────────────────────────────────────────────────────────────────────────────────────────────────────────────╯</span>\n",
       "</pre>\n"
      ],
      "text/plain": [
       "\u001b[36m╭─\u001b[0m\u001b[36m───────────────────────────────────────────\u001b[0m\u001b[36m Crew Execution Started \u001b[0m\u001b[36m────────────────────────────────────────────\u001b[0m\u001b[36m─╮\u001b[0m\n",
       "\u001b[36m│\u001b[0m                                                                                                                 \u001b[36m│\u001b[0m\n",
       "\u001b[36m│\u001b[0m  \u001b[1;36mCrew Execution Started\u001b[0m                                                                                         \u001b[36m│\u001b[0m\n",
       "\u001b[36m│\u001b[0m  \u001b[37mName: \u001b[0m\u001b[36mcrew\u001b[0m                                                                                                     \u001b[36m│\u001b[0m\n",
       "\u001b[36m│\u001b[0m  \u001b[37mID: \u001b[0m\u001b[36m0fc651a1-99f0-490e-9a34-d5b7024745be\u001b[0m                                                                       \u001b[36m│\u001b[0m\n",
       "\u001b[36m│\u001b[0m                                                                                                                 \u001b[36m│\u001b[0m\n",
       "\u001b[36m│\u001b[0m                                                                                                                 \u001b[36m│\u001b[0m\n",
       "\u001b[36m╰─────────────────────────────────────────────────────────────────────────────────────────────────────────────────╯\u001b[0m\n"
      ]
     },
     "metadata": {},
     "output_type": "display_data"
    },
    {
     "data": {
      "text/html": [
       "<pre style=\"white-space:pre;overflow-x:auto;line-height:normal;font-family:Menlo,'DejaVu Sans Mono',consolas,'Courier New',monospace\">\n",
       "</pre>\n"
      ],
      "text/plain": [
       "\n"
      ]
     },
     "metadata": {},
     "output_type": "display_data"
    },
    {
     "data": {
      "text/html": [
       "<pre style=\"white-space:pre;overflow-x:auto;line-height:normal;font-family:Menlo,'DejaVu Sans Mono',consolas,'Courier New',monospace\"><span style=\"color: #008080; text-decoration-color: #008080; font-weight: bold\">🚀 Crew: crew</span>\n",
       "└── <span style=\"color: #808000; text-decoration-color: #808000; font-weight: bold\">📋 Task: bc310c8d-7b8e-4eff-bb97-45293c90bb01</span>\n",
       "    <span style=\"color: #c0c0c0; text-decoration-color: #c0c0c0\">   Status: </span><span style=\"color: #bfbf7f; text-decoration-color: #bfbf7f\">Executing Task...</span>\n",
       "</pre>\n"
      ],
      "text/plain": [
       "\u001b[1;36m🚀 Crew: \u001b[0m\u001b[1;36mcrew\u001b[0m\n",
       "└── \u001b[1;33m📋 Task: bc310c8d-7b8e-4eff-bb97-45293c90bb01\u001b[0m\n",
       "    \u001b[37m   Status: \u001b[0m\u001b[2;33mExecuting Task...\u001b[0m\n"
      ]
     },
     "metadata": {},
     "output_type": "display_data"
    },
    {
     "data": {
      "text/html": [
       "<pre style=\"white-space:pre;overflow-x:auto;line-height:normal;font-family:Menlo,'DejaVu Sans Mono',consolas,'Courier New',monospace\">\n",
       "</pre>\n"
      ],
      "text/plain": [
       "\n"
      ]
     },
     "metadata": {},
     "output_type": "display_data"
    },
    {
     "data": {
      "text/html": [
       "<pre style=\"white-space:pre;overflow-x:auto;line-height:normal;font-family:Menlo,'DejaVu Sans Mono',consolas,'Courier New',monospace\"><span style=\"color: #008080; text-decoration-color: #008080; font-weight: bold\">🚀 Crew: crew</span>\n",
       "└── <span style=\"color: #808000; text-decoration-color: #808000; font-weight: bold\">📋 Task: bc310c8d-7b8e-4eff-bb97-45293c90bb01</span>\n",
       "    <span style=\"color: #c0c0c0; text-decoration-color: #c0c0c0\">   Status: </span><span style=\"color: #bfbf7f; text-decoration-color: #bfbf7f\">Executing Task...</span>\n",
       "    └── <span style=\"color: #008000; text-decoration-color: #008000; font-weight: bold\">🤖 Agent: </span><span style=\"color: #008000; text-decoration-color: #008000\">Influencer researcher</span>\n",
       "        <span style=\"color: #c0c0c0; text-decoration-color: #c0c0c0\">    Status: </span><span style=\"color: #008000; text-decoration-color: #008000; font-weight: bold\">In Progress</span>\n",
       "</pre>\n"
      ],
      "text/plain": [
       "\u001b[1;36m🚀 Crew: \u001b[0m\u001b[1;36mcrew\u001b[0m\n",
       "└── \u001b[1;33m📋 Task: bc310c8d-7b8e-4eff-bb97-45293c90bb01\u001b[0m\n",
       "    \u001b[37m   Status: \u001b[0m\u001b[2;33mExecuting Task...\u001b[0m\n",
       "    └── \u001b[1;32m🤖 Agent: \u001b[0m\u001b[32mInfluencer researcher\u001b[0m\n",
       "        \u001b[37m    Status: \u001b[0m\u001b[1;32mIn Progress\u001b[0m\n"
      ]
     },
     "metadata": {},
     "output_type": "display_data"
    },
    {
     "data": {
      "text/html": [
       "<pre style=\"white-space:pre;overflow-x:auto;line-height:normal;font-family:Menlo,'DejaVu Sans Mono',consolas,'Courier New',monospace\">\n",
       "</pre>\n"
      ],
      "text/plain": [
       "\n"
      ]
     },
     "metadata": {},
     "output_type": "display_data"
    },
    {
     "name": "stdout",
     "output_type": "stream",
     "text": [
      "\u001b[1m\u001b[95m# Agent:\u001b[00m \u001b[1m\u001b[92mInfluencer researcher\u001b[00m\n",
      "\u001b[95m## Task:\u001b[00m \u001b[92m\n",
      "    Research the channel Theo - t3․gg at https://www.youtube.com/@t3dotgg:\n",
      "    1. Identify channel focus and content type.\n",
      "    2. Determine approximate subscriber count and engagement.\n",
      "    3. Check for audience alignment with Zero to Mastery\u001b[00m\n"
     ]
    },
    {
     "data": {
      "text/html": [
       "<pre style=\"white-space:pre;overflow-x:auto;line-height:normal;font-family:Menlo,'DejaVu Sans Mono',consolas,'Courier New',monospace\"><span style=\"color: #008000; text-decoration-color: #008000; font-weight: bold\">🤖 Agent: </span><span style=\"color: #008000; text-decoration-color: #008000\">Influencer researcher</span>\n",
       "<span style=\"color: #c0c0c0; text-decoration-color: #c0c0c0\">    Status: </span><span style=\"color: #008000; text-decoration-color: #008000; font-weight: bold\">In Progress</span>\n",
       "└── <span style=\"color: #000080; text-decoration-color: #000080; font-weight: bold\">🧠 </span><span style=\"color: #000080; text-decoration-color: #000080\">Thinking...</span>\n",
       "</pre>\n"
      ],
      "text/plain": [
       "\u001b[1;32m🤖 Agent: \u001b[0m\u001b[32mInfluencer researcher\u001b[0m\n",
       "\u001b[37m    Status: \u001b[0m\u001b[1;32mIn Progress\u001b[0m\n",
       "└── \u001b[1;34m🧠 \u001b[0m\u001b[34mThinking...\u001b[0m\n"
      ]
     },
     "metadata": {},
     "output_type": "display_data"
    },
    {
     "data": {
      "text/html": [
       "<pre style=\"white-space:pre;overflow-x:auto;line-height:normal;font-family:Menlo,'DejaVu Sans Mono',consolas,'Courier New',monospace\">\n",
       "</pre>\n"
      ],
      "text/plain": [
       "\n"
      ]
     },
     "metadata": {},
     "output_type": "display_data"
    },
    {
     "data": {
      "text/html": [
       "<pre style=\"white-space:pre;overflow-x:auto;line-height:normal;font-family:Menlo,'DejaVu Sans Mono',consolas,'Courier New',monospace\"><span style=\"color: #008000; text-decoration-color: #008000; font-weight: bold\">🤖 Agent: </span><span style=\"color: #008000; text-decoration-color: #008000\">Influencer researcher</span>\n",
       "<span style=\"color: #c0c0c0; text-decoration-color: #c0c0c0\">    Status: </span><span style=\"color: #008000; text-decoration-color: #008000; font-weight: bold\">In Progress</span>\n",
       "</pre>\n"
      ],
      "text/plain": [
       "\u001b[1;32m🤖 Agent: \u001b[0m\u001b[32mInfluencer researcher\u001b[0m\n",
       "\u001b[37m    Status: \u001b[0m\u001b[1;32mIn Progress\u001b[0m\n"
      ]
     },
     "metadata": {},
     "output_type": "display_data"
    },
    {
     "data": {
      "text/html": [
       "<pre style=\"white-space:pre;overflow-x:auto;line-height:normal;font-family:Menlo,'DejaVu Sans Mono',consolas,'Courier New',monospace\">\n",
       "</pre>\n"
      ],
      "text/plain": [
       "\n"
      ]
     },
     "metadata": {},
     "output_type": "display_data"
    },
    {
     "data": {
      "text/html": [
       "<pre style=\"white-space:pre;overflow-x:auto;line-height:normal;font-family:Menlo,'DejaVu Sans Mono',consolas,'Courier New',monospace\"><span style=\"color: #008000; text-decoration-color: #008000; font-weight: bold\">🤖 Agent: </span><span style=\"color: #008000; text-decoration-color: #008000\">Influencer researcher</span>\n",
       "<span style=\"color: #c0c0c0; text-decoration-color: #c0c0c0\">    Status: </span><span style=\"color: #008000; text-decoration-color: #008000; font-weight: bold\">In Progress</span>\n",
       "</pre>\n"
      ],
      "text/plain": [
       "\u001b[1;32m🤖 Agent: \u001b[0m\u001b[32mInfluencer researcher\u001b[0m\n",
       "\u001b[37m    Status: \u001b[0m\u001b[1;32mIn Progress\u001b[0m\n"
      ]
     },
     "metadata": {},
     "output_type": "display_data"
    },
    {
     "data": {
      "text/html": [
       "<pre style=\"white-space:pre;overflow-x:auto;line-height:normal;font-family:Menlo,'DejaVu Sans Mono',consolas,'Courier New',monospace\">\n",
       "</pre>\n"
      ],
      "text/plain": [
       "\n"
      ]
     },
     "metadata": {},
     "output_type": "display_data"
    },
    {
     "name": "stdout",
     "output_type": "stream",
     "text": [
      "\n",
      "\n",
      "\u001b[1m\u001b[95m# Agent:\u001b[00m \u001b[1m\u001b[92mInfluencer researcher\u001b[00m\n",
      "\u001b[95m## Thought:\u001b[00m \u001b[92mThought: To gather information about the channel \"Theo - t3․gg,\" I will start by searching the internet to find general information about the channel, including its focus, content type, and subscriber count.\u001b[00m\n",
      "\u001b[95m## Using tool:\u001b[00m \u001b[92mSearch the internet with Serper\u001b[00m\n",
      "\u001b[95m## Tool Input:\u001b[00m \u001b[92m\n",
      "\"{\\\"search_query\\\": \\\"Theo - t3\\\\u2024gg YouTube channel overview\\\"}\"\u001b[00m\n",
      "\u001b[95m## Tool Output:\u001b[00m \u001b[92m\n",
      "{'searchParameters': {'q': 'Theo - t3․gg YouTube channel overview', 'type': 'search', 'num': 10, 'engine': 'google'}, 'organic': [{'title': 'Theo - t3․gg YouTube stats, analytics, and sponsorship insights', 'link': 'https://app.thoughtleaders.io/youtube/theo-t3gg', 'snippet': 'Theo - t3․gg is a YouTube channel focused on software development, particularly within the realm of full stack TypeScript . The channel offers insights, opinions, and discussions on various aspects of the software development landscape, including industry trends, technology comparisons, and career advice.', 'position': 1}, {'title': 'Theo - t3․gg - YouTube', 'link': 'https://www.youtube.com/@t3dotgg', 'snippet': \"Hi, I'm a software dev nerd mostly known for full stack TypeScript stuff. Check out me and my stack at t3.gg\", 'position': 2}, {'title': \"theo - builder who's also on youtube\", 'link': 'https://t3.gg/', 'snippet': 'theo (aka t3, t3dotgg) is a youtuber/ceo/dev. built t3 chat, ping.gg, t3 stack and more.', 'position': 3}, {'title': 'Theo Browne - YouTube - LinkedIn', 'link': 'https://www.linkedin.com/in/t3gg', 'snippet': 'I build things. Well known for my YouTube and Twitch. CEO @ Ping.gg (YC W22) · Experience: YouTube · Education: Rensselaer Polytechnic Institute · Location: ...', 'position': 4}, {'title': \"Theo - t3․gg's Subscriber Count, Stats & Income - vidIQ YouTube ...\", 'link': 'https://vidiq.com/youtube-stats/channel/UCbRP3c757lWg9M-U7TyEkXA/', 'snippet': \"Channel Description. Hi, I'm a software dev nerd mostly known for full stack TypeScript stuff. Check out me and my stack at t3.gg.\", 'position': 5}, {'title': 'My current stack - YouTube', 'link': 'https://www.youtube.com/watch?v=5qG6yDO5lUM', 'snippet': 'My channel started with the T3 stack, but since then things have changed ... Theo - t3․gg•101K views · 10:55 · Go to channel. Is this the perfect ...', 'position': 6}, {'title': 'The Theo Problem : r/webdev - Reddit', 'link': 'https://www.reddit.com/r/webdev/comments/17bi852/the_theo_problem/', 'snippet': 'Currently I feel that Theo still struggles with communication which makes occasionally makes his content kind of hard to take in. I also feel he ...', 'position': 7}, {'title': 'My chaotic journey to find the right database - YouTube', 'link': 'https://www.youtube.com/watch?v=3gVBjTMS8FE', 'snippet': 'Comments385 · How I Built T3 Chat in 5 Days · Did I Pick The Right Database??? · A Mountain of Lies And No Self-Awareness: Exposing Theo - t3․gg · I ...', 'position': 8}, {'title': \"Don't sleep on Chef (I can't believe it works this well) - YouTube\", 'link': 'https://www.youtube.com/watch?v=hZeprLzd6xM', 'snippet': 'Go to channel. Was React Native a good idea? Theo - t3․gg New 3K views · 22:00 ... Theo - t3․gg•75K views.', 'position': 9}, {'title': 'Theo - t3․gg - YouTube', 'link': 'https://www.youtube.com/user/thebigbib?app=desktop', 'snippet': \"Hi, I'm a software dev nerd mostly known for full stack TypeScript stuff. Check out me and my stack at t3.gg.\", 'position': 10}], 'credits': 1}\u001b[00m\n"
     ]
    },
    {
     "data": {
      "text/html": [
       "<pre style=\"white-space:pre;overflow-x:auto;line-height:normal;font-family:Menlo,'DejaVu Sans Mono',consolas,'Courier New',monospace\"><span style=\"color: #008000; text-decoration-color: #008000; font-weight: bold\">🤖 Agent: </span><span style=\"color: #008000; text-decoration-color: #008000\">Influencer researcher</span>\n",
       "<span style=\"color: #c0c0c0; text-decoration-color: #c0c0c0\">    Status: </span><span style=\"color: #008000; text-decoration-color: #008000; font-weight: bold\">In Progress</span>\n",
       "└── <span style=\"color: #000080; text-decoration-color: #000080; font-weight: bold\">🧠 </span><span style=\"color: #000080; text-decoration-color: #000080\">Thinking...</span>\n",
       "</pre>\n"
      ],
      "text/plain": [
       "\u001b[1;32m🤖 Agent: \u001b[0m\u001b[32mInfluencer researcher\u001b[0m\n",
       "\u001b[37m    Status: \u001b[0m\u001b[1;32mIn Progress\u001b[0m\n",
       "└── \u001b[1;34m🧠 \u001b[0m\u001b[34mThinking...\u001b[0m\n"
      ]
     },
     "metadata": {},
     "output_type": "display_data"
    },
    {
     "data": {
      "text/html": [
       "<pre style=\"white-space:pre;overflow-x:auto;line-height:normal;font-family:Menlo,'DejaVu Sans Mono',consolas,'Courier New',monospace\">\n",
       "</pre>\n"
      ],
      "text/plain": [
       "\n"
      ]
     },
     "metadata": {},
     "output_type": "display_data"
    },
    {
     "data": {
      "text/html": [
       "<pre style=\"white-space:pre;overflow-x:auto;line-height:normal;font-family:Menlo,'DejaVu Sans Mono',consolas,'Courier New',monospace\"><span style=\"color: #008000; text-decoration-color: #008000; font-weight: bold\">🤖 Agent: </span><span style=\"color: #008000; text-decoration-color: #008000\">Influencer researcher</span>\n",
       "<span style=\"color: #c0c0c0; text-decoration-color: #c0c0c0\">    Status: </span><span style=\"color: #008000; text-decoration-color: #008000; font-weight: bold\">In Progress</span>\n",
       "</pre>\n"
      ],
      "text/plain": [
       "\u001b[1;32m🤖 Agent: \u001b[0m\u001b[32mInfluencer researcher\u001b[0m\n",
       "\u001b[37m    Status: \u001b[0m\u001b[1;32mIn Progress\u001b[0m\n"
      ]
     },
     "metadata": {},
     "output_type": "display_data"
    },
    {
     "data": {
      "text/html": [
       "<pre style=\"white-space:pre;overflow-x:auto;line-height:normal;font-family:Menlo,'DejaVu Sans Mono',consolas,'Courier New',monospace\">\n",
       "</pre>\n"
      ],
      "text/plain": [
       "\n"
      ]
     },
     "metadata": {},
     "output_type": "display_data"
    },
    {
     "data": {
      "text/html": [
       "<pre style=\"white-space:pre;overflow-x:auto;line-height:normal;font-family:Menlo,'DejaVu Sans Mono',consolas,'Courier New',monospace\"><span style=\"color: #008000; text-decoration-color: #008000; font-weight: bold\">🤖 Agent: </span><span style=\"color: #008000; text-decoration-color: #008000\">Influencer researcher</span>\n",
       "<span style=\"color: #c0c0c0; text-decoration-color: #c0c0c0\">    Status: </span><span style=\"color: #008000; text-decoration-color: #008000; font-weight: bold\">In Progress</span>\n",
       "</pre>\n"
      ],
      "text/plain": [
       "\u001b[1;32m🤖 Agent: \u001b[0m\u001b[32mInfluencer researcher\u001b[0m\n",
       "\u001b[37m    Status: \u001b[0m\u001b[1;32mIn Progress\u001b[0m\n"
      ]
     },
     "metadata": {},
     "output_type": "display_data"
    },
    {
     "data": {
      "text/html": [
       "<pre style=\"white-space:pre;overflow-x:auto;line-height:normal;font-family:Menlo,'DejaVu Sans Mono',consolas,'Courier New',monospace\">\n",
       "</pre>\n"
      ],
      "text/plain": [
       "\n"
      ]
     },
     "metadata": {},
     "output_type": "display_data"
    },
    {
     "name": "stderr",
     "output_type": "stream",
     "text": [
      "Inserting batches in chromadb:   0%|          | 0/1 [00:00<?, ?it/s]/Users/mdashikadnan/Documents/adnanedu/python/ztm/crewai/crewai_venv/lib/python3.11/site-packages/chromadb/types.py:144: PydanticDeprecatedSince211: Accessing the 'model_fields' attribute on the instance is deprecated. Instead, you should access this attribute from the model class. Deprecated in Pydantic V2.11 to be removed in V3.0.\n",
      "  return self.model_fields  # pydantic 2.x\n",
      "Inserting batches in chromadb: 100%|██████████| 1/1 [00:00<00:00,  1.30it/s]\n",
      "2025-04-21 21:51:22,157 - 8014929600 - local_persistent_hnsw.py-local_persistent_hnsw:423 - WARNING: Number of requested results 3 is greater than number of elements in index 1, updating n_results = 1\n"
     ]
    },
    {
     "name": "stdout",
     "output_type": "stream",
     "text": [
      "\n",
      "\n",
      "\u001b[1m\u001b[95m# Agent:\u001b[00m \u001b[1m\u001b[92mInfluencer researcher\u001b[00m\n",
      "\u001b[95m## Thought:\u001b[00m \u001b[92mThought: I've found some relevant information about the channel. Now, I'll search the channel's content on YouTube to get more details about its focus, content type, and audience engagement.\u001b[00m\n",
      "\u001b[95m## Using tool:\u001b[00m \u001b[92mSearch a Youtube Channels content\u001b[00m\n",
      "\u001b[95m## Tool Input:\u001b[00m \u001b[92m\n",
      "\"{\\\"search_query\\\": \\\"channel overview\\\", \\\"youtube_channel_handle\\\": \\\"@t3dotgg\\\"}\"\u001b[00m\n",
      "\u001b[95m## Tool Output:\u001b[00m \u001b[92m\n",
      "Relevant Content:\n",
      "@t3dotgg\u001b[00m\n"
     ]
    },
    {
     "data": {
      "text/html": [
       "<pre style=\"white-space:pre;overflow-x:auto;line-height:normal;font-family:Menlo,'DejaVu Sans Mono',consolas,'Courier New',monospace\"><span style=\"color: #008000; text-decoration-color: #008000; font-weight: bold\">🤖 Agent: </span><span style=\"color: #008000; text-decoration-color: #008000\">Influencer researcher</span>\n",
       "<span style=\"color: #c0c0c0; text-decoration-color: #c0c0c0\">    Status: </span><span style=\"color: #008000; text-decoration-color: #008000; font-weight: bold\">In Progress</span>\n",
       "└── <span style=\"color: #000080; text-decoration-color: #000080; font-weight: bold\">🧠 </span><span style=\"color: #000080; text-decoration-color: #000080\">Thinking...</span>\n",
       "</pre>\n"
      ],
      "text/plain": [
       "\u001b[1;32m🤖 Agent: \u001b[0m\u001b[32mInfluencer researcher\u001b[0m\n",
       "\u001b[37m    Status: \u001b[0m\u001b[1;32mIn Progress\u001b[0m\n",
       "└── \u001b[1;34m🧠 \u001b[0m\u001b[34mThinking...\u001b[0m\n"
      ]
     },
     "metadata": {},
     "output_type": "display_data"
    },
    {
     "data": {
      "text/html": [
       "<pre style=\"white-space:pre;overflow-x:auto;line-height:normal;font-family:Menlo,'DejaVu Sans Mono',consolas,'Courier New',monospace\">\n",
       "</pre>\n"
      ],
      "text/plain": [
       "\n"
      ]
     },
     "metadata": {},
     "output_type": "display_data"
    },
    {
     "data": {
      "text/html": [
       "<pre style=\"white-space:pre;overflow-x:auto;line-height:normal;font-family:Menlo,'DejaVu Sans Mono',consolas,'Courier New',monospace\"><span style=\"color: #008000; text-decoration-color: #008000; font-weight: bold\">🤖 Agent: </span><span style=\"color: #008000; text-decoration-color: #008000\">Influencer researcher</span>\n",
       "<span style=\"color: #c0c0c0; text-decoration-color: #c0c0c0\">    Status: </span><span style=\"color: #008000; text-decoration-color: #008000; font-weight: bold\">In Progress</span>\n",
       "</pre>\n"
      ],
      "text/plain": [
       "\u001b[1;32m🤖 Agent: \u001b[0m\u001b[32mInfluencer researcher\u001b[0m\n",
       "\u001b[37m    Status: \u001b[0m\u001b[1;32mIn Progress\u001b[0m\n"
      ]
     },
     "metadata": {},
     "output_type": "display_data"
    },
    {
     "data": {
      "text/html": [
       "<pre style=\"white-space:pre;overflow-x:auto;line-height:normal;font-family:Menlo,'DejaVu Sans Mono',consolas,'Courier New',monospace\">\n",
       "</pre>\n"
      ],
      "text/plain": [
       "\n"
      ]
     },
     "metadata": {},
     "output_type": "display_data"
    },
    {
     "data": {
      "text/html": [
       "<pre style=\"white-space:pre;overflow-x:auto;line-height:normal;font-family:Menlo,'DejaVu Sans Mono',consolas,'Courier New',monospace\"><span style=\"color: #008000; text-decoration-color: #008000; font-weight: bold\">🤖 Agent: </span><span style=\"color: #008000; text-decoration-color: #008000\">Influencer researcher</span>\n",
       "<span style=\"color: #c0c0c0; text-decoration-color: #c0c0c0\">    Status: </span><span style=\"color: #008000; text-decoration-color: #008000; font-weight: bold\">In Progress</span>\n",
       "</pre>\n"
      ],
      "text/plain": [
       "\u001b[1;32m🤖 Agent: \u001b[0m\u001b[32mInfluencer researcher\u001b[0m\n",
       "\u001b[37m    Status: \u001b[0m\u001b[1;32mIn Progress\u001b[0m\n"
      ]
     },
     "metadata": {},
     "output_type": "display_data"
    },
    {
     "data": {
      "text/html": [
       "<pre style=\"white-space:pre;overflow-x:auto;line-height:normal;font-family:Menlo,'DejaVu Sans Mono',consolas,'Courier New',monospace\">\n",
       "</pre>\n"
      ],
      "text/plain": [
       "\n"
      ]
     },
     "metadata": {},
     "output_type": "display_data"
    },
    {
     "name": "stdout",
     "output_type": "stream",
     "text": [
      "\n",
      "\n",
      "\u001b[1m\u001b[95m# Agent:\u001b[00m \u001b[1m\u001b[92mInfluencer researcher\u001b[00m\n",
      "\u001b[95m## Thought:\u001b[00m \u001b[92mThought: I have gathered some information about the channel's focus and content type. Now, I need to determine the approximate subscriber count and engagement level.\u001b[00m\n",
      "\u001b[95m## Using tool:\u001b[00m \u001b[92mSearch the internet with Serper\u001b[00m\n",
      "\u001b[95m## Tool Input:\u001b[00m \u001b[92m\n",
      "\"{\\\"search_query\\\": \\\"Theo - t3\\\\u2024gg YouTube channel subscriber count\\\"}\"\u001b[00m\n",
      "\u001b[95m## Tool Output:\u001b[00m \u001b[92m\n",
      "{'searchParameters': {'q': 'Theo - t3․gg YouTube channel subscriber count', 'type': 'search', 'num': 10, 'engine': 'google'}, 'organic': [{'title': 'Theo - t3․gg Live Subscriber Count - Socialcounts.org', 'link': 'https://socialcounts.org/youtube-live-subscriber-count/UCbRP3c757lWg9M-U7TyEkXA', 'snippet': '8685,898189,838684. Channel Views. 878287. Videos. Daily sub 500. Monthly sub 15K. Channel live graph. Created with Highcharts 10.2.1 subscribers ...', 'position': 1}, {'title': 't3․gg Youtuber overview - Theo', 'link': 'https://gb.youtubers.me/theo-t3-gg/youtuber-stats', 'snippet': 'Theo - t3․gg Youtube channel statistics ; Theo - t3․gg total subscribers count stats. 200K. 250K ; Theo - t3․gg total video views count stats. 20M. 30M.', 'position': 2}, {'title': 'Theo - t3․gg - YouTube', 'link': 'https://www.youtube.com/channel/UCbRP3c757lWg9M-U7TyEkXA', 'snippet': 'Missing: subscriber count', 'position': 3}, {'title': 'Theo - t3 gg - Similar YouTube channels and user reviews - Favoree', 'link': 'https://www.favoree.io/channel/theo___t3_gg-642c06eb6c9fe853cb3ad441', 'snippet': 'Channel details. The main content on Theo - t3 gg is related to Computer and Tech. The channel has 413K subscribers and has reached 63.82M video views in total.', 'position': 4}, {'title': 'Theo - t3․gg YouTube stats, analytics, and sponsorship insights', 'link': 'https://app.thoughtleaders.io/youtube/theo-t3gg', 'snippet': 'Theo - t3․gg has a total of 67.1M views on their channel. How many subscribers does Theo - t3․gg have on YouTube? Theo - t3․gg currently has 425.0K subscribers ...', 'position': 5}, {'title': 'Theo - t3․gg net worth, income and estimated earnings of Youtuber ...', 'link': 'https://us.youtubers.me/theo-t3-gg/youtube-estimated-earnings', 'snippet': 'Theo - t3․gg uploaded 724 videos on youtube. How many subscribers does Theo - t3․gg have? Theo - t3․gg has 420,000 subs.', 'position': 6}, {'title': \"Theo's YouTube Statistics - Social Blade\", 'link': 'https://socialblade.com/youtube/channel/UCOhbQeH4wr-pwBk5x-2XbLQ', 'snippet': 'Channel StatisticsVideo StatisticsFuture ProjectionsLive Subscriber CountAchievements · Compare. C. Grade. 904,417th. SB Rank. 4,950th. Subscribers Rank. TBD.', 'position': 7}, {'title': 't3․gg - Theo - YouTube', 'link': 'https://www.youtube.com/user/thebigbib', 'snippet': 'Missing: channel subscriber count', 'position': 8}, {'title': \"I've waited 6 years for this... - YouTube\", 'link': 'https://www.youtube.com/watch?v=aujVi7ipkfM', 'snippet': 'Missing: subscriber count', 'position': 9}], 'credits': 1}\n",
      "\n",
      "\n",
      "You ONLY have access to the following tools, and should NEVER make up tools that are not listed here:\n",
      "\n",
      "Tool Name: Search the internet with Serper\n",
      "Tool Arguments: {'search_query': {'description': 'Mandatory search query you want to use to search the internet', 'type': 'str'}}\n",
      "Tool Description: A tool that can be used to search the internet with a search_query. Supports different search types: 'search' (default), 'news'\n",
      "Tool Name: Read website content\n",
      "Tool Arguments: {'website_url': {'description': 'Mandatory website url to read the file', 'type': 'str'}}\n",
      "Tool Description: A tool that can be used to read a website content.\n",
      "Tool Name: Search a Youtube Channels content\n",
      "Tool Arguments: {'search_query': {'description': 'Mandatory search query you want to use to search the Youtube Channels content', 'type': 'str'}, 'youtube_channel_handle': {'description': 'Mandatory youtube_channel_handle path you want to search', 'type': 'str'}}\n",
      "Tool Description: A tool that can be used to semantic search a query from a Youtube Channels content.\n",
      "Tool Name: Search a Youtube Video content\n",
      "Tool Arguments: {'search_query': {'description': 'Mandatory search query you want to use to search the Youtube Video content', 'type': 'str'}, 'youtube_video_url': {'description': 'Mandatory youtube_video_url path you want to search', 'type': 'str'}}\n",
      "Tool Description: A tool that can be used to semantic search a query from a Youtube Video content.\n",
      "\n",
      "IMPORTANT: Use the following format in your response:\n",
      "\n",
      "```\n",
      "Thought: you should always think about what to do\n",
      "Action: the action to take, only one name of [Search the internet with Serper, Read website content, Search a Youtube Channels content, Search a Youtube Video content], just the name, exactly as it's written.\n",
      "Action Input: the input to the action, just a simple JSON object, enclosed in curly braces, using \" to wrap keys and values.\n",
      "Observation: the result of the action\n",
      "```\n",
      "\n",
      "Once all necessary information is gathered, return the following format:\n",
      "\n",
      "```\n",
      "Thought: I now know the final answer\n",
      "Final Answer: the final answer to the original input question\n",
      "```\u001b[00m\n"
     ]
    },
    {
     "data": {
      "text/html": [
       "<pre style=\"white-space:pre;overflow-x:auto;line-height:normal;font-family:Menlo,'DejaVu Sans Mono',consolas,'Courier New',monospace\"><span style=\"color: #008000; text-decoration-color: #008000; font-weight: bold\">🤖 Agent: </span><span style=\"color: #008000; text-decoration-color: #008000\">Influencer researcher</span>\n",
       "<span style=\"color: #c0c0c0; text-decoration-color: #c0c0c0\">    Status: </span><span style=\"color: #008000; text-decoration-color: #008000; font-weight: bold\">In Progress</span>\n",
       "└── <span style=\"color: #000080; text-decoration-color: #000080; font-weight: bold\">🧠 </span><span style=\"color: #000080; text-decoration-color: #000080\">Thinking...</span>\n",
       "</pre>\n"
      ],
      "text/plain": [
       "\u001b[1;32m🤖 Agent: \u001b[0m\u001b[32mInfluencer researcher\u001b[0m\n",
       "\u001b[37m    Status: \u001b[0m\u001b[1;32mIn Progress\u001b[0m\n",
       "└── \u001b[1;34m🧠 \u001b[0m\u001b[34mThinking...\u001b[0m\n"
      ]
     },
     "metadata": {},
     "output_type": "display_data"
    },
    {
     "data": {
      "text/html": [
       "<pre style=\"white-space:pre;overflow-x:auto;line-height:normal;font-family:Menlo,'DejaVu Sans Mono',consolas,'Courier New',monospace\">\n",
       "</pre>\n"
      ],
      "text/plain": [
       "\n"
      ]
     },
     "metadata": {},
     "output_type": "display_data"
    },
    {
     "data": {
      "text/html": [
       "<pre style=\"white-space:pre;overflow-x:auto;line-height:normal;font-family:Menlo,'DejaVu Sans Mono',consolas,'Courier New',monospace\"><span style=\"color: #008000; text-decoration-color: #008000; font-weight: bold\">🤖 Agent: </span><span style=\"color: #008000; text-decoration-color: #008000\">Influencer researcher</span>\n",
       "<span style=\"color: #c0c0c0; text-decoration-color: #c0c0c0\">    Status: </span><span style=\"color: #008000; text-decoration-color: #008000; font-weight: bold\">In Progress</span>\n",
       "</pre>\n"
      ],
      "text/plain": [
       "\u001b[1;32m🤖 Agent: \u001b[0m\u001b[32mInfluencer researcher\u001b[0m\n",
       "\u001b[37m    Status: \u001b[0m\u001b[1;32mIn Progress\u001b[0m\n"
      ]
     },
     "metadata": {},
     "output_type": "display_data"
    },
    {
     "data": {
      "text/html": [
       "<pre style=\"white-space:pre;overflow-x:auto;line-height:normal;font-family:Menlo,'DejaVu Sans Mono',consolas,'Courier New',monospace\">\n",
       "</pre>\n"
      ],
      "text/plain": [
       "\n"
      ]
     },
     "metadata": {},
     "output_type": "display_data"
    },
    {
     "data": {
      "text/html": [
       "<pre style=\"white-space:pre;overflow-x:auto;line-height:normal;font-family:Menlo,'DejaVu Sans Mono',consolas,'Courier New',monospace\"><span style=\"color: #008000; text-decoration-color: #008000; font-weight: bold\">🤖 Agent: </span><span style=\"color: #008000; text-decoration-color: #008000\">Influencer researcher</span>\n",
       "<span style=\"color: #c0c0c0; text-decoration-color: #c0c0c0\">    Status: </span><span style=\"color: #008000; text-decoration-color: #008000; font-weight: bold\">In Progress</span>\n",
       "</pre>\n"
      ],
      "text/plain": [
       "\u001b[1;32m🤖 Agent: \u001b[0m\u001b[32mInfluencer researcher\u001b[0m\n",
       "\u001b[37m    Status: \u001b[0m\u001b[1;32mIn Progress\u001b[0m\n"
      ]
     },
     "metadata": {},
     "output_type": "display_data"
    },
    {
     "data": {
      "text/html": [
       "<pre style=\"white-space:pre;overflow-x:auto;line-height:normal;font-family:Menlo,'DejaVu Sans Mono',consolas,'Courier New',monospace\">\n",
       "</pre>\n"
      ],
      "text/plain": [
       "\n"
      ]
     },
     "metadata": {},
     "output_type": "display_data"
    },
    {
     "name": "stderr",
     "output_type": "stream",
     "text": [
      "Inserting batches in chromadb:   0%|          | 0/1 [00:00<?, ?it/s]/Users/mdashikadnan/Documents/adnanedu/python/ztm/crewai/crewai_venv/lib/python3.11/site-packages/chromadb/types.py:144: PydanticDeprecatedSince211: Accessing the 'model_fields' attribute on the instance is deprecated. Instead, you should access this attribute from the model class. Deprecated in Pydantic V2.11 to be removed in V3.0.\n",
      "  return self.model_fields  # pydantic 2.x\n",
      "2025-04-21 21:51:26,513 - 8014929600 - local_persistent_hnsw.py-local_persistent_hnsw:339 - WARNING: Add of existing embedding ID: default-app-id--a3296e7491c944f55934f3d0d16a732df20ce9a76b219ea4ca7a61677b80b841\n",
      "2025-04-21 21:51:26,514 - 8014929600 - sqlite.py-sqlite:297 - WARNING: Insert of existing embedding ID: default-app-id--a3296e7491c944f55934f3d0d16a732df20ce9a76b219ea4ca7a61677b80b841\n",
      "Inserting batches in chromadb: 100%|██████████| 1/1 [00:01<00:00,  1.11s/it]\n",
      "2025-04-21 21:51:27,385 - 8014929600 - local_persistent_hnsw.py-local_persistent_hnsw:423 - WARNING: Number of requested results 3 is greater than number of elements in index 1, updating n_results = 1\n"
     ]
    },
    {
     "name": "stdout",
     "output_type": "stream",
     "text": [
      "\n",
      "\n",
      "\u001b[1m\u001b[95m# Agent:\u001b[00m \u001b[1m\u001b[92mInfluencer researcher\u001b[00m\n",
      "\u001b[95m## Thought:\u001b[00m \u001b[92mThought: I have gathered enough information about the channel's focus, content type, and subscriber count. Now, I need to check for audience alignment with Zero to Mastery.\u001b[00m\n",
      "\u001b[95m## Using tool:\u001b[00m \u001b[92mSearch a Youtube Channels content\u001b[00m\n",
      "\u001b[95m## Tool Input:\u001b[00m \u001b[92m\n",
      "\"{\\\"search_query\\\": \\\"audience alignment with Zero to Mastery\\\", \\\"youtube_channel_handle\\\": \\\"@t3dotgg\\\"}\"\u001b[00m\n",
      "\u001b[95m## Tool Output:\u001b[00m \u001b[92m\n",
      "Relevant Content:\n",
      "@t3dotgg\u001b[00m\n"
     ]
    },
    {
     "data": {
      "text/html": [
       "<pre style=\"white-space:pre;overflow-x:auto;line-height:normal;font-family:Menlo,'DejaVu Sans Mono',consolas,'Courier New',monospace\"><span style=\"color: #008000; text-decoration-color: #008000; font-weight: bold\">🤖 Agent: </span><span style=\"color: #008000; text-decoration-color: #008000\">Influencer researcher</span>\n",
       "<span style=\"color: #c0c0c0; text-decoration-color: #c0c0c0\">    Status: </span><span style=\"color: #008000; text-decoration-color: #008000; font-weight: bold\">In Progress</span>\n",
       "└── <span style=\"color: #000080; text-decoration-color: #000080; font-weight: bold\">🧠 </span><span style=\"color: #000080; text-decoration-color: #000080\">Thinking...</span>\n",
       "</pre>\n"
      ],
      "text/plain": [
       "\u001b[1;32m🤖 Agent: \u001b[0m\u001b[32mInfluencer researcher\u001b[0m\n",
       "\u001b[37m    Status: \u001b[0m\u001b[1;32mIn Progress\u001b[0m\n",
       "└── \u001b[1;34m🧠 \u001b[0m\u001b[34mThinking...\u001b[0m\n"
      ]
     },
     "metadata": {},
     "output_type": "display_data"
    },
    {
     "data": {
      "text/html": [
       "<pre style=\"white-space:pre;overflow-x:auto;line-height:normal;font-family:Menlo,'DejaVu Sans Mono',consolas,'Courier New',monospace\">\n",
       "</pre>\n"
      ],
      "text/plain": [
       "\n"
      ]
     },
     "metadata": {},
     "output_type": "display_data"
    },
    {
     "data": {
      "text/html": [
       "<pre style=\"white-space:pre;overflow-x:auto;line-height:normal;font-family:Menlo,'DejaVu Sans Mono',consolas,'Courier New',monospace\"><span style=\"color: #008000; text-decoration-color: #008000; font-weight: bold\">🤖 Agent: </span><span style=\"color: #008000; text-decoration-color: #008000\">Influencer researcher</span>\n",
       "<span style=\"color: #c0c0c0; text-decoration-color: #c0c0c0\">    Status: </span><span style=\"color: #008000; text-decoration-color: #008000; font-weight: bold\">In Progress</span>\n",
       "</pre>\n"
      ],
      "text/plain": [
       "\u001b[1;32m🤖 Agent: \u001b[0m\u001b[32mInfluencer researcher\u001b[0m\n",
       "\u001b[37m    Status: \u001b[0m\u001b[1;32mIn Progress\u001b[0m\n"
      ]
     },
     "metadata": {},
     "output_type": "display_data"
    },
    {
     "data": {
      "text/html": [
       "<pre style=\"white-space:pre;overflow-x:auto;line-height:normal;font-family:Menlo,'DejaVu Sans Mono',consolas,'Courier New',monospace\">\n",
       "</pre>\n"
      ],
      "text/plain": [
       "\n"
      ]
     },
     "metadata": {},
     "output_type": "display_data"
    },
    {
     "name": "stdout",
     "output_type": "stream",
     "text": [
      "\n",
      "\n",
      "\u001b[1m\u001b[95m# Agent:\u001b[00m \u001b[1m\u001b[92mInfluencer researcher\u001b[00m\n",
      "\u001b[95m## Final Answer:\u001b[00m \u001b[92m\n",
      "Research Report on Theo - t3․gg YouTube Channel\n",
      "\n",
      "1. Channel Focus and Content Type:\n",
      "   - Theo - t3․gg is a YouTube channel primarily focused on software development, with a strong emphasis on full stack TypeScript. The channel provides a mix of insights, opinions, and discussions related to software development, industry trends, technology comparisons, and career advice.\n",
      "\n",
      "2. Subscriber Count and Engagement:\n",
      "   - The channel has approximately 420,000 to 425,000 subscribers, indicating a significant following. The channel's content has accumulated over 67 million views, reflecting high engagement and interest from the audience.\n",
      "\n",
      "3. Audience Alignment with Zero to Mastery:\n",
      "   - Given the channel's focus on quality education and career-focused learning in software development, particularly with up-to-date tech stacks like TypeScript, there is a strong alignment with Zero to Mastery's values of providing quality education, fostering community-driven growth, and focusing on career advancement in tech.\n",
      "\n",
      "Overall, Theo - t3․gg appears to be a suitable candidate for partnership with Zero to Mastery, given its alignment with the core values and audience interests of the platform.\u001b[00m\n",
      "\n",
      "\n"
     ]
    },
    {
     "data": {
      "text/html": [
       "<pre style=\"white-space:pre;overflow-x:auto;line-height:normal;font-family:Menlo,'DejaVu Sans Mono',consolas,'Courier New',monospace\"><span style=\"color: #008080; text-decoration-color: #008080; font-weight: bold\">🚀 Crew: crew</span>\n",
       "└── <span style=\"color: #808000; text-decoration-color: #808000; font-weight: bold\">📋 Task: bc310c8d-7b8e-4eff-bb97-45293c90bb01</span>\n",
       "    <span style=\"color: #c0c0c0; text-decoration-color: #c0c0c0\">   Status: </span><span style=\"color: #bfbf7f; text-decoration-color: #bfbf7f\">Executing Task...</span>\n",
       "    └── <span style=\"color: #008000; text-decoration-color: #008000; font-weight: bold\">🤖 Agent: </span><span style=\"color: #008000; text-decoration-color: #008000\">Influencer researcher</span>\n",
       "        <span style=\"color: #c0c0c0; text-decoration-color: #c0c0c0\">    Status: </span><span style=\"color: #008000; text-decoration-color: #008000; font-weight: bold\">✅ Completed</span>\n",
       "</pre>\n"
      ],
      "text/plain": [
       "\u001b[1;36m🚀 Crew: \u001b[0m\u001b[1;36mcrew\u001b[0m\n",
       "└── \u001b[1;33m📋 Task: bc310c8d-7b8e-4eff-bb97-45293c90bb01\u001b[0m\n",
       "    \u001b[37m   Status: \u001b[0m\u001b[2;33mExecuting Task...\u001b[0m\n",
       "    └── \u001b[1;32m🤖 Agent: \u001b[0m\u001b[32mInfluencer researcher\u001b[0m\n",
       "        \u001b[37m    Status: \u001b[0m\u001b[1;32m✅ Completed\u001b[0m\n"
      ]
     },
     "metadata": {},
     "output_type": "display_data"
    },
    {
     "data": {
      "text/html": [
       "<pre style=\"white-space:pre;overflow-x:auto;line-height:normal;font-family:Menlo,'DejaVu Sans Mono',consolas,'Courier New',monospace\">\n",
       "</pre>\n"
      ],
      "text/plain": [
       "\n"
      ]
     },
     "metadata": {},
     "output_type": "display_data"
    },
    {
     "data": {
      "text/html": [
       "<pre style=\"white-space:pre;overflow-x:auto;line-height:normal;font-family:Menlo,'DejaVu Sans Mono',consolas,'Courier New',monospace\"><span style=\"color: #008080; text-decoration-color: #008080; font-weight: bold\">🚀 Crew: crew</span>\n",
       "└── <span style=\"color: #008000; text-decoration-color: #008000; font-weight: bold\">📋 Task: bc310c8d-7b8e-4eff-bb97-45293c90bb01</span>\n",
       "    <span style=\"color: #c0c0c0; text-decoration-color: #c0c0c0\">   Assigned to: </span><span style=\"color: #008000; text-decoration-color: #008000\">Influencer researcher</span>\n",
       "    <span style=\"color: #c0c0c0; text-decoration-color: #c0c0c0\">   Status: </span><span style=\"color: #008000; text-decoration-color: #008000; font-weight: bold\">✅ Completed</span>\n",
       "    └── <span style=\"color: #008000; text-decoration-color: #008000; font-weight: bold\">🤖 Agent: </span><span style=\"color: #008000; text-decoration-color: #008000\">Influencer researcher</span>\n",
       "        <span style=\"color: #c0c0c0; text-decoration-color: #c0c0c0\">    Status: </span><span style=\"color: #008000; text-decoration-color: #008000; font-weight: bold\">✅ Completed</span>\n",
       "</pre>\n"
      ],
      "text/plain": [
       "\u001b[1;36m🚀 Crew: \u001b[0m\u001b[1;36mcrew\u001b[0m\n",
       "└── \u001b[1;32m📋 Task: bc310c8d-7b8e-4eff-bb97-45293c90bb01\u001b[0m\n",
       "    \u001b[37m   Assigned to: \u001b[0m\u001b[32mInfluencer researcher\u001b[0m\n",
       "    \u001b[37m   Status: \u001b[0m\u001b[1;32m✅ Completed\u001b[0m\n",
       "    └── \u001b[1;32m🤖 Agent: \u001b[0m\u001b[32mInfluencer researcher\u001b[0m\n",
       "        \u001b[37m    Status: \u001b[0m\u001b[1;32m✅ Completed\u001b[0m\n"
      ]
     },
     "metadata": {},
     "output_type": "display_data"
    },
    {
     "data": {
      "text/html": [
       "<pre style=\"white-space:pre;overflow-x:auto;line-height:normal;font-family:Menlo,'DejaVu Sans Mono',consolas,'Courier New',monospace\"><span style=\"color: #008000; text-decoration-color: #008000\">╭──────────────────────────────────────────────── Task Completion ────────────────────────────────────────────────╮</span>\n",
       "<span style=\"color: #008000; text-decoration-color: #008000\">│</span>                                                                                                                 <span style=\"color: #008000; text-decoration-color: #008000\">│</span>\n",
       "<span style=\"color: #008000; text-decoration-color: #008000\">│</span>  <span style=\"color: #008000; text-decoration-color: #008000; font-weight: bold\">Task Completed</span>                                                                                                 <span style=\"color: #008000; text-decoration-color: #008000\">│</span>\n",
       "<span style=\"color: #008000; text-decoration-color: #008000\">│</span>  <span style=\"color: #c0c0c0; text-decoration-color: #c0c0c0\">Name: </span><span style=\"color: #008000; text-decoration-color: #008000\">bc310c8d-7b8e-4eff-bb97-45293c90bb01</span>                                                                     <span style=\"color: #008000; text-decoration-color: #008000\">│</span>\n",
       "<span style=\"color: #008000; text-decoration-color: #008000\">│</span>  <span style=\"color: #c0c0c0; text-decoration-color: #c0c0c0\">Agent: </span><span style=\"color: #008000; text-decoration-color: #008000\">Influencer researcher</span>                                                                                   <span style=\"color: #008000; text-decoration-color: #008000\">│</span>\n",
       "<span style=\"color: #008000; text-decoration-color: #008000\">│</span>                                                                                                                 <span style=\"color: #008000; text-decoration-color: #008000\">│</span>\n",
       "<span style=\"color: #008000; text-decoration-color: #008000\">│</span>                                                                                                                 <span style=\"color: #008000; text-decoration-color: #008000\">│</span>\n",
       "<span style=\"color: #008000; text-decoration-color: #008000\">╰─────────────────────────────────────────────────────────────────────────────────────────────────────────────────╯</span>\n",
       "</pre>\n"
      ],
      "text/plain": [
       "\u001b[32m╭─\u001b[0m\u001b[32m───────────────────────────────────────────────\u001b[0m\u001b[32m Task Completion \u001b[0m\u001b[32m───────────────────────────────────────────────\u001b[0m\u001b[32m─╮\u001b[0m\n",
       "\u001b[32m│\u001b[0m                                                                                                                 \u001b[32m│\u001b[0m\n",
       "\u001b[32m│\u001b[0m  \u001b[1;32mTask Completed\u001b[0m                                                                                                 \u001b[32m│\u001b[0m\n",
       "\u001b[32m│\u001b[0m  \u001b[37mName: \u001b[0m\u001b[32mbc310c8d-7b8e-4eff-bb97-45293c90bb01\u001b[0m                                                                     \u001b[32m│\u001b[0m\n",
       "\u001b[32m│\u001b[0m  \u001b[37mAgent: \u001b[0m\u001b[32mInfluencer researcher\u001b[0m                                                                                   \u001b[32m│\u001b[0m\n",
       "\u001b[32m│\u001b[0m                                                                                                                 \u001b[32m│\u001b[0m\n",
       "\u001b[32m│\u001b[0m                                                                                                                 \u001b[32m│\u001b[0m\n",
       "\u001b[32m╰─────────────────────────────────────────────────────────────────────────────────────────────────────────────────╯\u001b[0m\n"
      ]
     },
     "metadata": {},
     "output_type": "display_data"
    },
    {
     "data": {
      "text/html": [
       "<pre style=\"white-space:pre;overflow-x:auto;line-height:normal;font-family:Menlo,'DejaVu Sans Mono',consolas,'Courier New',monospace\">\n",
       "</pre>\n"
      ],
      "text/plain": [
       "\n"
      ]
     },
     "metadata": {},
     "output_type": "display_data"
    },
    {
     "data": {
      "text/html": [
       "<pre style=\"white-space:pre;overflow-x:auto;line-height:normal;font-family:Menlo,'DejaVu Sans Mono',consolas,'Courier New',monospace\"><span style=\"color: #008080; text-decoration-color: #008080; font-weight: bold\">🚀 Crew: crew</span>\n",
       "├── <span style=\"color: #008000; text-decoration-color: #008000; font-weight: bold\">📋 Task: bc310c8d-7b8e-4eff-bb97-45293c90bb01</span>\n",
       "│   <span style=\"color: #c0c0c0; text-decoration-color: #c0c0c0\">   Assigned to: </span><span style=\"color: #008000; text-decoration-color: #008000\">Influencer researcher</span>\n",
       "│   <span style=\"color: #c0c0c0; text-decoration-color: #c0c0c0\">   Status: </span><span style=\"color: #008000; text-decoration-color: #008000; font-weight: bold\">✅ Completed</span>\n",
       "│   └── <span style=\"color: #008000; text-decoration-color: #008000; font-weight: bold\">🤖 Agent: </span><span style=\"color: #008000; text-decoration-color: #008000\">Influencer researcher</span>\n",
       "│       <span style=\"color: #c0c0c0; text-decoration-color: #c0c0c0\">    Status: </span><span style=\"color: #008000; text-decoration-color: #008000; font-weight: bold\">✅ Completed</span>\n",
       "└── <span style=\"color: #808000; text-decoration-color: #808000; font-weight: bold\">📋 Task: c3176c03-86e8-4ffc-bdea-34007b4b0855</span>\n",
       "    <span style=\"color: #c0c0c0; text-decoration-color: #c0c0c0\">   Status: </span><span style=\"color: #bfbf7f; text-decoration-color: #bfbf7f\">Executing Task...</span>\n",
       "</pre>\n"
      ],
      "text/plain": [
       "\u001b[1;36m🚀 Crew: \u001b[0m\u001b[1;36mcrew\u001b[0m\n",
       "├── \u001b[1;32m📋 Task: bc310c8d-7b8e-4eff-bb97-45293c90bb01\u001b[0m\n",
       "│   \u001b[37m   Assigned to: \u001b[0m\u001b[32mInfluencer researcher\u001b[0m\n",
       "│   \u001b[37m   Status: \u001b[0m\u001b[1;32m✅ Completed\u001b[0m\n",
       "│   └── \u001b[1;32m🤖 Agent: \u001b[0m\u001b[32mInfluencer researcher\u001b[0m\n",
       "│       \u001b[37m    Status: \u001b[0m\u001b[1;32m✅ Completed\u001b[0m\n",
       "└── \u001b[1;33m📋 Task: c3176c03-86e8-4ffc-bdea-34007b4b0855\u001b[0m\n",
       "    \u001b[37m   Status: \u001b[0m\u001b[2;33mExecuting Task...\u001b[0m\n"
      ]
     },
     "metadata": {},
     "output_type": "display_data"
    },
    {
     "data": {
      "text/html": [
       "<pre style=\"white-space:pre;overflow-x:auto;line-height:normal;font-family:Menlo,'DejaVu Sans Mono',consolas,'Courier New',monospace\">\n",
       "</pre>\n"
      ],
      "text/plain": [
       "\n"
      ]
     },
     "metadata": {},
     "output_type": "display_data"
    },
    {
     "data": {
      "text/html": [
       "<pre style=\"white-space:pre;overflow-x:auto;line-height:normal;font-family:Menlo,'DejaVu Sans Mono',consolas,'Courier New',monospace\"><span style=\"color: #008080; text-decoration-color: #008080; font-weight: bold\">🚀 Crew: crew</span>\n",
       "├── <span style=\"color: #008000; text-decoration-color: #008000; font-weight: bold\">📋 Task: bc310c8d-7b8e-4eff-bb97-45293c90bb01</span>\n",
       "│   <span style=\"color: #c0c0c0; text-decoration-color: #c0c0c0\">   Assigned to: </span><span style=\"color: #008000; text-decoration-color: #008000\">Influencer researcher</span>\n",
       "│   <span style=\"color: #c0c0c0; text-decoration-color: #c0c0c0\">   Status: </span><span style=\"color: #008000; text-decoration-color: #008000; font-weight: bold\">✅ Completed</span>\n",
       "│   └── <span style=\"color: #008000; text-decoration-color: #008000; font-weight: bold\">🤖 Agent: </span><span style=\"color: #008000; text-decoration-color: #008000\">Influencer researcher</span>\n",
       "│       <span style=\"color: #c0c0c0; text-decoration-color: #c0c0c0\">    Status: </span><span style=\"color: #008000; text-decoration-color: #008000; font-weight: bold\">✅ Completed</span>\n",
       "└── <span style=\"color: #808000; text-decoration-color: #808000; font-weight: bold\">📋 Task: c3176c03-86e8-4ffc-bdea-34007b4b0855</span>\n",
       "    <span style=\"color: #c0c0c0; text-decoration-color: #c0c0c0\">   Status: </span><span style=\"color: #bfbf7f; text-decoration-color: #bfbf7f\">Executing Task...</span>\n",
       "    └── <span style=\"color: #008000; text-decoration-color: #008000; font-weight: bold\">🤖 Agent: </span><span style=\"color: #008000; text-decoration-color: #008000\">Influencer researcher</span>\n",
       "        <span style=\"color: #c0c0c0; text-decoration-color: #c0c0c0\">    Status: </span><span style=\"color: #008000; text-decoration-color: #008000; font-weight: bold\">In Progress</span>\n",
       "</pre>\n"
      ],
      "text/plain": [
       "\u001b[1;36m🚀 Crew: \u001b[0m\u001b[1;36mcrew\u001b[0m\n",
       "├── \u001b[1;32m📋 Task: bc310c8d-7b8e-4eff-bb97-45293c90bb01\u001b[0m\n",
       "│   \u001b[37m   Assigned to: \u001b[0m\u001b[32mInfluencer researcher\u001b[0m\n",
       "│   \u001b[37m   Status: \u001b[0m\u001b[1;32m✅ Completed\u001b[0m\n",
       "│   └── \u001b[1;32m🤖 Agent: \u001b[0m\u001b[32mInfluencer researcher\u001b[0m\n",
       "│       \u001b[37m    Status: \u001b[0m\u001b[1;32m✅ Completed\u001b[0m\n",
       "└── \u001b[1;33m📋 Task: c3176c03-86e8-4ffc-bdea-34007b4b0855\u001b[0m\n",
       "    \u001b[37m   Status: \u001b[0m\u001b[2;33mExecuting Task...\u001b[0m\n",
       "    └── \u001b[1;32m🤖 Agent: \u001b[0m\u001b[32mInfluencer researcher\u001b[0m\n",
       "        \u001b[37m    Status: \u001b[0m\u001b[1;32mIn Progress\u001b[0m\n"
      ]
     },
     "metadata": {},
     "output_type": "display_data"
    },
    {
     "data": {
      "text/html": [
       "<pre style=\"white-space:pre;overflow-x:auto;line-height:normal;font-family:Menlo,'DejaVu Sans Mono',consolas,'Courier New',monospace\">\n",
       "</pre>\n"
      ],
      "text/plain": [
       "\n"
      ]
     },
     "metadata": {},
     "output_type": "display_data"
    },
    {
     "name": "stdout",
     "output_type": "stream",
     "text": [
      "\u001b[1m\u001b[95m# Agent:\u001b[00m \u001b[1m\u001b[92mInfluencer researcher\u001b[00m\n",
      "\u001b[95m## Task:\u001b[00m \u001b[92m\n",
      "    Research the most popular videos from channel Theo - t3․gg at https://www.youtube.com/@t3dotgg.\n",
      "    Summarise their topics and analyse the audiences.\u001b[00m\n"
     ]
    },
    {
     "data": {
      "text/html": [
       "<pre style=\"white-space:pre;overflow-x:auto;line-height:normal;font-family:Menlo,'DejaVu Sans Mono',consolas,'Courier New',monospace\"><span style=\"color: #008000; text-decoration-color: #008000; font-weight: bold\">🤖 Agent: </span><span style=\"color: #008000; text-decoration-color: #008000\">Influencer researcher</span>\n",
       "<span style=\"color: #c0c0c0; text-decoration-color: #c0c0c0\">    Status: </span><span style=\"color: #008000; text-decoration-color: #008000; font-weight: bold\">In Progress</span>\n",
       "</pre>\n"
      ],
      "text/plain": [
       "\u001b[1;32m🤖 Agent: \u001b[0m\u001b[32mInfluencer researcher\u001b[0m\n",
       "\u001b[37m    Status: \u001b[0m\u001b[1;32mIn Progress\u001b[0m\n"
      ]
     },
     "metadata": {},
     "output_type": "display_data"
    },
    {
     "data": {
      "text/html": [
       "<pre style=\"white-space:pre;overflow-x:auto;line-height:normal;font-family:Menlo,'DejaVu Sans Mono',consolas,'Courier New',monospace\">\n",
       "</pre>\n"
      ],
      "text/plain": [
       "\n"
      ]
     },
     "metadata": {},
     "output_type": "display_data"
    },
    {
     "name": "stderr",
     "output_type": "stream",
     "text": [
      "Inserting batches in chromadb:   0%|          | 0/1 [00:00<?, ?it/s]/Users/mdashikadnan/Documents/adnanedu/python/ztm/crewai/crewai_venv/lib/python3.11/site-packages/chromadb/types.py:144: PydanticDeprecatedSince211: Accessing the 'model_fields' attribute on the instance is deprecated. Instead, you should access this attribute from the model class. Deprecated in Pydantic V2.11 to be removed in V3.0.\n",
      "  return self.model_fields  # pydantic 2.x\n",
      "2025-04-21 21:51:37,071 - 8014929600 - local_persistent_hnsw.py-local_persistent_hnsw:339 - WARNING: Add of existing embedding ID: default-app-id--a3296e7491c944f55934f3d0d16a732df20ce9a76b219ea4ca7a61677b80b841\n",
      "2025-04-21 21:51:37,073 - 8014929600 - sqlite.py-sqlite:297 - WARNING: Insert of existing embedding ID: default-app-id--a3296e7491c944f55934f3d0d16a732df20ce9a76b219ea4ca7a61677b80b841\n",
      "Inserting batches in chromadb: 100%|██████████| 1/1 [00:00<00:00,  3.24it/s]\n",
      "2025-04-21 21:51:38,186 - 8014929600 - local_persistent_hnsw.py-local_persistent_hnsw:423 - WARNING: Number of requested results 3 is greater than number of elements in index 1, updating n_results = 1\n"
     ]
    },
    {
     "name": "stdout",
     "output_type": "stream",
     "text": [
      "\n",
      "\n",
      "\u001b[1m\u001b[95m# Agent:\u001b[00m \u001b[1m\u001b[92mInfluencer researcher\u001b[00m\n",
      "\u001b[95m## Thought:\u001b[00m \u001b[92mThought: To gather information about the most popular videos from Theo - t3․gg's YouTube channel, I should search the channel's content to identify and summarize the topics of these popular videos.\u001b[00m\n",
      "\u001b[95m## Using tool:\u001b[00m \u001b[92mSearch a Youtube Channels content\u001b[00m\n",
      "\u001b[95m## Tool Input:\u001b[00m \u001b[92m\n",
      "\"{\\\"search_query\\\": \\\"most popular videos\\\", \\\"youtube_channel_handle\\\": \\\"@t3dotgg\\\"}\"\u001b[00m\n",
      "\u001b[95m## Tool Output:\u001b[00m \u001b[92m\n",
      "Relevant Content:\n",
      "@t3dotgg\u001b[00m\n"
     ]
    },
    {
     "data": {
      "text/html": [
       "<pre style=\"white-space:pre;overflow-x:auto;line-height:normal;font-family:Menlo,'DejaVu Sans Mono',consolas,'Courier New',monospace\"><span style=\"color: #008000; text-decoration-color: #008000; font-weight: bold\">🤖 Agent: </span><span style=\"color: #008000; text-decoration-color: #008000\">Influencer researcher</span>\n",
       "<span style=\"color: #c0c0c0; text-decoration-color: #c0c0c0\">    Status: </span><span style=\"color: #008000; text-decoration-color: #008000; font-weight: bold\">In Progress</span>\n",
       "└── <span style=\"color: #000080; text-decoration-color: #000080; font-weight: bold\">🧠 </span><span style=\"color: #000080; text-decoration-color: #000080\">Thinking...</span>\n",
       "</pre>\n"
      ],
      "text/plain": [
       "\u001b[1;32m🤖 Agent: \u001b[0m\u001b[32mInfluencer researcher\u001b[0m\n",
       "\u001b[37m    Status: \u001b[0m\u001b[1;32mIn Progress\u001b[0m\n",
       "└── \u001b[1;34m🧠 \u001b[0m\u001b[34mThinking...\u001b[0m\n"
      ]
     },
     "metadata": {},
     "output_type": "display_data"
    },
    {
     "data": {
      "text/html": [
       "<pre style=\"white-space:pre;overflow-x:auto;line-height:normal;font-family:Menlo,'DejaVu Sans Mono',consolas,'Courier New',monospace\">\n",
       "</pre>\n"
      ],
      "text/plain": [
       "\n"
      ]
     },
     "metadata": {},
     "output_type": "display_data"
    },
    {
     "data": {
      "text/html": [
       "<pre style=\"white-space:pre;overflow-x:auto;line-height:normal;font-family:Menlo,'DejaVu Sans Mono',consolas,'Courier New',monospace\"><span style=\"color: #008000; text-decoration-color: #008000; font-weight: bold\">🤖 Agent: </span><span style=\"color: #008000; text-decoration-color: #008000\">Influencer researcher</span>\n",
       "<span style=\"color: #c0c0c0; text-decoration-color: #c0c0c0\">    Status: </span><span style=\"color: #008000; text-decoration-color: #008000; font-weight: bold\">In Progress</span>\n",
       "</pre>\n"
      ],
      "text/plain": [
       "\u001b[1;32m🤖 Agent: \u001b[0m\u001b[32mInfluencer researcher\u001b[0m\n",
       "\u001b[37m    Status: \u001b[0m\u001b[1;32mIn Progress\u001b[0m\n"
      ]
     },
     "metadata": {},
     "output_type": "display_data"
    },
    {
     "data": {
      "text/html": [
       "<pre style=\"white-space:pre;overflow-x:auto;line-height:normal;font-family:Menlo,'DejaVu Sans Mono',consolas,'Courier New',monospace\">\n",
       "</pre>\n"
      ],
      "text/plain": [
       "\n"
      ]
     },
     "metadata": {},
     "output_type": "display_data"
    },
    {
     "data": {
      "text/html": [
       "<pre style=\"white-space:pre;overflow-x:auto;line-height:normal;font-family:Menlo,'DejaVu Sans Mono',consolas,'Courier New',monospace\"><span style=\"color: #008000; text-decoration-color: #008000; font-weight: bold\">🤖 Agent: </span><span style=\"color: #008000; text-decoration-color: #008000\">Influencer researcher</span>\n",
       "<span style=\"color: #c0c0c0; text-decoration-color: #c0c0c0\">    Status: </span><span style=\"color: #008000; text-decoration-color: #008000; font-weight: bold\">In Progress</span>\n",
       "</pre>\n"
      ],
      "text/plain": [
       "\u001b[1;32m🤖 Agent: \u001b[0m\u001b[32mInfluencer researcher\u001b[0m\n",
       "\u001b[37m    Status: \u001b[0m\u001b[1;32mIn Progress\u001b[0m\n"
      ]
     },
     "metadata": {},
     "output_type": "display_data"
    },
    {
     "data": {
      "text/html": [
       "<pre style=\"white-space:pre;overflow-x:auto;line-height:normal;font-family:Menlo,'DejaVu Sans Mono',consolas,'Courier New',monospace\">\n",
       "</pre>\n"
      ],
      "text/plain": [
       "\n"
      ]
     },
     "metadata": {},
     "output_type": "display_data"
    },
    {
     "name": "stdout",
     "output_type": "stream",
     "text": [
      "\n",
      "\n",
      "\u001b[1m\u001b[95m# Agent:\u001b[00m \u001b[1m\u001b[92mInfluencer researcher\u001b[00m\n",
      "\u001b[95m## Thought:\u001b[00m \u001b[92mThought: I now need to read the content of the channel to identify and summarize the topics of the most popular videos.\u001b[00m\n",
      "\u001b[95m## Using tool:\u001b[00m \u001b[92mRead website content\u001b[00m\n",
      "\u001b[95m## Tool Input:\u001b[00m \u001b[92m\n",
      "\"{\\\"website_url\\\": \\\"https://www.youtube.com/@t3dotgg\\\"}\"\u001b[00m\n",
      "\u001b[95m## Tool Output:\u001b[00m \u001b[92m\n",
      "Theo - t3․gg - YouTube About Press Copyright Contact us Creators Advertise Developers Terms Privacy Policy & Safety How YouTube works Test new features © 2025 Google LLC\u001b[00m\n"
     ]
    },
    {
     "data": {
      "text/html": [
       "<pre style=\"white-space:pre;overflow-x:auto;line-height:normal;font-family:Menlo,'DejaVu Sans Mono',consolas,'Courier New',monospace\"><span style=\"color: #008000; text-decoration-color: #008000; font-weight: bold\">🤖 Agent: </span><span style=\"color: #008000; text-decoration-color: #008000\">Influencer researcher</span>\n",
       "<span style=\"color: #c0c0c0; text-decoration-color: #c0c0c0\">    Status: </span><span style=\"color: #008000; text-decoration-color: #008000; font-weight: bold\">In Progress</span>\n",
       "└── <span style=\"color: #000080; text-decoration-color: #000080; font-weight: bold\">🧠 </span><span style=\"color: #000080; text-decoration-color: #000080\">Thinking...</span>\n",
       "</pre>\n"
      ],
      "text/plain": [
       "\u001b[1;32m🤖 Agent: \u001b[0m\u001b[32mInfluencer researcher\u001b[0m\n",
       "\u001b[37m    Status: \u001b[0m\u001b[1;32mIn Progress\u001b[0m\n",
       "└── \u001b[1;34m🧠 \u001b[0m\u001b[34mThinking...\u001b[0m\n"
      ]
     },
     "metadata": {},
     "output_type": "display_data"
    },
    {
     "data": {
      "text/html": [
       "<pre style=\"white-space:pre;overflow-x:auto;line-height:normal;font-family:Menlo,'DejaVu Sans Mono',consolas,'Courier New',monospace\">\n",
       "</pre>\n"
      ],
      "text/plain": [
       "\n"
      ]
     },
     "metadata": {},
     "output_type": "display_data"
    },
    {
     "data": {
      "text/html": [
       "<pre style=\"white-space:pre;overflow-x:auto;line-height:normal;font-family:Menlo,'DejaVu Sans Mono',consolas,'Courier New',monospace\"><span style=\"color: #008000; text-decoration-color: #008000; font-weight: bold\">🤖 Agent: </span><span style=\"color: #008000; text-decoration-color: #008000\">Influencer researcher</span>\n",
       "<span style=\"color: #c0c0c0; text-decoration-color: #c0c0c0\">    Status: </span><span style=\"color: #008000; text-decoration-color: #008000; font-weight: bold\">In Progress</span>\n",
       "</pre>\n"
      ],
      "text/plain": [
       "\u001b[1;32m🤖 Agent: \u001b[0m\u001b[32mInfluencer researcher\u001b[0m\n",
       "\u001b[37m    Status: \u001b[0m\u001b[1;32mIn Progress\u001b[0m\n"
      ]
     },
     "metadata": {},
     "output_type": "display_data"
    },
    {
     "data": {
      "text/html": [
       "<pre style=\"white-space:pre;overflow-x:auto;line-height:normal;font-family:Menlo,'DejaVu Sans Mono',consolas,'Courier New',monospace\">\n",
       "</pre>\n"
      ],
      "text/plain": [
       "\n"
      ]
     },
     "metadata": {},
     "output_type": "display_data"
    },
    {
     "data": {
      "text/html": [
       "<pre style=\"white-space:pre;overflow-x:auto;line-height:normal;font-family:Menlo,'DejaVu Sans Mono',consolas,'Courier New',monospace\"><span style=\"color: #008000; text-decoration-color: #008000; font-weight: bold\">🤖 Agent: </span><span style=\"color: #008000; text-decoration-color: #008000\">Influencer researcher</span>\n",
       "<span style=\"color: #c0c0c0; text-decoration-color: #c0c0c0\">    Status: </span><span style=\"color: #008000; text-decoration-color: #008000; font-weight: bold\">In Progress</span>\n",
       "</pre>\n"
      ],
      "text/plain": [
       "\u001b[1;32m🤖 Agent: \u001b[0m\u001b[32mInfluencer researcher\u001b[0m\n",
       "\u001b[37m    Status: \u001b[0m\u001b[1;32mIn Progress\u001b[0m\n"
      ]
     },
     "metadata": {},
     "output_type": "display_data"
    },
    {
     "data": {
      "text/html": [
       "<pre style=\"white-space:pre;overflow-x:auto;line-height:normal;font-family:Menlo,'DejaVu Sans Mono',consolas,'Courier New',monospace\">\n",
       "</pre>\n"
      ],
      "text/plain": [
       "\n"
      ]
     },
     "metadata": {},
     "output_type": "display_data"
    },
    {
     "name": "stderr",
     "output_type": "stream",
     "text": [
      "Inserting batches in chromadb:   0%|          | 0/1 [00:00<?, ?it/s]/Users/mdashikadnan/Documents/adnanedu/python/ztm/crewai/crewai_venv/lib/python3.11/site-packages/chromadb/types.py:144: PydanticDeprecatedSince211: Accessing the 'model_fields' attribute on the instance is deprecated. Instead, you should access this attribute from the model class. Deprecated in Pydantic V2.11 to be removed in V3.0.\n",
      "  return self.model_fields  # pydantic 2.x\n",
      "2025-04-21 21:51:42,274 - 8014929600 - local_persistent_hnsw.py-local_persistent_hnsw:339 - WARNING: Add of existing embedding ID: default-app-id--a3296e7491c944f55934f3d0d16a732df20ce9a76b219ea4ca7a61677b80b841\n",
      "2025-04-21 21:51:42,276 - 8014929600 - sqlite.py-sqlite:297 - WARNING: Insert of existing embedding ID: default-app-id--a3296e7491c944f55934f3d0d16a732df20ce9a76b219ea4ca7a61677b80b841\n",
      "Inserting batches in chromadb: 100%|██████████| 1/1 [00:00<00:00,  1.25it/s]\n",
      "2025-04-21 21:51:43,410 - 8014929600 - local_persistent_hnsw.py-local_persistent_hnsw:423 - WARNING: Number of requested results 3 is greater than number of elements in index 1, updating n_results = 1\n"
     ]
    },
    {
     "name": "stdout",
     "output_type": "stream",
     "text": [
      "\n",
      "\n",
      "\u001b[1m\u001b[95m# Agent:\u001b[00m \u001b[1m\u001b[92mInfluencer researcher\u001b[00m\n",
      "\u001b[95m## Thought:\u001b[00m \u001b[92mThought: I should search the channel content specifically for popular videos to gather detailed insights about the topics and audience engagement.\u001b[00m\n",
      "\u001b[95m## Using tool:\u001b[00m \u001b[92mSearch a Youtube Channels content\u001b[00m\n",
      "\u001b[95m## Tool Input:\u001b[00m \u001b[92m\n",
      "\"{\\\"search_query\\\": \\\"popular videos\\\", \\\"youtube_channel_handle\\\": \\\"@t3dotgg\\\"}\"\u001b[00m\n",
      "\u001b[95m## Tool Output:\u001b[00m \u001b[92m\n",
      "Relevant Content:\n",
      "@t3dotgg\n",
      "\n",
      "\n",
      "You ONLY have access to the following tools, and should NEVER make up tools that are not listed here:\n",
      "\n",
      "Tool Name: Search the internet with Serper\n",
      "Tool Arguments: {'search_query': {'description': 'Mandatory search query you want to use to search the internet', 'type': 'str'}}\n",
      "Tool Description: A tool that can be used to search the internet with a search_query. Supports different search types: 'search' (default), 'news'\n",
      "Tool Name: Read website content\n",
      "Tool Arguments: {'website_url': {'description': 'Mandatory website url to read the file', 'type': 'str'}}\n",
      "Tool Description: A tool that can be used to read a website content.\n",
      "Tool Name: Search a Youtube Channels content\n",
      "Tool Arguments: {'search_query': {'description': 'Mandatory search query you want to use to search the Youtube Channels content', 'type': 'str'}, 'youtube_channel_handle': {'description': 'Mandatory youtube_channel_handle path you want to search', 'type': 'str'}}\n",
      "Tool Description: A tool that can be used to semantic search a query from a Youtube Channels content.\n",
      "Tool Name: Search a Youtube Video content\n",
      "Tool Arguments: {'search_query': {'description': 'Mandatory search query you want to use to search the Youtube Video content', 'type': 'str'}, 'youtube_video_url': {'description': 'Mandatory youtube_video_url path you want to search', 'type': 'str'}}\n",
      "Tool Description: A tool that can be used to semantic search a query from a Youtube Video content.\n",
      "\n",
      "IMPORTANT: Use the following format in your response:\n",
      "\n",
      "```\n",
      "Thought: you should always think about what to do\n",
      "Action: the action to take, only one name of [Search the internet with Serper, Read website content, Search a Youtube Channels content, Search a Youtube Video content], just the name, exactly as it's written.\n",
      "Action Input: the input to the action, just a simple JSON object, enclosed in curly braces, using \" to wrap keys and values.\n",
      "Observation: the result of the action\n",
      "```\n",
      "\n",
      "Once all necessary information is gathered, return the following format:\n",
      "\n",
      "```\n",
      "Thought: I now know the final answer\n",
      "Final Answer: the final answer to the original input question\n",
      "```\u001b[00m\n"
     ]
    },
    {
     "data": {
      "text/html": [
       "<pre style=\"white-space:pre;overflow-x:auto;line-height:normal;font-family:Menlo,'DejaVu Sans Mono',consolas,'Courier New',monospace\"><span style=\"color: #008000; text-decoration-color: #008000; font-weight: bold\">🤖 Agent: </span><span style=\"color: #008000; text-decoration-color: #008000\">Influencer researcher</span>\n",
       "<span style=\"color: #c0c0c0; text-decoration-color: #c0c0c0\">    Status: </span><span style=\"color: #008000; text-decoration-color: #008000; font-weight: bold\">In Progress</span>\n",
       "└── <span style=\"color: #000080; text-decoration-color: #000080; font-weight: bold\">🧠 </span><span style=\"color: #000080; text-decoration-color: #000080\">Thinking...</span>\n",
       "</pre>\n"
      ],
      "text/plain": [
       "\u001b[1;32m🤖 Agent: \u001b[0m\u001b[32mInfluencer researcher\u001b[0m\n",
       "\u001b[37m    Status: \u001b[0m\u001b[1;32mIn Progress\u001b[0m\n",
       "└── \u001b[1;34m🧠 \u001b[0m\u001b[34mThinking...\u001b[0m\n"
      ]
     },
     "metadata": {},
     "output_type": "display_data"
    },
    {
     "data": {
      "text/html": [
       "<pre style=\"white-space:pre;overflow-x:auto;line-height:normal;font-family:Menlo,'DejaVu Sans Mono',consolas,'Courier New',monospace\">\n",
       "</pre>\n"
      ],
      "text/plain": [
       "\n"
      ]
     },
     "metadata": {},
     "output_type": "display_data"
    },
    {
     "data": {
      "text/html": [
       "<pre style=\"white-space:pre;overflow-x:auto;line-height:normal;font-family:Menlo,'DejaVu Sans Mono',consolas,'Courier New',monospace\"><span style=\"color: #008000; text-decoration-color: #008000; font-weight: bold\">🤖 Agent: </span><span style=\"color: #008000; text-decoration-color: #008000\">Influencer researcher</span>\n",
       "<span style=\"color: #c0c0c0; text-decoration-color: #c0c0c0\">    Status: </span><span style=\"color: #008000; text-decoration-color: #008000; font-weight: bold\">In Progress</span>\n",
       "</pre>\n"
      ],
      "text/plain": [
       "\u001b[1;32m🤖 Agent: \u001b[0m\u001b[32mInfluencer researcher\u001b[0m\n",
       "\u001b[37m    Status: \u001b[0m\u001b[1;32mIn Progress\u001b[0m\n"
      ]
     },
     "metadata": {},
     "output_type": "display_data"
    },
    {
     "data": {
      "text/html": [
       "<pre style=\"white-space:pre;overflow-x:auto;line-height:normal;font-family:Menlo,'DejaVu Sans Mono',consolas,'Courier New',monospace\">\n",
       "</pre>\n"
      ],
      "text/plain": [
       "\n"
      ]
     },
     "metadata": {},
     "output_type": "display_data"
    },
    {
     "data": {
      "text/html": [
       "<pre style=\"white-space:pre;overflow-x:auto;line-height:normal;font-family:Menlo,'DejaVu Sans Mono',consolas,'Courier New',monospace\"><span style=\"color: #008000; text-decoration-color: #008000; font-weight: bold\">🤖 Agent: </span><span style=\"color: #008000; text-decoration-color: #008000\">Influencer researcher</span>\n",
       "<span style=\"color: #c0c0c0; text-decoration-color: #c0c0c0\">    Status: </span><span style=\"color: #008000; text-decoration-color: #008000; font-weight: bold\">In Progress</span>\n",
       "</pre>\n"
      ],
      "text/plain": [
       "\u001b[1;32m🤖 Agent: \u001b[0m\u001b[32mInfluencer researcher\u001b[0m\n",
       "\u001b[37m    Status: \u001b[0m\u001b[1;32mIn Progress\u001b[0m\n"
      ]
     },
     "metadata": {},
     "output_type": "display_data"
    },
    {
     "data": {
      "text/html": [
       "<pre style=\"white-space:pre;overflow-x:auto;line-height:normal;font-family:Menlo,'DejaVu Sans Mono',consolas,'Courier New',monospace\">\n",
       "</pre>\n"
      ],
      "text/plain": [
       "\n"
      ]
     },
     "metadata": {},
     "output_type": "display_data"
    },
    {
     "name": "stdout",
     "output_type": "stream",
     "text": [
      "\n",
      "\n",
      "\u001b[1m\u001b[95m# Agent:\u001b[00m \u001b[1m\u001b[92mInfluencer researcher\u001b[00m\n",
      "\u001b[95m## Thought:\u001b[00m \u001b[92mThought: I need to use the internet search tool to find more details about the most popular videos on Theo - t3․gg's YouTube channel.\u001b[00m\n",
      "\u001b[95m## Using tool:\u001b[00m \u001b[92mSearch the internet with Serper\u001b[00m\n",
      "\u001b[95m## Tool Input:\u001b[00m \u001b[92m\n",
      "\"{\\\"search_query\\\": \\\"Theo t3dotgg most popular videos\\\"}\"\u001b[00m\n",
      "\u001b[95m## Tool Output:\u001b[00m \u001b[92m\n",
      "{'searchParameters': {'q': 'Theo t3dotgg most popular videos', 'type': 'search', 'num': 10, 'engine': 'google'}, 'organic': [{'title': 'Theo - t3․gg - YouTube', 'link': 'https://www.youtube.com/@t3dotgg', 'snippet': \"Hi, I'm a software dev nerd mostly known for full stack TypeScript stuff. Check out me and my stack at t3.gg\", 'position': 1}, {'title': 'Theo - t3․gg - YouTube', 'link': 'https://www.youtube.com/@t3dotgg/videos', 'snippet': \"Hi, I'm a software dev nerd mostly known for full stack TypeScript stuff. Check out me and my stack at t3.gg ...more ...more youtube.com/@theorantsand 4 ...\", 'position': 2}, {'title': 'Theo (@t3dotgg) / X', 'link': 'https://x.com/t3dotgg?lang=en', 'snippet': '“Fight every battle everywhere.” On 7.16, #WinterIsHere. Embedded video. 1:58.', 'position': 3}, {'title': 'Theo Browne (@t3dotgg) · Instagram photos and Reels', 'link': 'https://www.instagram.com/t3dotgg/?hl=en', 'snippet': 'Missing: most videos', 'position': 4}, {'title': 'If YouTube Devs Were Honest (featuring Theo @t3dotgg)', 'link': 'https://www.youtube.com/watch?v=aE5CgOZZx8c', 'snippet': 'If YouTube Devs Were Honest (featuring Theo @t3dotgg). 9.5K views · 8 months ago ...more ... Comments141. Theo - t3․gg. Thanks for having me ...', 'position': 5}, {'title': 'My Dev Environment Might Surprise You... - YouTube', 'link': 'https://www.youtube.com/watch?v=Hj1a7QuwjSI&pp=ygUII3RoZW9nZ2c%3D', 'snippet': \"... t3dotgg And everything else https://t3.gg/links 00:00 - Intro 02 ... Theo - t3․gg•58K views · 23:11 · Go to channel · Cool Tools I've Been ...\", 'position': 6}, {'title': 'The Theo Problem : r/webdev - Reddit', 'link': 'https://www.reddit.com/r/webdev/comments/17bi852/the_theo_problem/', 'snippet': \"This post is titled the way it is because it's a response to a YouTube video titled The DHH Problem, where he discusses some Cloud stuff, and ...\", 'position': 7}, {'title': 'The Coolest Thing I Ever Built - YouTube', 'link': 'https://www.youtube.com/watch?v=uEnLhxL8Afs', 'snippet': '... VIDEOS ARE POSTED EARLY ON PATREON https://www.patreon.com/t3dotgg ... Theo - t3․gg•150K views · 20:03 · Go to channel · The Truth About Code ...', 'position': 8}, {'title': \"theo - builder who's also on youtube\", 'link': 'https://t3.gg/', 'snippet': 'theo (aka t3, t3dotgg) is a youtuber/ceo/dev. built t3 chat, ping.gg, t3 stack and more.', 'position': 9, 'sitelinks': [{'title': \"Theo's Blog\", 'link': 'https://t3.gg/blog'}, {'title': 'Create T3 App', 'link': 'https://create.t3.gg/'}, {'title': 'My sponsors', 'link': 'https://t3.gg/sponsors'}]}, {'title': 'Anything Else? | feat. T3dotgg : r/Destiny - Reddit', 'link': 'https://www.reddit.com/r/Destiny/comments/1f61mz3/anything_else_feat_t3dotgg/', 'snippet': '16 votes, 13 comments. Anything Else? | feat. T3dotgg: Watch the Anything Else Podcast live on Destiny.GG Support Anything Else on Patreon ...', 'position': 10}], 'relatedSearches': [{'query': 'theo browne'}, {'query': 'theo x'}, {'query': 'theo dev'}, {'query': 'theo g'}, {'query': 'theo github'}, {'query': 'theo streamer'}, {'query': 'pic thing theo'}], 'credits': 1}\u001b[00m\n"
     ]
    },
    {
     "data": {
      "text/html": [
       "<pre style=\"white-space:pre;overflow-x:auto;line-height:normal;font-family:Menlo,'DejaVu Sans Mono',consolas,'Courier New',monospace\"><span style=\"color: #008000; text-decoration-color: #008000; font-weight: bold\">🤖 Agent: </span><span style=\"color: #008000; text-decoration-color: #008000\">Influencer researcher</span>\n",
       "<span style=\"color: #c0c0c0; text-decoration-color: #c0c0c0\">    Status: </span><span style=\"color: #008000; text-decoration-color: #008000; font-weight: bold\">In Progress</span>\n",
       "└── <span style=\"color: #000080; text-decoration-color: #000080; font-weight: bold\">🧠 </span><span style=\"color: #000080; text-decoration-color: #000080\">Thinking...</span>\n",
       "</pre>\n"
      ],
      "text/plain": [
       "\u001b[1;32m🤖 Agent: \u001b[0m\u001b[32mInfluencer researcher\u001b[0m\n",
       "\u001b[37m    Status: \u001b[0m\u001b[1;32mIn Progress\u001b[0m\n",
       "└── \u001b[1;34m🧠 \u001b[0m\u001b[34mThinking...\u001b[0m\n"
      ]
     },
     "metadata": {},
     "output_type": "display_data"
    },
    {
     "data": {
      "text/html": [
       "<pre style=\"white-space:pre;overflow-x:auto;line-height:normal;font-family:Menlo,'DejaVu Sans Mono',consolas,'Courier New',monospace\">\n",
       "</pre>\n"
      ],
      "text/plain": [
       "\n"
      ]
     },
     "metadata": {},
     "output_type": "display_data"
    },
    {
     "data": {
      "text/html": [
       "<pre style=\"white-space:pre;overflow-x:auto;line-height:normal;font-family:Menlo,'DejaVu Sans Mono',consolas,'Courier New',monospace\"><span style=\"color: #008000; text-decoration-color: #008000; font-weight: bold\">🤖 Agent: </span><span style=\"color: #008000; text-decoration-color: #008000\">Influencer researcher</span>\n",
       "<span style=\"color: #c0c0c0; text-decoration-color: #c0c0c0\">    Status: </span><span style=\"color: #008000; text-decoration-color: #008000; font-weight: bold\">In Progress</span>\n",
       "</pre>\n"
      ],
      "text/plain": [
       "\u001b[1;32m🤖 Agent: \u001b[0m\u001b[32mInfluencer researcher\u001b[0m\n",
       "\u001b[37m    Status: \u001b[0m\u001b[1;32mIn Progress\u001b[0m\n"
      ]
     },
     "metadata": {},
     "output_type": "display_data"
    },
    {
     "data": {
      "text/html": [
       "<pre style=\"white-space:pre;overflow-x:auto;line-height:normal;font-family:Menlo,'DejaVu Sans Mono',consolas,'Courier New',monospace\">\n",
       "</pre>\n"
      ],
      "text/plain": [
       "\n"
      ]
     },
     "metadata": {},
     "output_type": "display_data"
    },
    {
     "data": {
      "text/html": [
       "<pre style=\"white-space:pre;overflow-x:auto;line-height:normal;font-family:Menlo,'DejaVu Sans Mono',consolas,'Courier New',monospace\"><span style=\"color: #008000; text-decoration-color: #008000; font-weight: bold\">🤖 Agent: </span><span style=\"color: #008000; text-decoration-color: #008000\">Influencer researcher</span>\n",
       "<span style=\"color: #c0c0c0; text-decoration-color: #c0c0c0\">    Status: </span><span style=\"color: #008000; text-decoration-color: #008000; font-weight: bold\">In Progress</span>\n",
       "</pre>\n"
      ],
      "text/plain": [
       "\u001b[1;32m🤖 Agent: \u001b[0m\u001b[32mInfluencer researcher\u001b[0m\n",
       "\u001b[37m    Status: \u001b[0m\u001b[1;32mIn Progress\u001b[0m\n"
      ]
     },
     "metadata": {},
     "output_type": "display_data"
    },
    {
     "data": {
      "text/html": [
       "<pre style=\"white-space:pre;overflow-x:auto;line-height:normal;font-family:Menlo,'DejaVu Sans Mono',consolas,'Courier New',monospace\">\n",
       "</pre>\n"
      ],
      "text/plain": [
       "\n"
      ]
     },
     "metadata": {},
     "output_type": "display_data"
    },
    {
     "name": "stdout",
     "output_type": "stream",
     "text": [
      "\n",
      "\n",
      "\u001b[1m\u001b[95m# Agent:\u001b[00m \u001b[1m\u001b[92mInfluencer researcher\u001b[00m\n",
      "\u001b[95m## Thought:\u001b[00m \u001b[92mThought: I need to specifically look for a list or mention of the most popular videos on Theo - t3․gg's YouTube channel from the search results.\u001b[00m\n",
      "\u001b[95m## Using tool:\u001b[00m \u001b[92mRead website content\u001b[00m\n",
      "\u001b[95m## Tool Input:\u001b[00m \u001b[92m\n",
      "\"{\\\"website_url\\\": \\\"https://www.youtube.com/@t3dotgg/videos\\\"}\"\u001b[00m\n",
      "\u001b[95m## Tool Output:\u001b[00m \u001b[92m\n",
      "Theo - t3․gg - YouTube About Press Copyright Contact us Creators Advertise Developers Terms Privacy Policy & Safety How YouTube works Test new features © 2025 Google LLC\u001b[00m\n"
     ]
    },
    {
     "data": {
      "text/html": [
       "<pre style=\"white-space:pre;overflow-x:auto;line-height:normal;font-family:Menlo,'DejaVu Sans Mono',consolas,'Courier New',monospace\"><span style=\"color: #008000; text-decoration-color: #008000; font-weight: bold\">🤖 Agent: </span><span style=\"color: #008000; text-decoration-color: #008000\">Influencer researcher</span>\n",
       "<span style=\"color: #c0c0c0; text-decoration-color: #c0c0c0\">    Status: </span><span style=\"color: #008000; text-decoration-color: #008000; font-weight: bold\">In Progress</span>\n",
       "└── <span style=\"color: #000080; text-decoration-color: #000080; font-weight: bold\">🧠 </span><span style=\"color: #000080; text-decoration-color: #000080\">Thinking...</span>\n",
       "</pre>\n"
      ],
      "text/plain": [
       "\u001b[1;32m🤖 Agent: \u001b[0m\u001b[32mInfluencer researcher\u001b[0m\n",
       "\u001b[37m    Status: \u001b[0m\u001b[1;32mIn Progress\u001b[0m\n",
       "└── \u001b[1;34m🧠 \u001b[0m\u001b[34mThinking...\u001b[0m\n"
      ]
     },
     "metadata": {},
     "output_type": "display_data"
    },
    {
     "data": {
      "text/html": [
       "<pre style=\"white-space:pre;overflow-x:auto;line-height:normal;font-family:Menlo,'DejaVu Sans Mono',consolas,'Courier New',monospace\">\n",
       "</pre>\n"
      ],
      "text/plain": [
       "\n"
      ]
     },
     "metadata": {},
     "output_type": "display_data"
    },
    {
     "data": {
      "text/html": [
       "<pre style=\"white-space:pre;overflow-x:auto;line-height:normal;font-family:Menlo,'DejaVu Sans Mono',consolas,'Courier New',monospace\"><span style=\"color: #008000; text-decoration-color: #008000; font-weight: bold\">🤖 Agent: </span><span style=\"color: #008000; text-decoration-color: #008000\">Influencer researcher</span>\n",
       "<span style=\"color: #c0c0c0; text-decoration-color: #c0c0c0\">    Status: </span><span style=\"color: #008000; text-decoration-color: #008000; font-weight: bold\">In Progress</span>\n",
       "</pre>\n"
      ],
      "text/plain": [
       "\u001b[1;32m🤖 Agent: \u001b[0m\u001b[32mInfluencer researcher\u001b[0m\n",
       "\u001b[37m    Status: \u001b[0m\u001b[1;32mIn Progress\u001b[0m\n"
      ]
     },
     "metadata": {},
     "output_type": "display_data"
    },
    {
     "data": {
      "text/html": [
       "<pre style=\"white-space:pre;overflow-x:auto;line-height:normal;font-family:Menlo,'DejaVu Sans Mono',consolas,'Courier New',monospace\">\n",
       "</pre>\n"
      ],
      "text/plain": [
       "\n"
      ]
     },
     "metadata": {},
     "output_type": "display_data"
    },
    {
     "data": {
      "text/html": [
       "<pre style=\"white-space:pre;overflow-x:auto;line-height:normal;font-family:Menlo,'DejaVu Sans Mono',consolas,'Courier New',monospace\"><span style=\"color: #008000; text-decoration-color: #008000; font-weight: bold\">🤖 Agent: </span><span style=\"color: #008000; text-decoration-color: #008000\">Influencer researcher</span>\n",
       "<span style=\"color: #c0c0c0; text-decoration-color: #c0c0c0\">    Status: </span><span style=\"color: #008000; text-decoration-color: #008000; font-weight: bold\">In Progress</span>\n",
       "</pre>\n"
      ],
      "text/plain": [
       "\u001b[1;32m🤖 Agent: \u001b[0m\u001b[32mInfluencer researcher\u001b[0m\n",
       "\u001b[37m    Status: \u001b[0m\u001b[1;32mIn Progress\u001b[0m\n"
      ]
     },
     "metadata": {},
     "output_type": "display_data"
    },
    {
     "data": {
      "text/html": [
       "<pre style=\"white-space:pre;overflow-x:auto;line-height:normal;font-family:Menlo,'DejaVu Sans Mono',consolas,'Courier New',monospace\">\n",
       "</pre>\n"
      ],
      "text/plain": [
       "\n"
      ]
     },
     "metadata": {},
     "output_type": "display_data"
    },
    {
     "name": "stderr",
     "output_type": "stream",
     "text": [
      "Inserting batches in chromadb:   0%|          | 0/1 [00:00<?, ?it/s]/Users/mdashikadnan/Documents/adnanedu/python/ztm/crewai/crewai_venv/lib/python3.11/site-packages/chromadb/types.py:144: PydanticDeprecatedSince211: Accessing the 'model_fields' attribute on the instance is deprecated. Instead, you should access this attribute from the model class. Deprecated in Pydantic V2.11 to be removed in V3.0.\n",
      "  return self.model_fields  # pydantic 2.x\n",
      "2025-04-21 21:51:52,733 - 8014929600 - local_persistent_hnsw.py-local_persistent_hnsw:339 - WARNING: Add of existing embedding ID: default-app-id--a3296e7491c944f55934f3d0d16a732df20ce9a76b219ea4ca7a61677b80b841\n",
      "2025-04-21 21:51:52,734 - 8014929600 - sqlite.py-sqlite:297 - WARNING: Insert of existing embedding ID: default-app-id--a3296e7491c944f55934f3d0d16a732df20ce9a76b219ea4ca7a61677b80b841\n",
      "Inserting batches in chromadb: 100%|██████████| 1/1 [00:00<00:00,  1.58it/s]\n",
      "2025-04-21 21:51:53,096 - 8014929600 - local_persistent_hnsw.py-local_persistent_hnsw:423 - WARNING: Number of requested results 3 is greater than number of elements in index 1, updating n_results = 1\n"
     ]
    },
    {
     "name": "stdout",
     "output_type": "stream",
     "text": [
      "\n",
      "\n",
      "\u001b[1m\u001b[95m# Agent:\u001b[00m \u001b[1m\u001b[92mInfluencer researcher\u001b[00m\n",
      "\u001b[95m## Thought:\u001b[00m \u001b[92mThought: I should search the channel for specific topics or keywords to identify what the most popular videos are about.\u001b[00m\n",
      "\u001b[95m## Using tool:\u001b[00m \u001b[92mSearch a Youtube Channels content\u001b[00m\n",
      "\u001b[95m## Tool Input:\u001b[00m \u001b[92m\n",
      "\"{\\\"search_query\\\": \\\"popular video topics\\\", \\\"youtube_channel_handle\\\": \\\"@t3dotgg\\\"}\"\u001b[00m\n",
      "\u001b[95m## Tool Output:\u001b[00m \u001b[92m\n",
      "Relevant Content:\n",
      "@t3dotgg\n",
      "\n",
      "\n",
      "You ONLY have access to the following tools, and should NEVER make up tools that are not listed here:\n",
      "\n",
      "Tool Name: Search the internet with Serper\n",
      "Tool Arguments: {'search_query': {'description': 'Mandatory search query you want to use to search the internet', 'type': 'str'}}\n",
      "Tool Description: A tool that can be used to search the internet with a search_query. Supports different search types: 'search' (default), 'news'\n",
      "Tool Name: Read website content\n",
      "Tool Arguments: {'website_url': {'description': 'Mandatory website url to read the file', 'type': 'str'}}\n",
      "Tool Description: A tool that can be used to read a website content.\n",
      "Tool Name: Search a Youtube Channels content\n",
      "Tool Arguments: {'search_query': {'description': 'Mandatory search query you want to use to search the Youtube Channels content', 'type': 'str'}, 'youtube_channel_handle': {'description': 'Mandatory youtube_channel_handle path you want to search', 'type': 'str'}}\n",
      "Tool Description: A tool that can be used to semantic search a query from a Youtube Channels content.\n",
      "Tool Name: Search a Youtube Video content\n",
      "Tool Arguments: {'search_query': {'description': 'Mandatory search query you want to use to search the Youtube Video content', 'type': 'str'}, 'youtube_video_url': {'description': 'Mandatory youtube_video_url path you want to search', 'type': 'str'}}\n",
      "Tool Description: A tool that can be used to semantic search a query from a Youtube Video content.\n",
      "\n",
      "IMPORTANT: Use the following format in your response:\n",
      "\n",
      "```\n",
      "Thought: you should always think about what to do\n",
      "Action: the action to take, only one name of [Search the internet with Serper, Read website content, Search a Youtube Channels content, Search a Youtube Video content], just the name, exactly as it's written.\n",
      "Action Input: the input to the action, just a simple JSON object, enclosed in curly braces, using \" to wrap keys and values.\n",
      "Observation: the result of the action\n",
      "```\n",
      "\n",
      "Once all necessary information is gathered, return the following format:\n",
      "\n",
      "```\n",
      "Thought: I now know the final answer\n",
      "Final Answer: the final answer to the original input question\n",
      "```\u001b[00m\n"
     ]
    },
    {
     "data": {
      "text/html": [
       "<pre style=\"white-space:pre;overflow-x:auto;line-height:normal;font-family:Menlo,'DejaVu Sans Mono',consolas,'Courier New',monospace\"><span style=\"color: #008000; text-decoration-color: #008000; font-weight: bold\">🤖 Agent: </span><span style=\"color: #008000; text-decoration-color: #008000\">Influencer researcher</span>\n",
       "<span style=\"color: #c0c0c0; text-decoration-color: #c0c0c0\">    Status: </span><span style=\"color: #008000; text-decoration-color: #008000; font-weight: bold\">In Progress</span>\n",
       "└── <span style=\"color: #000080; text-decoration-color: #000080; font-weight: bold\">🧠 </span><span style=\"color: #000080; text-decoration-color: #000080\">Thinking...</span>\n",
       "</pre>\n"
      ],
      "text/plain": [
       "\u001b[1;32m🤖 Agent: \u001b[0m\u001b[32mInfluencer researcher\u001b[0m\n",
       "\u001b[37m    Status: \u001b[0m\u001b[1;32mIn Progress\u001b[0m\n",
       "└── \u001b[1;34m🧠 \u001b[0m\u001b[34mThinking...\u001b[0m\n"
      ]
     },
     "metadata": {},
     "output_type": "display_data"
    },
    {
     "data": {
      "text/html": [
       "<pre style=\"white-space:pre;overflow-x:auto;line-height:normal;font-family:Menlo,'DejaVu Sans Mono',consolas,'Courier New',monospace\">\n",
       "</pre>\n"
      ],
      "text/plain": [
       "\n"
      ]
     },
     "metadata": {},
     "output_type": "display_data"
    },
    {
     "data": {
      "text/html": [
       "<pre style=\"white-space:pre;overflow-x:auto;line-height:normal;font-family:Menlo,'DejaVu Sans Mono',consolas,'Courier New',monospace\"><span style=\"color: #008000; text-decoration-color: #008000; font-weight: bold\">🤖 Agent: </span><span style=\"color: #008000; text-decoration-color: #008000\">Influencer researcher</span>\n",
       "<span style=\"color: #c0c0c0; text-decoration-color: #c0c0c0\">    Status: </span><span style=\"color: #008000; text-decoration-color: #008000; font-weight: bold\">In Progress</span>\n",
       "</pre>\n"
      ],
      "text/plain": [
       "\u001b[1;32m🤖 Agent: \u001b[0m\u001b[32mInfluencer researcher\u001b[0m\n",
       "\u001b[37m    Status: \u001b[0m\u001b[1;32mIn Progress\u001b[0m\n"
      ]
     },
     "metadata": {},
     "output_type": "display_data"
    },
    {
     "data": {
      "text/html": [
       "<pre style=\"white-space:pre;overflow-x:auto;line-height:normal;font-family:Menlo,'DejaVu Sans Mono',consolas,'Courier New',monospace\">\n",
       "</pre>\n"
      ],
      "text/plain": [
       "\n"
      ]
     },
     "metadata": {},
     "output_type": "display_data"
    },
    {
     "data": {
      "text/html": [
       "<pre style=\"white-space:pre;overflow-x:auto;line-height:normal;font-family:Menlo,'DejaVu Sans Mono',consolas,'Courier New',monospace\"><span style=\"color: #008000; text-decoration-color: #008000; font-weight: bold\">🤖 Agent: </span><span style=\"color: #008000; text-decoration-color: #008000\">Influencer researcher</span>\n",
       "<span style=\"color: #c0c0c0; text-decoration-color: #c0c0c0\">    Status: </span><span style=\"color: #008000; text-decoration-color: #008000; font-weight: bold\">In Progress</span>\n",
       "</pre>\n"
      ],
      "text/plain": [
       "\u001b[1;32m🤖 Agent: \u001b[0m\u001b[32mInfluencer researcher\u001b[0m\n",
       "\u001b[37m    Status: \u001b[0m\u001b[1;32mIn Progress\u001b[0m\n"
      ]
     },
     "metadata": {},
     "output_type": "display_data"
    },
    {
     "data": {
      "text/html": [
       "<pre style=\"white-space:pre;overflow-x:auto;line-height:normal;font-family:Menlo,'DejaVu Sans Mono',consolas,'Courier New',monospace\">\n",
       "</pre>\n"
      ],
      "text/plain": [
       "\n"
      ]
     },
     "metadata": {},
     "output_type": "display_data"
    },
    {
     "name": "stderr",
     "output_type": "stream",
     "text": [
      "Inserting batches in chromadb:   0%|          | 0/1 [00:00<?, ?it/s]/Users/mdashikadnan/Documents/adnanedu/python/ztm/crewai/crewai_venv/lib/python3.11/site-packages/chromadb/types.py:144: PydanticDeprecatedSince211: Accessing the 'model_fields' attribute on the instance is deprecated. Instead, you should access this attribute from the model class. Deprecated in Pydantic V2.11 to be removed in V3.0.\n",
      "  return self.model_fields  # pydantic 2.x\n",
      "2025-04-21 21:51:54,783 - 8014929600 - local_persistent_hnsw.py-local_persistent_hnsw:339 - WARNING: Add of existing embedding ID: default-app-id--a3296e7491c944f55934f3d0d16a732df20ce9a76b219ea4ca7a61677b80b841\n",
      "2025-04-21 21:51:54,784 - 8014929600 - sqlite.py-sqlite:297 - WARNING: Insert of existing embedding ID: default-app-id--a3296e7491c944f55934f3d0d16a732df20ce9a76b219ea4ca7a61677b80b841\n",
      "Inserting batches in chromadb: 100%|██████████| 1/1 [00:00<00:00,  2.44it/s]\n",
      "2025-04-21 21:51:55,428 - 8014929600 - local_persistent_hnsw.py-local_persistent_hnsw:423 - WARNING: Number of requested results 3 is greater than number of elements in index 1, updating n_results = 1\n"
     ]
    },
    {
     "name": "stdout",
     "output_type": "stream",
     "text": [
      "\n",
      "\n",
      "\u001b[1m\u001b[95m# Agent:\u001b[00m \u001b[1m\u001b[92mInfluencer researcher\u001b[00m\n",
      "\u001b[95m## Thought:\u001b[00m \u001b[92mThought: I need to directly search for specific video content on Theo - t3․gg's YouTube channel that might highlight popular topics.\u001b[00m\n",
      "\u001b[95m## Using tool:\u001b[00m \u001b[92mSearch a Youtube Channels content\u001b[00m\n",
      "\u001b[95m## Tool Input:\u001b[00m \u001b[92m\n",
      "\"{\\\"search_query\\\": \\\"popular topics\\\", \\\"youtube_channel_handle\\\": \\\"@t3dotgg\\\"}\"\u001b[00m\n",
      "\u001b[95m## Tool Output:\u001b[00m \u001b[92m\n",
      "Relevant Content:\n",
      "@t3dotgg\u001b[00m\n"
     ]
    },
    {
     "data": {
      "text/html": [
       "<pre style=\"white-space:pre;overflow-x:auto;line-height:normal;font-family:Menlo,'DejaVu Sans Mono',consolas,'Courier New',monospace\"><span style=\"color: #008000; text-decoration-color: #008000; font-weight: bold\">🤖 Agent: </span><span style=\"color: #008000; text-decoration-color: #008000\">Influencer researcher</span>\n",
       "<span style=\"color: #c0c0c0; text-decoration-color: #c0c0c0\">    Status: </span><span style=\"color: #008000; text-decoration-color: #008000; font-weight: bold\">In Progress</span>\n",
       "└── <span style=\"color: #000080; text-decoration-color: #000080; font-weight: bold\">🧠 </span><span style=\"color: #000080; text-decoration-color: #000080\">Thinking...</span>\n",
       "</pre>\n"
      ],
      "text/plain": [
       "\u001b[1;32m🤖 Agent: \u001b[0m\u001b[32mInfluencer researcher\u001b[0m\n",
       "\u001b[37m    Status: \u001b[0m\u001b[1;32mIn Progress\u001b[0m\n",
       "└── \u001b[1;34m🧠 \u001b[0m\u001b[34mThinking...\u001b[0m\n"
      ]
     },
     "metadata": {},
     "output_type": "display_data"
    },
    {
     "data": {
      "text/html": [
       "<pre style=\"white-space:pre;overflow-x:auto;line-height:normal;font-family:Menlo,'DejaVu Sans Mono',consolas,'Courier New',monospace\">\n",
       "</pre>\n"
      ],
      "text/plain": [
       "\n"
      ]
     },
     "metadata": {},
     "output_type": "display_data"
    },
    {
     "data": {
      "text/html": [
       "<pre style=\"white-space:pre;overflow-x:auto;line-height:normal;font-family:Menlo,'DejaVu Sans Mono',consolas,'Courier New',monospace\"><span style=\"color: #008000; text-decoration-color: #008000; font-weight: bold\">🤖 Agent: </span><span style=\"color: #008000; text-decoration-color: #008000\">Influencer researcher</span>\n",
       "<span style=\"color: #c0c0c0; text-decoration-color: #c0c0c0\">    Status: </span><span style=\"color: #008000; text-decoration-color: #008000; font-weight: bold\">In Progress</span>\n",
       "</pre>\n"
      ],
      "text/plain": [
       "\u001b[1;32m🤖 Agent: \u001b[0m\u001b[32mInfluencer researcher\u001b[0m\n",
       "\u001b[37m    Status: \u001b[0m\u001b[1;32mIn Progress\u001b[0m\n"
      ]
     },
     "metadata": {},
     "output_type": "display_data"
    },
    {
     "data": {
      "text/html": [
       "<pre style=\"white-space:pre;overflow-x:auto;line-height:normal;font-family:Menlo,'DejaVu Sans Mono',consolas,'Courier New',monospace\">\n",
       "</pre>\n"
      ],
      "text/plain": [
       "\n"
      ]
     },
     "metadata": {},
     "output_type": "display_data"
    },
    {
     "data": {
      "text/html": [
       "<pre style=\"white-space:pre;overflow-x:auto;line-height:normal;font-family:Menlo,'DejaVu Sans Mono',consolas,'Courier New',monospace\"><span style=\"color: #008000; text-decoration-color: #008000; font-weight: bold\">🤖 Agent: </span><span style=\"color: #008000; text-decoration-color: #008000\">Influencer researcher</span>\n",
       "<span style=\"color: #c0c0c0; text-decoration-color: #c0c0c0\">    Status: </span><span style=\"color: #008000; text-decoration-color: #008000; font-weight: bold\">In Progress</span>\n",
       "</pre>\n"
      ],
      "text/plain": [
       "\u001b[1;32m🤖 Agent: \u001b[0m\u001b[32mInfluencer researcher\u001b[0m\n",
       "\u001b[37m    Status: \u001b[0m\u001b[1;32mIn Progress\u001b[0m\n"
      ]
     },
     "metadata": {},
     "output_type": "display_data"
    },
    {
     "data": {
      "text/html": [
       "<pre style=\"white-space:pre;overflow-x:auto;line-height:normal;font-family:Menlo,'DejaVu Sans Mono',consolas,'Courier New',monospace\">\n",
       "</pre>\n"
      ],
      "text/plain": [
       "\n"
      ]
     },
     "metadata": {},
     "output_type": "display_data"
    },
    {
     "name": "stdout",
     "output_type": "stream",
     "text": [
      "\n",
      "\n",
      "\u001b[1m\u001b[95m# Agent:\u001b[00m \u001b[1m\u001b[92mInfluencer researcher\u001b[00m\n",
      "\u001b[95m## Thought:\u001b[00m \u001b[92mThought: I should search for the most popular videos on Theo - t3․gg's YouTube channel using the internet search tool to gather detailed information.\u001b[00m\n",
      "\u001b[95m## Using tool:\u001b[00m \u001b[92mSearch the internet with Serper\u001b[00m\n",
      "\u001b[95m## Tool Input:\u001b[00m \u001b[92m\n",
      "\"{\\\"search_query\\\": \\\"most popular videos on Theo t3dotgg YouTube channel\\\"}\"\u001b[00m\n",
      "\u001b[95m## Tool Output:\u001b[00m \u001b[92m\n",
      "{'searchParameters': {'q': 'most popular videos on Theo t3dotgg YouTube channel', 'type': 'search', 'num': 10, 'engine': 'google'}, 'organic': [{'title': 'Theo - t3․gg - YouTube', 'link': 'https://www.youtube.com/@t3dotgg', 'snippet': 'Popular videos · PirateSoftware is right, this needs to stop · The REAL Cost Of AWS (And How To Avoid It) · From 0 to Production - The Modern React Tutorial (RSCs, ...', 'position': 1}, {'title': 'If YouTube Devs Were Honest (featuring Theo @t3dotgg)', 'link': 'https://www.youtube.com/watch?v=aE5CgOZZx8c', 'snippet': 'Comments141 · YouTube Coders are LYING to You. · AI Wants to Exploit Your LONELINESS - A Video Essay on Character AI · Why I Stopped Being Anti- ...', 'position': 2}, {'title': 'The Coolest Thing I Ever Built - YouTube', 'link': 'https://www.youtube.com/watch?v=uEnLhxL8Afs&pp=ygUFIzZvM2c%3D', 'snippet': \"Still so proud of the whole Moderation Tools team. Mod View is dope and I'm lucky I got to help build it. React Portals Video: ...\", 'position': 3}, {'title': 'Flip with Theo t3dotgg - TypeScript Type Challenges #4179 [MEDIUM]', 'link': 'https://www.youtube.com/watch?v=Ayaqb0qZMD8', 'snippet': 'Flipping an object (that is, exchanging object values and keys) is a tricky proposition because an object only allows keys to be strings or ...', 'position': 4}, {'title': 't3․gg - Theo - YouTube', 'link': 'https://www.youtube.com/user/thebigbib', 'snippet': 'Popular videos · PirateSoftware is right, this needs to stop · The REAL Cost Of AWS (And How To Avoid It) · T3 Stack Tutorial - FROM 0 TO PROD FOR $0 (Next.js, ...', 'position': 5}, {'title': 'Best, Worst, and Funniest of Tech in 2022 - T3 AWARDS - YouTube', 'link': 'https://www.youtube.com/watch?v=MjfouLPlu1E', 'snippet': 'Comments43 · Your Goals Kinda Suck - LEVEL UP As A Developer · ThePrimeagen: Programming, AI, ADHD, Productivity, Addiction, and God | Lex Fridman ...', 'position': 6}, {'title': \"Reacting to Theo's Video About Raycast - YouTube\", 'link': 'https://www.youtube.com/watch?v=WY9KBwhPNvc', 'snippet': 't3dotgg finally made a video about us! So Pedro got to watch ... The Top 10 BEST Keyboard Maestro Macros. Macs Productivity•3.6K views.', 'position': 7}, {'title': \"theo - builder who's also on youtube\", 'link': 'https://t3.gg/', 'snippet': 'theo (aka t3, t3dotgg) is a youtuber/ceo/dev. built t3 chat, ping.gg, t3 stack and more.', 'position': 8, 'sitelinks': [{'title': \"Theo's Blog\", 'link': 'https://t3.gg/blog'}, {'title': 'Create T3 App', 'link': 'https://create.t3.gg/'}, {'title': 'My sponsors', 'link': 'https://t3.gg/sponsors'}]}, {'title': 'Why do Flutter hating Youtubers always do this? : r/FlutterDev - Reddit', 'link': 'https://www.reddit.com/r/FlutterDev/comments/1afwe3d/why_do_flutter_hating_youtubers_always_do_this/', 'snippet': \"I saw a tweet on Theo's Twitter, a famous content creator (200k subs) that hates on Flutter. He blew up this tweet that showed Flutter's mechanism for text ...\", 'position': 9}, {'title': '267 - Theo Browne - Workspaces.xyz', 'link': 'https://www.workspaces.xyz/p/267-theo-browne', 'snippet': \"He also writes about tech and content creation as well as creating content on his popular YouTube channel. Twitter → twitter.com/t3dotgg. Inside Theo's ...\", 'position': 10}], 'relatedSearches': [{'query': 'theo browne'}, {'query': 'theo x'}, {'query': 'fireship youtube'}, {'query': 'theo g'}, {'query': 'youtube app'}, {'query': 'theo james'}, {'query': 'pic thing theo'}, {'query': 'freecodecamp videos'}], 'credits': 1}\u001b[00m\n"
     ]
    },
    {
     "data": {
      "text/html": [
       "<pre style=\"white-space:pre;overflow-x:auto;line-height:normal;font-family:Menlo,'DejaVu Sans Mono',consolas,'Courier New',monospace\"><span style=\"color: #008000; text-decoration-color: #008000; font-weight: bold\">🤖 Agent: </span><span style=\"color: #008000; text-decoration-color: #008000\">Influencer researcher</span>\n",
       "<span style=\"color: #c0c0c0; text-decoration-color: #c0c0c0\">    Status: </span><span style=\"color: #008000; text-decoration-color: #008000; font-weight: bold\">In Progress</span>\n",
       "└── <span style=\"color: #000080; text-decoration-color: #000080; font-weight: bold\">🧠 </span><span style=\"color: #000080; text-decoration-color: #000080\">Thinking...</span>\n",
       "</pre>\n"
      ],
      "text/plain": [
       "\u001b[1;32m🤖 Agent: \u001b[0m\u001b[32mInfluencer researcher\u001b[0m\n",
       "\u001b[37m    Status: \u001b[0m\u001b[1;32mIn Progress\u001b[0m\n",
       "└── \u001b[1;34m🧠 \u001b[0m\u001b[34mThinking...\u001b[0m\n"
      ]
     },
     "metadata": {},
     "output_type": "display_data"
    },
    {
     "data": {
      "text/html": [
       "<pre style=\"white-space:pre;overflow-x:auto;line-height:normal;font-family:Menlo,'DejaVu Sans Mono',consolas,'Courier New',monospace\">\n",
       "</pre>\n"
      ],
      "text/plain": [
       "\n"
      ]
     },
     "metadata": {},
     "output_type": "display_data"
    },
    {
     "data": {
      "text/html": [
       "<pre style=\"white-space:pre;overflow-x:auto;line-height:normal;font-family:Menlo,'DejaVu Sans Mono',consolas,'Courier New',monospace\"><span style=\"color: #008000; text-decoration-color: #008000; font-weight: bold\">🤖 Agent: </span><span style=\"color: #008000; text-decoration-color: #008000\">Influencer researcher</span>\n",
       "<span style=\"color: #c0c0c0; text-decoration-color: #c0c0c0\">    Status: </span><span style=\"color: #008000; text-decoration-color: #008000; font-weight: bold\">In Progress</span>\n",
       "</pre>\n"
      ],
      "text/plain": [
       "\u001b[1;32m🤖 Agent: \u001b[0m\u001b[32mInfluencer researcher\u001b[0m\n",
       "\u001b[37m    Status: \u001b[0m\u001b[1;32mIn Progress\u001b[0m\n"
      ]
     },
     "metadata": {},
     "output_type": "display_data"
    },
    {
     "data": {
      "text/html": [
       "<pre style=\"white-space:pre;overflow-x:auto;line-height:normal;font-family:Menlo,'DejaVu Sans Mono',consolas,'Courier New',monospace\">\n",
       "</pre>\n"
      ],
      "text/plain": [
       "\n"
      ]
     },
     "metadata": {},
     "output_type": "display_data"
    },
    {
     "name": "stdout",
     "output_type": "stream",
     "text": [
      "\n",
      "\n",
      "\u001b[1m\u001b[95m# Agent:\u001b[00m \u001b[1m\u001b[92mInfluencer researcher\u001b[00m\n",
      "\u001b[95m## Final Answer:\u001b[00m \u001b[92m\n",
      "Research Report on Theo - t3․gg YouTube Channel\n",
      "\n",
      "1. Channel Focus and Content Type:\n",
      "   - Theo - t3․gg is a YouTube channel primarily focused on software development, with a strong emphasis on full stack TypeScript. The channel provides a mix of insights, opinions, and discussions related to software development, industry trends, technology comparisons, and career advice.\n",
      "\n",
      "2. Subscriber Count and Engagement:\n",
      "   - The channel has approximately 420,000 to 425,000 subscribers, indicating a significant following. The channel's content has accumulated over 67 million views, reflecting high engagement and interest from the audience.\n",
      "\n",
      "3. Most Popular Videos and Their Topics:\n",
      "   - \"PirateSoftware is right, this needs to stop\": A video discussing industry practices and how they impact developers.\n",
      "   - \"The REAL Cost Of AWS (And How To Avoid It)\": A detailed look into AWS costs and strategies to minimize them.\n",
      "   - \"From 0 to Production - The Modern React Tutorial (RSCs, ...\": A comprehensive tutorial on using modern React features for production.\n",
      "   - \"If YouTube Devs Were Honest (featuring Theo @t3dotgg)\": A humorous take on the realities of YouTube development.\n",
      "   - \"The Coolest Thing I Ever Built\": An exploration of a personal project, showcasing development skills and innovation.\n",
      "   - \"Flip with Theo t3dotgg - TypeScript Type Challenges #4179 [MEDIUM]\": A video tackling TypeScript challenges, aimed at intermediate developers.\n",
      "   - \"T3 Stack Tutorial - FROM 0 TO PROD FOR $0 (Next.js, ...\": A tutorial on building a production-ready stack using Next.js.\n",
      "\n",
      "4. Audience Analysis:\n",
      "   - The audience mainly consists of software developers and tech enthusiasts interested in TypeScript, AWS, and modern web development practices. The channel's focus on practical tutorials and industry insights attracts viewers looking to enhance their skills and stay updated with current trends.\n",
      "\n",
      "5. Audience Alignment with Zero to Mastery:\n",
      "   - Given the channel's focus on quality education and career-focused learning in software development, particularly with up-to-date tech stacks like TypeScript, there is a strong alignment with Zero to Mastery's values of providing quality education, fostering community-driven growth, and focusing on career advancement in tech.\n",
      "\n",
      "Overall, Theo - t3․gg appears to be a suitable candidate for partnership with Zero to Mastery, given its alignment with the core values and audience interests of the platform.\u001b[00m\n",
      "\n",
      "\n"
     ]
    },
    {
     "data": {
      "text/html": [
       "<pre style=\"white-space:pre;overflow-x:auto;line-height:normal;font-family:Menlo,'DejaVu Sans Mono',consolas,'Courier New',monospace\"><span style=\"color: #008080; text-decoration-color: #008080; font-weight: bold\">🚀 Crew: crew</span>\n",
       "├── <span style=\"color: #008000; text-decoration-color: #008000; font-weight: bold\">📋 Task: bc310c8d-7b8e-4eff-bb97-45293c90bb01</span>\n",
       "│   <span style=\"color: #c0c0c0; text-decoration-color: #c0c0c0\">   Assigned to: </span><span style=\"color: #008000; text-decoration-color: #008000\">Influencer researcher</span>\n",
       "│   <span style=\"color: #c0c0c0; text-decoration-color: #c0c0c0\">   Status: </span><span style=\"color: #008000; text-decoration-color: #008000; font-weight: bold\">✅ Completed</span>\n",
       "│   └── <span style=\"color: #008000; text-decoration-color: #008000; font-weight: bold\">🤖 Agent: </span><span style=\"color: #008000; text-decoration-color: #008000\">Influencer researcher</span>\n",
       "│       <span style=\"color: #c0c0c0; text-decoration-color: #c0c0c0\">    Status: </span><span style=\"color: #008000; text-decoration-color: #008000; font-weight: bold\">✅ Completed</span>\n",
       "└── <span style=\"color: #808000; text-decoration-color: #808000; font-weight: bold\">📋 Task: c3176c03-86e8-4ffc-bdea-34007b4b0855</span>\n",
       "    <span style=\"color: #c0c0c0; text-decoration-color: #c0c0c0\">   Status: </span><span style=\"color: #bfbf7f; text-decoration-color: #bfbf7f\">Executing Task...</span>\n",
       "    └── <span style=\"color: #008000; text-decoration-color: #008000; font-weight: bold\">🤖 Agent: </span><span style=\"color: #008000; text-decoration-color: #008000\">Influencer researcher</span>\n",
       "        <span style=\"color: #c0c0c0; text-decoration-color: #c0c0c0\">    Status: </span><span style=\"color: #008000; text-decoration-color: #008000; font-weight: bold\">✅ Completed</span>\n",
       "</pre>\n"
      ],
      "text/plain": [
       "\u001b[1;36m🚀 Crew: \u001b[0m\u001b[1;36mcrew\u001b[0m\n",
       "├── \u001b[1;32m📋 Task: bc310c8d-7b8e-4eff-bb97-45293c90bb01\u001b[0m\n",
       "│   \u001b[37m   Assigned to: \u001b[0m\u001b[32mInfluencer researcher\u001b[0m\n",
       "│   \u001b[37m   Status: \u001b[0m\u001b[1;32m✅ Completed\u001b[0m\n",
       "│   └── \u001b[1;32m🤖 Agent: \u001b[0m\u001b[32mInfluencer researcher\u001b[0m\n",
       "│       \u001b[37m    Status: \u001b[0m\u001b[1;32m✅ Completed\u001b[0m\n",
       "└── \u001b[1;33m📋 Task: c3176c03-86e8-4ffc-bdea-34007b4b0855\u001b[0m\n",
       "    \u001b[37m   Status: \u001b[0m\u001b[2;33mExecuting Task...\u001b[0m\n",
       "    └── \u001b[1;32m🤖 Agent: \u001b[0m\u001b[32mInfluencer researcher\u001b[0m\n",
       "        \u001b[37m    Status: \u001b[0m\u001b[1;32m✅ Completed\u001b[0m\n"
      ]
     },
     "metadata": {},
     "output_type": "display_data"
    },
    {
     "data": {
      "text/html": [
       "<pre style=\"white-space:pre;overflow-x:auto;line-height:normal;font-family:Menlo,'DejaVu Sans Mono',consolas,'Courier New',monospace\">\n",
       "</pre>\n"
      ],
      "text/plain": [
       "\n"
      ]
     },
     "metadata": {},
     "output_type": "display_data"
    },
    {
     "data": {
      "text/html": [
       "<pre style=\"white-space:pre;overflow-x:auto;line-height:normal;font-family:Menlo,'DejaVu Sans Mono',consolas,'Courier New',monospace\"><span style=\"color: #008080; text-decoration-color: #008080; font-weight: bold\">🚀 Crew: crew</span>\n",
       "├── <span style=\"color: #008000; text-decoration-color: #008000; font-weight: bold\">📋 Task: bc310c8d-7b8e-4eff-bb97-45293c90bb01</span>\n",
       "│   <span style=\"color: #c0c0c0; text-decoration-color: #c0c0c0\">   Assigned to: </span><span style=\"color: #008000; text-decoration-color: #008000\">Influencer researcher</span>\n",
       "│   <span style=\"color: #c0c0c0; text-decoration-color: #c0c0c0\">   Status: </span><span style=\"color: #008000; text-decoration-color: #008000; font-weight: bold\">✅ Completed</span>\n",
       "│   └── <span style=\"color: #008000; text-decoration-color: #008000; font-weight: bold\">🤖 Agent: </span><span style=\"color: #008000; text-decoration-color: #008000\">Influencer researcher</span>\n",
       "│       <span style=\"color: #c0c0c0; text-decoration-color: #c0c0c0\">    Status: </span><span style=\"color: #008000; text-decoration-color: #008000; font-weight: bold\">✅ Completed</span>\n",
       "└── <span style=\"color: #008000; text-decoration-color: #008000; font-weight: bold\">📋 Task: c3176c03-86e8-4ffc-bdea-34007b4b0855</span>\n",
       "    <span style=\"color: #c0c0c0; text-decoration-color: #c0c0c0\">   Assigned to: </span><span style=\"color: #008000; text-decoration-color: #008000\">Influencer researcher</span>\n",
       "    <span style=\"color: #c0c0c0; text-decoration-color: #c0c0c0\">   Status: </span><span style=\"color: #008000; text-decoration-color: #008000; font-weight: bold\">✅ Completed</span>\n",
       "    └── <span style=\"color: #008000; text-decoration-color: #008000; font-weight: bold\">🤖 Agent: </span><span style=\"color: #008000; text-decoration-color: #008000\">Influencer researcher</span>\n",
       "        <span style=\"color: #c0c0c0; text-decoration-color: #c0c0c0\">    Status: </span><span style=\"color: #008000; text-decoration-color: #008000; font-weight: bold\">✅ Completed</span>\n",
       "</pre>\n"
      ],
      "text/plain": [
       "\u001b[1;36m🚀 Crew: \u001b[0m\u001b[1;36mcrew\u001b[0m\n",
       "├── \u001b[1;32m📋 Task: bc310c8d-7b8e-4eff-bb97-45293c90bb01\u001b[0m\n",
       "│   \u001b[37m   Assigned to: \u001b[0m\u001b[32mInfluencer researcher\u001b[0m\n",
       "│   \u001b[37m   Status: \u001b[0m\u001b[1;32m✅ Completed\u001b[0m\n",
       "│   └── \u001b[1;32m🤖 Agent: \u001b[0m\u001b[32mInfluencer researcher\u001b[0m\n",
       "│       \u001b[37m    Status: \u001b[0m\u001b[1;32m✅ Completed\u001b[0m\n",
       "└── \u001b[1;32m📋 Task: c3176c03-86e8-4ffc-bdea-34007b4b0855\u001b[0m\n",
       "    \u001b[37m   Assigned to: \u001b[0m\u001b[32mInfluencer researcher\u001b[0m\n",
       "    \u001b[37m   Status: \u001b[0m\u001b[1;32m✅ Completed\u001b[0m\n",
       "    └── \u001b[1;32m🤖 Agent: \u001b[0m\u001b[32mInfluencer researcher\u001b[0m\n",
       "        \u001b[37m    Status: \u001b[0m\u001b[1;32m✅ Completed\u001b[0m\n"
      ]
     },
     "metadata": {},
     "output_type": "display_data"
    },
    {
     "data": {
      "text/html": [
       "<pre style=\"white-space:pre;overflow-x:auto;line-height:normal;font-family:Menlo,'DejaVu Sans Mono',consolas,'Courier New',monospace\"><span style=\"color: #008000; text-decoration-color: #008000\">╭──────────────────────────────────────────────── Task Completion ────────────────────────────────────────────────╮</span>\n",
       "<span style=\"color: #008000; text-decoration-color: #008000\">│</span>                                                                                                                 <span style=\"color: #008000; text-decoration-color: #008000\">│</span>\n",
       "<span style=\"color: #008000; text-decoration-color: #008000\">│</span>  <span style=\"color: #008000; text-decoration-color: #008000; font-weight: bold\">Task Completed</span>                                                                                                 <span style=\"color: #008000; text-decoration-color: #008000\">│</span>\n",
       "<span style=\"color: #008000; text-decoration-color: #008000\">│</span>  <span style=\"color: #c0c0c0; text-decoration-color: #c0c0c0\">Name: </span><span style=\"color: #008000; text-decoration-color: #008000\">c3176c03-86e8-4ffc-bdea-34007b4b0855</span>                                                                     <span style=\"color: #008000; text-decoration-color: #008000\">│</span>\n",
       "<span style=\"color: #008000; text-decoration-color: #008000\">│</span>  <span style=\"color: #c0c0c0; text-decoration-color: #c0c0c0\">Agent: </span><span style=\"color: #008000; text-decoration-color: #008000\">Influencer researcher</span>                                                                                   <span style=\"color: #008000; text-decoration-color: #008000\">│</span>\n",
       "<span style=\"color: #008000; text-decoration-color: #008000\">│</span>                                                                                                                 <span style=\"color: #008000; text-decoration-color: #008000\">│</span>\n",
       "<span style=\"color: #008000; text-decoration-color: #008000\">│</span>                                                                                                                 <span style=\"color: #008000; text-decoration-color: #008000\">│</span>\n",
       "<span style=\"color: #008000; text-decoration-color: #008000\">╰─────────────────────────────────────────────────────────────────────────────────────────────────────────────────╯</span>\n",
       "</pre>\n"
      ],
      "text/plain": [
       "\u001b[32m╭─\u001b[0m\u001b[32m───────────────────────────────────────────────\u001b[0m\u001b[32m Task Completion \u001b[0m\u001b[32m───────────────────────────────────────────────\u001b[0m\u001b[32m─╮\u001b[0m\n",
       "\u001b[32m│\u001b[0m                                                                                                                 \u001b[32m│\u001b[0m\n",
       "\u001b[32m│\u001b[0m  \u001b[1;32mTask Completed\u001b[0m                                                                                                 \u001b[32m│\u001b[0m\n",
       "\u001b[32m│\u001b[0m  \u001b[37mName: \u001b[0m\u001b[32mc3176c03-86e8-4ffc-bdea-34007b4b0855\u001b[0m                                                                     \u001b[32m│\u001b[0m\n",
       "\u001b[32m│\u001b[0m  \u001b[37mAgent: \u001b[0m\u001b[32mInfluencer researcher\u001b[0m                                                                                   \u001b[32m│\u001b[0m\n",
       "\u001b[32m│\u001b[0m                                                                                                                 \u001b[32m│\u001b[0m\n",
       "\u001b[32m│\u001b[0m                                                                                                                 \u001b[32m│\u001b[0m\n",
       "\u001b[32m╰─────────────────────────────────────────────────────────────────────────────────────────────────────────────────╯\u001b[0m\n"
      ]
     },
     "metadata": {},
     "output_type": "display_data"
    },
    {
     "data": {
      "text/html": [
       "<pre style=\"white-space:pre;overflow-x:auto;line-height:normal;font-family:Menlo,'DejaVu Sans Mono',consolas,'Courier New',monospace\">\n",
       "</pre>\n"
      ],
      "text/plain": [
       "\n"
      ]
     },
     "metadata": {},
     "output_type": "display_data"
    },
    {
     "data": {
      "text/html": [
       "<pre style=\"white-space:pre;overflow-x:auto;line-height:normal;font-family:Menlo,'DejaVu Sans Mono',consolas,'Courier New',monospace\"><span style=\"color: #008080; text-decoration-color: #008080; font-weight: bold\">🚀 Crew: crew</span>\n",
       "├── <span style=\"color: #008000; text-decoration-color: #008000; font-weight: bold\">📋 Task: bc310c8d-7b8e-4eff-bb97-45293c90bb01</span>\n",
       "│   <span style=\"color: #c0c0c0; text-decoration-color: #c0c0c0\">   Assigned to: </span><span style=\"color: #008000; text-decoration-color: #008000\">Influencer researcher</span>\n",
       "│   <span style=\"color: #c0c0c0; text-decoration-color: #c0c0c0\">   Status: </span><span style=\"color: #008000; text-decoration-color: #008000; font-weight: bold\">✅ Completed</span>\n",
       "│   └── <span style=\"color: #008000; text-decoration-color: #008000; font-weight: bold\">🤖 Agent: </span><span style=\"color: #008000; text-decoration-color: #008000\">Influencer researcher</span>\n",
       "│       <span style=\"color: #c0c0c0; text-decoration-color: #c0c0c0\">    Status: </span><span style=\"color: #008000; text-decoration-color: #008000; font-weight: bold\">✅ Completed</span>\n",
       "├── <span style=\"color: #008000; text-decoration-color: #008000; font-weight: bold\">📋 Task: c3176c03-86e8-4ffc-bdea-34007b4b0855</span>\n",
       "│   <span style=\"color: #c0c0c0; text-decoration-color: #c0c0c0\">   Assigned to: </span><span style=\"color: #008000; text-decoration-color: #008000\">Influencer researcher</span>\n",
       "│   <span style=\"color: #c0c0c0; text-decoration-color: #c0c0c0\">   Status: </span><span style=\"color: #008000; text-decoration-color: #008000; font-weight: bold\">✅ Completed</span>\n",
       "│   └── <span style=\"color: #008000; text-decoration-color: #008000; font-weight: bold\">🤖 Agent: </span><span style=\"color: #008000; text-decoration-color: #008000\">Influencer researcher</span>\n",
       "│       <span style=\"color: #c0c0c0; text-decoration-color: #c0c0c0\">    Status: </span><span style=\"color: #008000; text-decoration-color: #008000; font-weight: bold\">✅ Completed</span>\n",
       "└── <span style=\"color: #808000; text-decoration-color: #808000; font-weight: bold\">📋 Task: 1fc08a19-797e-4e8a-80f3-a64a5f2fa537</span>\n",
       "    <span style=\"color: #c0c0c0; text-decoration-color: #c0c0c0\">   Status: </span><span style=\"color: #bfbf7f; text-decoration-color: #bfbf7f\">Executing Task...</span>\n",
       "</pre>\n"
      ],
      "text/plain": [
       "\u001b[1;36m🚀 Crew: \u001b[0m\u001b[1;36mcrew\u001b[0m\n",
       "├── \u001b[1;32m📋 Task: bc310c8d-7b8e-4eff-bb97-45293c90bb01\u001b[0m\n",
       "│   \u001b[37m   Assigned to: \u001b[0m\u001b[32mInfluencer researcher\u001b[0m\n",
       "│   \u001b[37m   Status: \u001b[0m\u001b[1;32m✅ Completed\u001b[0m\n",
       "│   └── \u001b[1;32m🤖 Agent: \u001b[0m\u001b[32mInfluencer researcher\u001b[0m\n",
       "│       \u001b[37m    Status: \u001b[0m\u001b[1;32m✅ Completed\u001b[0m\n",
       "├── \u001b[1;32m📋 Task: c3176c03-86e8-4ffc-bdea-34007b4b0855\u001b[0m\n",
       "│   \u001b[37m   Assigned to: \u001b[0m\u001b[32mInfluencer researcher\u001b[0m\n",
       "│   \u001b[37m   Status: \u001b[0m\u001b[1;32m✅ Completed\u001b[0m\n",
       "│   └── \u001b[1;32m🤖 Agent: \u001b[0m\u001b[32mInfluencer researcher\u001b[0m\n",
       "│       \u001b[37m    Status: \u001b[0m\u001b[1;32m✅ Completed\u001b[0m\n",
       "└── \u001b[1;33m📋 Task: 1fc08a19-797e-4e8a-80f3-a64a5f2fa537\u001b[0m\n",
       "    \u001b[37m   Status: \u001b[0m\u001b[2;33mExecuting Task...\u001b[0m\n"
      ]
     },
     "metadata": {},
     "output_type": "display_data"
    },
    {
     "data": {
      "text/html": [
       "<pre style=\"white-space:pre;overflow-x:auto;line-height:normal;font-family:Menlo,'DejaVu Sans Mono',consolas,'Courier New',monospace\">\n",
       "</pre>\n"
      ],
      "text/plain": [
       "\n"
      ]
     },
     "metadata": {},
     "output_type": "display_data"
    },
    {
     "data": {
      "text/html": [
       "<pre style=\"white-space:pre;overflow-x:auto;line-height:normal;font-family:Menlo,'DejaVu Sans Mono',consolas,'Courier New',monospace\"><span style=\"color: #008080; text-decoration-color: #008080; font-weight: bold\">🚀 Crew: crew</span>\n",
       "├── <span style=\"color: #008000; text-decoration-color: #008000; font-weight: bold\">📋 Task: bc310c8d-7b8e-4eff-bb97-45293c90bb01</span>\n",
       "│   <span style=\"color: #c0c0c0; text-decoration-color: #c0c0c0\">   Assigned to: </span><span style=\"color: #008000; text-decoration-color: #008000\">Influencer researcher</span>\n",
       "│   <span style=\"color: #c0c0c0; text-decoration-color: #c0c0c0\">   Status: </span><span style=\"color: #008000; text-decoration-color: #008000; font-weight: bold\">✅ Completed</span>\n",
       "│   └── <span style=\"color: #008000; text-decoration-color: #008000; font-weight: bold\">🤖 Agent: </span><span style=\"color: #008000; text-decoration-color: #008000\">Influencer researcher</span>\n",
       "│       <span style=\"color: #c0c0c0; text-decoration-color: #c0c0c0\">    Status: </span><span style=\"color: #008000; text-decoration-color: #008000; font-weight: bold\">✅ Completed</span>\n",
       "├── <span style=\"color: #008000; text-decoration-color: #008000; font-weight: bold\">📋 Task: c3176c03-86e8-4ffc-bdea-34007b4b0855</span>\n",
       "│   <span style=\"color: #c0c0c0; text-decoration-color: #c0c0c0\">   Assigned to: </span><span style=\"color: #008000; text-decoration-color: #008000\">Influencer researcher</span>\n",
       "│   <span style=\"color: #c0c0c0; text-decoration-color: #c0c0c0\">   Status: </span><span style=\"color: #008000; text-decoration-color: #008000; font-weight: bold\">✅ Completed</span>\n",
       "│   └── <span style=\"color: #008000; text-decoration-color: #008000; font-weight: bold\">🤖 Agent: </span><span style=\"color: #008000; text-decoration-color: #008000\">Influencer researcher</span>\n",
       "│       <span style=\"color: #c0c0c0; text-decoration-color: #c0c0c0\">    Status: </span><span style=\"color: #008000; text-decoration-color: #008000; font-weight: bold\">✅ Completed</span>\n",
       "└── <span style=\"color: #808000; text-decoration-color: #808000; font-weight: bold\">📋 Task: 1fc08a19-797e-4e8a-80f3-a64a5f2fa537</span>\n",
       "    <span style=\"color: #c0c0c0; text-decoration-color: #c0c0c0\">   Status: </span><span style=\"color: #bfbf7f; text-decoration-color: #bfbf7f\">Executing Task...</span>\n",
       "    └── <span style=\"color: #008000; text-decoration-color: #008000; font-weight: bold\">🤖 Agent: </span><span style=\"color: #008000; text-decoration-color: #008000\">Influencer researcher</span>\n",
       "        <span style=\"color: #c0c0c0; text-decoration-color: #c0c0c0\">    Status: </span><span style=\"color: #008000; text-decoration-color: #008000; font-weight: bold\">In Progress</span>\n",
       "</pre>\n"
      ],
      "text/plain": [
       "\u001b[1;36m🚀 Crew: \u001b[0m\u001b[1;36mcrew\u001b[0m\n",
       "├── \u001b[1;32m📋 Task: bc310c8d-7b8e-4eff-bb97-45293c90bb01\u001b[0m\n",
       "│   \u001b[37m   Assigned to: \u001b[0m\u001b[32mInfluencer researcher\u001b[0m\n",
       "│   \u001b[37m   Status: \u001b[0m\u001b[1;32m✅ Completed\u001b[0m\n",
       "│   └── \u001b[1;32m🤖 Agent: \u001b[0m\u001b[32mInfluencer researcher\u001b[0m\n",
       "│       \u001b[37m    Status: \u001b[0m\u001b[1;32m✅ Completed\u001b[0m\n",
       "├── \u001b[1;32m📋 Task: c3176c03-86e8-4ffc-bdea-34007b4b0855\u001b[0m\n",
       "│   \u001b[37m   Assigned to: \u001b[0m\u001b[32mInfluencer researcher\u001b[0m\n",
       "│   \u001b[37m   Status: \u001b[0m\u001b[1;32m✅ Completed\u001b[0m\n",
       "│   └── \u001b[1;32m🤖 Agent: \u001b[0m\u001b[32mInfluencer researcher\u001b[0m\n",
       "│       \u001b[37m    Status: \u001b[0m\u001b[1;32m✅ Completed\u001b[0m\n",
       "└── \u001b[1;33m📋 Task: 1fc08a19-797e-4e8a-80f3-a64a5f2fa537\u001b[0m\n",
       "    \u001b[37m   Status: \u001b[0m\u001b[2;33mExecuting Task...\u001b[0m\n",
       "    └── \u001b[1;32m🤖 Agent: \u001b[0m\u001b[32mInfluencer researcher\u001b[0m\n",
       "        \u001b[37m    Status: \u001b[0m\u001b[1;32mIn Progress\u001b[0m\n"
      ]
     },
     "metadata": {},
     "output_type": "display_data"
    },
    {
     "data": {
      "text/html": [
       "<pre style=\"white-space:pre;overflow-x:auto;line-height:normal;font-family:Menlo,'DejaVu Sans Mono',consolas,'Courier New',monospace\">\n",
       "</pre>\n"
      ],
      "text/plain": [
       "\n"
      ]
     },
     "metadata": {},
     "output_type": "display_data"
    },
    {
     "name": "stdout",
     "output_type": "stream",
     "text": [
      "\u001b[1m\u001b[95m# Agent:\u001b[00m \u001b[1m\u001b[92mInfluencer researcher\u001b[00m\n",
      "\u001b[95m## Task:\u001b[00m \u001b[92m\n",
      "    Conduct a sentiment analysis via Google Search on the channel Theo - t3․gg at https://www.youtube.com/@t3dotgg.\n",
      "    Look for user feedbacks, reviews, or discussions that indicate general sentiment.\n",
      "    Search for instance on reddit.\u001b[00m\n"
     ]
    },
    {
     "data": {
      "text/html": [
       "<pre style=\"white-space:pre;overflow-x:auto;line-height:normal;font-family:Menlo,'DejaVu Sans Mono',consolas,'Courier New',monospace\"><span style=\"color: #008000; text-decoration-color: #008000; font-weight: bold\">🤖 Agent: </span><span style=\"color: #008000; text-decoration-color: #008000\">Influencer researcher</span>\n",
       "<span style=\"color: #c0c0c0; text-decoration-color: #c0c0c0\">    Status: </span><span style=\"color: #008000; text-decoration-color: #008000; font-weight: bold\">In Progress</span>\n",
       "</pre>\n"
      ],
      "text/plain": [
       "\u001b[1;32m🤖 Agent: \u001b[0m\u001b[32mInfluencer researcher\u001b[0m\n",
       "\u001b[37m    Status: \u001b[0m\u001b[1;32mIn Progress\u001b[0m\n"
      ]
     },
     "metadata": {},
     "output_type": "display_data"
    },
    {
     "data": {
      "text/html": [
       "<pre style=\"white-space:pre;overflow-x:auto;line-height:normal;font-family:Menlo,'DejaVu Sans Mono',consolas,'Courier New',monospace\">\n",
       "</pre>\n"
      ],
      "text/plain": [
       "\n"
      ]
     },
     "metadata": {},
     "output_type": "display_data"
    },
    {
     "name": "stdout",
     "output_type": "stream",
     "text": [
      "\n",
      "\n",
      "\u001b[1m\u001b[95m# Agent:\u001b[00m \u001b[1m\u001b[92mInfluencer researcher\u001b[00m\n",
      "\u001b[95m## Thought:\u001b[00m \u001b[92mThought: To conduct a sentiment analysis on Theo - t3․gg's YouTube channel, I need to search for user feedback, reviews, or discussions about the channel on platforms like Reddit.\u001b[00m\n",
      "\u001b[95m## Using tool:\u001b[00m \u001b[92mSearch the internet with Serper\u001b[00m\n",
      "\u001b[95m## Tool Input:\u001b[00m \u001b[92m\n",
      "\"{\\\"search_query\\\": \\\"Theo t3.gg YouTube channel reviews site:reddit.com\\\"}\"\u001b[00m\n",
      "\u001b[95m## Tool Output:\u001b[00m \u001b[92m\n",
      "{'searchParameters': {'q': 'Theo t3.gg YouTube channel reviews site:reddit.com', 'type': 'search', 'num': 10, 'engine': 'google'}, 'organic': [{'title': 'The Theo Problem : r/webdev', 'link': 'https://www.reddit.com/r/webdev/comments/17bi852/the_theo_problem/', 'snippet': 'Currently I feel that Theo still struggles with communication which makes occasionally makes his content kind of hard to take in. I also feel he ...', 'position': 1}, {'title': \"Dev influencers who say they're honest: I don't believe it.\", 'link': 'https://www.reddit.com/r/webdev/comments/17pw3am/dev_influencers_who_say_theyre_honest_i_dont/', 'snippet': \"I loved Theo's style of videos. He was one of the only genuine „tech influencers“ that made engaging content for mid - and senior engineers.\", 'position': 2}, {'title': 'I think Theo has made some mistakes in his rails demo', 'link': 'https://www.reddit.com/r/rails/comments/1gsosdy/i_think_theo_has_made_some_mistakes_in_his_rails/', 'snippet': \"This guy is trying to hard to be an “influencer”, he's more often then not clueless and majority of his content is paid for by something he's ...\", 'position': 3}, {'title': 'What YouTubers should I subscribe to to learn front end ...', 'link': 'https://www.reddit.com/r/Frontend/comments/179ka8r/what_youtubers_should_i_subscribe_to_to_learn/', 'snippet': '\"theo - t3.gg\", \"Josh tried coding\" and \"Fireship\" are good for beginners. And if you want to get demotivated quickly, but hear a lot of ...', 'position': 4}, {'title': 'Your favorite youtube channels for React videos/tutorials?', 'link': 'https://www.reddit.com/r/reactjs/comments/16zvw20/your_favorite_youtube_channels_for_react/', 'snippet': \"Overall, I'd say Theo's strength is definitely more as an entertainer that can teach you something ocassionally than a mentor.\", 'position': 5, 'sitelinks': [{'title': '38 answers', 'link': 'https://www.reddit.com/r/reactjs/comments/16zvw20/your_favorite_youtube_channels_for_react/k3hlks9/'}]}, {'title': 'Discussion: What is the Best Programming YouTuber?', 'link': 'https://www.reddit.com/r/learnprogramming/comments/w4z5wn/discussion_what_is_the_best_programming_youtuber/', 'snippet': 'I 100% came to recommend the coding train as well, such an entertaining guy that seems like he genuinely loves coding and he goes into so ...', 'position': 6, 'sitelinks': [{'title': '207 answers', 'link': 'https://www.reddit.com/r/learnprogramming/comments/w4z5wn/discussion_what_is_the_best_programming_youtuber/ih5jbjr/'}]}, {'title': 'A Mountain of Lies And No Self-Awareness: Exposing ...', 'link': 'https://www.reddit.com/r/DarkViperAU/comments/1bmkkj9/a_mountain_of_lies_and_no_selfawareness_exposing/', 'snippet': 'On the latest drama: as someone in the web development space, Theo already had the reputation of a clickbaity content farm. Dev influencers who ...', 'position': 7}, {'title': 'What (tech)YouTubers are you following and why?', 'link': 'https://www.reddit.com/r/developersIndia/comments/11c65nj/what_techyoutubers_are_you_following_and_why/', 'snippet': \"Theo: Don't agree with a lot of things he says but find his streams informative. Primeagen: Entertaining, basically Dr.DisRespect of programming.\", 'position': 8, 'sitelinks': [{'title': '100 answers', 'link': 'https://www.reddit.com/r/developersIndia/comments/11c65nj/what_techyoutubers_are_you_following_and_why/ja212al/'}]}, {'title': \"Why Theo is wrong & we'll get a Laravel for JavaScript\", 'link': 'https://www.reddit.com/r/javascript/comments/1d3d98w/why_theo_is_wrong_well_get_a_laravel_for/', 'snippet': \"Which I thought was a pretty bad ratio until YouTube started recommending me Theo videos. That guy's 1000 times worse than Prime.\", 'position': 9}, {'title': 'Are there any good UX youtube channels for more senior ...', 'link': 'https://www.reddit.com/r/UXDesign/comments/1j9nujh/are_there_any_good_ux_youtube_channels_for_more/', 'snippet': \"I've been enjoying Theo-T3.gg's channel for changes to the react/AI landscape, but was wondering if there was any good UX analog to this?\", 'position': 10, 'sitelinks': [{'title': '13 answers', 'link': 'https://www.reddit.com/r/UXDesign/comments/1j9nujh/are_there_any_good_ux_youtube_channels_for_more/mhfmlco/'}]}], 'credits': 1}\u001b[00m\n"
     ]
    },
    {
     "data": {
      "text/html": [
       "<pre style=\"white-space:pre;overflow-x:auto;line-height:normal;font-family:Menlo,'DejaVu Sans Mono',consolas,'Courier New',monospace\"><span style=\"color: #008000; text-decoration-color: #008000; font-weight: bold\">🤖 Agent: </span><span style=\"color: #008000; text-decoration-color: #008000\">Influencer researcher</span>\n",
       "<span style=\"color: #c0c0c0; text-decoration-color: #c0c0c0\">    Status: </span><span style=\"color: #008000; text-decoration-color: #008000; font-weight: bold\">In Progress</span>\n",
       "└── <span style=\"color: #000080; text-decoration-color: #000080; font-weight: bold\">🧠 </span><span style=\"color: #000080; text-decoration-color: #000080\">Thinking...</span>\n",
       "</pre>\n"
      ],
      "text/plain": [
       "\u001b[1;32m🤖 Agent: \u001b[0m\u001b[32mInfluencer researcher\u001b[0m\n",
       "\u001b[37m    Status: \u001b[0m\u001b[1;32mIn Progress\u001b[0m\n",
       "└── \u001b[1;34m🧠 \u001b[0m\u001b[34mThinking...\u001b[0m\n"
      ]
     },
     "metadata": {},
     "output_type": "display_data"
    },
    {
     "data": {
      "text/html": [
       "<pre style=\"white-space:pre;overflow-x:auto;line-height:normal;font-family:Menlo,'DejaVu Sans Mono',consolas,'Courier New',monospace\">\n",
       "</pre>\n"
      ],
      "text/plain": [
       "\n"
      ]
     },
     "metadata": {},
     "output_type": "display_data"
    },
    {
     "data": {
      "text/html": [
       "<pre style=\"white-space:pre;overflow-x:auto;line-height:normal;font-family:Menlo,'DejaVu Sans Mono',consolas,'Courier New',monospace\"><span style=\"color: #008000; text-decoration-color: #008000; font-weight: bold\">🤖 Agent: </span><span style=\"color: #008000; text-decoration-color: #008000\">Influencer researcher</span>\n",
       "<span style=\"color: #c0c0c0; text-decoration-color: #c0c0c0\">    Status: </span><span style=\"color: #008000; text-decoration-color: #008000; font-weight: bold\">In Progress</span>\n",
       "</pre>\n"
      ],
      "text/plain": [
       "\u001b[1;32m🤖 Agent: \u001b[0m\u001b[32mInfluencer researcher\u001b[0m\n",
       "\u001b[37m    Status: \u001b[0m\u001b[1;32mIn Progress\u001b[0m\n"
      ]
     },
     "metadata": {},
     "output_type": "display_data"
    },
    {
     "data": {
      "text/html": [
       "<pre style=\"white-space:pre;overflow-x:auto;line-height:normal;font-family:Menlo,'DejaVu Sans Mono',consolas,'Courier New',monospace\">\n",
       "</pre>\n"
      ],
      "text/plain": [
       "\n"
      ]
     },
     "metadata": {},
     "output_type": "display_data"
    },
    {
     "name": "stdout",
     "output_type": "stream",
     "text": [
      "\n",
      "\n",
      "\u001b[1m\u001b[95m# Agent:\u001b[00m \u001b[1m\u001b[92mInfluencer researcher\u001b[00m\n",
      "\u001b[95m## Final Answer:\u001b[00m \u001b[92m\n",
      "1. **The Theo Problem : r/webdev**: Some users feel that Theo struggles with communication, making his content occasionally hard to take in. [Reddit Link](https://www.reddit.com/r/webdev/comments/17bi852/the_theo_problem/)\n",
      "\n",
      "2. **Dev influencers who say they're honest: I don't believe it.**: Theo's style of videos is appreciated for being genuine and engaging, especially for mid and senior engineers. [Reddit Link](https://www.reddit.com/r/webdev/comments/17pw3am/dev_influencers_who_say_theyre_honest_i_dont/)\n",
      "\n",
      "3. **I think Theo has made some mistakes in his rails demo**: Some criticism is noted, with a user claiming Theo tries too hard to be an influencer and that some of his content is paid. [Reddit Link](https://www.reddit.com/r/rails/comments/1gsosdy/i_think_theo_has_made_some_mistakes_in_his_rails/)\n",
      "\n",
      "4. **What YouTubers should I subscribe to to learn front end ...**: Theo is recommended alongside others for beginners, but with a cautionary note about potential demotivation. [Reddit Link](https://www.reddit.com/r/Frontend/comments/179ka8r/what_youtubers_should_i_subscribe_to_to_learn/)\n",
      "\n",
      "5. **Your favorite youtube channels for React videos/tutorials?**: Theo is seen more as an entertainer who can occasionally teach something rather than a mentor. [Reddit Link](https://www.reddit.com/r/reactjs/comments/16zvw20/your_favorite_youtube_channels_for_react/)\n",
      "\n",
      "6. **What (tech)YouTubers are you following and why?**: Some users don't agree with many things Theo says but find his streams informative. [Reddit Link](https://www.reddit.com/r/developersIndia/comments/11c65nj/what_techyoutubers_are_you_following_and_why/)\n",
      "\n",
      "7. **Why Theo is wrong & we'll get a Laravel for JavaScript**: Theo's content is compared unfavorably to others, suggesting a negative impression. [Reddit Link](https://www.reddit.com/r/javascript/comments/1d3d98w/why_theo_is_wrong_well_get_a_laravel_for/)\n",
      "\n",
      "Overall, the sentiment is mixed, with appreciation for his engaging style and informative content, but also criticism regarding his communication and some content being seen as clickbait or influenced by sponsorships.\u001b[00m\n",
      "\n",
      "\n"
     ]
    },
    {
     "data": {
      "text/html": [
       "<pre style=\"white-space:pre;overflow-x:auto;line-height:normal;font-family:Menlo,'DejaVu Sans Mono',consolas,'Courier New',monospace\"><span style=\"color: #008080; text-decoration-color: #008080; font-weight: bold\">🚀 Crew: crew</span>\n",
       "├── <span style=\"color: #008000; text-decoration-color: #008000; font-weight: bold\">📋 Task: bc310c8d-7b8e-4eff-bb97-45293c90bb01</span>\n",
       "│   <span style=\"color: #c0c0c0; text-decoration-color: #c0c0c0\">   Assigned to: </span><span style=\"color: #008000; text-decoration-color: #008000\">Influencer researcher</span>\n",
       "│   <span style=\"color: #c0c0c0; text-decoration-color: #c0c0c0\">   Status: </span><span style=\"color: #008000; text-decoration-color: #008000; font-weight: bold\">✅ Completed</span>\n",
       "│   └── <span style=\"color: #008000; text-decoration-color: #008000; font-weight: bold\">🤖 Agent: </span><span style=\"color: #008000; text-decoration-color: #008000\">Influencer researcher</span>\n",
       "│       <span style=\"color: #c0c0c0; text-decoration-color: #c0c0c0\">    Status: </span><span style=\"color: #008000; text-decoration-color: #008000; font-weight: bold\">✅ Completed</span>\n",
       "├── <span style=\"color: #008000; text-decoration-color: #008000; font-weight: bold\">📋 Task: c3176c03-86e8-4ffc-bdea-34007b4b0855</span>\n",
       "│   <span style=\"color: #c0c0c0; text-decoration-color: #c0c0c0\">   Assigned to: </span><span style=\"color: #008000; text-decoration-color: #008000\">Influencer researcher</span>\n",
       "│   <span style=\"color: #c0c0c0; text-decoration-color: #c0c0c0\">   Status: </span><span style=\"color: #008000; text-decoration-color: #008000; font-weight: bold\">✅ Completed</span>\n",
       "│   └── <span style=\"color: #008000; text-decoration-color: #008000; font-weight: bold\">🤖 Agent: </span><span style=\"color: #008000; text-decoration-color: #008000\">Influencer researcher</span>\n",
       "│       <span style=\"color: #c0c0c0; text-decoration-color: #c0c0c0\">    Status: </span><span style=\"color: #008000; text-decoration-color: #008000; font-weight: bold\">✅ Completed</span>\n",
       "└── <span style=\"color: #808000; text-decoration-color: #808000; font-weight: bold\">📋 Task: 1fc08a19-797e-4e8a-80f3-a64a5f2fa537</span>\n",
       "    <span style=\"color: #c0c0c0; text-decoration-color: #c0c0c0\">   Status: </span><span style=\"color: #bfbf7f; text-decoration-color: #bfbf7f\">Executing Task...</span>\n",
       "    └── <span style=\"color: #008000; text-decoration-color: #008000; font-weight: bold\">🤖 Agent: </span><span style=\"color: #008000; text-decoration-color: #008000\">Influencer researcher</span>\n",
       "        <span style=\"color: #c0c0c0; text-decoration-color: #c0c0c0\">    Status: </span><span style=\"color: #008000; text-decoration-color: #008000; font-weight: bold\">✅ Completed</span>\n",
       "</pre>\n"
      ],
      "text/plain": [
       "\u001b[1;36m🚀 Crew: \u001b[0m\u001b[1;36mcrew\u001b[0m\n",
       "├── \u001b[1;32m📋 Task: bc310c8d-7b8e-4eff-bb97-45293c90bb01\u001b[0m\n",
       "│   \u001b[37m   Assigned to: \u001b[0m\u001b[32mInfluencer researcher\u001b[0m\n",
       "│   \u001b[37m   Status: \u001b[0m\u001b[1;32m✅ Completed\u001b[0m\n",
       "│   └── \u001b[1;32m🤖 Agent: \u001b[0m\u001b[32mInfluencer researcher\u001b[0m\n",
       "│       \u001b[37m    Status: \u001b[0m\u001b[1;32m✅ Completed\u001b[0m\n",
       "├── \u001b[1;32m📋 Task: c3176c03-86e8-4ffc-bdea-34007b4b0855\u001b[0m\n",
       "│   \u001b[37m   Assigned to: \u001b[0m\u001b[32mInfluencer researcher\u001b[0m\n",
       "│   \u001b[37m   Status: \u001b[0m\u001b[1;32m✅ Completed\u001b[0m\n",
       "│   └── \u001b[1;32m🤖 Agent: \u001b[0m\u001b[32mInfluencer researcher\u001b[0m\n",
       "│       \u001b[37m    Status: \u001b[0m\u001b[1;32m✅ Completed\u001b[0m\n",
       "└── \u001b[1;33m📋 Task: 1fc08a19-797e-4e8a-80f3-a64a5f2fa537\u001b[0m\n",
       "    \u001b[37m   Status: \u001b[0m\u001b[2;33mExecuting Task...\u001b[0m\n",
       "    └── \u001b[1;32m🤖 Agent: \u001b[0m\u001b[32mInfluencer researcher\u001b[0m\n",
       "        \u001b[37m    Status: \u001b[0m\u001b[1;32m✅ Completed\u001b[0m\n"
      ]
     },
     "metadata": {},
     "output_type": "display_data"
    },
    {
     "data": {
      "text/html": [
       "<pre style=\"white-space:pre;overflow-x:auto;line-height:normal;font-family:Menlo,'DejaVu Sans Mono',consolas,'Courier New',monospace\">\n",
       "</pre>\n"
      ],
      "text/plain": [
       "\n"
      ]
     },
     "metadata": {},
     "output_type": "display_data"
    },
    {
     "data": {
      "text/html": [
       "<pre style=\"white-space:pre;overflow-x:auto;line-height:normal;font-family:Menlo,'DejaVu Sans Mono',consolas,'Courier New',monospace\"><span style=\"color: #008080; text-decoration-color: #008080; font-weight: bold\">🚀 Crew: crew</span>\n",
       "├── <span style=\"color: #008000; text-decoration-color: #008000; font-weight: bold\">📋 Task: bc310c8d-7b8e-4eff-bb97-45293c90bb01</span>\n",
       "│   <span style=\"color: #c0c0c0; text-decoration-color: #c0c0c0\">   Assigned to: </span><span style=\"color: #008000; text-decoration-color: #008000\">Influencer researcher</span>\n",
       "│   <span style=\"color: #c0c0c0; text-decoration-color: #c0c0c0\">   Status: </span><span style=\"color: #008000; text-decoration-color: #008000; font-weight: bold\">✅ Completed</span>\n",
       "│   └── <span style=\"color: #008000; text-decoration-color: #008000; font-weight: bold\">🤖 Agent: </span><span style=\"color: #008000; text-decoration-color: #008000\">Influencer researcher</span>\n",
       "│       <span style=\"color: #c0c0c0; text-decoration-color: #c0c0c0\">    Status: </span><span style=\"color: #008000; text-decoration-color: #008000; font-weight: bold\">✅ Completed</span>\n",
       "├── <span style=\"color: #008000; text-decoration-color: #008000; font-weight: bold\">📋 Task: c3176c03-86e8-4ffc-bdea-34007b4b0855</span>\n",
       "│   <span style=\"color: #c0c0c0; text-decoration-color: #c0c0c0\">   Assigned to: </span><span style=\"color: #008000; text-decoration-color: #008000\">Influencer researcher</span>\n",
       "│   <span style=\"color: #c0c0c0; text-decoration-color: #c0c0c0\">   Status: </span><span style=\"color: #008000; text-decoration-color: #008000; font-weight: bold\">✅ Completed</span>\n",
       "│   └── <span style=\"color: #008000; text-decoration-color: #008000; font-weight: bold\">🤖 Agent: </span><span style=\"color: #008000; text-decoration-color: #008000\">Influencer researcher</span>\n",
       "│       <span style=\"color: #c0c0c0; text-decoration-color: #c0c0c0\">    Status: </span><span style=\"color: #008000; text-decoration-color: #008000; font-weight: bold\">✅ Completed</span>\n",
       "└── <span style=\"color: #008000; text-decoration-color: #008000; font-weight: bold\">📋 Task: 1fc08a19-797e-4e8a-80f3-a64a5f2fa537</span>\n",
       "    <span style=\"color: #c0c0c0; text-decoration-color: #c0c0c0\">   Assigned to: </span><span style=\"color: #008000; text-decoration-color: #008000\">Influencer researcher</span>\n",
       "    <span style=\"color: #c0c0c0; text-decoration-color: #c0c0c0\">   Status: </span><span style=\"color: #008000; text-decoration-color: #008000; font-weight: bold\">✅ Completed</span>\n",
       "    └── <span style=\"color: #008000; text-decoration-color: #008000; font-weight: bold\">🤖 Agent: </span><span style=\"color: #008000; text-decoration-color: #008000\">Influencer researcher</span>\n",
       "        <span style=\"color: #c0c0c0; text-decoration-color: #c0c0c0\">    Status: </span><span style=\"color: #008000; text-decoration-color: #008000; font-weight: bold\">✅ Completed</span>\n",
       "</pre>\n"
      ],
      "text/plain": [
       "\u001b[1;36m🚀 Crew: \u001b[0m\u001b[1;36mcrew\u001b[0m\n",
       "├── \u001b[1;32m📋 Task: bc310c8d-7b8e-4eff-bb97-45293c90bb01\u001b[0m\n",
       "│   \u001b[37m   Assigned to: \u001b[0m\u001b[32mInfluencer researcher\u001b[0m\n",
       "│   \u001b[37m   Status: \u001b[0m\u001b[1;32m✅ Completed\u001b[0m\n",
       "│   └── \u001b[1;32m🤖 Agent: \u001b[0m\u001b[32mInfluencer researcher\u001b[0m\n",
       "│       \u001b[37m    Status: \u001b[0m\u001b[1;32m✅ Completed\u001b[0m\n",
       "├── \u001b[1;32m📋 Task: c3176c03-86e8-4ffc-bdea-34007b4b0855\u001b[0m\n",
       "│   \u001b[37m   Assigned to: \u001b[0m\u001b[32mInfluencer researcher\u001b[0m\n",
       "│   \u001b[37m   Status: \u001b[0m\u001b[1;32m✅ Completed\u001b[0m\n",
       "│   └── \u001b[1;32m🤖 Agent: \u001b[0m\u001b[32mInfluencer researcher\u001b[0m\n",
       "│       \u001b[37m    Status: \u001b[0m\u001b[1;32m✅ Completed\u001b[0m\n",
       "└── \u001b[1;32m📋 Task: 1fc08a19-797e-4e8a-80f3-a64a5f2fa537\u001b[0m\n",
       "    \u001b[37m   Assigned to: \u001b[0m\u001b[32mInfluencer researcher\u001b[0m\n",
       "    \u001b[37m   Status: \u001b[0m\u001b[1;32m✅ Completed\u001b[0m\n",
       "    └── \u001b[1;32m🤖 Agent: \u001b[0m\u001b[32mInfluencer researcher\u001b[0m\n",
       "        \u001b[37m    Status: \u001b[0m\u001b[1;32m✅ Completed\u001b[0m\n"
      ]
     },
     "metadata": {},
     "output_type": "display_data"
    },
    {
     "data": {
      "text/html": [
       "<pre style=\"white-space:pre;overflow-x:auto;line-height:normal;font-family:Menlo,'DejaVu Sans Mono',consolas,'Courier New',monospace\"><span style=\"color: #008000; text-decoration-color: #008000\">╭──────────────────────────────────────────────── Task Completion ────────────────────────────────────────────────╮</span>\n",
       "<span style=\"color: #008000; text-decoration-color: #008000\">│</span>                                                                                                                 <span style=\"color: #008000; text-decoration-color: #008000\">│</span>\n",
       "<span style=\"color: #008000; text-decoration-color: #008000\">│</span>  <span style=\"color: #008000; text-decoration-color: #008000; font-weight: bold\">Task Completed</span>                                                                                                 <span style=\"color: #008000; text-decoration-color: #008000\">│</span>\n",
       "<span style=\"color: #008000; text-decoration-color: #008000\">│</span>  <span style=\"color: #c0c0c0; text-decoration-color: #c0c0c0\">Name: </span><span style=\"color: #008000; text-decoration-color: #008000\">1fc08a19-797e-4e8a-80f3-a64a5f2fa537</span>                                                                     <span style=\"color: #008000; text-decoration-color: #008000\">│</span>\n",
       "<span style=\"color: #008000; text-decoration-color: #008000\">│</span>  <span style=\"color: #c0c0c0; text-decoration-color: #c0c0c0\">Agent: </span><span style=\"color: #008000; text-decoration-color: #008000\">Influencer researcher</span>                                                                                   <span style=\"color: #008000; text-decoration-color: #008000\">│</span>\n",
       "<span style=\"color: #008000; text-decoration-color: #008000\">│</span>                                                                                                                 <span style=\"color: #008000; text-decoration-color: #008000\">│</span>\n",
       "<span style=\"color: #008000; text-decoration-color: #008000\">│</span>                                                                                                                 <span style=\"color: #008000; text-decoration-color: #008000\">│</span>\n",
       "<span style=\"color: #008000; text-decoration-color: #008000\">╰─────────────────────────────────────────────────────────────────────────────────────────────────────────────────╯</span>\n",
       "</pre>\n"
      ],
      "text/plain": [
       "\u001b[32m╭─\u001b[0m\u001b[32m───────────────────────────────────────────────\u001b[0m\u001b[32m Task Completion \u001b[0m\u001b[32m───────────────────────────────────────────────\u001b[0m\u001b[32m─╮\u001b[0m\n",
       "\u001b[32m│\u001b[0m                                                                                                                 \u001b[32m│\u001b[0m\n",
       "\u001b[32m│\u001b[0m  \u001b[1;32mTask Completed\u001b[0m                                                                                                 \u001b[32m│\u001b[0m\n",
       "\u001b[32m│\u001b[0m  \u001b[37mName: \u001b[0m\u001b[32m1fc08a19-797e-4e8a-80f3-a64a5f2fa537\u001b[0m                                                                     \u001b[32m│\u001b[0m\n",
       "\u001b[32m│\u001b[0m  \u001b[37mAgent: \u001b[0m\u001b[32mInfluencer researcher\u001b[0m                                                                                   \u001b[32m│\u001b[0m\n",
       "\u001b[32m│\u001b[0m                                                                                                                 \u001b[32m│\u001b[0m\n",
       "\u001b[32m│\u001b[0m                                                                                                                 \u001b[32m│\u001b[0m\n",
       "\u001b[32m╰─────────────────────────────────────────────────────────────────────────────────────────────────────────────────╯\u001b[0m\n"
      ]
     },
     "metadata": {},
     "output_type": "display_data"
    },
    {
     "data": {
      "text/html": [
       "<pre style=\"white-space:pre;overflow-x:auto;line-height:normal;font-family:Menlo,'DejaVu Sans Mono',consolas,'Courier New',monospace\">\n",
       "</pre>\n"
      ],
      "text/plain": [
       "\n"
      ]
     },
     "metadata": {},
     "output_type": "display_data"
    },
    {
     "data": {
      "text/html": [
       "<pre style=\"white-space:pre;overflow-x:auto;line-height:normal;font-family:Menlo,'DejaVu Sans Mono',consolas,'Courier New',monospace\"><span style=\"color: #008080; text-decoration-color: #008080; font-weight: bold\">🚀 Crew: crew</span>\n",
       "├── <span style=\"color: #008000; text-decoration-color: #008000; font-weight: bold\">📋 Task: bc310c8d-7b8e-4eff-bb97-45293c90bb01</span>\n",
       "│   <span style=\"color: #c0c0c0; text-decoration-color: #c0c0c0\">   Assigned to: </span><span style=\"color: #008000; text-decoration-color: #008000\">Influencer researcher</span>\n",
       "│   <span style=\"color: #c0c0c0; text-decoration-color: #c0c0c0\">   Status: </span><span style=\"color: #008000; text-decoration-color: #008000; font-weight: bold\">✅ Completed</span>\n",
       "│   └── <span style=\"color: #008000; text-decoration-color: #008000; font-weight: bold\">🤖 Agent: </span><span style=\"color: #008000; text-decoration-color: #008000\">Influencer researcher</span>\n",
       "│       <span style=\"color: #c0c0c0; text-decoration-color: #c0c0c0\">    Status: </span><span style=\"color: #008000; text-decoration-color: #008000; font-weight: bold\">✅ Completed</span>\n",
       "├── <span style=\"color: #008000; text-decoration-color: #008000; font-weight: bold\">📋 Task: c3176c03-86e8-4ffc-bdea-34007b4b0855</span>\n",
       "│   <span style=\"color: #c0c0c0; text-decoration-color: #c0c0c0\">   Assigned to: </span><span style=\"color: #008000; text-decoration-color: #008000\">Influencer researcher</span>\n",
       "│   <span style=\"color: #c0c0c0; text-decoration-color: #c0c0c0\">   Status: </span><span style=\"color: #008000; text-decoration-color: #008000; font-weight: bold\">✅ Completed</span>\n",
       "│   └── <span style=\"color: #008000; text-decoration-color: #008000; font-weight: bold\">🤖 Agent: </span><span style=\"color: #008000; text-decoration-color: #008000\">Influencer researcher</span>\n",
       "│       <span style=\"color: #c0c0c0; text-decoration-color: #c0c0c0\">    Status: </span><span style=\"color: #008000; text-decoration-color: #008000; font-weight: bold\">✅ Completed</span>\n",
       "├── <span style=\"color: #008000; text-decoration-color: #008000; font-weight: bold\">📋 Task: 1fc08a19-797e-4e8a-80f3-a64a5f2fa537</span>\n",
       "│   <span style=\"color: #c0c0c0; text-decoration-color: #c0c0c0\">   Assigned to: </span><span style=\"color: #008000; text-decoration-color: #008000\">Influencer researcher</span>\n",
       "│   <span style=\"color: #c0c0c0; text-decoration-color: #c0c0c0\">   Status: </span><span style=\"color: #008000; text-decoration-color: #008000; font-weight: bold\">✅ Completed</span>\n",
       "│   └── <span style=\"color: #008000; text-decoration-color: #008000; font-weight: bold\">🤖 Agent: </span><span style=\"color: #008000; text-decoration-color: #008000\">Influencer researcher</span>\n",
       "│       <span style=\"color: #c0c0c0; text-decoration-color: #c0c0c0\">    Status: </span><span style=\"color: #008000; text-decoration-color: #008000; font-weight: bold\">✅ Completed</span>\n",
       "└── <span style=\"color: #808000; text-decoration-color: #808000; font-weight: bold\">📋 Task: 1b28b553-5ca6-4982-91aa-21d9021532b5</span>\n",
       "    <span style=\"color: #c0c0c0; text-decoration-color: #c0c0c0\">   Status: </span><span style=\"color: #bfbf7f; text-decoration-color: #bfbf7f\">Executing Task...</span>\n",
       "</pre>\n"
      ],
      "text/plain": [
       "\u001b[1;36m🚀 Crew: \u001b[0m\u001b[1;36mcrew\u001b[0m\n",
       "├── \u001b[1;32m📋 Task: bc310c8d-7b8e-4eff-bb97-45293c90bb01\u001b[0m\n",
       "│   \u001b[37m   Assigned to: \u001b[0m\u001b[32mInfluencer researcher\u001b[0m\n",
       "│   \u001b[37m   Status: \u001b[0m\u001b[1;32m✅ Completed\u001b[0m\n",
       "│   └── \u001b[1;32m🤖 Agent: \u001b[0m\u001b[32mInfluencer researcher\u001b[0m\n",
       "│       \u001b[37m    Status: \u001b[0m\u001b[1;32m✅ Completed\u001b[0m\n",
       "├── \u001b[1;32m📋 Task: c3176c03-86e8-4ffc-bdea-34007b4b0855\u001b[0m\n",
       "│   \u001b[37m   Assigned to: \u001b[0m\u001b[32mInfluencer researcher\u001b[0m\n",
       "│   \u001b[37m   Status: \u001b[0m\u001b[1;32m✅ Completed\u001b[0m\n",
       "│   └── \u001b[1;32m🤖 Agent: \u001b[0m\u001b[32mInfluencer researcher\u001b[0m\n",
       "│       \u001b[37m    Status: \u001b[0m\u001b[1;32m✅ Completed\u001b[0m\n",
       "├── \u001b[1;32m📋 Task: 1fc08a19-797e-4e8a-80f3-a64a5f2fa537\u001b[0m\n",
       "│   \u001b[37m   Assigned to: \u001b[0m\u001b[32mInfluencer researcher\u001b[0m\n",
       "│   \u001b[37m   Status: \u001b[0m\u001b[1;32m✅ Completed\u001b[0m\n",
       "│   └── \u001b[1;32m🤖 Agent: \u001b[0m\u001b[32mInfluencer researcher\u001b[0m\n",
       "│       \u001b[37m    Status: \u001b[0m\u001b[1;32m✅ Completed\u001b[0m\n",
       "└── \u001b[1;33m📋 Task: 1b28b553-5ca6-4982-91aa-21d9021532b5\u001b[0m\n",
       "    \u001b[37m   Status: \u001b[0m\u001b[2;33mExecuting Task...\u001b[0m\n"
      ]
     },
     "metadata": {},
     "output_type": "display_data"
    },
    {
     "data": {
      "text/html": [
       "<pre style=\"white-space:pre;overflow-x:auto;line-height:normal;font-family:Menlo,'DejaVu Sans Mono',consolas,'Courier New',monospace\">\n",
       "</pre>\n"
      ],
      "text/plain": [
       "\n"
      ]
     },
     "metadata": {},
     "output_type": "display_data"
    },
    {
     "data": {
      "text/html": [
       "<pre style=\"white-space:pre;overflow-x:auto;line-height:normal;font-family:Menlo,'DejaVu Sans Mono',consolas,'Courier New',monospace\"><span style=\"color: #008080; text-decoration-color: #008080; font-weight: bold\">🚀 Crew: crew</span>\n",
       "├── <span style=\"color: #008000; text-decoration-color: #008000; font-weight: bold\">📋 Task: bc310c8d-7b8e-4eff-bb97-45293c90bb01</span>\n",
       "│   <span style=\"color: #c0c0c0; text-decoration-color: #c0c0c0\">   Assigned to: </span><span style=\"color: #008000; text-decoration-color: #008000\">Influencer researcher</span>\n",
       "│   <span style=\"color: #c0c0c0; text-decoration-color: #c0c0c0\">   Status: </span><span style=\"color: #008000; text-decoration-color: #008000; font-weight: bold\">✅ Completed</span>\n",
       "│   └── <span style=\"color: #008000; text-decoration-color: #008000; font-weight: bold\">🤖 Agent: </span><span style=\"color: #008000; text-decoration-color: #008000\">Influencer researcher</span>\n",
       "│       <span style=\"color: #c0c0c0; text-decoration-color: #c0c0c0\">    Status: </span><span style=\"color: #008000; text-decoration-color: #008000; font-weight: bold\">✅ Completed</span>\n",
       "├── <span style=\"color: #008000; text-decoration-color: #008000; font-weight: bold\">📋 Task: c3176c03-86e8-4ffc-bdea-34007b4b0855</span>\n",
       "│   <span style=\"color: #c0c0c0; text-decoration-color: #c0c0c0\">   Assigned to: </span><span style=\"color: #008000; text-decoration-color: #008000\">Influencer researcher</span>\n",
       "│   <span style=\"color: #c0c0c0; text-decoration-color: #c0c0c0\">   Status: </span><span style=\"color: #008000; text-decoration-color: #008000; font-weight: bold\">✅ Completed</span>\n",
       "│   └── <span style=\"color: #008000; text-decoration-color: #008000; font-weight: bold\">🤖 Agent: </span><span style=\"color: #008000; text-decoration-color: #008000\">Influencer researcher</span>\n",
       "│       <span style=\"color: #c0c0c0; text-decoration-color: #c0c0c0\">    Status: </span><span style=\"color: #008000; text-decoration-color: #008000; font-weight: bold\">✅ Completed</span>\n",
       "├── <span style=\"color: #008000; text-decoration-color: #008000; font-weight: bold\">📋 Task: 1fc08a19-797e-4e8a-80f3-a64a5f2fa537</span>\n",
       "│   <span style=\"color: #c0c0c0; text-decoration-color: #c0c0c0\">   Assigned to: </span><span style=\"color: #008000; text-decoration-color: #008000\">Influencer researcher</span>\n",
       "│   <span style=\"color: #c0c0c0; text-decoration-color: #c0c0c0\">   Status: </span><span style=\"color: #008000; text-decoration-color: #008000; font-weight: bold\">✅ Completed</span>\n",
       "│   └── <span style=\"color: #008000; text-decoration-color: #008000; font-weight: bold\">🤖 Agent: </span><span style=\"color: #008000; text-decoration-color: #008000\">Influencer researcher</span>\n",
       "│       <span style=\"color: #c0c0c0; text-decoration-color: #c0c0c0\">    Status: </span><span style=\"color: #008000; text-decoration-color: #008000; font-weight: bold\">✅ Completed</span>\n",
       "└── <span style=\"color: #808000; text-decoration-color: #808000; font-weight: bold\">📋 Task: 1b28b553-5ca6-4982-91aa-21d9021532b5</span>\n",
       "    <span style=\"color: #c0c0c0; text-decoration-color: #c0c0c0\">   Status: </span><span style=\"color: #bfbf7f; text-decoration-color: #bfbf7f\">Executing Task...</span>\n",
       "    └── <span style=\"color: #008000; text-decoration-color: #008000; font-weight: bold\">🤖 Agent: </span><span style=\"color: #008000; text-decoration-color: #008000\">Partnership Scoring Agent</span>\n",
       "        <span style=\"color: #c0c0c0; text-decoration-color: #c0c0c0\">    Status: </span><span style=\"color: #008000; text-decoration-color: #008000; font-weight: bold\">In Progress</span>\n",
       "</pre>\n"
      ],
      "text/plain": [
       "\u001b[1;36m🚀 Crew: \u001b[0m\u001b[1;36mcrew\u001b[0m\n",
       "├── \u001b[1;32m📋 Task: bc310c8d-7b8e-4eff-bb97-45293c90bb01\u001b[0m\n",
       "│   \u001b[37m   Assigned to: \u001b[0m\u001b[32mInfluencer researcher\u001b[0m\n",
       "│   \u001b[37m   Status: \u001b[0m\u001b[1;32m✅ Completed\u001b[0m\n",
       "│   └── \u001b[1;32m🤖 Agent: \u001b[0m\u001b[32mInfluencer researcher\u001b[0m\n",
       "│       \u001b[37m    Status: \u001b[0m\u001b[1;32m✅ Completed\u001b[0m\n",
       "├── \u001b[1;32m📋 Task: c3176c03-86e8-4ffc-bdea-34007b4b0855\u001b[0m\n",
       "│   \u001b[37m   Assigned to: \u001b[0m\u001b[32mInfluencer researcher\u001b[0m\n",
       "│   \u001b[37m   Status: \u001b[0m\u001b[1;32m✅ Completed\u001b[0m\n",
       "│   └── \u001b[1;32m🤖 Agent: \u001b[0m\u001b[32mInfluencer researcher\u001b[0m\n",
       "│       \u001b[37m    Status: \u001b[0m\u001b[1;32m✅ Completed\u001b[0m\n",
       "├── \u001b[1;32m📋 Task: 1fc08a19-797e-4e8a-80f3-a64a5f2fa537\u001b[0m\n",
       "│   \u001b[37m   Assigned to: \u001b[0m\u001b[32mInfluencer researcher\u001b[0m\n",
       "│   \u001b[37m   Status: \u001b[0m\u001b[1;32m✅ Completed\u001b[0m\n",
       "│   └── \u001b[1;32m🤖 Agent: \u001b[0m\u001b[32mInfluencer researcher\u001b[0m\n",
       "│       \u001b[37m    Status: \u001b[0m\u001b[1;32m✅ Completed\u001b[0m\n",
       "└── \u001b[1;33m📋 Task: 1b28b553-5ca6-4982-91aa-21d9021532b5\u001b[0m\n",
       "    \u001b[37m   Status: \u001b[0m\u001b[2;33mExecuting Task...\u001b[0m\n",
       "    └── \u001b[1;32m🤖 Agent: \u001b[0m\u001b[32mPartnership Scoring Agent\u001b[0m\n",
       "        \u001b[37m    Status: \u001b[0m\u001b[1;32mIn Progress\u001b[0m\n"
      ]
     },
     "metadata": {},
     "output_type": "display_data"
    },
    {
     "data": {
      "text/html": [
       "<pre style=\"white-space:pre;overflow-x:auto;line-height:normal;font-family:Menlo,'DejaVu Sans Mono',consolas,'Courier New',monospace\">\n",
       "</pre>\n"
      ],
      "text/plain": [
       "\n"
      ]
     },
     "metadata": {},
     "output_type": "display_data"
    },
    {
     "name": "stdout",
     "output_type": "stream",
     "text": [
      "\u001b[1m\u001b[95m# Agent:\u001b[00m \u001b[1m\u001b[92mPartnership Scoring Agent\u001b[00m\n",
      "\u001b[95m## Task:\u001b[00m \u001b[92m\n",
      "    Score the partnership between Zero to Mastery and Theo - t3․gg\u001b[00m\n",
      "\n",
      "\n",
      "\u001b[1m\u001b[95m# Agent:\u001b[00m \u001b[1m\u001b[92mPartnership Scoring Agent\u001b[00m\n",
      "\u001b[95m## Final Answer:\u001b[00m \u001b[92m\n",
      "{\n",
      "  \"score\": 8,\n",
      "  \"justification\": \"The partnership between Zero to Mastery and Theo - t3․gg scores an 8 out of 10. Theo's YouTube channel aligns well with Zero to Mastery's core values of quality education, community-driven growth, career-focused learning, and up-to-date tech stacks. His focus on full stack TypeScript and modern web development practices resonates with Zero to Mastery's audience, which is interested in enhancing their skills and staying updated with current trends. The channel's significant subscriber count and high engagement levels indicate a strong potential for reaching a wide audience. However, some criticisms exist regarding Theo's communication style and perceived influence by sponsorships, which slightly detract from the overall alignment. Despite these concerns, the partnership remains highly beneficial given the shared goals and audience interests.\"\u001b[00m\n",
      "\n",
      "\n"
     ]
    },
    {
     "data": {
      "text/html": [
       "<pre style=\"white-space:pre;overflow-x:auto;line-height:normal;font-family:Menlo,'DejaVu Sans Mono',consolas,'Courier New',monospace\"><span style=\"color: #008080; text-decoration-color: #008080; font-weight: bold\">🚀 Crew: crew</span>\n",
       "├── <span style=\"color: #008000; text-decoration-color: #008000; font-weight: bold\">📋 Task: bc310c8d-7b8e-4eff-bb97-45293c90bb01</span>\n",
       "│   <span style=\"color: #c0c0c0; text-decoration-color: #c0c0c0\">   Assigned to: </span><span style=\"color: #008000; text-decoration-color: #008000\">Influencer researcher</span>\n",
       "│   <span style=\"color: #c0c0c0; text-decoration-color: #c0c0c0\">   Status: </span><span style=\"color: #008000; text-decoration-color: #008000; font-weight: bold\">✅ Completed</span>\n",
       "│   └── <span style=\"color: #008000; text-decoration-color: #008000; font-weight: bold\">🤖 Agent: </span><span style=\"color: #008000; text-decoration-color: #008000\">Influencer researcher</span>\n",
       "│       <span style=\"color: #c0c0c0; text-decoration-color: #c0c0c0\">    Status: </span><span style=\"color: #008000; text-decoration-color: #008000; font-weight: bold\">✅ Completed</span>\n",
       "├── <span style=\"color: #008000; text-decoration-color: #008000; font-weight: bold\">📋 Task: c3176c03-86e8-4ffc-bdea-34007b4b0855</span>\n",
       "│   <span style=\"color: #c0c0c0; text-decoration-color: #c0c0c0\">   Assigned to: </span><span style=\"color: #008000; text-decoration-color: #008000\">Influencer researcher</span>\n",
       "│   <span style=\"color: #c0c0c0; text-decoration-color: #c0c0c0\">   Status: </span><span style=\"color: #008000; text-decoration-color: #008000; font-weight: bold\">✅ Completed</span>\n",
       "│   └── <span style=\"color: #008000; text-decoration-color: #008000; font-weight: bold\">🤖 Agent: </span><span style=\"color: #008000; text-decoration-color: #008000\">Influencer researcher</span>\n",
       "│       <span style=\"color: #c0c0c0; text-decoration-color: #c0c0c0\">    Status: </span><span style=\"color: #008000; text-decoration-color: #008000; font-weight: bold\">✅ Completed</span>\n",
       "├── <span style=\"color: #008000; text-decoration-color: #008000; font-weight: bold\">📋 Task: 1fc08a19-797e-4e8a-80f3-a64a5f2fa537</span>\n",
       "│   <span style=\"color: #c0c0c0; text-decoration-color: #c0c0c0\">   Assigned to: </span><span style=\"color: #008000; text-decoration-color: #008000\">Influencer researcher</span>\n",
       "│   <span style=\"color: #c0c0c0; text-decoration-color: #c0c0c0\">   Status: </span><span style=\"color: #008000; text-decoration-color: #008000; font-weight: bold\">✅ Completed</span>\n",
       "│   └── <span style=\"color: #008000; text-decoration-color: #008000; font-weight: bold\">🤖 Agent: </span><span style=\"color: #008000; text-decoration-color: #008000\">Influencer researcher</span>\n",
       "│       <span style=\"color: #c0c0c0; text-decoration-color: #c0c0c0\">    Status: </span><span style=\"color: #008000; text-decoration-color: #008000; font-weight: bold\">✅ Completed</span>\n",
       "└── <span style=\"color: #808000; text-decoration-color: #808000; font-weight: bold\">📋 Task: 1b28b553-5ca6-4982-91aa-21d9021532b5</span>\n",
       "    <span style=\"color: #c0c0c0; text-decoration-color: #c0c0c0\">   Status: </span><span style=\"color: #bfbf7f; text-decoration-color: #bfbf7f\">Executing Task...</span>\n",
       "    └── <span style=\"color: #008000; text-decoration-color: #008000; font-weight: bold\">🤖 Agent: </span><span style=\"color: #008000; text-decoration-color: #008000\">Partnership Scoring Agent</span>\n",
       "        <span style=\"color: #c0c0c0; text-decoration-color: #c0c0c0\">    Status: </span><span style=\"color: #008000; text-decoration-color: #008000; font-weight: bold\">✅ Completed</span>\n",
       "</pre>\n"
      ],
      "text/plain": [
       "\u001b[1;36m🚀 Crew: \u001b[0m\u001b[1;36mcrew\u001b[0m\n",
       "├── \u001b[1;32m📋 Task: bc310c8d-7b8e-4eff-bb97-45293c90bb01\u001b[0m\n",
       "│   \u001b[37m   Assigned to: \u001b[0m\u001b[32mInfluencer researcher\u001b[0m\n",
       "│   \u001b[37m   Status: \u001b[0m\u001b[1;32m✅ Completed\u001b[0m\n",
       "│   └── \u001b[1;32m🤖 Agent: \u001b[0m\u001b[32mInfluencer researcher\u001b[0m\n",
       "│       \u001b[37m    Status: \u001b[0m\u001b[1;32m✅ Completed\u001b[0m\n",
       "├── \u001b[1;32m📋 Task: c3176c03-86e8-4ffc-bdea-34007b4b0855\u001b[0m\n",
       "│   \u001b[37m   Assigned to: \u001b[0m\u001b[32mInfluencer researcher\u001b[0m\n",
       "│   \u001b[37m   Status: \u001b[0m\u001b[1;32m✅ Completed\u001b[0m\n",
       "│   └── \u001b[1;32m🤖 Agent: \u001b[0m\u001b[32mInfluencer researcher\u001b[0m\n",
       "│       \u001b[37m    Status: \u001b[0m\u001b[1;32m✅ Completed\u001b[0m\n",
       "├── \u001b[1;32m📋 Task: 1fc08a19-797e-4e8a-80f3-a64a5f2fa537\u001b[0m\n",
       "│   \u001b[37m   Assigned to: \u001b[0m\u001b[32mInfluencer researcher\u001b[0m\n",
       "│   \u001b[37m   Status: \u001b[0m\u001b[1;32m✅ Completed\u001b[0m\n",
       "│   └── \u001b[1;32m🤖 Agent: \u001b[0m\u001b[32mInfluencer researcher\u001b[0m\n",
       "│       \u001b[37m    Status: \u001b[0m\u001b[1;32m✅ Completed\u001b[0m\n",
       "└── \u001b[1;33m📋 Task: 1b28b553-5ca6-4982-91aa-21d9021532b5\u001b[0m\n",
       "    \u001b[37m   Status: \u001b[0m\u001b[2;33mExecuting Task...\u001b[0m\n",
       "    └── \u001b[1;32m🤖 Agent: \u001b[0m\u001b[32mPartnership Scoring Agent\u001b[0m\n",
       "        \u001b[37m    Status: \u001b[0m\u001b[1;32m✅ Completed\u001b[0m\n"
      ]
     },
     "metadata": {},
     "output_type": "display_data"
    },
    {
     "data": {
      "text/html": [
       "<pre style=\"white-space:pre;overflow-x:auto;line-height:normal;font-family:Menlo,'DejaVu Sans Mono',consolas,'Courier New',monospace\">\n",
       "</pre>\n"
      ],
      "text/plain": [
       "\n"
      ]
     },
     "metadata": {},
     "output_type": "display_data"
    },
    {
     "data": {
      "text/html": [
       "<pre style=\"white-space:pre;overflow-x:auto;line-height:normal;font-family:Menlo,'DejaVu Sans Mono',consolas,'Courier New',monospace\"><span style=\"color: #008080; text-decoration-color: #008080; font-weight: bold\">🚀 Crew: crew</span>\n",
       "├── <span style=\"color: #008000; text-decoration-color: #008000; font-weight: bold\">📋 Task: bc310c8d-7b8e-4eff-bb97-45293c90bb01</span>\n",
       "│   <span style=\"color: #c0c0c0; text-decoration-color: #c0c0c0\">   Assigned to: </span><span style=\"color: #008000; text-decoration-color: #008000\">Influencer researcher</span>\n",
       "│   <span style=\"color: #c0c0c0; text-decoration-color: #c0c0c0\">   Status: </span><span style=\"color: #008000; text-decoration-color: #008000; font-weight: bold\">✅ Completed</span>\n",
       "│   └── <span style=\"color: #008000; text-decoration-color: #008000; font-weight: bold\">🤖 Agent: </span><span style=\"color: #008000; text-decoration-color: #008000\">Influencer researcher</span>\n",
       "│       <span style=\"color: #c0c0c0; text-decoration-color: #c0c0c0\">    Status: </span><span style=\"color: #008000; text-decoration-color: #008000; font-weight: bold\">✅ Completed</span>\n",
       "├── <span style=\"color: #008000; text-decoration-color: #008000; font-weight: bold\">📋 Task: c3176c03-86e8-4ffc-bdea-34007b4b0855</span>\n",
       "│   <span style=\"color: #c0c0c0; text-decoration-color: #c0c0c0\">   Assigned to: </span><span style=\"color: #008000; text-decoration-color: #008000\">Influencer researcher</span>\n",
       "│   <span style=\"color: #c0c0c0; text-decoration-color: #c0c0c0\">   Status: </span><span style=\"color: #008000; text-decoration-color: #008000; font-weight: bold\">✅ Completed</span>\n",
       "│   └── <span style=\"color: #008000; text-decoration-color: #008000; font-weight: bold\">🤖 Agent: </span><span style=\"color: #008000; text-decoration-color: #008000\">Influencer researcher</span>\n",
       "│       <span style=\"color: #c0c0c0; text-decoration-color: #c0c0c0\">    Status: </span><span style=\"color: #008000; text-decoration-color: #008000; font-weight: bold\">✅ Completed</span>\n",
       "├── <span style=\"color: #008000; text-decoration-color: #008000; font-weight: bold\">📋 Task: 1fc08a19-797e-4e8a-80f3-a64a5f2fa537</span>\n",
       "│   <span style=\"color: #c0c0c0; text-decoration-color: #c0c0c0\">   Assigned to: </span><span style=\"color: #008000; text-decoration-color: #008000\">Influencer researcher</span>\n",
       "│   <span style=\"color: #c0c0c0; text-decoration-color: #c0c0c0\">   Status: </span><span style=\"color: #008000; text-decoration-color: #008000; font-weight: bold\">✅ Completed</span>\n",
       "│   └── <span style=\"color: #008000; text-decoration-color: #008000; font-weight: bold\">🤖 Agent: </span><span style=\"color: #008000; text-decoration-color: #008000\">Influencer researcher</span>\n",
       "│       <span style=\"color: #c0c0c0; text-decoration-color: #c0c0c0\">    Status: </span><span style=\"color: #008000; text-decoration-color: #008000; font-weight: bold\">✅ Completed</span>\n",
       "└── <span style=\"color: #008000; text-decoration-color: #008000; font-weight: bold\">📋 Task: 1b28b553-5ca6-4982-91aa-21d9021532b5</span>\n",
       "    <span style=\"color: #c0c0c0; text-decoration-color: #c0c0c0\">   Assigned to: </span><span style=\"color: #008000; text-decoration-color: #008000\">Partnership Scoring Agent</span>\n",
       "    <span style=\"color: #c0c0c0; text-decoration-color: #c0c0c0\">   Status: </span><span style=\"color: #008000; text-decoration-color: #008000; font-weight: bold\">✅ Completed</span>\n",
       "    └── <span style=\"color: #008000; text-decoration-color: #008000; font-weight: bold\">🤖 Agent: </span><span style=\"color: #008000; text-decoration-color: #008000\">Partnership Scoring Agent</span>\n",
       "        <span style=\"color: #c0c0c0; text-decoration-color: #c0c0c0\">    Status: </span><span style=\"color: #008000; text-decoration-color: #008000; font-weight: bold\">✅ Completed</span>\n",
       "</pre>\n"
      ],
      "text/plain": [
       "\u001b[1;36m🚀 Crew: \u001b[0m\u001b[1;36mcrew\u001b[0m\n",
       "├── \u001b[1;32m📋 Task: bc310c8d-7b8e-4eff-bb97-45293c90bb01\u001b[0m\n",
       "│   \u001b[37m   Assigned to: \u001b[0m\u001b[32mInfluencer researcher\u001b[0m\n",
       "│   \u001b[37m   Status: \u001b[0m\u001b[1;32m✅ Completed\u001b[0m\n",
       "│   └── \u001b[1;32m🤖 Agent: \u001b[0m\u001b[32mInfluencer researcher\u001b[0m\n",
       "│       \u001b[37m    Status: \u001b[0m\u001b[1;32m✅ Completed\u001b[0m\n",
       "├── \u001b[1;32m📋 Task: c3176c03-86e8-4ffc-bdea-34007b4b0855\u001b[0m\n",
       "│   \u001b[37m   Assigned to: \u001b[0m\u001b[32mInfluencer researcher\u001b[0m\n",
       "│   \u001b[37m   Status: \u001b[0m\u001b[1;32m✅ Completed\u001b[0m\n",
       "│   └── \u001b[1;32m🤖 Agent: \u001b[0m\u001b[32mInfluencer researcher\u001b[0m\n",
       "│       \u001b[37m    Status: \u001b[0m\u001b[1;32m✅ Completed\u001b[0m\n",
       "├── \u001b[1;32m📋 Task: 1fc08a19-797e-4e8a-80f3-a64a5f2fa537\u001b[0m\n",
       "│   \u001b[37m   Assigned to: \u001b[0m\u001b[32mInfluencer researcher\u001b[0m\n",
       "│   \u001b[37m   Status: \u001b[0m\u001b[1;32m✅ Completed\u001b[0m\n",
       "│   └── \u001b[1;32m🤖 Agent: \u001b[0m\u001b[32mInfluencer researcher\u001b[0m\n",
       "│       \u001b[37m    Status: \u001b[0m\u001b[1;32m✅ Completed\u001b[0m\n",
       "└── \u001b[1;32m📋 Task: 1b28b553-5ca6-4982-91aa-21d9021532b5\u001b[0m\n",
       "    \u001b[37m   Assigned to: \u001b[0m\u001b[32mPartnership Scoring Agent\u001b[0m\n",
       "    \u001b[37m   Status: \u001b[0m\u001b[1;32m✅ Completed\u001b[0m\n",
       "    └── \u001b[1;32m🤖 Agent: \u001b[0m\u001b[32mPartnership Scoring Agent\u001b[0m\n",
       "        \u001b[37m    Status: \u001b[0m\u001b[1;32m✅ Completed\u001b[0m\n"
      ]
     },
     "metadata": {},
     "output_type": "display_data"
    },
    {
     "data": {
      "text/html": [
       "<pre style=\"white-space:pre;overflow-x:auto;line-height:normal;font-family:Menlo,'DejaVu Sans Mono',consolas,'Courier New',monospace\"><span style=\"color: #008000; text-decoration-color: #008000\">╭──────────────────────────────────────────────── Task Completion ────────────────────────────────────────────────╮</span>\n",
       "<span style=\"color: #008000; text-decoration-color: #008000\">│</span>                                                                                                                 <span style=\"color: #008000; text-decoration-color: #008000\">│</span>\n",
       "<span style=\"color: #008000; text-decoration-color: #008000\">│</span>  <span style=\"color: #008000; text-decoration-color: #008000; font-weight: bold\">Task Completed</span>                                                                                                 <span style=\"color: #008000; text-decoration-color: #008000\">│</span>\n",
       "<span style=\"color: #008000; text-decoration-color: #008000\">│</span>  <span style=\"color: #c0c0c0; text-decoration-color: #c0c0c0\">Name: </span><span style=\"color: #008000; text-decoration-color: #008000\">1b28b553-5ca6-4982-91aa-21d9021532b5</span>                                                                     <span style=\"color: #008000; text-decoration-color: #008000\">│</span>\n",
       "<span style=\"color: #008000; text-decoration-color: #008000\">│</span>  <span style=\"color: #c0c0c0; text-decoration-color: #c0c0c0\">Agent: </span><span style=\"color: #008000; text-decoration-color: #008000\">Partnership Scoring Agent</span>                                                                               <span style=\"color: #008000; text-decoration-color: #008000\">│</span>\n",
       "<span style=\"color: #008000; text-decoration-color: #008000\">│</span>                                                                                                                 <span style=\"color: #008000; text-decoration-color: #008000\">│</span>\n",
       "<span style=\"color: #008000; text-decoration-color: #008000\">│</span>                                                                                                                 <span style=\"color: #008000; text-decoration-color: #008000\">│</span>\n",
       "<span style=\"color: #008000; text-decoration-color: #008000\">╰─────────────────────────────────────────────────────────────────────────────────────────────────────────────────╯</span>\n",
       "</pre>\n"
      ],
      "text/plain": [
       "\u001b[32m╭─\u001b[0m\u001b[32m───────────────────────────────────────────────\u001b[0m\u001b[32m Task Completion \u001b[0m\u001b[32m───────────────────────────────────────────────\u001b[0m\u001b[32m─╮\u001b[0m\n",
       "\u001b[32m│\u001b[0m                                                                                                                 \u001b[32m│\u001b[0m\n",
       "\u001b[32m│\u001b[0m  \u001b[1;32mTask Completed\u001b[0m                                                                                                 \u001b[32m│\u001b[0m\n",
       "\u001b[32m│\u001b[0m  \u001b[37mName: \u001b[0m\u001b[32m1b28b553-5ca6-4982-91aa-21d9021532b5\u001b[0m                                                                     \u001b[32m│\u001b[0m\n",
       "\u001b[32m│\u001b[0m  \u001b[37mAgent: \u001b[0m\u001b[32mPartnership Scoring Agent\u001b[0m                                                                               \u001b[32m│\u001b[0m\n",
       "\u001b[32m│\u001b[0m                                                                                                                 \u001b[32m│\u001b[0m\n",
       "\u001b[32m│\u001b[0m                                                                                                                 \u001b[32m│\u001b[0m\n",
       "\u001b[32m╰─────────────────────────────────────────────────────────────────────────────────────────────────────────────────╯\u001b[0m\n"
      ]
     },
     "metadata": {},
     "output_type": "display_data"
    },
    {
     "data": {
      "text/html": [
       "<pre style=\"white-space:pre;overflow-x:auto;line-height:normal;font-family:Menlo,'DejaVu Sans Mono',consolas,'Courier New',monospace\">\n",
       "</pre>\n"
      ],
      "text/plain": [
       "\n"
      ]
     },
     "metadata": {},
     "output_type": "display_data"
    },
    {
     "data": {
      "text/html": [
       "<pre style=\"white-space:pre;overflow-x:auto;line-height:normal;font-family:Menlo,'DejaVu Sans Mono',consolas,'Courier New',monospace\"><span style=\"color: #008000; text-decoration-color: #008000\">╭──────────────────────────────────────────────── Crew Completion ────────────────────────────────────────────────╮</span>\n",
       "<span style=\"color: #008000; text-decoration-color: #008000\">│</span>                                                                                                                 <span style=\"color: #008000; text-decoration-color: #008000\">│</span>\n",
       "<span style=\"color: #008000; text-decoration-color: #008000\">│</span>  <span style=\"color: #008000; text-decoration-color: #008000; font-weight: bold\">Crew Execution Completed</span>                                                                                       <span style=\"color: #008000; text-decoration-color: #008000\">│</span>\n",
       "<span style=\"color: #008000; text-decoration-color: #008000\">│</span>  <span style=\"color: #c0c0c0; text-decoration-color: #c0c0c0\">Name: </span><span style=\"color: #008000; text-decoration-color: #008000\">crew</span>                                                                                                     <span style=\"color: #008000; text-decoration-color: #008000\">│</span>\n",
       "<span style=\"color: #008000; text-decoration-color: #008000\">│</span>  <span style=\"color: #c0c0c0; text-decoration-color: #c0c0c0\">ID: </span><span style=\"color: #008000; text-decoration-color: #008000\">0fc651a1-99f0-490e-9a34-d5b7024745be</span>                                                                       <span style=\"color: #008000; text-decoration-color: #008000\">│</span>\n",
       "<span style=\"color: #008000; text-decoration-color: #008000\">│</span>                                                                                                                 <span style=\"color: #008000; text-decoration-color: #008000\">│</span>\n",
       "<span style=\"color: #008000; text-decoration-color: #008000\">│</span>                                                                                                                 <span style=\"color: #008000; text-decoration-color: #008000\">│</span>\n",
       "<span style=\"color: #008000; text-decoration-color: #008000\">╰─────────────────────────────────────────────────────────────────────────────────────────────────────────────────╯</span>\n",
       "</pre>\n"
      ],
      "text/plain": [
       "\u001b[32m╭─\u001b[0m\u001b[32m───────────────────────────────────────────────\u001b[0m\u001b[32m Crew Completion \u001b[0m\u001b[32m───────────────────────────────────────────────\u001b[0m\u001b[32m─╮\u001b[0m\n",
       "\u001b[32m│\u001b[0m                                                                                                                 \u001b[32m│\u001b[0m\n",
       "\u001b[32m│\u001b[0m  \u001b[1;32mCrew Execution Completed\u001b[0m                                                                                       \u001b[32m│\u001b[0m\n",
       "\u001b[32m│\u001b[0m  \u001b[37mName: \u001b[0m\u001b[32mcrew\u001b[0m                                                                                                     \u001b[32m│\u001b[0m\n",
       "\u001b[32m│\u001b[0m  \u001b[37mID: \u001b[0m\u001b[32m0fc651a1-99f0-490e-9a34-d5b7024745be\u001b[0m                                                                       \u001b[32m│\u001b[0m\n",
       "\u001b[32m│\u001b[0m                                                                                                                 \u001b[32m│\u001b[0m\n",
       "\u001b[32m│\u001b[0m                                                                                                                 \u001b[32m│\u001b[0m\n",
       "\u001b[32m╰─────────────────────────────────────────────────────────────────────────────────────────────────────────────────╯\u001b[0m\n"
      ]
     },
     "metadata": {},
     "output_type": "display_data"
    },
    {
     "data": {
      "text/html": [
       "<pre style=\"white-space:pre;overflow-x:auto;line-height:normal;font-family:Menlo,'DejaVu Sans Mono',consolas,'Courier New',monospace\">\n",
       "</pre>\n"
      ],
      "text/plain": [
       "\n"
      ]
     },
     "metadata": {},
     "output_type": "display_data"
    }
   ],
   "source": [
    "# Assemble the AI crew\n",
    "crew = Crew(\n",
    "    agents = [research_agent, scoring_agent],\n",
    "    tasks = [channel_research_task, videos_research_task, sentiment_task, scoring_task],\n",
    "    process = Process.sequential,\n",
    "    verbose = True\n",
    ")\n",
    "result = crew.kickoff()"
   ]
  },
  {
   "cell_type": "code",
   "execution_count": 14,
   "metadata": {
    "colab": {
     "base_uri": "https://localhost:8080/",
     "height": 717
    },
    "executionInfo": {
     "elapsed": 39,
     "status": "ok",
     "timestamp": 1739209597071,
     "user": {
      "displayName": "Diogo Resende",
      "userId": "05706604408624562002"
     },
     "user_tz": -60
    },
    "id": "XC64Dqn8Rasd",
    "outputId": "2692fbf2-4290-4f99-d85b-af505dbf525a"
   },
   "outputs": [
    {
     "name": "stdout",
     "output_type": "stream",
     "text": [
      "Channel Research Output:\n"
     ]
    },
    {
     "data": {
      "text/markdown": [
       "Research Report on Theo - t3․gg YouTube Channel\n",
       "\n",
       "1. Channel Focus and Content Type:\n",
       "   - Theo - t3․gg is a YouTube channel primarily focused on software development, with a strong emphasis on full stack TypeScript. The channel provides a mix of insights, opinions, and discussions related to software development, industry trends, technology comparisons, and career advice.\n",
       "\n",
       "2. Subscriber Count and Engagement:\n",
       "   - The channel has approximately 420,000 to 425,000 subscribers, indicating a significant following. The channel's content has accumulated over 67 million views, reflecting high engagement and interest from the audience.\n",
       "\n",
       "3. Audience Alignment with Zero to Mastery:\n",
       "   - Given the channel's focus on quality education and career-focused learning in software development, particularly with up-to-date tech stacks like TypeScript, there is a strong alignment with Zero to Mastery's values of providing quality education, fostering community-driven growth, and focusing on career advancement in tech.\n",
       "\n",
       "Overall, Theo - t3․gg appears to be a suitable candidate for partnership with Zero to Mastery, given its alignment with the core values and audience interests of the platform."
      ],
      "text/plain": [
       "<IPython.core.display.Markdown object>"
      ]
     },
     "metadata": {},
     "output_type": "display_data"
    },
    {
     "name": "stdout",
     "output_type": "stream",
     "text": [
      "\n",
      "Videos Research Output:\n"
     ]
    },
    {
     "data": {
      "text/markdown": [
       "Research Report on Theo - t3․gg YouTube Channel\n",
       "\n",
       "1. Channel Focus and Content Type:\n",
       "   - Theo - t3․gg is a YouTube channel primarily focused on software development, with a strong emphasis on full stack TypeScript. The channel provides a mix of insights, opinions, and discussions related to software development, industry trends, technology comparisons, and career advice.\n",
       "\n",
       "2. Subscriber Count and Engagement:\n",
       "   - The channel has approximately 420,000 to 425,000 subscribers, indicating a significant following. The channel's content has accumulated over 67 million views, reflecting high engagement and interest from the audience.\n",
       "\n",
       "3. Most Popular Videos and Their Topics:\n",
       "   - \"PirateSoftware is right, this needs to stop\": A video discussing industry practices and how they impact developers.\n",
       "   - \"The REAL Cost Of AWS (And How To Avoid It)\": A detailed look into AWS costs and strategies to minimize them.\n",
       "   - \"From 0 to Production - The Modern React Tutorial (RSCs, ...\": A comprehensive tutorial on using modern React features for production.\n",
       "   - \"If YouTube Devs Were Honest (featuring Theo @t3dotgg)\": A humorous take on the realities of YouTube development.\n",
       "   - \"The Coolest Thing I Ever Built\": An exploration of a personal project, showcasing development skills and innovation.\n",
       "   - \"Flip with Theo t3dotgg - TypeScript Type Challenges #4179 [MEDIUM]\": A video tackling TypeScript challenges, aimed at intermediate developers.\n",
       "   - \"T3 Stack Tutorial - FROM 0 TO PROD FOR $0 (Next.js, ...\": A tutorial on building a production-ready stack using Next.js.\n",
       "\n",
       "4. Audience Analysis:\n",
       "   - The audience mainly consists of software developers and tech enthusiasts interested in TypeScript, AWS, and modern web development practices. The channel's focus on practical tutorials and industry insights attracts viewers looking to enhance their skills and stay updated with current trends.\n",
       "\n",
       "5. Audience Alignment with Zero to Mastery:\n",
       "   - Given the channel's focus on quality education and career-focused learning in software development, particularly with up-to-date tech stacks like TypeScript, there is a strong alignment with Zero to Mastery's values of providing quality education, fostering community-driven growth, and focusing on career advancement in tech.\n",
       "\n",
       "Overall, Theo - t3․gg appears to be a suitable candidate for partnership with Zero to Mastery, given its alignment with the core values and audience interests of the platform."
      ],
      "text/plain": [
       "<IPython.core.display.Markdown object>"
      ]
     },
     "metadata": {},
     "output_type": "display_data"
    },
    {
     "name": "stdout",
     "output_type": "stream",
     "text": [
      "\n",
      "Sentiment Analysis Output:\n"
     ]
    },
    {
     "data": {
      "text/markdown": [
       "1. **The Theo Problem : r/webdev**: Some users feel that Theo struggles with communication, making his content occasionally hard to take in. [Reddit Link](https://www.reddit.com/r/webdev/comments/17bi852/the_theo_problem/)\n",
       "\n",
       "2. **Dev influencers who say they're honest: I don't believe it.**: Theo's style of videos is appreciated for being genuine and engaging, especially for mid and senior engineers. [Reddit Link](https://www.reddit.com/r/webdev/comments/17pw3am/dev_influencers_who_say_theyre_honest_i_dont/)\n",
       "\n",
       "3. **I think Theo has made some mistakes in his rails demo**: Some criticism is noted, with a user claiming Theo tries too hard to be an influencer and that some of his content is paid. [Reddit Link](https://www.reddit.com/r/rails/comments/1gsosdy/i_think_theo_has_made_some_mistakes_in_his_rails/)\n",
       "\n",
       "4. **What YouTubers should I subscribe to to learn front end ...**: Theo is recommended alongside others for beginners, but with a cautionary note about potential demotivation. [Reddit Link](https://www.reddit.com/r/Frontend/comments/179ka8r/what_youtubers_should_i_subscribe_to_to_learn/)\n",
       "\n",
       "5. **Your favorite youtube channels for React videos/tutorials?**: Theo is seen more as an entertainer who can occasionally teach something rather than a mentor. [Reddit Link](https://www.reddit.com/r/reactjs/comments/16zvw20/your_favorite_youtube_channels_for_react/)\n",
       "\n",
       "6. **What (tech)YouTubers are you following and why?**: Some users don't agree with many things Theo says but find his streams informative. [Reddit Link](https://www.reddit.com/r/developersIndia/comments/11c65nj/what_techyoutubers_are_you_following_and_why/)\n",
       "\n",
       "7. **Why Theo is wrong & we'll get a Laravel for JavaScript**: Theo's content is compared unfavorably to others, suggesting a negative impression. [Reddit Link](https://www.reddit.com/r/javascript/comments/1d3d98w/why_theo_is_wrong_well_get_a_laravel_for/)\n",
       "\n",
       "Overall, the sentiment is mixed, with appreciation for his engaging style and informative content, but also criticism regarding his communication and some content being seen as clickbait or influenced by sponsorships."
      ],
      "text/plain": [
       "<IPython.core.display.Markdown object>"
      ]
     },
     "metadata": {},
     "output_type": "display_data"
    },
    {
     "name": "stdout",
     "output_type": "stream",
     "text": [
      "\n",
      "Scoring Output:\n"
     ]
    },
    {
     "data": {
      "text/markdown": [
       "{\n",
       "  \"score\": 8,\n",
       "  \"justification\": \"The partnership between Zero to Mastery and Theo - t3․gg scores an 8 out of 10. Theo's YouTube channel aligns well with Zero to Mastery's core values of quality education, community-driven growth, career-focused learning, and up-to-date tech stacks. His focus on full stack TypeScript and modern web development practices resonates with Zero to Mastery's audience, which is interested in enhancing their skills and staying updated with current trends. The channel's significant subscriber count and high engagement levels indicate a strong potential for reaching a wide audience. However, some criticisms exist regarding Theo's communication style and perceived influence by sponsorships, which slightly detract from the overall alignment. Despite these concerns, the partnership remains highly beneficial given the shared goals and audience interests.\""
      ],
      "text/plain": [
       "<IPython.core.display.Markdown object>"
      ]
     },
     "metadata": {},
     "output_type": "display_data"
    }
   ],
   "source": [
    "\n",
    "import json\n",
    "# Accessing the final outputs\n",
    "channel_research_output = result.tasks_output[0].raw\n",
    "videos_research_output = result.tasks_output[1].raw\n",
    "sentiment_output = result.tasks_output[2].raw\n",
    "scoring_output = result.tasks_output[3].raw\n",
    "\n",
    "print(\"Channel Research Output:\")\n",
    "display(Markdown(channel_research_output))\n",
    "\n",
    "print(\"\\nVideos Research Output:\")\n",
    "display(Markdown(videos_research_output))\n",
    "\n",
    "print(\"\\nSentiment Analysis Output:\")\n",
    "display(Markdown(sentiment_output))\n",
    "\n",
    "print(\"\\nScoring Output:\")\n",
    "display(Markdown(scoring_output))"
   ]
  }
 ],
 "metadata": {
  "colab": {
   "authorship_tag": "ABX9TyNytH8/NEY9LEmkzqpztmjx",
   "provenance": []
  },
  "kernelspec": {
   "display_name": "Python 3",
   "name": "python3"
  },
  "language_info": {
   "codemirror_mode": {
    "name": "ipython",
    "version": 3
   },
   "file_extension": ".py",
   "mimetype": "text/x-python",
   "name": "python",
   "nbconvert_exporter": "python",
   "pygments_lexer": "ipython3",
   "version": "3.11.11"
  }
 },
 "nbformat": 4,
 "nbformat_minor": 0
}
