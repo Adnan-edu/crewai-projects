{
 "cells": [
  {
   "cell_type": "code",
   "execution_count": 1,
   "id": "cf25ee78",
   "metadata": {},
   "outputs": [
    {
     "data": {
      "text/plain": [
       "True"
      ]
     },
     "execution_count": 1,
     "metadata": {},
     "output_type": "execute_result"
    }
   ],
   "source": [
    "from dotenv import load_dotenv, find_dotenv\n",
    "load_dotenv(find_dotenv(), override=True)"
   ]
  },
  {
   "cell_type": "code",
   "execution_count": 2,
   "id": "717e15e5",
   "metadata": {},
   "outputs": [],
   "source": [
    "# Import Libraries\n",
    "from langchain_openai import ChatOpenAI\n",
    "from crewai import Agent, Process, Crew, Task\n",
    "from IPython.display import display, Markdown\n",
    "import os"
   ]
  },
  {
   "cell_type": "code",
   "execution_count": 3,
   "id": "31225b56",
   "metadata": {},
   "outputs": [],
   "source": [
    "# Define the LLM\n",
    "llm = ChatOpenAI(model_name=\"gpt-4o\", temperature=0.5)"
   ]
  },
  {
   "cell_type": "markdown",
   "id": "e50e221b",
   "metadata": {},
   "source": [
    "# Get the data\n",
    "\n",
    "*   Interviewer\n",
    "*   company\n",
    "*   job position\n",
    "*   job description"
   ]
  },
  {
   "cell_type": "code",
   "execution_count": 4,
   "id": "23de699d",
   "metadata": {},
   "outputs": [],
   "source": [
    "# Store the data\n",
    "interviewer = input(\"Enter the name of the interviewer: \")\n",
    "company = input(\"Enter the name of the company: \")\n",
    "job_position = input(\"Enter the job position: \")\n",
    "job_description = input(\"Enter the job description: \")"
   ]
  },
  {
   "cell_type": "markdown",
   "id": "ec0e6cf3",
   "metadata": {},
   "source": [
    "## CrewAI\n",
    "\n",
    "**Interviewer Agent**: It challenges you with different angles\n",
    "\n",
    "**Coach Agent**: Refine your responses with clear feedback on areas to improve\n",
    "\n",
    "**Crew**: Coordinates roles and tasks, delivering feedback and questions at the right time. \n",
    "\n",
    "You can modify roles, goals or backstories to simulate scenarios"
   ]
  },
  {
   "cell_type": "markdown",
   "id": "7a6bbff9",
   "metadata": {},
   "source": [
    "## Interviewer AI Agent"
   ]
  },
  {
   "cell_type": "code",
   "execution_count": 6,
   "id": "4880629a",
   "metadata": {},
   "outputs": [],
   "source": [
    "# Create the interviewer AI Agent\n",
    "interviewer_agent = Agent(\n",
    "    role = f\" You are {interviewer}, employed at {company}, and hiring for job position {job_position}\",\n",
    "    goal = f\" you help the user user prepare for the job interview for job {job_position} with the following description: {job_description}\",\n",
    "    backstory = \"\"\"\n",
    "    Experience\n",
    "    BEAT81\n",
    "    Analytics Engineer\n",
    "\n",
    "    BEAT81 · Full-timeBEAT81 · Full-time\n",
    "    Apr 2024 - Present · 11 mos\n",
    "    Berlin, Germany\n",
    "    diconium\n",
    "    Full-time · 4 yrs 2 mosFull-time · 4 yrs 2 mos\n",
    "\n",
    "    Senior Cloud Architect\n",
    "    Apr 2022 - Mar 2024 · 2 yrs\n",
    "    Microsoft Azure, DBT and +4 skills\n",
    "\n",
    "    Data Engineer\n",
    "    Jan 2021 - Mar 2022 · 1 yr 3 mosJan 2021 to Mar 2022 · 1 yr 3 mos\n",
    "    DBT, AWS and +4 skills\n",
    "\n",
    "    Data Scientist\n",
    "    Feb 2020 - Dec 2020 · 11 mos\n",
    "    SQL and Python\n",
    "    4flow logo\n",
    "\n",
    "    Data Scientist\n",
    "    4flow · Full-time4flow · Full-time\n",
    "    Jun 2019 - Dec 2019 · 7 mosJun 2019 to Dec 2019 · 7 mos\n",
    "    SQL and Python\n",
    "    DCMN\n",
    "    Full-time · 3 yrs 3 mos\n",
    "\n",
    "    Data Scientist\n",
    "    Apr 2017 - Apr 2019 · 2 yrs 1 moApr 2017 to Apr 2019 · 2 yrs 1 mo\n",
    "    SQL and Python\n",
    "    Data Analyst / Business Intelligence Manager\n",
    "\n",
    "    Feb 2016 - Mar 2017 · 1 yr 2 mosFeb 2016 to Mar 2017 · 1 yr 2 mos\n",
    "    SQL and Python\n",
    "    iversity logo\n",
    "\n",
    "    Data Analyst\n",
    "    iversity · Full-timeiversity · Full-time\n",
    "    Dec 2014 - Dec 2015 · 1 yr 1 moDec 2014 to Dec 2015 · 1 yr 1 mo\n",
    "    SQL and R\n",
    "\n",
    "    Education\n",
    "    Technische Universität Berlin\n",
    "    Master of Science - MS, Computational Neuroscience\n",
    "    Sep 2009 - Aug 2013\n",
    "\n",
    "    Universität Osnabrück\n",
    "    Bachelor of Science - BS, Cognitive ScienceBachelor of Science - BS, Cognitive Science\n",
    "    \"\"\",\n",
    "    llm = llm\n",
    ")"
   ]
  },
  {
   "cell_type": "code",
   "execution_count": 9,
   "id": "47b1ed62",
   "metadata": {},
   "outputs": [],
   "source": [
    "# Define the interview prep task\n",
    "interview_prep_task = Task(\n",
    "    description = f\"\"\"\n",
    "    Interview the user for the job {job_position} with the following description: {job_description}\n",
    "    \"\"\",\n",
    "    expected_output = f\"\"\"\n",
    "    ask only one question to the user that is relevant for the job {job_position} that has not been asked before\n",
    "    \"\"\",\n",
    "    agent = interviewer_agent,\n",
    "    human_input = True\n",
    ")"
   ]
  },
  {
   "cell_type": "markdown",
   "id": "f71377e4",
   "metadata": {},
   "source": [
    "## AI Crew"
   ]
  },
  {
   "cell_type": "code",
   "execution_count": 10,
   "id": "5e165b3b",
   "metadata": {},
   "outputs": [
    {
     "data": {
      "text/html": [
       "<pre style=\"white-space:pre;overflow-x:auto;line-height:normal;font-family:Menlo,'DejaVu Sans Mono',consolas,'Courier New',monospace\"><span style=\"color: #008080; text-decoration-color: #008080\">╭──────────────────────────────────────────── Crew Execution Started ─────────────────────────────────────────────╮</span>\n",
       "<span style=\"color: #008080; text-decoration-color: #008080\">│</span>                                                                                                                 <span style=\"color: #008080; text-decoration-color: #008080\">│</span>\n",
       "<span style=\"color: #008080; text-decoration-color: #008080\">│</span>  <span style=\"color: #008080; text-decoration-color: #008080; font-weight: bold\">Crew Execution Started</span>                                                                                         <span style=\"color: #008080; text-decoration-color: #008080\">│</span>\n",
       "<span style=\"color: #008080; text-decoration-color: #008080\">│</span>  <span style=\"color: #c0c0c0; text-decoration-color: #c0c0c0\">Name: </span><span style=\"color: #008080; text-decoration-color: #008080\">crew</span>                                                                                                     <span style=\"color: #008080; text-decoration-color: #008080\">│</span>\n",
       "<span style=\"color: #008080; text-decoration-color: #008080\">│</span>  <span style=\"color: #c0c0c0; text-decoration-color: #c0c0c0\">ID: </span><span style=\"color: #008080; text-decoration-color: #008080\">e56a9707-2da0-4a6d-b9d4-83c3877912a2</span>                                                                       <span style=\"color: #008080; text-decoration-color: #008080\">│</span>\n",
       "<span style=\"color: #008080; text-decoration-color: #008080\">│</span>                                                                                                                 <span style=\"color: #008080; text-decoration-color: #008080\">│</span>\n",
       "<span style=\"color: #008080; text-decoration-color: #008080\">│</span>                                                                                                                 <span style=\"color: #008080; text-decoration-color: #008080\">│</span>\n",
       "<span style=\"color: #008080; text-decoration-color: #008080\">╰─────────────────────────────────────────────────────────────────────────────────────────────────────────────────╯</span>\n",
       "</pre>\n"
      ],
      "text/plain": [
       "\u001b[36m╭─\u001b[0m\u001b[36m───────────────────────────────────────────\u001b[0m\u001b[36m Crew Execution Started \u001b[0m\u001b[36m────────────────────────────────────────────\u001b[0m\u001b[36m─╮\u001b[0m\n",
       "\u001b[36m│\u001b[0m                                                                                                                 \u001b[36m│\u001b[0m\n",
       "\u001b[36m│\u001b[0m  \u001b[1;36mCrew Execution Started\u001b[0m                                                                                         \u001b[36m│\u001b[0m\n",
       "\u001b[36m│\u001b[0m  \u001b[37mName: \u001b[0m\u001b[36mcrew\u001b[0m                                                                                                     \u001b[36m│\u001b[0m\n",
       "\u001b[36m│\u001b[0m  \u001b[37mID: \u001b[0m\u001b[36me56a9707-2da0-4a6d-b9d4-83c3877912a2\u001b[0m                                                                       \u001b[36m│\u001b[0m\n",
       "\u001b[36m│\u001b[0m                                                                                                                 \u001b[36m│\u001b[0m\n",
       "\u001b[36m│\u001b[0m                                                                                                                 \u001b[36m│\u001b[0m\n",
       "\u001b[36m╰─────────────────────────────────────────────────────────────────────────────────────────────────────────────────╯\u001b[0m\n"
      ]
     },
     "metadata": {},
     "output_type": "display_data"
    },
    {
     "data": {
      "text/html": [
       "<pre style=\"white-space:pre;overflow-x:auto;line-height:normal;font-family:Menlo,'DejaVu Sans Mono',consolas,'Courier New',monospace\">\n",
       "</pre>\n"
      ],
      "text/plain": [
       "\n"
      ]
     },
     "metadata": {},
     "output_type": "display_data"
    },
    {
     "data": {
      "text/html": [
       "<pre style=\"white-space:pre;overflow-x:auto;line-height:normal;font-family:Menlo,'DejaVu Sans Mono',consolas,'Courier New',monospace\"><span style=\"color: #008080; text-decoration-color: #008080; font-weight: bold\">🚀 Crew: crew</span>\n",
       "└── <span style=\"color: #808000; text-decoration-color: #808000; font-weight: bold\">📋 Task: 4a408fca-9a55-4c1c-9757-5f35e660ebce</span>\n",
       "    <span style=\"color: #c0c0c0; text-decoration-color: #c0c0c0\">   Status: </span><span style=\"color: #bfbf7f; text-decoration-color: #bfbf7f\">Executing Task...</span>\n",
       "</pre>\n"
      ],
      "text/plain": [
       "\u001b[1;36m🚀 Crew: \u001b[0m\u001b[1;36mcrew\u001b[0m\n",
       "└── \u001b[1;33m📋 Task: 4a408fca-9a55-4c1c-9757-5f35e660ebce\u001b[0m\n",
       "    \u001b[37m   Status: \u001b[0m\u001b[2;33mExecuting Task...\u001b[0m\n"
      ]
     },
     "metadata": {},
     "output_type": "display_data"
    },
    {
     "data": {
      "text/html": [
       "<pre style=\"white-space:pre;overflow-x:auto;line-height:normal;font-family:Menlo,'DejaVu Sans Mono',consolas,'Courier New',monospace\">\n",
       "</pre>\n"
      ],
      "text/plain": [
       "\n"
      ]
     },
     "metadata": {},
     "output_type": "display_data"
    },
    {
     "data": {
      "text/html": [
       "<pre style=\"white-space:pre;overflow-x:auto;line-height:normal;font-family:Menlo,'DejaVu Sans Mono',consolas,'Courier New',monospace\"><span style=\"color: #008080; text-decoration-color: #008080; font-weight: bold\">🚀 Crew: crew</span>\n",
       "└── <span style=\"color: #808000; text-decoration-color: #808000; font-weight: bold\">📋 Task: 4a408fca-9a55-4c1c-9757-5f35e660ebce</span>\n",
       "    <span style=\"color: #c0c0c0; text-decoration-color: #c0c0c0\">   Status: </span><span style=\"color: #bfbf7f; text-decoration-color: #bfbf7f\">Executing Task...</span>\n",
       "    └── <span style=\"color: #008000; text-decoration-color: #008000; font-weight: bold\">🤖 Agent: </span><span style=\"color: #008000; text-decoration-color: #008000\"> You are Matthias Glöel, employed at Beat81, and hiring for job position Data Analytics Working </span>\n",
       "        <span style=\"color: #008000; text-decoration-color: #008000\">Student</span>\n",
       "        <span style=\"color: #c0c0c0; text-decoration-color: #c0c0c0\">    Status: </span><span style=\"color: #008000; text-decoration-color: #008000; font-weight: bold\">In Progress</span>\n",
       "</pre>\n"
      ],
      "text/plain": [
       "\u001b[1;36m🚀 Crew: \u001b[0m\u001b[1;36mcrew\u001b[0m\n",
       "└── \u001b[1;33m📋 Task: 4a408fca-9a55-4c1c-9757-5f35e660ebce\u001b[0m\n",
       "    \u001b[37m   Status: \u001b[0m\u001b[2;33mExecuting Task...\u001b[0m\n",
       "    └── \u001b[1;32m🤖 Agent: \u001b[0m\u001b[32m You are Matthias Glöel, employed at Beat81, and hiring for job position Data Analytics Working \u001b[0m\n",
       "        \u001b[32mStudent\u001b[0m\n",
       "        \u001b[37m    Status: \u001b[0m\u001b[1;32mIn Progress\u001b[0m\n"
      ]
     },
     "metadata": {},
     "output_type": "display_data"
    },
    {
     "data": {
      "text/html": [
       "<pre style=\"white-space:pre;overflow-x:auto;line-height:normal;font-family:Menlo,'DejaVu Sans Mono',consolas,'Courier New',monospace\">\n",
       "</pre>\n"
      ],
      "text/plain": [
       "\n"
      ]
     },
     "metadata": {},
     "output_type": "display_data"
    },
    {
     "name": "stdout",
     "output_type": "stream",
     "text": [
      "\u001b[1m\u001b[95m# Agent:\u001b[00m \u001b[1m\u001b[92m You are Matthias Glöel, employed at Beat81, and hiring for job position Data Analytics Working Student\u001b[00m\n",
      "\u001b[95m## Task:\u001b[00m \u001b[92m\n",
      "    Interview the user for the job Data Analytics Working Student with the following description: About the Role As a Working Student in our Analytics Team, you will work closely with our Tech, Product, Marketing and Operations team to support our daily operations with analytical insights and help us to grow. You will be joining a dynamic, fast-paced start-up where you’ll have ownership and impact from day one!  Your Responsibilities Collaborate with stakeholders to understand data requirements  Support teams with data and analytics requests and provide analytics solutions  Create and maintain company dashboards  Carry out stand-alone analytics projects in marketing, operations or product  Assist in developing, improving and scaling existing data pipelines  Your Profile Currently enrolled in a relevant study program with a strong quantitative background (e.g. mathematics, computer science, data science, business informatics etc.)  Good knowledge of Google Sheets  Good Knowledge of SQL  Good Knowledge of Python  Knowledge of common data visualization tools (e.g. Tableau, Lookerstudio etc.)  Knowledge of dbt, GCP, BigQuery is a plus  Fluent in English  OUR OFFER  WALK THE TALK: Unlimited BEAT81 workouts for you and one family member/friend: we guarantee that you will get fit working here :)  YOUR DEVICE: Everyone has their own preferences when it comes to technology - whether it’s Mac or Windows - you choose your laptop. Additionally, we provide Bose noise-canceling headphones  HYBRID WORK: We have a beautiful office in the heart of Berlin (Weinmeisterstraße) with free drinks, healthy snacks and fruits. We like to spend time there together, but you are also welcome to work from home  FLEXIBLE WORKING HOURS: Early bird or late riser? Shape your workday to align with your personal commitments and preferences in coordination with your team and the business needs  TEAM RITUALS: Shared experiences build a strong team culture. That’s why we have our usuals such as regular all hands meetings, Aperol Thursdays and joint workouts - there is something for everyone  TEAM EVENTS: Our summer and Christmas parties have become as legendary as our annual off-sites and the perfect occasion to spend quality time with team members\n",
      "    \u001b[00m\n",
      "\n",
      "\n",
      "\u001b[1m\u001b[95m# Agent:\u001b[00m \u001b[1m\u001b[92m You are Matthias Glöel, employed at Beat81, and hiring for job position Data Analytics Working Student\u001b[00m\n",
      "\u001b[95m## Final Answer:\u001b[00m \u001b[92m\n",
      "Could you share an example of a project or experience where you used data analytics to solve a problem or provide insights, and describe the tools and methods you used?\u001b[00m\n",
      "\n",
      "\n",
      "\u001b[1m\u001b[95m ## Final Result:\u001b[00m \u001b[92mCould you share an example of a project or experience where you used data analytics to solve a problem or provide insights, and describe the tools and methods you used?\u001b[00m\n",
      "\u001b[1m\u001b[93m \n",
      "\n",
      "=====\n",
      "## HUMAN FEEDBACK: Provide feedback on the Final Result and Agent's actions.\n",
      "Please follow these guidelines:\n",
      " - If you are happy with the result, simply hit Enter without typing anything.\n",
      " - Otherwise, provide specific improvement requests.\n",
      " - You can provide multiple rounds of feedback until satisfied.\n",
      "=====\n",
      "\u001b[00m\n"
     ]
    },
    {
     "data": {
      "text/html": [
       "<pre style=\"white-space:pre;overflow-x:auto;line-height:normal;font-family:Menlo,'DejaVu Sans Mono',consolas,'Courier New',monospace\"><span style=\"color: #008080; text-decoration-color: #008080; font-weight: bold\">🚀 Crew: crew</span>\n",
       "└── <span style=\"color: #808000; text-decoration-color: #808000; font-weight: bold\">📋 Task: 4a408fca-9a55-4c1c-9757-5f35e660ebce</span>\n",
       "    <span style=\"color: #c0c0c0; text-decoration-color: #c0c0c0\">   Status: </span><span style=\"color: #bfbf7f; text-decoration-color: #bfbf7f\">Executing Task...</span>\n",
       "    └── <span style=\"color: #008000; text-decoration-color: #008000; font-weight: bold\">🤖 Agent: </span><span style=\"color: #008000; text-decoration-color: #008000\"> You are Matthias Glöel, employed at Beat81, and hiring for job position Data Analytics Working </span>\n",
       "        <span style=\"color: #008000; text-decoration-color: #008000\">Student</span>\n",
       "        <span style=\"color: #c0c0c0; text-decoration-color: #c0c0c0\">    Status: </span><span style=\"color: #008000; text-decoration-color: #008000; font-weight: bold\">✅ Completed</span>\n",
       "</pre>\n"
      ],
      "text/plain": [
       "\u001b[1;36m🚀 Crew: \u001b[0m\u001b[1;36mcrew\u001b[0m\n",
       "└── \u001b[1;33m📋 Task: 4a408fca-9a55-4c1c-9757-5f35e660ebce\u001b[0m\n",
       "    \u001b[37m   Status: \u001b[0m\u001b[2;33mExecuting Task...\u001b[0m\n",
       "    └── \u001b[1;32m🤖 Agent: \u001b[0m\u001b[32m You are Matthias Glöel, employed at Beat81, and hiring for job position Data Analytics Working \u001b[0m\n",
       "        \u001b[32mStudent\u001b[0m\n",
       "        \u001b[37m    Status: \u001b[0m\u001b[1;32m✅ Completed\u001b[0m\n"
      ]
     },
     "metadata": {},
     "output_type": "display_data"
    },
    {
     "data": {
      "text/html": [
       "<pre style=\"white-space:pre;overflow-x:auto;line-height:normal;font-family:Menlo,'DejaVu Sans Mono',consolas,'Courier New',monospace\">\n",
       "</pre>\n"
      ],
      "text/plain": [
       "\n"
      ]
     },
     "metadata": {},
     "output_type": "display_data"
    },
    {
     "data": {
      "text/html": [
       "<pre style=\"white-space:pre;overflow-x:auto;line-height:normal;font-family:Menlo,'DejaVu Sans Mono',consolas,'Courier New',monospace\"><span style=\"color: #008080; text-decoration-color: #008080; font-weight: bold\">🚀 Crew: crew</span>\n",
       "└── <span style=\"color: #008000; text-decoration-color: #008000; font-weight: bold\">📋 Task: 4a408fca-9a55-4c1c-9757-5f35e660ebce</span>\n",
       "    <span style=\"color: #c0c0c0; text-decoration-color: #c0c0c0\">   Assigned to: </span><span style=\"color: #008000; text-decoration-color: #008000\"> You are Matthias Glöel, employed at Beat81, and hiring for job position Data Analytics Working</span>\n",
       "    <span style=\"color: #008000; text-decoration-color: #008000\">Student</span>\n",
       "    <span style=\"color: #c0c0c0; text-decoration-color: #c0c0c0\">   Status: </span><span style=\"color: #008000; text-decoration-color: #008000; font-weight: bold\">✅ Completed</span>\n",
       "    └── <span style=\"color: #008000; text-decoration-color: #008000; font-weight: bold\">🤖 Agent: </span><span style=\"color: #008000; text-decoration-color: #008000\"> You are Matthias Glöel, employed at Beat81, and hiring for job position Data Analytics Working </span>\n",
       "        <span style=\"color: #008000; text-decoration-color: #008000\">Student</span>\n",
       "        <span style=\"color: #c0c0c0; text-decoration-color: #c0c0c0\">    Status: </span><span style=\"color: #008000; text-decoration-color: #008000; font-weight: bold\">✅ Completed</span>\n",
       "</pre>\n"
      ],
      "text/plain": [
       "\u001b[1;36m🚀 Crew: \u001b[0m\u001b[1;36mcrew\u001b[0m\n",
       "└── \u001b[1;32m📋 Task: 4a408fca-9a55-4c1c-9757-5f35e660ebce\u001b[0m\n",
       "    \u001b[37m   Assigned to: \u001b[0m\u001b[32m You are Matthias Glöel, employed at Beat81, and hiring for job position Data Analytics Working\u001b[0m\n",
       "    \u001b[32mStudent\u001b[0m\n",
       "    \u001b[37m   Status: \u001b[0m\u001b[1;32m✅ Completed\u001b[0m\n",
       "    └── \u001b[1;32m🤖 Agent: \u001b[0m\u001b[32m You are Matthias Glöel, employed at Beat81, and hiring for job position Data Analytics Working \u001b[0m\n",
       "        \u001b[32mStudent\u001b[0m\n",
       "        \u001b[37m    Status: \u001b[0m\u001b[1;32m✅ Completed\u001b[0m\n"
      ]
     },
     "metadata": {},
     "output_type": "display_data"
    },
    {
     "data": {
      "text/html": [
       "<pre style=\"white-space:pre;overflow-x:auto;line-height:normal;font-family:Menlo,'DejaVu Sans Mono',consolas,'Courier New',monospace\"><span style=\"color: #008000; text-decoration-color: #008000\">╭──────────────────────────────────────────────── Task Completion ────────────────────────────────────────────────╮</span>\n",
       "<span style=\"color: #008000; text-decoration-color: #008000\">│</span>                                                                                                                 <span style=\"color: #008000; text-decoration-color: #008000\">│</span>\n",
       "<span style=\"color: #008000; text-decoration-color: #008000\">│</span>  <span style=\"color: #008000; text-decoration-color: #008000; font-weight: bold\">Task Completed</span>                                                                                                 <span style=\"color: #008000; text-decoration-color: #008000\">│</span>\n",
       "<span style=\"color: #008000; text-decoration-color: #008000\">│</span>  <span style=\"color: #c0c0c0; text-decoration-color: #c0c0c0\">Name: </span><span style=\"color: #008000; text-decoration-color: #008000\">4a408fca-9a55-4c1c-9757-5f35e660ebce</span>                                                                     <span style=\"color: #008000; text-decoration-color: #008000\">│</span>\n",
       "<span style=\"color: #008000; text-decoration-color: #008000\">│</span>  <span style=\"color: #c0c0c0; text-decoration-color: #c0c0c0\">Agent: </span><span style=\"color: #008000; text-decoration-color: #008000\"> You are Matthias Glöel, employed at Beat81, and hiring for job position Data Analytics Working </span>        <span style=\"color: #008000; text-decoration-color: #008000\">│</span>\n",
       "<span style=\"color: #008000; text-decoration-color: #008000\">│</span>  <span style=\"color: #008000; text-decoration-color: #008000\">Student</span>                                                                                                        <span style=\"color: #008000; text-decoration-color: #008000\">│</span>\n",
       "<span style=\"color: #008000; text-decoration-color: #008000\">│</span>                                                                                                                 <span style=\"color: #008000; text-decoration-color: #008000\">│</span>\n",
       "<span style=\"color: #008000; text-decoration-color: #008000\">│</span>                                                                                                                 <span style=\"color: #008000; text-decoration-color: #008000\">│</span>\n",
       "<span style=\"color: #008000; text-decoration-color: #008000\">╰─────────────────────────────────────────────────────────────────────────────────────────────────────────────────╯</span>\n",
       "</pre>\n"
      ],
      "text/plain": [
       "\u001b[32m╭─\u001b[0m\u001b[32m───────────────────────────────────────────────\u001b[0m\u001b[32m Task Completion \u001b[0m\u001b[32m───────────────────────────────────────────────\u001b[0m\u001b[32m─╮\u001b[0m\n",
       "\u001b[32m│\u001b[0m                                                                                                                 \u001b[32m│\u001b[0m\n",
       "\u001b[32m│\u001b[0m  \u001b[1;32mTask Completed\u001b[0m                                                                                                 \u001b[32m│\u001b[0m\n",
       "\u001b[32m│\u001b[0m  \u001b[37mName: \u001b[0m\u001b[32m4a408fca-9a55-4c1c-9757-5f35e660ebce\u001b[0m                                                                     \u001b[32m│\u001b[0m\n",
       "\u001b[32m│\u001b[0m  \u001b[37mAgent: \u001b[0m\u001b[32m You are Matthias Glöel, employed at Beat81, and hiring for job position Data Analytics Working \u001b[0m        \u001b[32m│\u001b[0m\n",
       "\u001b[32m│\u001b[0m  \u001b[32mStudent\u001b[0m                                                                                                        \u001b[32m│\u001b[0m\n",
       "\u001b[32m│\u001b[0m                                                                                                                 \u001b[32m│\u001b[0m\n",
       "\u001b[32m│\u001b[0m                                                                                                                 \u001b[32m│\u001b[0m\n",
       "\u001b[32m╰─────────────────────────────────────────────────────────────────────────────────────────────────────────────────╯\u001b[0m\n"
      ]
     },
     "metadata": {},
     "output_type": "display_data"
    },
    {
     "data": {
      "text/html": [
       "<pre style=\"white-space:pre;overflow-x:auto;line-height:normal;font-family:Menlo,'DejaVu Sans Mono',consolas,'Courier New',monospace\">\n",
       "</pre>\n"
      ],
      "text/plain": [
       "\n"
      ]
     },
     "metadata": {},
     "output_type": "display_data"
    },
    {
     "data": {
      "text/html": [
       "<pre style=\"white-space:pre;overflow-x:auto;line-height:normal;font-family:Menlo,'DejaVu Sans Mono',consolas,'Courier New',monospace\"><span style=\"color: #008000; text-decoration-color: #008000\">╭──────────────────────────────────────────────── Crew Completion ────────────────────────────────────────────────╮</span>\n",
       "<span style=\"color: #008000; text-decoration-color: #008000\">│</span>                                                                                                                 <span style=\"color: #008000; text-decoration-color: #008000\">│</span>\n",
       "<span style=\"color: #008000; text-decoration-color: #008000\">│</span>  <span style=\"color: #008000; text-decoration-color: #008000; font-weight: bold\">Crew Execution Completed</span>                                                                                       <span style=\"color: #008000; text-decoration-color: #008000\">│</span>\n",
       "<span style=\"color: #008000; text-decoration-color: #008000\">│</span>  <span style=\"color: #c0c0c0; text-decoration-color: #c0c0c0\">Name: </span><span style=\"color: #008000; text-decoration-color: #008000\">crew</span>                                                                                                     <span style=\"color: #008000; text-decoration-color: #008000\">│</span>\n",
       "<span style=\"color: #008000; text-decoration-color: #008000\">│</span>  <span style=\"color: #c0c0c0; text-decoration-color: #c0c0c0\">ID: </span><span style=\"color: #008000; text-decoration-color: #008000\">e56a9707-2da0-4a6d-b9d4-83c3877912a2</span>                                                                       <span style=\"color: #008000; text-decoration-color: #008000\">│</span>\n",
       "<span style=\"color: #008000; text-decoration-color: #008000\">│</span>                                                                                                                 <span style=\"color: #008000; text-decoration-color: #008000\">│</span>\n",
       "<span style=\"color: #008000; text-decoration-color: #008000\">│</span>                                                                                                                 <span style=\"color: #008000; text-decoration-color: #008000\">│</span>\n",
       "<span style=\"color: #008000; text-decoration-color: #008000\">╰─────────────────────────────────────────────────────────────────────────────────────────────────────────────────╯</span>\n",
       "</pre>\n"
      ],
      "text/plain": [
       "\u001b[32m╭─\u001b[0m\u001b[32m───────────────────────────────────────────────\u001b[0m\u001b[32m Crew Completion \u001b[0m\u001b[32m───────────────────────────────────────────────\u001b[0m\u001b[32m─╮\u001b[0m\n",
       "\u001b[32m│\u001b[0m                                                                                                                 \u001b[32m│\u001b[0m\n",
       "\u001b[32m│\u001b[0m  \u001b[1;32mCrew Execution Completed\u001b[0m                                                                                       \u001b[32m│\u001b[0m\n",
       "\u001b[32m│\u001b[0m  \u001b[37mName: \u001b[0m\u001b[32mcrew\u001b[0m                                                                                                     \u001b[32m│\u001b[0m\n",
       "\u001b[32m│\u001b[0m  \u001b[37mID: \u001b[0m\u001b[32me56a9707-2da0-4a6d-b9d4-83c3877912a2\u001b[0m                                                                       \u001b[32m│\u001b[0m\n",
       "\u001b[32m│\u001b[0m                                                                                                                 \u001b[32m│\u001b[0m\n",
       "\u001b[32m│\u001b[0m                                                                                                                 \u001b[32m│\u001b[0m\n",
       "\u001b[32m╰─────────────────────────────────────────────────────────────────────────────────────────────────────────────────╯\u001b[0m\n"
      ]
     },
     "metadata": {},
     "output_type": "display_data"
    },
    {
     "data": {
      "text/html": [
       "<pre style=\"white-space:pre;overflow-x:auto;line-height:normal;font-family:Menlo,'DejaVu Sans Mono',consolas,'Courier New',monospace\">\n",
       "</pre>\n"
      ],
      "text/plain": [
       "\n"
      ]
     },
     "metadata": {},
     "output_type": "display_data"
    }
   ],
   "source": [
    "crew = Crew(\n",
    "    agents = [interviewer_agent],\n",
    "    tasks = [interview_prep_task],\n",
    "    verbose = True,\n",
    "    process = Process.sequential\n",
    ")\n",
    "result = crew.kickoff()"
   ]
  },
  {
   "cell_type": "markdown",
   "id": "08ee86e8",
   "metadata": {},
   "source": [
    "## AI Coach"
   ]
  },
  {
   "cell_type": "code",
   "execution_count": 11,
   "id": "6cb8a80e",
   "metadata": {},
   "outputs": [],
   "source": [
    "# Build the AI interview coach agent\n",
    "coach_agent = Agent(\n",
    "    role = \"Interview Coach\",\n",
    "    goal = f\"I help the user prepare for the job interview for job {job_position} by grading the relevance of the answer\",\n",
    "    backstory = \"You are an expert in job interviews\",\n",
    "    llm = llm)"
   ]
  },
  {
   "cell_type": "code",
   "execution_count": null,
   "id": "ede69136",
   "metadata": {},
   "outputs": [],
   "source": [
    "# Define the Coaching Task\n",
    "coaching_task = Task(\n",
    "    description = \"\"\" Give feedback to the user on its answer \"\"\",\n",
    "    expected_output = f\"\"\" Give feedback to the user on its answer with a bullet points on what was good, bad, and how to take it to the next level\"\"\",\n",
    "    agent = coach_agent,\n",
    "    context = [interview_prep_task] # Other tasks whose outputs will be used as context for this task. -> Connect the two tasks\n",
    ")"
   ]
  },
  {
   "cell_type": "markdown",
   "id": "affb8334",
   "metadata": {},
   "source": [
    "## AI Crew\n",
    "\n",
    "####  Memory - Utilized for storing execution memories (Short-term, long-term, entity memory)"
   ]
  },
  {
   "cell_type": "code",
   "execution_count": 17,
   "id": "bd6cda09",
   "metadata": {},
   "outputs": [],
   "source": [
    "from crewai.knowledge.source.string_knowledge_source import StringKnowledgeSource"
   ]
  },
  {
   "cell_type": "code",
   "execution_count": 19,
   "id": "47c24aaa",
   "metadata": {},
   "outputs": [],
   "source": [
    "# Create an empty list for questions\n",
    "interview_questions = []\n",
    "\n",
    "# Store each question\n",
    "interview_questions.append(\"\")\n",
    "interview_content = ' '.join(interview_questions)\n",
    "string_source = StringKnowledgeSource(content = interview_content)"
   ]
  },
  {
   "cell_type": "code",
   "execution_count": 21,
   "id": "b875657b",
   "metadata": {},
   "outputs": [
    {
     "name": "stdout",
     "output_type": "stream",
     "text": [
      "\u001b[91m \n",
      "[2025-04-20 21:16:28][ERROR]: Failed to upsert documents: Non-empty lists are required for ['ids', 'documents'] in upsert.\u001b[00m\n",
      "\u001b[93m \n",
      "[2025-04-20 21:16:28][WARNING]: Failed to init knowledge: Non-empty lists are required for ['ids', 'documents'] in upsert.\u001b[00m\n"
     ]
    },
    {
     "data": {
      "text/html": [
       "<pre style=\"white-space:pre;overflow-x:auto;line-height:normal;font-family:Menlo,'DejaVu Sans Mono',consolas,'Courier New',monospace\"><span style=\"color: #008080; text-decoration-color: #008080\">╭──────────────────────────────────────────── Crew Execution Started ─────────────────────────────────────────────╮</span>\n",
       "<span style=\"color: #008080; text-decoration-color: #008080\">│</span>                                                                                                                 <span style=\"color: #008080; text-decoration-color: #008080\">│</span>\n",
       "<span style=\"color: #008080; text-decoration-color: #008080\">│</span>  <span style=\"color: #008080; text-decoration-color: #008080; font-weight: bold\">Crew Execution Started</span>                                                                                         <span style=\"color: #008080; text-decoration-color: #008080\">│</span>\n",
       "<span style=\"color: #008080; text-decoration-color: #008080\">│</span>  <span style=\"color: #c0c0c0; text-decoration-color: #c0c0c0\">Name: </span><span style=\"color: #008080; text-decoration-color: #008080\">crew</span>                                                                                                     <span style=\"color: #008080; text-decoration-color: #008080\">│</span>\n",
       "<span style=\"color: #008080; text-decoration-color: #008080\">│</span>  <span style=\"color: #c0c0c0; text-decoration-color: #c0c0c0\">ID: </span><span style=\"color: #008080; text-decoration-color: #008080\">aac2ec8b-6dea-4bc7-9763-3d31327dce36</span>                                                                       <span style=\"color: #008080; text-decoration-color: #008080\">│</span>\n",
       "<span style=\"color: #008080; text-decoration-color: #008080\">│</span>                                                                                                                 <span style=\"color: #008080; text-decoration-color: #008080\">│</span>\n",
       "<span style=\"color: #008080; text-decoration-color: #008080\">│</span>                                                                                                                 <span style=\"color: #008080; text-decoration-color: #008080\">│</span>\n",
       "<span style=\"color: #008080; text-decoration-color: #008080\">╰─────────────────────────────────────────────────────────────────────────────────────────────────────────────────╯</span>\n",
       "</pre>\n"
      ],
      "text/plain": [
       "\u001b[36m╭─\u001b[0m\u001b[36m───────────────────────────────────────────\u001b[0m\u001b[36m Crew Execution Started \u001b[0m\u001b[36m────────────────────────────────────────────\u001b[0m\u001b[36m─╮\u001b[0m\n",
       "\u001b[36m│\u001b[0m                                                                                                                 \u001b[36m│\u001b[0m\n",
       "\u001b[36m│\u001b[0m  \u001b[1;36mCrew Execution Started\u001b[0m                                                                                         \u001b[36m│\u001b[0m\n",
       "\u001b[36m│\u001b[0m  \u001b[37mName: \u001b[0m\u001b[36mcrew\u001b[0m                                                                                                     \u001b[36m│\u001b[0m\n",
       "\u001b[36m│\u001b[0m  \u001b[37mID: \u001b[0m\u001b[36maac2ec8b-6dea-4bc7-9763-3d31327dce36\u001b[0m                                                                       \u001b[36m│\u001b[0m\n",
       "\u001b[36m│\u001b[0m                                                                                                                 \u001b[36m│\u001b[0m\n",
       "\u001b[36m│\u001b[0m                                                                                                                 \u001b[36m│\u001b[0m\n",
       "\u001b[36m╰─────────────────────────────────────────────────────────────────────────────────────────────────────────────────╯\u001b[0m\n"
      ]
     },
     "metadata": {},
     "output_type": "display_data"
    },
    {
     "data": {
      "text/html": [
       "<pre style=\"white-space:pre;overflow-x:auto;line-height:normal;font-family:Menlo,'DejaVu Sans Mono',consolas,'Courier New',monospace\">\n",
       "</pre>\n"
      ],
      "text/plain": [
       "\n"
      ]
     },
     "metadata": {},
     "output_type": "display_data"
    },
    {
     "data": {
      "text/html": [
       "<pre style=\"white-space:pre;overflow-x:auto;line-height:normal;font-family:Menlo,'DejaVu Sans Mono',consolas,'Courier New',monospace\"><span style=\"color: #008080; text-decoration-color: #008080; font-weight: bold\">🚀 Crew: crew</span>\n",
       "└── <span style=\"color: #808000; text-decoration-color: #808000; font-weight: bold\">📋 Task: 4a408fca-9a55-4c1c-9757-5f35e660ebce</span>\n",
       "    <span style=\"color: #c0c0c0; text-decoration-color: #c0c0c0\">   Status: </span><span style=\"color: #bfbf7f; text-decoration-color: #bfbf7f\">Executing Task...</span>\n",
       "</pre>\n"
      ],
      "text/plain": [
       "\u001b[1;36m🚀 Crew: \u001b[0m\u001b[1;36mcrew\u001b[0m\n",
       "└── \u001b[1;33m📋 Task: 4a408fca-9a55-4c1c-9757-5f35e660ebce\u001b[0m\n",
       "    \u001b[37m   Status: \u001b[0m\u001b[2;33mExecuting Task...\u001b[0m\n"
      ]
     },
     "metadata": {},
     "output_type": "display_data"
    },
    {
     "data": {
      "text/html": [
       "<pre style=\"white-space:pre;overflow-x:auto;line-height:normal;font-family:Menlo,'DejaVu Sans Mono',consolas,'Courier New',monospace\">\n",
       "</pre>\n"
      ],
      "text/plain": [
       "\n"
      ]
     },
     "metadata": {},
     "output_type": "display_data"
    },
    {
     "data": {
      "text/html": [
       "<pre style=\"white-space:pre;overflow-x:auto;line-height:normal;font-family:Menlo,'DejaVu Sans Mono',consolas,'Courier New',monospace\"><span style=\"color: #008080; text-decoration-color: #008080; font-weight: bold\">🚀 Crew: crew</span>\n",
       "└── <span style=\"color: #808000; text-decoration-color: #808000; font-weight: bold\">📋 Task: 4a408fca-9a55-4c1c-9757-5f35e660ebce</span>\n",
       "    <span style=\"color: #c0c0c0; text-decoration-color: #c0c0c0\">   Status: </span><span style=\"color: #bfbf7f; text-decoration-color: #bfbf7f\">Executing Task...</span>\n",
       "    └── <span style=\"color: #008000; text-decoration-color: #008000; font-weight: bold\">🤖 Agent: </span><span style=\"color: #008000; text-decoration-color: #008000\"> You are Matthias Glöel, employed at Beat81, and hiring for job position Data Analytics Working </span>\n",
       "        <span style=\"color: #008000; text-decoration-color: #008000\">Student</span>\n",
       "        <span style=\"color: #c0c0c0; text-decoration-color: #c0c0c0\">    Status: </span><span style=\"color: #008000; text-decoration-color: #008000; font-weight: bold\">In Progress</span>\n",
       "</pre>\n"
      ],
      "text/plain": [
       "\u001b[1;36m🚀 Crew: \u001b[0m\u001b[1;36mcrew\u001b[0m\n",
       "└── \u001b[1;33m📋 Task: 4a408fca-9a55-4c1c-9757-5f35e660ebce\u001b[0m\n",
       "    \u001b[37m   Status: \u001b[0m\u001b[2;33mExecuting Task...\u001b[0m\n",
       "    └── \u001b[1;32m🤖 Agent: \u001b[0m\u001b[32m You are Matthias Glöel, employed at Beat81, and hiring for job position Data Analytics Working \u001b[0m\n",
       "        \u001b[32mStudent\u001b[0m\n",
       "        \u001b[37m    Status: \u001b[0m\u001b[1;32mIn Progress\u001b[0m\n"
      ]
     },
     "metadata": {},
     "output_type": "display_data"
    },
    {
     "data": {
      "text/html": [
       "<pre style=\"white-space:pre;overflow-x:auto;line-height:normal;font-family:Menlo,'DejaVu Sans Mono',consolas,'Courier New',monospace\">\n",
       "</pre>\n"
      ],
      "text/plain": [
       "\n"
      ]
     },
     "metadata": {},
     "output_type": "display_data"
    },
    {
     "name": "stdout",
     "output_type": "stream",
     "text": [
      "\u001b[1m\u001b[95m# Agent:\u001b[00m \u001b[1m\u001b[92m You are Matthias Glöel, employed at Beat81, and hiring for job position Data Analytics Working Student\u001b[00m\n",
      "\u001b[95m## Task:\u001b[00m \u001b[92m\n",
      "    Interview the user for the job Data Analytics Working Student with the following description: About the Role As a Working Student in our Analytics Team, you will work closely with our Tech, Product, Marketing and Operations team to support our daily operations with analytical insights and help us to grow. You will be joining a dynamic, fast-paced start-up where you’ll have ownership and impact from day one!  Your Responsibilities Collaborate with stakeholders to understand data requirements  Support teams with data and analytics requests and provide analytics solutions  Create and maintain company dashboards  Carry out stand-alone analytics projects in marketing, operations or product  Assist in developing, improving and scaling existing data pipelines  Your Profile Currently enrolled in a relevant study program with a strong quantitative background (e.g. mathematics, computer science, data science, business informatics etc.)  Good knowledge of Google Sheets  Good Knowledge of SQL  Good Knowledge of Python  Knowledge of common data visualization tools (e.g. Tableau, Lookerstudio etc.)  Knowledge of dbt, GCP, BigQuery is a plus  Fluent in English  OUR OFFER  WALK THE TALK: Unlimited BEAT81 workouts for you and one family member/friend: we guarantee that you will get fit working here :)  YOUR DEVICE: Everyone has their own preferences when it comes to technology - whether it’s Mac or Windows - you choose your laptop. Additionally, we provide Bose noise-canceling headphones  HYBRID WORK: We have a beautiful office in the heart of Berlin (Weinmeisterstraße) with free drinks, healthy snacks and fruits. We like to spend time there together, but you are also welcome to work from home  FLEXIBLE WORKING HOURS: Early bird or late riser? Shape your workday to align with your personal commitments and preferences in coordination with your team and the business needs  TEAM RITUALS: Shared experiences build a strong team culture. That’s why we have our usuals such as regular all hands meetings, Aperol Thursdays and joint workouts - there is something for everyone  TEAM EVENTS: Our summer and Christmas parties have become as legendary as our annual off-sites and the perfect occasion to spend quality time with team members\n",
      "    \u001b[00m\n",
      "\n",
      "\n",
      "\u001b[1m\u001b[95m# Agent:\u001b[00m \u001b[1m\u001b[92m You are Matthias Glöel, employed at Beat81, and hiring for job position Data Analytics Working Student\u001b[00m\n",
      "\u001b[95m## Final Answer:\u001b[00m \u001b[92m\n",
      "Can you provide an example of a time when you used data visualization tools to effectively communicate complex data insights to a non-technical audience, and what was the impact of your communication on the decision-making process?\u001b[00m\n",
      "\n",
      "\n",
      "\u001b[1m\u001b[95m ## Final Result:\u001b[00m \u001b[92mCan you provide an example of a time when you used data visualization tools to effectively communicate complex data insights to a non-technical audience, and what was the impact of your communication on the decision-making process?\u001b[00m\n",
      "\u001b[1m\u001b[93m \n",
      "\n",
      "=====\n",
      "## HUMAN FEEDBACK: Provide feedback on the Final Result and Agent's actions.\n",
      "Please follow these guidelines:\n",
      " - If you are happy with the result, simply hit Enter without typing anything.\n",
      " - Otherwise, provide specific improvement requests.\n",
      " - You can provide multiple rounds of feedback until satisfied.\n",
      "=====\n",
      "\u001b[00m\n",
      "\u001b[96m \n",
      "Processing your feedback...\u001b[00m\n",
      "\n",
      "\n",
      "\u001b[1m\u001b[95m# Agent:\u001b[00m \u001b[1m\u001b[92m You are Matthias Glöel, employed at Beat81, and hiring for job position Data Analytics Working Student\u001b[00m\n",
      "\u001b[95m## Final Answer:\u001b[00m \u001b[92m\n",
      "How do you approach ensuring that the data pipelines you develop are scalable and adaptable to the evolving needs of a fast-paced startup environment like BEAT81?\u001b[00m\n",
      "\n",
      "\n",
      "\u001b[1m\u001b[95m ## Final Result:\u001b[00m \u001b[92mHow do you approach ensuring that the data pipelines you develop are scalable and adaptable to the evolving needs of a fast-paced startup environment like BEAT81?\u001b[00m\n",
      "\u001b[1m\u001b[93m \n",
      "\n",
      "=====\n",
      "## HUMAN FEEDBACK: Provide feedback on the Final Result and Agent's actions.\n",
      "Please follow these guidelines:\n",
      " - If you are happy with the result, simply hit Enter without typing anything.\n",
      " - Otherwise, provide specific improvement requests.\n",
      " - You can provide multiple rounds of feedback until satisfied.\n",
      "=====\n",
      "\u001b[00m\n"
     ]
    },
    {
     "data": {
      "text/html": [
       "<pre style=\"white-space:pre;overflow-x:auto;line-height:normal;font-family:Menlo,'DejaVu Sans Mono',consolas,'Courier New',monospace\"><span style=\"color: #008080; text-decoration-color: #008080; font-weight: bold\">🚀 Crew: crew</span>\n",
       "└── <span style=\"color: #808000; text-decoration-color: #808000; font-weight: bold\">📋 Task: 4a408fca-9a55-4c1c-9757-5f35e660ebce</span>\n",
       "    <span style=\"color: #c0c0c0; text-decoration-color: #c0c0c0\">   Status: </span><span style=\"color: #bfbf7f; text-decoration-color: #bfbf7f\">Executing Task...</span>\n",
       "    └── <span style=\"color: #008000; text-decoration-color: #008000; font-weight: bold\">🤖 Agent: </span><span style=\"color: #008000; text-decoration-color: #008000\"> You are Matthias Glöel, employed at Beat81, and hiring for job position Data Analytics Working </span>\n",
       "        <span style=\"color: #008000; text-decoration-color: #008000\">Student</span>\n",
       "        <span style=\"color: #c0c0c0; text-decoration-color: #c0c0c0\">    Status: </span><span style=\"color: #008000; text-decoration-color: #008000; font-weight: bold\">✅ Completed</span>\n",
       "</pre>\n"
      ],
      "text/plain": [
       "\u001b[1;36m🚀 Crew: \u001b[0m\u001b[1;36mcrew\u001b[0m\n",
       "└── \u001b[1;33m📋 Task: 4a408fca-9a55-4c1c-9757-5f35e660ebce\u001b[0m\n",
       "    \u001b[37m   Status: \u001b[0m\u001b[2;33mExecuting Task...\u001b[0m\n",
       "    └── \u001b[1;32m🤖 Agent: \u001b[0m\u001b[32m You are Matthias Glöel, employed at Beat81, and hiring for job position Data Analytics Working \u001b[0m\n",
       "        \u001b[32mStudent\u001b[0m\n",
       "        \u001b[37m    Status: \u001b[0m\u001b[1;32m✅ Completed\u001b[0m\n"
      ]
     },
     "metadata": {},
     "output_type": "display_data"
    },
    {
     "data": {
      "text/html": [
       "<pre style=\"white-space:pre;overflow-x:auto;line-height:normal;font-family:Menlo,'DejaVu Sans Mono',consolas,'Courier New',monospace\">\n",
       "</pre>\n"
      ],
      "text/plain": [
       "\n"
      ]
     },
     "metadata": {},
     "output_type": "display_data"
    },
    {
     "data": {
      "text/html": [
       "<pre style=\"white-space:pre;overflow-x:auto;line-height:normal;font-family:Menlo,'DejaVu Sans Mono',consolas,'Courier New',monospace\"><span style=\"color: #008080; text-decoration-color: #008080; font-weight: bold\">🚀 Crew: crew</span>\n",
       "└── <span style=\"color: #008000; text-decoration-color: #008000; font-weight: bold\">📋 Task: 4a408fca-9a55-4c1c-9757-5f35e660ebce</span>\n",
       "    <span style=\"color: #c0c0c0; text-decoration-color: #c0c0c0\">   Assigned to: </span><span style=\"color: #008000; text-decoration-color: #008000\"> You are Matthias Glöel, employed at Beat81, and hiring for job position Data Analytics Working</span>\n",
       "    <span style=\"color: #008000; text-decoration-color: #008000\">Student</span>\n",
       "    <span style=\"color: #c0c0c0; text-decoration-color: #c0c0c0\">   Status: </span><span style=\"color: #008000; text-decoration-color: #008000; font-weight: bold\">✅ Completed</span>\n",
       "    └── <span style=\"color: #008000; text-decoration-color: #008000; font-weight: bold\">🤖 Agent: </span><span style=\"color: #008000; text-decoration-color: #008000\"> You are Matthias Glöel, employed at Beat81, and hiring for job position Data Analytics Working </span>\n",
       "        <span style=\"color: #008000; text-decoration-color: #008000\">Student</span>\n",
       "        <span style=\"color: #c0c0c0; text-decoration-color: #c0c0c0\">    Status: </span><span style=\"color: #008000; text-decoration-color: #008000; font-weight: bold\">✅ Completed</span>\n",
       "</pre>\n"
      ],
      "text/plain": [
       "\u001b[1;36m🚀 Crew: \u001b[0m\u001b[1;36mcrew\u001b[0m\n",
       "└── \u001b[1;32m📋 Task: 4a408fca-9a55-4c1c-9757-5f35e660ebce\u001b[0m\n",
       "    \u001b[37m   Assigned to: \u001b[0m\u001b[32m You are Matthias Glöel, employed at Beat81, and hiring for job position Data Analytics Working\u001b[0m\n",
       "    \u001b[32mStudent\u001b[0m\n",
       "    \u001b[37m   Status: \u001b[0m\u001b[1;32m✅ Completed\u001b[0m\n",
       "    └── \u001b[1;32m🤖 Agent: \u001b[0m\u001b[32m You are Matthias Glöel, employed at Beat81, and hiring for job position Data Analytics Working \u001b[0m\n",
       "        \u001b[32mStudent\u001b[0m\n",
       "        \u001b[37m    Status: \u001b[0m\u001b[1;32m✅ Completed\u001b[0m\n"
      ]
     },
     "metadata": {},
     "output_type": "display_data"
    },
    {
     "data": {
      "text/html": [
       "<pre style=\"white-space:pre;overflow-x:auto;line-height:normal;font-family:Menlo,'DejaVu Sans Mono',consolas,'Courier New',monospace\"><span style=\"color: #008000; text-decoration-color: #008000\">╭──────────────────────────────────────────────── Task Completion ────────────────────────────────────────────────╮</span>\n",
       "<span style=\"color: #008000; text-decoration-color: #008000\">│</span>                                                                                                                 <span style=\"color: #008000; text-decoration-color: #008000\">│</span>\n",
       "<span style=\"color: #008000; text-decoration-color: #008000\">│</span>  <span style=\"color: #008000; text-decoration-color: #008000; font-weight: bold\">Task Completed</span>                                                                                                 <span style=\"color: #008000; text-decoration-color: #008000\">│</span>\n",
       "<span style=\"color: #008000; text-decoration-color: #008000\">│</span>  <span style=\"color: #c0c0c0; text-decoration-color: #c0c0c0\">Name: </span><span style=\"color: #008000; text-decoration-color: #008000\">4a408fca-9a55-4c1c-9757-5f35e660ebce</span>                                                                     <span style=\"color: #008000; text-decoration-color: #008000\">│</span>\n",
       "<span style=\"color: #008000; text-decoration-color: #008000\">│</span>  <span style=\"color: #c0c0c0; text-decoration-color: #c0c0c0\">Agent: </span><span style=\"color: #008000; text-decoration-color: #008000\"> You are Matthias Glöel, employed at Beat81, and hiring for job position Data Analytics Working </span>        <span style=\"color: #008000; text-decoration-color: #008000\">│</span>\n",
       "<span style=\"color: #008000; text-decoration-color: #008000\">│</span>  <span style=\"color: #008000; text-decoration-color: #008000\">Student</span>                                                                                                        <span style=\"color: #008000; text-decoration-color: #008000\">│</span>\n",
       "<span style=\"color: #008000; text-decoration-color: #008000\">│</span>                                                                                                                 <span style=\"color: #008000; text-decoration-color: #008000\">│</span>\n",
       "<span style=\"color: #008000; text-decoration-color: #008000\">│</span>                                                                                                                 <span style=\"color: #008000; text-decoration-color: #008000\">│</span>\n",
       "<span style=\"color: #008000; text-decoration-color: #008000\">╰─────────────────────────────────────────────────────────────────────────────────────────────────────────────────╯</span>\n",
       "</pre>\n"
      ],
      "text/plain": [
       "\u001b[32m╭─\u001b[0m\u001b[32m───────────────────────────────────────────────\u001b[0m\u001b[32m Task Completion \u001b[0m\u001b[32m───────────────────────────────────────────────\u001b[0m\u001b[32m─╮\u001b[0m\n",
       "\u001b[32m│\u001b[0m                                                                                                                 \u001b[32m│\u001b[0m\n",
       "\u001b[32m│\u001b[0m  \u001b[1;32mTask Completed\u001b[0m                                                                                                 \u001b[32m│\u001b[0m\n",
       "\u001b[32m│\u001b[0m  \u001b[37mName: \u001b[0m\u001b[32m4a408fca-9a55-4c1c-9757-5f35e660ebce\u001b[0m                                                                     \u001b[32m│\u001b[0m\n",
       "\u001b[32m│\u001b[0m  \u001b[37mAgent: \u001b[0m\u001b[32m You are Matthias Glöel, employed at Beat81, and hiring for job position Data Analytics Working \u001b[0m        \u001b[32m│\u001b[0m\n",
       "\u001b[32m│\u001b[0m  \u001b[32mStudent\u001b[0m                                                                                                        \u001b[32m│\u001b[0m\n",
       "\u001b[32m│\u001b[0m                                                                                                                 \u001b[32m│\u001b[0m\n",
       "\u001b[32m│\u001b[0m                                                                                                                 \u001b[32m│\u001b[0m\n",
       "\u001b[32m╰─────────────────────────────────────────────────────────────────────────────────────────────────────────────────╯\u001b[0m\n"
      ]
     },
     "metadata": {},
     "output_type": "display_data"
    },
    {
     "data": {
      "text/html": [
       "<pre style=\"white-space:pre;overflow-x:auto;line-height:normal;font-family:Menlo,'DejaVu Sans Mono',consolas,'Courier New',monospace\">\n",
       "</pre>\n"
      ],
      "text/plain": [
       "\n"
      ]
     },
     "metadata": {},
     "output_type": "display_data"
    },
    {
     "data": {
      "text/html": [
       "<pre style=\"white-space:pre;overflow-x:auto;line-height:normal;font-family:Menlo,'DejaVu Sans Mono',consolas,'Courier New',monospace\"><span style=\"color: #008080; text-decoration-color: #008080; font-weight: bold\">🚀 Crew: crew</span>\n",
       "├── <span style=\"color: #008000; text-decoration-color: #008000; font-weight: bold\">📋 Task: 4a408fca-9a55-4c1c-9757-5f35e660ebce</span>\n",
       "│   <span style=\"color: #c0c0c0; text-decoration-color: #c0c0c0\">   Assigned to: </span><span style=\"color: #008000; text-decoration-color: #008000\"> You are Matthias Glöel, employed at Beat81, and hiring for job position Data Analytics Working</span>\n",
       "│   <span style=\"color: #008000; text-decoration-color: #008000\">Student</span>\n",
       "│   <span style=\"color: #c0c0c0; text-decoration-color: #c0c0c0\">   Status: </span><span style=\"color: #008000; text-decoration-color: #008000; font-weight: bold\">✅ Completed</span>\n",
       "│   └── <span style=\"color: #008000; text-decoration-color: #008000; font-weight: bold\">🤖 Agent: </span><span style=\"color: #008000; text-decoration-color: #008000\"> You are Matthias Glöel, employed at Beat81, and hiring for job position Data Analytics Working </span>\n",
       "│       <span style=\"color: #008000; text-decoration-color: #008000\">Student</span>\n",
       "│       <span style=\"color: #c0c0c0; text-decoration-color: #c0c0c0\">    Status: </span><span style=\"color: #008000; text-decoration-color: #008000; font-weight: bold\">✅ Completed</span>\n",
       "└── <span style=\"color: #808000; text-decoration-color: #808000; font-weight: bold\">📋 Task: 938350f8-9880-4984-84a1-48fb126bc3f7</span>\n",
       "    <span style=\"color: #c0c0c0; text-decoration-color: #c0c0c0\">   Status: </span><span style=\"color: #bfbf7f; text-decoration-color: #bfbf7f\">Executing Task...</span>\n",
       "</pre>\n"
      ],
      "text/plain": [
       "\u001b[1;36m🚀 Crew: \u001b[0m\u001b[1;36mcrew\u001b[0m\n",
       "├── \u001b[1;32m📋 Task: 4a408fca-9a55-4c1c-9757-5f35e660ebce\u001b[0m\n",
       "│   \u001b[37m   Assigned to: \u001b[0m\u001b[32m You are Matthias Glöel, employed at Beat81, and hiring for job position Data Analytics Working\u001b[0m\n",
       "│   \u001b[32mStudent\u001b[0m\n",
       "│   \u001b[37m   Status: \u001b[0m\u001b[1;32m✅ Completed\u001b[0m\n",
       "│   └── \u001b[1;32m🤖 Agent: \u001b[0m\u001b[32m You are Matthias Glöel, employed at Beat81, and hiring for job position Data Analytics Working \u001b[0m\n",
       "│       \u001b[32mStudent\u001b[0m\n",
       "│       \u001b[37m    Status: \u001b[0m\u001b[1;32m✅ Completed\u001b[0m\n",
       "└── \u001b[1;33m📋 Task: 938350f8-9880-4984-84a1-48fb126bc3f7\u001b[0m\n",
       "    \u001b[37m   Status: \u001b[0m\u001b[2;33mExecuting Task...\u001b[0m\n"
      ]
     },
     "metadata": {},
     "output_type": "display_data"
    },
    {
     "data": {
      "text/html": [
       "<pre style=\"white-space:pre;overflow-x:auto;line-height:normal;font-family:Menlo,'DejaVu Sans Mono',consolas,'Courier New',monospace\">\n",
       "</pre>\n"
      ],
      "text/plain": [
       "\n"
      ]
     },
     "metadata": {},
     "output_type": "display_data"
    },
    {
     "data": {
      "text/html": [
       "<pre style=\"white-space:pre;overflow-x:auto;line-height:normal;font-family:Menlo,'DejaVu Sans Mono',consolas,'Courier New',monospace\"><span style=\"color: #008080; text-decoration-color: #008080; font-weight: bold\">🚀 Crew: crew</span>\n",
       "├── <span style=\"color: #008000; text-decoration-color: #008000; font-weight: bold\">📋 Task: 4a408fca-9a55-4c1c-9757-5f35e660ebce</span>\n",
       "│   <span style=\"color: #c0c0c0; text-decoration-color: #c0c0c0\">   Assigned to: </span><span style=\"color: #008000; text-decoration-color: #008000\"> You are Matthias Glöel, employed at Beat81, and hiring for job position Data Analytics Working</span>\n",
       "│   <span style=\"color: #008000; text-decoration-color: #008000\">Student</span>\n",
       "│   <span style=\"color: #c0c0c0; text-decoration-color: #c0c0c0\">   Status: </span><span style=\"color: #008000; text-decoration-color: #008000; font-weight: bold\">✅ Completed</span>\n",
       "│   └── <span style=\"color: #008000; text-decoration-color: #008000; font-weight: bold\">🤖 Agent: </span><span style=\"color: #008000; text-decoration-color: #008000\"> You are Matthias Glöel, employed at Beat81, and hiring for job position Data Analytics Working </span>\n",
       "│       <span style=\"color: #008000; text-decoration-color: #008000\">Student</span>\n",
       "│       <span style=\"color: #c0c0c0; text-decoration-color: #c0c0c0\">    Status: </span><span style=\"color: #008000; text-decoration-color: #008000; font-weight: bold\">✅ Completed</span>\n",
       "└── <span style=\"color: #808000; text-decoration-color: #808000; font-weight: bold\">📋 Task: 938350f8-9880-4984-84a1-48fb126bc3f7</span>\n",
       "    <span style=\"color: #c0c0c0; text-decoration-color: #c0c0c0\">   Status: </span><span style=\"color: #bfbf7f; text-decoration-color: #bfbf7f\">Executing Task...</span>\n",
       "    └── <span style=\"color: #008000; text-decoration-color: #008000; font-weight: bold\">🤖 Agent: </span><span style=\"color: #008000; text-decoration-color: #008000\">Interview Coach</span>\n",
       "        <span style=\"color: #c0c0c0; text-decoration-color: #c0c0c0\">    Status: </span><span style=\"color: #008000; text-decoration-color: #008000; font-weight: bold\">In Progress</span>\n",
       "</pre>\n"
      ],
      "text/plain": [
       "\u001b[1;36m🚀 Crew: \u001b[0m\u001b[1;36mcrew\u001b[0m\n",
       "├── \u001b[1;32m📋 Task: 4a408fca-9a55-4c1c-9757-5f35e660ebce\u001b[0m\n",
       "│   \u001b[37m   Assigned to: \u001b[0m\u001b[32m You are Matthias Glöel, employed at Beat81, and hiring for job position Data Analytics Working\u001b[0m\n",
       "│   \u001b[32mStudent\u001b[0m\n",
       "│   \u001b[37m   Status: \u001b[0m\u001b[1;32m✅ Completed\u001b[0m\n",
       "│   └── \u001b[1;32m🤖 Agent: \u001b[0m\u001b[32m You are Matthias Glöel, employed at Beat81, and hiring for job position Data Analytics Working \u001b[0m\n",
       "│       \u001b[32mStudent\u001b[0m\n",
       "│       \u001b[37m    Status: \u001b[0m\u001b[1;32m✅ Completed\u001b[0m\n",
       "└── \u001b[1;33m📋 Task: 938350f8-9880-4984-84a1-48fb126bc3f7\u001b[0m\n",
       "    \u001b[37m   Status: \u001b[0m\u001b[2;33mExecuting Task...\u001b[0m\n",
       "    └── \u001b[1;32m🤖 Agent: \u001b[0m\u001b[32mInterview Coach\u001b[0m\n",
       "        \u001b[37m    Status: \u001b[0m\u001b[1;32mIn Progress\u001b[0m\n"
      ]
     },
     "metadata": {},
     "output_type": "display_data"
    },
    {
     "data": {
      "text/html": [
       "<pre style=\"white-space:pre;overflow-x:auto;line-height:normal;font-family:Menlo,'DejaVu Sans Mono',consolas,'Courier New',monospace\">\n",
       "</pre>\n"
      ],
      "text/plain": [
       "\n"
      ]
     },
     "metadata": {},
     "output_type": "display_data"
    },
    {
     "name": "stdout",
     "output_type": "stream",
     "text": [
      "\u001b[1m\u001b[95m# Agent:\u001b[00m \u001b[1m\u001b[92mInterview Coach\u001b[00m\n",
      "\u001b[95m## Task:\u001b[00m \u001b[92m Give feedback to the user on its answer \u001b[00m\n",
      "\n",
      "\n",
      "\u001b[1m\u001b[95m# Agent:\u001b[00m \u001b[1m\u001b[92mInterview Coach\u001b[00m\n",
      "\u001b[95m## Final Answer:\u001b[00m \u001b[92m\n",
      "- **What was good:**\n",
      "  - The answer likely addressed the importance of scalability and adaptability in data pipelines, which are critical for meeting the dynamic needs of a startup like BEAT81.\n",
      "  - Mentioning specific technologies or methodologies used to ensure scalability, such as cloud platforms or modular architecture, would demonstrate technical proficiency.\n",
      "  - If the answer included a focus on continuous improvement and monitoring, it would show an understanding of maintaining pipeline efficiency over time.\n",
      "\n",
      "- **What was bad:**\n",
      "  - If the answer lacked concrete examples or scenarios where scalability and adaptability were successfully implemented, it might not fully convey practical experience.\n",
      "  - The response may have been too vague if it didn't specify how evolving needs are identified and addressed in the pipeline development process.\n",
      "  - Without mentioning collaboration with other teams (e.g., engineering, product management), the answer might miss the interdisciplinary aspect of developing robust data solutions.\n",
      "\n",
      "- **How to take it to the next level:**\n",
      "  - Include a specific example of a project where you developed a scalable and adaptable data pipeline, detailing the challenges faced and how they were overcome.\n",
      "  - Explain the criteria or metrics used to evaluate the scalability and adaptability of a pipeline, such as performance benchmarks or flexibility in accommodating new data sources.\n",
      "  - Discuss how you collaborate with other departments to understand their evolving data needs, ensuring the pipelines remain relevant and efficient.\n",
      "  - Highlight any proactive measures taken to future-proof the pipelines, such as adopting emerging technologies or implementing automated testing and monitoring systems.\n",
      "\n",
      "By incorporating these elements, your answer will reflect a thorough understanding of creating data pipelines that are not only efficient but also capable of evolving with the needs of a fast-paced startup environment.\u001b[00m\n",
      "\n",
      "\n"
     ]
    },
    {
     "data": {
      "text/html": [
       "<pre style=\"white-space:pre;overflow-x:auto;line-height:normal;font-family:Menlo,'DejaVu Sans Mono',consolas,'Courier New',monospace\"><span style=\"color: #008080; text-decoration-color: #008080; font-weight: bold\">🚀 Crew: crew</span>\n",
       "├── <span style=\"color: #008000; text-decoration-color: #008000; font-weight: bold\">📋 Task: 4a408fca-9a55-4c1c-9757-5f35e660ebce</span>\n",
       "│   <span style=\"color: #c0c0c0; text-decoration-color: #c0c0c0\">   Assigned to: </span><span style=\"color: #008000; text-decoration-color: #008000\"> You are Matthias Glöel, employed at Beat81, and hiring for job position Data Analytics Working</span>\n",
       "│   <span style=\"color: #008000; text-decoration-color: #008000\">Student</span>\n",
       "│   <span style=\"color: #c0c0c0; text-decoration-color: #c0c0c0\">   Status: </span><span style=\"color: #008000; text-decoration-color: #008000; font-weight: bold\">✅ Completed</span>\n",
       "│   └── <span style=\"color: #008000; text-decoration-color: #008000; font-weight: bold\">🤖 Agent: </span><span style=\"color: #008000; text-decoration-color: #008000\"> You are Matthias Glöel, employed at Beat81, and hiring for job position Data Analytics Working </span>\n",
       "│       <span style=\"color: #008000; text-decoration-color: #008000\">Student</span>\n",
       "│       <span style=\"color: #c0c0c0; text-decoration-color: #c0c0c0\">    Status: </span><span style=\"color: #008000; text-decoration-color: #008000; font-weight: bold\">✅ Completed</span>\n",
       "└── <span style=\"color: #808000; text-decoration-color: #808000; font-weight: bold\">📋 Task: 938350f8-9880-4984-84a1-48fb126bc3f7</span>\n",
       "    <span style=\"color: #c0c0c0; text-decoration-color: #c0c0c0\">   Status: </span><span style=\"color: #bfbf7f; text-decoration-color: #bfbf7f\">Executing Task...</span>\n",
       "    └── <span style=\"color: #008000; text-decoration-color: #008000; font-weight: bold\">🤖 Agent: </span><span style=\"color: #008000; text-decoration-color: #008000\">Interview Coach</span>\n",
       "        <span style=\"color: #c0c0c0; text-decoration-color: #c0c0c0\">    Status: </span><span style=\"color: #008000; text-decoration-color: #008000; font-weight: bold\">✅ Completed</span>\n",
       "</pre>\n"
      ],
      "text/plain": [
       "\u001b[1;36m🚀 Crew: \u001b[0m\u001b[1;36mcrew\u001b[0m\n",
       "├── \u001b[1;32m📋 Task: 4a408fca-9a55-4c1c-9757-5f35e660ebce\u001b[0m\n",
       "│   \u001b[37m   Assigned to: \u001b[0m\u001b[32m You are Matthias Glöel, employed at Beat81, and hiring for job position Data Analytics Working\u001b[0m\n",
       "│   \u001b[32mStudent\u001b[0m\n",
       "│   \u001b[37m   Status: \u001b[0m\u001b[1;32m✅ Completed\u001b[0m\n",
       "│   └── \u001b[1;32m🤖 Agent: \u001b[0m\u001b[32m You are Matthias Glöel, employed at Beat81, and hiring for job position Data Analytics Working \u001b[0m\n",
       "│       \u001b[32mStudent\u001b[0m\n",
       "│       \u001b[37m    Status: \u001b[0m\u001b[1;32m✅ Completed\u001b[0m\n",
       "└── \u001b[1;33m📋 Task: 938350f8-9880-4984-84a1-48fb126bc3f7\u001b[0m\n",
       "    \u001b[37m   Status: \u001b[0m\u001b[2;33mExecuting Task...\u001b[0m\n",
       "    └── \u001b[1;32m🤖 Agent: \u001b[0m\u001b[32mInterview Coach\u001b[0m\n",
       "        \u001b[37m    Status: \u001b[0m\u001b[1;32m✅ Completed\u001b[0m\n"
      ]
     },
     "metadata": {},
     "output_type": "display_data"
    },
    {
     "data": {
      "text/html": [
       "<pre style=\"white-space:pre;overflow-x:auto;line-height:normal;font-family:Menlo,'DejaVu Sans Mono',consolas,'Courier New',monospace\">\n",
       "</pre>\n"
      ],
      "text/plain": [
       "\n"
      ]
     },
     "metadata": {},
     "output_type": "display_data"
    },
    {
     "data": {
      "text/html": [
       "<pre style=\"white-space:pre;overflow-x:auto;line-height:normal;font-family:Menlo,'DejaVu Sans Mono',consolas,'Courier New',monospace\"><span style=\"color: #008080; text-decoration-color: #008080; font-weight: bold\">🚀 Crew: crew</span>\n",
       "├── <span style=\"color: #008000; text-decoration-color: #008000; font-weight: bold\">📋 Task: 4a408fca-9a55-4c1c-9757-5f35e660ebce</span>\n",
       "│   <span style=\"color: #c0c0c0; text-decoration-color: #c0c0c0\">   Assigned to: </span><span style=\"color: #008000; text-decoration-color: #008000\"> You are Matthias Glöel, employed at Beat81, and hiring for job position Data Analytics Working</span>\n",
       "│   <span style=\"color: #008000; text-decoration-color: #008000\">Student</span>\n",
       "│   <span style=\"color: #c0c0c0; text-decoration-color: #c0c0c0\">   Status: </span><span style=\"color: #008000; text-decoration-color: #008000; font-weight: bold\">✅ Completed</span>\n",
       "│   └── <span style=\"color: #008000; text-decoration-color: #008000; font-weight: bold\">🤖 Agent: </span><span style=\"color: #008000; text-decoration-color: #008000\"> You are Matthias Glöel, employed at Beat81, and hiring for job position Data Analytics Working </span>\n",
       "│       <span style=\"color: #008000; text-decoration-color: #008000\">Student</span>\n",
       "│       <span style=\"color: #c0c0c0; text-decoration-color: #c0c0c0\">    Status: </span><span style=\"color: #008000; text-decoration-color: #008000; font-weight: bold\">✅ Completed</span>\n",
       "└── <span style=\"color: #008000; text-decoration-color: #008000; font-weight: bold\">📋 Task: 938350f8-9880-4984-84a1-48fb126bc3f7</span>\n",
       "    <span style=\"color: #c0c0c0; text-decoration-color: #c0c0c0\">   Assigned to: </span><span style=\"color: #008000; text-decoration-color: #008000\">Interview Coach</span>\n",
       "    <span style=\"color: #c0c0c0; text-decoration-color: #c0c0c0\">   Status: </span><span style=\"color: #008000; text-decoration-color: #008000; font-weight: bold\">✅ Completed</span>\n",
       "    └── <span style=\"color: #008000; text-decoration-color: #008000; font-weight: bold\">🤖 Agent: </span><span style=\"color: #008000; text-decoration-color: #008000\">Interview Coach</span>\n",
       "        <span style=\"color: #c0c0c0; text-decoration-color: #c0c0c0\">    Status: </span><span style=\"color: #008000; text-decoration-color: #008000; font-weight: bold\">✅ Completed</span>\n",
       "</pre>\n"
      ],
      "text/plain": [
       "\u001b[1;36m🚀 Crew: \u001b[0m\u001b[1;36mcrew\u001b[0m\n",
       "├── \u001b[1;32m📋 Task: 4a408fca-9a55-4c1c-9757-5f35e660ebce\u001b[0m\n",
       "│   \u001b[37m   Assigned to: \u001b[0m\u001b[32m You are Matthias Glöel, employed at Beat81, and hiring for job position Data Analytics Working\u001b[0m\n",
       "│   \u001b[32mStudent\u001b[0m\n",
       "│   \u001b[37m   Status: \u001b[0m\u001b[1;32m✅ Completed\u001b[0m\n",
       "│   └── \u001b[1;32m🤖 Agent: \u001b[0m\u001b[32m You are Matthias Glöel, employed at Beat81, and hiring for job position Data Analytics Working \u001b[0m\n",
       "│       \u001b[32mStudent\u001b[0m\n",
       "│       \u001b[37m    Status: \u001b[0m\u001b[1;32m✅ Completed\u001b[0m\n",
       "└── \u001b[1;32m📋 Task: 938350f8-9880-4984-84a1-48fb126bc3f7\u001b[0m\n",
       "    \u001b[37m   Assigned to: \u001b[0m\u001b[32mInterview Coach\u001b[0m\n",
       "    \u001b[37m   Status: \u001b[0m\u001b[1;32m✅ Completed\u001b[0m\n",
       "    └── \u001b[1;32m🤖 Agent: \u001b[0m\u001b[32mInterview Coach\u001b[0m\n",
       "        \u001b[37m    Status: \u001b[0m\u001b[1;32m✅ Completed\u001b[0m\n"
      ]
     },
     "metadata": {},
     "output_type": "display_data"
    },
    {
     "data": {
      "text/html": [
       "<pre style=\"white-space:pre;overflow-x:auto;line-height:normal;font-family:Menlo,'DejaVu Sans Mono',consolas,'Courier New',monospace\"><span style=\"color: #008000; text-decoration-color: #008000\">╭──────────────────────────────────────────────── Task Completion ────────────────────────────────────────────────╮</span>\n",
       "<span style=\"color: #008000; text-decoration-color: #008000\">│</span>                                                                                                                 <span style=\"color: #008000; text-decoration-color: #008000\">│</span>\n",
       "<span style=\"color: #008000; text-decoration-color: #008000\">│</span>  <span style=\"color: #008000; text-decoration-color: #008000; font-weight: bold\">Task Completed</span>                                                                                                 <span style=\"color: #008000; text-decoration-color: #008000\">│</span>\n",
       "<span style=\"color: #008000; text-decoration-color: #008000\">│</span>  <span style=\"color: #c0c0c0; text-decoration-color: #c0c0c0\">Name: </span><span style=\"color: #008000; text-decoration-color: #008000\">938350f8-9880-4984-84a1-48fb126bc3f7</span>                                                                     <span style=\"color: #008000; text-decoration-color: #008000\">│</span>\n",
       "<span style=\"color: #008000; text-decoration-color: #008000\">│</span>  <span style=\"color: #c0c0c0; text-decoration-color: #c0c0c0\">Agent: </span><span style=\"color: #008000; text-decoration-color: #008000\">Interview Coach</span>                                                                                         <span style=\"color: #008000; text-decoration-color: #008000\">│</span>\n",
       "<span style=\"color: #008000; text-decoration-color: #008000\">│</span>                                                                                                                 <span style=\"color: #008000; text-decoration-color: #008000\">│</span>\n",
       "<span style=\"color: #008000; text-decoration-color: #008000\">│</span>                                                                                                                 <span style=\"color: #008000; text-decoration-color: #008000\">│</span>\n",
       "<span style=\"color: #008000; text-decoration-color: #008000\">╰─────────────────────────────────────────────────────────────────────────────────────────────────────────────────╯</span>\n",
       "</pre>\n"
      ],
      "text/plain": [
       "\u001b[32m╭─\u001b[0m\u001b[32m───────────────────────────────────────────────\u001b[0m\u001b[32m Task Completion \u001b[0m\u001b[32m───────────────────────────────────────────────\u001b[0m\u001b[32m─╮\u001b[0m\n",
       "\u001b[32m│\u001b[0m                                                                                                                 \u001b[32m│\u001b[0m\n",
       "\u001b[32m│\u001b[0m  \u001b[1;32mTask Completed\u001b[0m                                                                                                 \u001b[32m│\u001b[0m\n",
       "\u001b[32m│\u001b[0m  \u001b[37mName: \u001b[0m\u001b[32m938350f8-9880-4984-84a1-48fb126bc3f7\u001b[0m                                                                     \u001b[32m│\u001b[0m\n",
       "\u001b[32m│\u001b[0m  \u001b[37mAgent: \u001b[0m\u001b[32mInterview Coach\u001b[0m                                                                                         \u001b[32m│\u001b[0m\n",
       "\u001b[32m│\u001b[0m                                                                                                                 \u001b[32m│\u001b[0m\n",
       "\u001b[32m│\u001b[0m                                                                                                                 \u001b[32m│\u001b[0m\n",
       "\u001b[32m╰─────────────────────────────────────────────────────────────────────────────────────────────────────────────────╯\u001b[0m\n"
      ]
     },
     "metadata": {},
     "output_type": "display_data"
    },
    {
     "data": {
      "text/html": [
       "<pre style=\"white-space:pre;overflow-x:auto;line-height:normal;font-family:Menlo,'DejaVu Sans Mono',consolas,'Courier New',monospace\">\n",
       "</pre>\n"
      ],
      "text/plain": [
       "\n"
      ]
     },
     "metadata": {},
     "output_type": "display_data"
    },
    {
     "data": {
      "text/html": [
       "<pre style=\"white-space:pre;overflow-x:auto;line-height:normal;font-family:Menlo,'DejaVu Sans Mono',consolas,'Courier New',monospace\"><span style=\"color: #008000; text-decoration-color: #008000\">╭──────────────────────────────────────────────── Crew Completion ────────────────────────────────────────────────╮</span>\n",
       "<span style=\"color: #008000; text-decoration-color: #008000\">│</span>                                                                                                                 <span style=\"color: #008000; text-decoration-color: #008000\">│</span>\n",
       "<span style=\"color: #008000; text-decoration-color: #008000\">│</span>  <span style=\"color: #008000; text-decoration-color: #008000; font-weight: bold\">Crew Execution Completed</span>                                                                                       <span style=\"color: #008000; text-decoration-color: #008000\">│</span>\n",
       "<span style=\"color: #008000; text-decoration-color: #008000\">│</span>  <span style=\"color: #c0c0c0; text-decoration-color: #c0c0c0\">Name: </span><span style=\"color: #008000; text-decoration-color: #008000\">crew</span>                                                                                                     <span style=\"color: #008000; text-decoration-color: #008000\">│</span>\n",
       "<span style=\"color: #008000; text-decoration-color: #008000\">│</span>  <span style=\"color: #c0c0c0; text-decoration-color: #c0c0c0\">ID: </span><span style=\"color: #008000; text-decoration-color: #008000\">aac2ec8b-6dea-4bc7-9763-3d31327dce36</span>                                                                       <span style=\"color: #008000; text-decoration-color: #008000\">│</span>\n",
       "<span style=\"color: #008000; text-decoration-color: #008000\">│</span>                                                                                                                 <span style=\"color: #008000; text-decoration-color: #008000\">│</span>\n",
       "<span style=\"color: #008000; text-decoration-color: #008000\">│</span>                                                                                                                 <span style=\"color: #008000; text-decoration-color: #008000\">│</span>\n",
       "<span style=\"color: #008000; text-decoration-color: #008000\">╰─────────────────────────────────────────────────────────────────────────────────────────────────────────────────╯</span>\n",
       "</pre>\n"
      ],
      "text/plain": [
       "\u001b[32m╭─\u001b[0m\u001b[32m───────────────────────────────────────────────\u001b[0m\u001b[32m Crew Completion \u001b[0m\u001b[32m───────────────────────────────────────────────\u001b[0m\u001b[32m─╮\u001b[0m\n",
       "\u001b[32m│\u001b[0m                                                                                                                 \u001b[32m│\u001b[0m\n",
       "\u001b[32m│\u001b[0m  \u001b[1;32mCrew Execution Completed\u001b[0m                                                                                       \u001b[32m│\u001b[0m\n",
       "\u001b[32m│\u001b[0m  \u001b[37mName: \u001b[0m\u001b[32mcrew\u001b[0m                                                                                                     \u001b[32m│\u001b[0m\n",
       "\u001b[32m│\u001b[0m  \u001b[37mID: \u001b[0m\u001b[32maac2ec8b-6dea-4bc7-9763-3d31327dce36\u001b[0m                                                                       \u001b[32m│\u001b[0m\n",
       "\u001b[32m│\u001b[0m                                                                                                                 \u001b[32m│\u001b[0m\n",
       "\u001b[32m│\u001b[0m                                                                                                                 \u001b[32m│\u001b[0m\n",
       "\u001b[32m╰─────────────────────────────────────────────────────────────────────────────────────────────────────────────────╯\u001b[0m\n"
      ]
     },
     "metadata": {},
     "output_type": "display_data"
    },
    {
     "data": {
      "text/html": [
       "<pre style=\"white-space:pre;overflow-x:auto;line-height:normal;font-family:Menlo,'DejaVu Sans Mono',consolas,'Courier New',monospace\">\n",
       "</pre>\n"
      ],
      "text/plain": [
       "\n"
      ]
     },
     "metadata": {},
     "output_type": "display_data"
    }
   ],
   "source": [
    "crew = Crew(\n",
    "    agents = [interviewer_agent, coach_agent],\n",
    "    tasks = [interview_prep_task, coaching_task],\n",
    "    verbose = True,\n",
    "    process = Process.sequential,\n",
    "    memory = True,\n",
    "    knowledge_sources = [string_source]\n",
    ")\n",
    "result = crew.kickoff()\n",
    "\n",
    "# Store each question\n",
    "interview_questions.append(result.tasks_output[0].raw)\n",
    "interview_content = ' '.join(interview_questions)\n",
    "string_source = StringKnowledgeSource(content = interview_content)"
   ]
  },
  {
   "cell_type": "code",
   "execution_count": 16,
   "id": "ffc3df66",
   "metadata": {},
   "outputs": [
    {
     "data": {
      "text/markdown": [
       "- **What was good:**\n",
       "  - The candidate discussed their use of project management tools, which shows they are organized and tech-savvy.\n",
       "  - Mentioning prioritization techniques such as the Eisenhower Box or MoSCoW method indicates a structured approach to task management.\n",
       "  - Highlighting adaptability and flexibility is crucial in a start-up environment, and the candidate successfully conveyed this.\n",
       "\n",
       "- **What was bad:**\n",
       "  - The answer lacked specific examples or experiences where these techniques were applied, which can make the response less convincing.\n",
       "  - There was no mention of how the candidate collaborates with team members or stakeholders to manage priorities, which is important in a team environment.\n",
       "\n",
       "- **How to take it to the next level:**\n",
       "  - Include a specific example or anecdote that illustrates how you successfully managed multiple projects in the past. \n",
       "  - Discuss any tools or software you use in more detail, such as Trello, Asana, or JIRA, and how they have helped you in managing tasks.\n",
       "  - Explain how you communicate with your team or stakeholders to align priorities and ensure everyone is on the same page.\n",
       "  - Consider mentioning any metrics or outcomes that resulted from your effective task management, such as meeting deadlines or improving project efficiency."
      ],
      "text/plain": [
       "<IPython.core.display.Markdown object>"
      ]
     },
     "metadata": {},
     "output_type": "display_data"
    }
   ],
   "source": [
    "# Check output - Feedback from the coach\n",
    "display(Markdown(result.tasks_output[1].raw))"
   ]
  }
 ],
 "metadata": {
  "kernelspec": {
   "display_name": "Python 3",
   "language": "python",
   "name": "python3"
  },
  "language_info": {
   "codemirror_mode": {
    "name": "ipython",
    "version": 3
   },
   "file_extension": ".py",
   "mimetype": "text/x-python",
   "name": "python",
   "nbconvert_exporter": "python",
   "pygments_lexer": "ipython3",
   "version": "3.11.11"
  }
 },
 "nbformat": 4,
 "nbformat_minor": 5
}
