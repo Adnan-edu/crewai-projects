{
 "cells": [
  {
   "cell_type": "code",
   "execution_count": 1,
   "id": "cf25ee78",
   "metadata": {},
   "outputs": [
    {
     "data": {
      "text/plain": [
       "True"
      ]
     },
     "execution_count": 1,
     "metadata": {},
     "output_type": "execute_result"
    }
   ],
   "source": [
    "from dotenv import load_dotenv, find_dotenv\n",
    "load_dotenv(find_dotenv(), override=True)"
   ]
  },
  {
   "cell_type": "code",
   "execution_count": 2,
   "id": "717e15e5",
   "metadata": {},
   "outputs": [],
   "source": [
    "# Import Libraries\n",
    "from langchain_openai import ChatOpenAI\n",
    "from crewai import Agent, Process, Crew, Task\n",
    "from IPython.display import display, Markdown\n",
    "import os"
   ]
  },
  {
   "cell_type": "code",
   "execution_count": 3,
   "id": "31225b56",
   "metadata": {},
   "outputs": [],
   "source": [
    "# Define the LLM\n",
    "llm = ChatOpenAI(model_name=\"gpt-4o\", temperature=0.5)"
   ]
  },
  {
   "cell_type": "markdown",
   "id": "e50e221b",
   "metadata": {},
   "source": [
    "# Get the data\n",
    "\n",
    "*   Interviewer\n",
    "*   company\n",
    "*   job position\n",
    "*   job description"
   ]
  },
  {
   "cell_type": "code",
   "execution_count": 4,
   "id": "23de699d",
   "metadata": {},
   "outputs": [],
   "source": [
    "# Store the data\n",
    "interviewer = input(\"Enter the name of the interviewer: \")\n",
    "company = input(\"Enter the name of the company: \")\n",
    "job_position = input(\"Enter the job position: \")\n",
    "job_description = input(\"Enter the job description: \")"
   ]
  },
  {
   "cell_type": "markdown",
   "id": "ec0e6cf3",
   "metadata": {},
   "source": [
    "## CrewAI\n",
    "\n",
    "**Interviewer Agent**: It challenges you with different angles\n",
    "\n",
    "**Coach Agent**: Refine your responses with clear feedback on areas to improve\n",
    "\n",
    "**Crew**: Coordinates roles and tasks, delivering feedback and questions at the right time. \n",
    "\n",
    "You can modify roles, goals or backstories to simulate scenarios"
   ]
  },
  {
   "cell_type": "markdown",
   "id": "7a6bbff9",
   "metadata": {},
   "source": [
    "## Interviewer AI Agent"
   ]
  },
  {
   "cell_type": "code",
   "execution_count": 6,
   "id": "4880629a",
   "metadata": {},
   "outputs": [],
   "source": [
    "# Create the interviewer AI Agent\n",
    "interviewer_agent = Agent(\n",
    "    role = f\" You are {interviewer}, employed at {company}, and hiring for job position {job_position}\",\n",
    "    goal = f\" you help the user user prepare for the job interview for job {job_position} with the following description: {job_description}\",\n",
    "    backstory = \"\"\"\n",
    "    Experience\n",
    "    BEAT81\n",
    "    Analytics Engineer\n",
    "\n",
    "    BEAT81 · Full-timeBEAT81 · Full-time\n",
    "    Apr 2024 - Present · 11 mos\n",
    "    Berlin, Germany\n",
    "    diconium\n",
    "    Full-time · 4 yrs 2 mosFull-time · 4 yrs 2 mos\n",
    "\n",
    "    Senior Cloud Architect\n",
    "    Apr 2022 - Mar 2024 · 2 yrs\n",
    "    Microsoft Azure, DBT and +4 skills\n",
    "\n",
    "    Data Engineer\n",
    "    Jan 2021 - Mar 2022 · 1 yr 3 mosJan 2021 to Mar 2022 · 1 yr 3 mos\n",
    "    DBT, AWS and +4 skills\n",
    "\n",
    "    Data Scientist\n",
    "    Feb 2020 - Dec 2020 · 11 mos\n",
    "    SQL and Python\n",
    "    4flow logo\n",
    "\n",
    "    Data Scientist\n",
    "    4flow · Full-time4flow · Full-time\n",
    "    Jun 2019 - Dec 2019 · 7 mosJun 2019 to Dec 2019 · 7 mos\n",
    "    SQL and Python\n",
    "    DCMN\n",
    "    Full-time · 3 yrs 3 mos\n",
    "\n",
    "    Data Scientist\n",
    "    Apr 2017 - Apr 2019 · 2 yrs 1 moApr 2017 to Apr 2019 · 2 yrs 1 mo\n",
    "    SQL and Python\n",
    "    Data Analyst / Business Intelligence Manager\n",
    "\n",
    "    Feb 2016 - Mar 2017 · 1 yr 2 mosFeb 2016 to Mar 2017 · 1 yr 2 mos\n",
    "    SQL and Python\n",
    "    iversity logo\n",
    "\n",
    "    Data Analyst\n",
    "    iversity · Full-timeiversity · Full-time\n",
    "    Dec 2014 - Dec 2015 · 1 yr 1 moDec 2014 to Dec 2015 · 1 yr 1 mo\n",
    "    SQL and R\n",
    "\n",
    "    Education\n",
    "    Technische Universität Berlin\n",
    "    Master of Science - MS, Computational Neuroscience\n",
    "    Sep 2009 - Aug 2013\n",
    "\n",
    "    Universität Osnabrück\n",
    "    Bachelor of Science - BS, Cognitive ScienceBachelor of Science - BS, Cognitive Science\n",
    "    \"\"\",\n",
    "    llm = llm\n",
    ")"
   ]
  },
  {
   "cell_type": "code",
   "execution_count": null,
   "id": "47b1ed62",
   "metadata": {},
   "outputs": [],
   "source": [
    "# Define the interview prep task\n",
    "interview_prep_task = Task(\n",
    "    description = f\"\"\"\n",
    "    Interview the user for the job {job_position} with the following description: {job_description}\n",
    "    \"\"\",\n",
    "    expected_output = f\"\"\"\n",
    "    ask only one question to the user that is relevant for the job {job_position} that has not been asked before\n",
    "    \"\"\",\n",
    "    agent = interviewer_agent,\n",
    "    human_input = True\n",
    ")"
   ]
  }
 ],
 "metadata": {
  "kernelspec": {
   "display_name": "Python 3",
   "language": "python",
   "name": "python3"
  },
  "language_info": {
   "codemirror_mode": {
    "name": "ipython",
    "version": 3
   },
   "file_extension": ".py",
   "mimetype": "text/x-python",
   "name": "python",
   "nbconvert_exporter": "python",
   "pygments_lexer": "ipython3",
   "version": "3.11.11"
  }
 },
 "nbformat": 4,
 "nbformat_minor": 5
}
