{
 "cells": [
  {
   "cell_type": "code",
   "execution_count": 1,
   "id": "cf25ee78",
   "metadata": {},
   "outputs": [
    {
     "data": {
      "text/plain": [
       "True"
      ]
     },
     "execution_count": 1,
     "metadata": {},
     "output_type": "execute_result"
    }
   ],
   "source": [
    "from dotenv import load_dotenv, find_dotenv\n",
    "load_dotenv(find_dotenv(), override=True)"
   ]
  },
  {
   "cell_type": "code",
   "execution_count": 2,
   "id": "717e15e5",
   "metadata": {},
   "outputs": [],
   "source": [
    "# Import Libraries\n",
    "from langchain_openai import ChatOpenAI\n",
    "from crewai import Agent, Process, Crew, Task\n",
    "from IPython.display import display, Markdown\n",
    "import os"
   ]
  },
  {
   "cell_type": "code",
   "execution_count": 3,
   "id": "31225b56",
   "metadata": {},
   "outputs": [],
   "source": [
    "# Define the LLM\n",
    "llm = ChatOpenAI(model_name=\"gpt-4o\", temperature=0.5)"
   ]
  },
  {
   "cell_type": "markdown",
   "id": "e50e221b",
   "metadata": {},
   "source": [
    "# Get the data\n",
    "\n",
    "*   Interviewer\n",
    "*   company\n",
    "*   job position\n",
    "*   job description"
   ]
  },
  {
   "cell_type": "code",
   "execution_count": 4,
   "id": "23de699d",
   "metadata": {},
   "outputs": [],
   "source": [
    "# Store the data\n",
    "interviewer = input(\"Enter the name of the interviewer: \")\n",
    "company = input(\"Enter the name of the company: \")\n",
    "job_position = input(\"Enter the job position: \")\n",
    "job_description = input(\"Enter the job description: \")"
   ]
  },
  {
   "cell_type": "markdown",
   "id": "ec0e6cf3",
   "metadata": {},
   "source": [
    "## CrewAI\n",
    "\n",
    "**Interviewer Agent**: It challenges you with different angles\n",
    "\n",
    "**Coach Agent**: Refine your responses with clear feedback on areas to improve\n",
    "\n",
    "**Crew**: Coordinates roles and tasks, delivering feedback and questions at the right time. \n",
    "\n",
    "You can modify roles, goals or backstories to simulate scenarios"
   ]
  }
 ],
 "metadata": {
  "kernelspec": {
   "display_name": "Python 3",
   "language": "python",
   "name": "python3"
  },
  "language_info": {
   "codemirror_mode": {
    "name": "ipython",
    "version": 3
   },
   "file_extension": ".py",
   "mimetype": "text/x-python",
   "name": "python",
   "nbconvert_exporter": "python",
   "pygments_lexer": "ipython3",
   "version": "3.11.11"
  }
 },
 "nbformat": 4,
 "nbformat_minor": 5
}
