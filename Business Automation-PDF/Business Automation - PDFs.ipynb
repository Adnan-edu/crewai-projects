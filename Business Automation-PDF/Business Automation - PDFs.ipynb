{
 "cells": [
  {
   "cell_type": "markdown",
   "metadata": {
    "id": "pT9JxlLGCR0V"
   },
   "source": [
    "## Libraries + API Keys + Parameters"
   ]
  },
  {
   "cell_type": "code",
   "execution_count": 1,
   "metadata": {
    "id": "DjcPs_1NiRlb"
   },
   "outputs": [
    {
     "data": {
      "text/plain": [
       "True"
      ]
     },
     "execution_count": 1,
     "metadata": {},
     "output_type": "execute_result"
    }
   ],
   "source": [
    "from dotenv import load_dotenv, find_dotenv\n",
    "load_dotenv(find_dotenv(), override=True)"
   ]
  },
  {
   "cell_type": "code",
   "execution_count": 2,
   "metadata": {
    "id": "-8D3djWcirrG"
   },
   "outputs": [
    {
     "name": "stderr",
     "output_type": "stream",
     "text": [
      "/Users/mdashikadnan/Documents/adnanedu/python/ztm/crewai/crewai_venv/lib/python3.11/site-packages/pydantic/_internal/_generate_schema.py:623: UserWarning: <built-in function callable> is not a Python type (it may be an instance of an object), Pydantic will allow any object with no validation since we cannot even enforce that the input is an instance of the given type. To get rid of this error wrap the type with `pydantic.SkipValidation`.\n",
      "  warn(\n"
     ]
    }
   ],
   "source": [
    "from crewai_tools import DirectoryReadTool, PDFSearchTool, FileWriterTool\n",
    "from crewai import Agent, Crew, Process, Task\n",
    "from crewai.tasks.task_output import TaskOutput\n",
    "\n",
    "from langchain_openai import ChatOpenAI\n",
    "from IPython.display import Markdown\n",
    "import pandas as pd"
   ]
  },
  {
   "cell_type": "code",
   "execution_count": 3,
   "metadata": {
    "id": "v8v3WoWClRVM"
   },
   "outputs": [],
   "source": [
    "inputs = {\n",
    "    'folder': 'invoices',\n",
    "    'requirements': 'all invoices from Simonis and Braun',\n",
    "    'columns': ['Date', \"Description\", 'Total Amount', 'Issuer', \"Receiver\"],\n",
    "    'question' : 'what is the total amount invoiced and all the names of personnel involved in the latest invoice file'\n",
    "}"
   ]
  },
  {
   "cell_type": "markdown",
   "metadata": {
    "id": "Rd6FHbCICUYz"
   },
   "source": [
    "## Assistant Agent - retrieve necessary documents"
   ]
  },
  {
   "cell_type": "code",
   "execution_count": 7,
   "metadata": {
    "id": "l-TuWw_BizUx"
   },
   "outputs": [
    {
     "name": "stderr",
     "output_type": "stream",
     "text": [
      "/Users/mdashikadnan/Documents/adnanedu/python/ztm/crewai/crewai_venv/lib/python3.11/site-packages/chromadb/types.py:144: PydanticDeprecatedSince211: Accessing the 'model_fields' attribute on the instance is deprecated. Instead, you should access this attribute from the model class. Deprecated in Pydantic V2.11 to be removed in V3.0.\n",
      "  return self.model_fields  # pydantic 2.x\n"
     ]
    }
   ],
   "source": [
    "assistant_agent = Agent(\n",
    "    role=\"Invoice Retrieval Assistant\",\n",
    "    goal=f\"\"\"\n",
    "        Your task is to search the files within the folder **{inputs['folder']}** and locate the correct document based on the following criteria:\n",
    "        **{inputs['requirements']}**\n",
    "        Once identified, extract and retrieve the relevant data from the document.\n",
    "    \"\"\",\n",
    "    backstory=\"\"\"\n",
    "        You are an efficient and detail-oriented assistant specializing in organizing and retrieving relevant data from documents.\n",
    "    \"\"\",\n",
    "    llm=ChatOpenAI(model_name=\"gpt-4o\", temperature=0.8),  # Using GPT-4 model\n",
    "    tools=[DirectoryReadTool(), PDFSearchTool()]\n",
    ")"
   ]
  },
  {
   "cell_type": "code",
   "execution_count": 8,
   "metadata": {
    "id": "YOxntmY9jkkx"
   },
   "outputs": [],
   "source": [
    "assistant_task = Task(\n",
    "    description=f\"\"\"\n",
    "        Search for the correct file within **{inputs['folder']}** that matches the following criteria:\n",
    "        **{inputs['requirements']}**\n",
    "        Once found, extract all the data from the relevant file.\n",
    "    \"\"\",\n",
    "    expected_output=\"\"\"\n",
    "        The extracted data from the relevant file, formatted for clarity and completeness.\n",
    "    \"\"\",\n",
    "    agent=assistant_agent\n",
    ")\n"
   ]
  },
  {
   "cell_type": "markdown",
   "metadata": {
    "id": "36hrn8adGkOt"
   },
   "source": [
    "## Organizer Agent - Format into CSV"
   ]
  },
  {
   "cell_type": "code",
   "execution_count": 9,
   "metadata": {
    "id": "QFAUGr2rs9bc"
   },
   "outputs": [],
   "source": [
    "organizer_agent = Agent(\n",
    "    role=\"Data Organization Assistant\",\n",
    "    goal=f\"\"\"\n",
    "        Process the provided data and format it as a CSV file with the specified columns:\n",
    "        **{inputs['columns']}**\n",
    "        Save the results strictly in CSV format without any additional text or formatting.\n",
    "    \"\"\",\n",
    "    backstory=\"\"\"\n",
    "        You are an efficient and detail-oriented assistant specializing in structuring and organizing data into CSV format.\n",
    "    \"\"\",\n",
    "    llm=ChatOpenAI(model_name=\"gpt-4o\", temperature=0.8),  # Using GPT-4 model\n",
    ")\n"
   ]
  },
  {
   "cell_type": "code",
   "execution_count": 10,
   "metadata": {
    "id": "qy3Z_zASteYE"
   },
   "outputs": [],
   "source": [
    "organizer_task = Task(\n",
    "    description=f\"\"\"\n",
    "        Format the provided data into a CSV file with the specified columns:\n",
    "        **{inputs['columns']}**\n",
    "        Ensure that all numeric values use a decimal point (.) instead of a comma (,).\n",
    "        Date should be formatted as DD-MM-YYYY.\n",
    "        Save the results strictly in CSV format without any additional text.\n",
    "    \"\"\",\n",
    "    expected_output=\"\"\"\n",
    "        A properly formatted CSV file containing the correct values in the specified columns.\n",
    "    \"\"\",\n",
    "    agent=organizer_agent,\n",
    ")\n"
   ]
  },
  {
   "cell_type": "markdown",
   "metadata": {
    "id": "D8HKsBx9HmNx"
   },
   "source": [
    "## Analyst Agent - Answer query"
   ]
  },
  {
   "cell_type": "code",
   "execution_count": 11,
   "metadata": {
    "id": "FSjPcqn3TdQ5"
   },
   "outputs": [],
   "source": [
    "analyst_agent = Agent(\n",
    "    role=\"Data Analyst Assistant\",\n",
    "    goal=f\"\"\"\n",
    "        Analyze the provided data and accurately answer the following question:\n",
    "        **{inputs['question']}**\n",
    "        Base your response strictly on data and factual analysis.\n",
    "    \"\"\",\n",
    "    backstory=\"\"\"\n",
    "        You are a detail-oriented data analyst, skilled at extracting insights and answering questions based on facts and data.\n",
    "    \"\"\",\n",
    "    llm=ChatOpenAI(model_name=\"gpt-4o\", temperature=0.8),  # Using GPT-4 model\n",
    ")\n"
   ]
  },
  {
   "cell_type": "code",
   "execution_count": 12,
   "metadata": {
    "id": "hv1tN77IVUCJ"
   },
   "outputs": [],
   "source": [
    "analyst_task = Task(\n",
    "    description=f\"\"\"\n",
    "        Analyze the provided data and answer the following question:\n",
    "        **{inputs['question']}**\n",
    "        Ensure your response is based strictly on data-driven insights.\n",
    "    \"\"\",\n",
    "    expected_output=\"\"\"\n",
    "        A correct, data-backed answer along with the name of the file used for analysis.\n",
    "    \"\"\",\n",
    "    agent=analyst_agent,\n",
    ")\n"
   ]
  },
  {
   "cell_type": "markdown",
   "metadata": {
    "id": "AtrGXX6VIcZz"
   },
   "source": [
    "## Assemble crew"
   ]
  },
  {
   "cell_type": "code",
   "execution_count": 13,
   "metadata": {
    "colab": {
     "base_uri": "https://localhost:8080/"
    },
    "collapsed": true,
    "executionInfo": {
     "elapsed": 33101,
     "status": "ok",
     "timestamp": 1738827460155,
     "user": {
      "displayName": "Gladys Mawarni",
      "userId": "03879441175200282144"
     },
     "user_tz": 0
    },
    "id": "9XlJDRHXoqTF",
    "outputId": "43c3a4cd-4cbe-4e0e-8570-8fe6c668db24"
   },
   "outputs": [
    {
     "data": {
      "text/html": [
       "<pre style=\"white-space:pre;overflow-x:auto;line-height:normal;font-family:Menlo,'DejaVu Sans Mono',consolas,'Courier New',monospace\"><span style=\"color: #008080; text-decoration-color: #008080\">╭──────────────────────────────────────────── Crew Execution Started ─────────────────────────────────────────────╮</span>\n",
       "<span style=\"color: #008080; text-decoration-color: #008080\">│</span>                                                                                                                 <span style=\"color: #008080; text-decoration-color: #008080\">│</span>\n",
       "<span style=\"color: #008080; text-decoration-color: #008080\">│</span>  <span style=\"color: #008080; text-decoration-color: #008080; font-weight: bold\">Crew Execution Started</span>                                                                                         <span style=\"color: #008080; text-decoration-color: #008080\">│</span>\n",
       "<span style=\"color: #008080; text-decoration-color: #008080\">│</span>  <span style=\"color: #c0c0c0; text-decoration-color: #c0c0c0\">Name: </span><span style=\"color: #008080; text-decoration-color: #008080\">crew</span>                                                                                                     <span style=\"color: #008080; text-decoration-color: #008080\">│</span>\n",
       "<span style=\"color: #008080; text-decoration-color: #008080\">│</span>  <span style=\"color: #c0c0c0; text-decoration-color: #c0c0c0\">ID: </span><span style=\"color: #008080; text-decoration-color: #008080\">012370ae-4fd1-4c2f-9faf-22cf8a93cc9f</span>                                                                       <span style=\"color: #008080; text-decoration-color: #008080\">│</span>\n",
       "<span style=\"color: #008080; text-decoration-color: #008080\">│</span>                                                                                                                 <span style=\"color: #008080; text-decoration-color: #008080\">│</span>\n",
       "<span style=\"color: #008080; text-decoration-color: #008080\">│</span>                                                                                                                 <span style=\"color: #008080; text-decoration-color: #008080\">│</span>\n",
       "<span style=\"color: #008080; text-decoration-color: #008080\">╰─────────────────────────────────────────────────────────────────────────────────────────────────────────────────╯</span>\n",
       "</pre>\n"
      ],
      "text/plain": [
       "\u001b[36m╭─\u001b[0m\u001b[36m───────────────────────────────────────────\u001b[0m\u001b[36m Crew Execution Started \u001b[0m\u001b[36m────────────────────────────────────────────\u001b[0m\u001b[36m─╮\u001b[0m\n",
       "\u001b[36m│\u001b[0m                                                                                                                 \u001b[36m│\u001b[0m\n",
       "\u001b[36m│\u001b[0m  \u001b[1;36mCrew Execution Started\u001b[0m                                                                                         \u001b[36m│\u001b[0m\n",
       "\u001b[36m│\u001b[0m  \u001b[37mName: \u001b[0m\u001b[36mcrew\u001b[0m                                                                                                     \u001b[36m│\u001b[0m\n",
       "\u001b[36m│\u001b[0m  \u001b[37mID: \u001b[0m\u001b[36m012370ae-4fd1-4c2f-9faf-22cf8a93cc9f\u001b[0m                                                                       \u001b[36m│\u001b[0m\n",
       "\u001b[36m│\u001b[0m                                                                                                                 \u001b[36m│\u001b[0m\n",
       "\u001b[36m│\u001b[0m                                                                                                                 \u001b[36m│\u001b[0m\n",
       "\u001b[36m╰─────────────────────────────────────────────────────────────────────────────────────────────────────────────────╯\u001b[0m\n"
      ]
     },
     "metadata": {},
     "output_type": "display_data"
    },
    {
     "data": {
      "text/html": [
       "<pre style=\"white-space:pre;overflow-x:auto;line-height:normal;font-family:Menlo,'DejaVu Sans Mono',consolas,'Courier New',monospace\">\n",
       "</pre>\n"
      ],
      "text/plain": [
       "\n"
      ]
     },
     "metadata": {},
     "output_type": "display_data"
    },
    {
     "data": {
      "text/html": [
       "<pre style=\"white-space:pre;overflow-x:auto;line-height:normal;font-family:Menlo,'DejaVu Sans Mono',consolas,'Courier New',monospace\"><span style=\"color: #008080; text-decoration-color: #008080; font-weight: bold\">🚀 Crew: crew</span>\n",
       "└── <span style=\"color: #808000; text-decoration-color: #808000; font-weight: bold\">📋 Task: bc126282-f3dc-43b5-80d6-4536097275d9</span>\n",
       "    <span style=\"color: #c0c0c0; text-decoration-color: #c0c0c0\">   Status: </span><span style=\"color: #bfbf7f; text-decoration-color: #bfbf7f\">Executing Task...</span>\n",
       "</pre>\n"
      ],
      "text/plain": [
       "\u001b[1;36m🚀 Crew: \u001b[0m\u001b[1;36mcrew\u001b[0m\n",
       "└── \u001b[1;33m📋 Task: bc126282-f3dc-43b5-80d6-4536097275d9\u001b[0m\n",
       "    \u001b[37m   Status: \u001b[0m\u001b[2;33mExecuting Task...\u001b[0m\n"
      ]
     },
     "metadata": {},
     "output_type": "display_data"
    },
    {
     "data": {
      "text/html": [
       "<pre style=\"white-space:pre;overflow-x:auto;line-height:normal;font-family:Menlo,'DejaVu Sans Mono',consolas,'Courier New',monospace\">\n",
       "</pre>\n"
      ],
      "text/plain": [
       "\n"
      ]
     },
     "metadata": {},
     "output_type": "display_data"
    },
    {
     "data": {
      "text/html": [
       "<pre style=\"white-space:pre;overflow-x:auto;line-height:normal;font-family:Menlo,'DejaVu Sans Mono',consolas,'Courier New',monospace\"><span style=\"color: #008080; text-decoration-color: #008080; font-weight: bold\">🚀 Crew: crew</span>\n",
       "└── <span style=\"color: #808000; text-decoration-color: #808000; font-weight: bold\">📋 Task: bc126282-f3dc-43b5-80d6-4536097275d9</span>\n",
       "    <span style=\"color: #c0c0c0; text-decoration-color: #c0c0c0\">   Status: </span><span style=\"color: #bfbf7f; text-decoration-color: #bfbf7f\">Executing Task...</span>\n",
       "    └── <span style=\"color: #008000; text-decoration-color: #008000; font-weight: bold\">🤖 Agent: </span><span style=\"color: #008000; text-decoration-color: #008000\">Invoice Retrieval Assistant</span>\n",
       "        <span style=\"color: #c0c0c0; text-decoration-color: #c0c0c0\">    Status: </span><span style=\"color: #008000; text-decoration-color: #008000; font-weight: bold\">In Progress</span>\n",
       "</pre>\n"
      ],
      "text/plain": [
       "\u001b[1;36m🚀 Crew: \u001b[0m\u001b[1;36mcrew\u001b[0m\n",
       "└── \u001b[1;33m📋 Task: bc126282-f3dc-43b5-80d6-4536097275d9\u001b[0m\n",
       "    \u001b[37m   Status: \u001b[0m\u001b[2;33mExecuting Task...\u001b[0m\n",
       "    └── \u001b[1;32m🤖 Agent: \u001b[0m\u001b[32mInvoice Retrieval Assistant\u001b[0m\n",
       "        \u001b[37m    Status: \u001b[0m\u001b[1;32mIn Progress\u001b[0m\n"
      ]
     },
     "metadata": {},
     "output_type": "display_data"
    },
    {
     "data": {
      "text/html": [
       "<pre style=\"white-space:pre;overflow-x:auto;line-height:normal;font-family:Menlo,'DejaVu Sans Mono',consolas,'Courier New',monospace\">\n",
       "</pre>\n"
      ],
      "text/plain": [
       "\n"
      ]
     },
     "metadata": {},
     "output_type": "display_data"
    },
    {
     "name": "stdout",
     "output_type": "stream",
     "text": [
      "\u001b[1m\u001b[95m# Agent:\u001b[00m \u001b[1m\u001b[92mInvoice Retrieval Assistant\u001b[00m\n",
      "\u001b[95m## Task:\u001b[00m \u001b[92m\n",
      "        Search for the correct file within **invoices** that matches the following criteria:\n",
      "        **all invoices from Simonis and Braun**\n",
      "        Once found, extract all the data from the relevant file.\n",
      "    \u001b[00m\n"
     ]
    },
    {
     "data": {
      "text/html": [
       "<pre style=\"white-space:pre;overflow-x:auto;line-height:normal;font-family:Menlo,'DejaVu Sans Mono',consolas,'Courier New',monospace\"><span style=\"color: #008000; text-decoration-color: #008000; font-weight: bold\">🤖 Agent: </span><span style=\"color: #008000; text-decoration-color: #008000\">Invoice Retrieval Assistant</span>\n",
       "<span style=\"color: #c0c0c0; text-decoration-color: #c0c0c0\">    Status: </span><span style=\"color: #008000; text-decoration-color: #008000; font-weight: bold\">In Progress</span>\n",
       "└── <span style=\"color: #000080; text-decoration-color: #000080; font-weight: bold\">🧠 </span><span style=\"color: #000080; text-decoration-color: #000080\">Thinking...</span>\n",
       "</pre>\n"
      ],
      "text/plain": [
       "\u001b[1;32m🤖 Agent: \u001b[0m\u001b[32mInvoice Retrieval Assistant\u001b[0m\n",
       "\u001b[37m    Status: \u001b[0m\u001b[1;32mIn Progress\u001b[0m\n",
       "└── \u001b[1;34m🧠 \u001b[0m\u001b[34mThinking...\u001b[0m\n"
      ]
     },
     "metadata": {},
     "output_type": "display_data"
    },
    {
     "data": {
      "text/html": [
       "<pre style=\"white-space:pre;overflow-x:auto;line-height:normal;font-family:Menlo,'DejaVu Sans Mono',consolas,'Courier New',monospace\">\n",
       "</pre>\n"
      ],
      "text/plain": [
       "\n"
      ]
     },
     "metadata": {},
     "output_type": "display_data"
    },
    {
     "data": {
      "text/html": [
       "<pre style=\"white-space:pre;overflow-x:auto;line-height:normal;font-family:Menlo,'DejaVu Sans Mono',consolas,'Courier New',monospace\"><span style=\"color: #008000; text-decoration-color: #008000; font-weight: bold\">🤖 Agent: </span><span style=\"color: #008000; text-decoration-color: #008000\">Invoice Retrieval Assistant</span>\n",
       "<span style=\"color: #c0c0c0; text-decoration-color: #c0c0c0\">    Status: </span><span style=\"color: #008000; text-decoration-color: #008000; font-weight: bold\">In Progress</span>\n",
       "</pre>\n"
      ],
      "text/plain": [
       "\u001b[1;32m🤖 Agent: \u001b[0m\u001b[32mInvoice Retrieval Assistant\u001b[0m\n",
       "\u001b[37m    Status: \u001b[0m\u001b[1;32mIn Progress\u001b[0m\n"
      ]
     },
     "metadata": {},
     "output_type": "display_data"
    },
    {
     "data": {
      "text/html": [
       "<pre style=\"white-space:pre;overflow-x:auto;line-height:normal;font-family:Menlo,'DejaVu Sans Mono',consolas,'Courier New',monospace\">\n",
       "</pre>\n"
      ],
      "text/plain": [
       "\n"
      ]
     },
     "metadata": {},
     "output_type": "display_data"
    },
    {
     "data": {
      "text/html": [
       "<pre style=\"white-space:pre;overflow-x:auto;line-height:normal;font-family:Menlo,'DejaVu Sans Mono',consolas,'Courier New',monospace\"><span style=\"color: #008000; text-decoration-color: #008000; font-weight: bold\">🤖 Agent: </span><span style=\"color: #008000; text-decoration-color: #008000\">Invoice Retrieval Assistant</span>\n",
       "<span style=\"color: #c0c0c0; text-decoration-color: #c0c0c0\">    Status: </span><span style=\"color: #008000; text-decoration-color: #008000; font-weight: bold\">In Progress</span>\n",
       "</pre>\n"
      ],
      "text/plain": [
       "\u001b[1;32m🤖 Agent: \u001b[0m\u001b[32mInvoice Retrieval Assistant\u001b[0m\n",
       "\u001b[37m    Status: \u001b[0m\u001b[1;32mIn Progress\u001b[0m\n"
      ]
     },
     "metadata": {},
     "output_type": "display_data"
    },
    {
     "data": {
      "text/html": [
       "<pre style=\"white-space:pre;overflow-x:auto;line-height:normal;font-family:Menlo,'DejaVu Sans Mono',consolas,'Courier New',monospace\">\n",
       "</pre>\n"
      ],
      "text/plain": [
       "\n"
      ]
     },
     "metadata": {},
     "output_type": "display_data"
    },
    {
     "name": "stdout",
     "output_type": "stream",
     "text": [
      "\n",
      "\n",
      "\u001b[1m\u001b[95m# Agent:\u001b[00m \u001b[1m\u001b[92mInvoice Retrieval Assistant\u001b[00m\n",
      "\u001b[95m## Thought:\u001b[00m \u001b[92mThought: To find all invoices from Simonis and Braun, I need to first list all files in the \"invoices\" directory to identify potential documents to search.\u001b[00m\n",
      "\u001b[95m## Using tool:\u001b[00m \u001b[92mList files in directory\u001b[00m\n",
      "\u001b[95m## Tool Input:\u001b[00m \u001b[92m\n",
      "\"{\\\"directory\\\": \\\"invoices\\\"}\"\u001b[00m\n",
      "\u001b[95m## Tool Output:\u001b[00m \u001b[92m\n",
      "File paths: \n",
      "-invoices/Braun_2022-10.pdf\n",
      "- invoices/.DS_Store\n",
      "- invoices/Hammes_and_sons_2024-12.pdf\n",
      "- invoices/Gulgowski_and_sons_2025-02.pdf\n",
      "- invoices/Torphy_2025-02.pdf\n",
      "- invoices/simonis_2025-03.pdf\u001b[00m\n"
     ]
    },
    {
     "data": {
      "text/html": [
       "<pre style=\"white-space:pre;overflow-x:auto;line-height:normal;font-family:Menlo,'DejaVu Sans Mono',consolas,'Courier New',monospace\"><span style=\"color: #008000; text-decoration-color: #008000; font-weight: bold\">🤖 Agent: </span><span style=\"color: #008000; text-decoration-color: #008000\">Invoice Retrieval Assistant</span>\n",
       "<span style=\"color: #c0c0c0; text-decoration-color: #c0c0c0\">    Status: </span><span style=\"color: #008000; text-decoration-color: #008000; font-weight: bold\">In Progress</span>\n",
       "└── <span style=\"color: #000080; text-decoration-color: #000080; font-weight: bold\">🧠 </span><span style=\"color: #000080; text-decoration-color: #000080\">Thinking...</span>\n",
       "</pre>\n"
      ],
      "text/plain": [
       "\u001b[1;32m🤖 Agent: \u001b[0m\u001b[32mInvoice Retrieval Assistant\u001b[0m\n",
       "\u001b[37m    Status: \u001b[0m\u001b[1;32mIn Progress\u001b[0m\n",
       "└── \u001b[1;34m🧠 \u001b[0m\u001b[34mThinking...\u001b[0m\n"
      ]
     },
     "metadata": {},
     "output_type": "display_data"
    },
    {
     "data": {
      "text/html": [
       "<pre style=\"white-space:pre;overflow-x:auto;line-height:normal;font-family:Menlo,'DejaVu Sans Mono',consolas,'Courier New',monospace\">\n",
       "</pre>\n"
      ],
      "text/plain": [
       "\n"
      ]
     },
     "metadata": {},
     "output_type": "display_data"
    },
    {
     "data": {
      "text/html": [
       "<pre style=\"white-space:pre;overflow-x:auto;line-height:normal;font-family:Menlo,'DejaVu Sans Mono',consolas,'Courier New',monospace\"><span style=\"color: #008000; text-decoration-color: #008000; font-weight: bold\">🤖 Agent: </span><span style=\"color: #008000; text-decoration-color: #008000\">Invoice Retrieval Assistant</span>\n",
       "<span style=\"color: #c0c0c0; text-decoration-color: #c0c0c0\">    Status: </span><span style=\"color: #008000; text-decoration-color: #008000; font-weight: bold\">In Progress</span>\n",
       "</pre>\n"
      ],
      "text/plain": [
       "\u001b[1;32m🤖 Agent: \u001b[0m\u001b[32mInvoice Retrieval Assistant\u001b[0m\n",
       "\u001b[37m    Status: \u001b[0m\u001b[1;32mIn Progress\u001b[0m\n"
      ]
     },
     "metadata": {},
     "output_type": "display_data"
    },
    {
     "data": {
      "text/html": [
       "<pre style=\"white-space:pre;overflow-x:auto;line-height:normal;font-family:Menlo,'DejaVu Sans Mono',consolas,'Courier New',monospace\">\n",
       "</pre>\n"
      ],
      "text/plain": [
       "\n"
      ]
     },
     "metadata": {},
     "output_type": "display_data"
    },
    {
     "data": {
      "text/html": [
       "<pre style=\"white-space:pre;overflow-x:auto;line-height:normal;font-family:Menlo,'DejaVu Sans Mono',consolas,'Courier New',monospace\"><span style=\"color: #008000; text-decoration-color: #008000; font-weight: bold\">🤖 Agent: </span><span style=\"color: #008000; text-decoration-color: #008000\">Invoice Retrieval Assistant</span>\n",
       "<span style=\"color: #c0c0c0; text-decoration-color: #c0c0c0\">    Status: </span><span style=\"color: #008000; text-decoration-color: #008000; font-weight: bold\">In Progress</span>\n",
       "</pre>\n"
      ],
      "text/plain": [
       "\u001b[1;32m🤖 Agent: \u001b[0m\u001b[32mInvoice Retrieval Assistant\u001b[0m\n",
       "\u001b[37m    Status: \u001b[0m\u001b[1;32mIn Progress\u001b[0m\n"
      ]
     },
     "metadata": {},
     "output_type": "display_data"
    },
    {
     "data": {
      "text/html": [
       "<pre style=\"white-space:pre;overflow-x:auto;line-height:normal;font-family:Menlo,'DejaVu Sans Mono',consolas,'Courier New',monospace\">\n",
       "</pre>\n"
      ],
      "text/plain": [
       "\n"
      ]
     },
     "metadata": {},
     "output_type": "display_data"
    },
    {
     "name": "stderr",
     "output_type": "stream",
     "text": [
      "Inserting batches in chromadb:   0%|          | 0/1 [00:00<?, ?it/s]/Users/mdashikadnan/Documents/adnanedu/python/ztm/crewai/crewai_venv/lib/python3.11/site-packages/chromadb/types.py:144: PydanticDeprecatedSince211: Accessing the 'model_fields' attribute on the instance is deprecated. Instead, you should access this attribute from the model class. Deprecated in Pydantic V2.11 to be removed in V3.0.\n",
      "  return self.model_fields  # pydantic 2.x\n",
      "Inserting batches in chromadb: 100%|██████████| 1/1 [00:00<00:00,  1.44it/s]\n",
      "2025-04-22 22:46:57,618 - 8080858816 - local_persistent_hnsw.py-local_persistent_hnsw:423 - WARNING: Number of requested results 3 is greater than number of elements in index 1, updating n_results = 1\n"
     ]
    },
    {
     "name": "stdout",
     "output_type": "stream",
     "text": [
      "\n",
      "\n",
      "\u001b[1m\u001b[95m# Agent:\u001b[00m \u001b[1m\u001b[92mInvoice Retrieval Assistant\u001b[00m\n",
      "\u001b[95m## Thought:\u001b[00m \u001b[92mThought: I have identified two potential files that could be invoices from Simonis and Braun: \"Braun_2022-10.pdf\" and \"simonis_2025-03.pdf\". I will search these PDFs for invoice details.\u001b[00m\n",
      "\u001b[95m## Using tool:\u001b[00m \u001b[92mSearch a PDF's content\u001b[00m\n",
      "\u001b[95m## Tool Input:\u001b[00m \u001b[92m\n",
      "\"{\\\"query\\\": \\\"invoice\\\", \\\"pdf\\\": \\\"invoices/Braun_2022-10.pdf\\\"}\"\u001b[00m\n",
      "\u001b[95m## Tool Output:\u001b[00m \u001b[92m\n",
      "Relevant Content:\n",
      "Sample - Do not pay! Braun Ltd Treutel Unions 505 38003-6849 South Tobyside Date: 2022-10-04 Invoice No.: 31500 Invoice Dear Mr. Cormier, We hereby invoice the following deliveries and services. Pos. Amount Unit Description Price Total 1 73 Pcs. Quis ut excepturi quia odit.474,92 € 34.669,16 € 2 79 Pcs. Et qui voluptatem libero.554,69 € 43.820,51 € 3 92 Pcs. Accusamus ea autem. 830,53 € 76.408,76 € 4 67 Pcs. Consectetur ratione explicabo.196,93 € 13.194,31 € Price net 168.092,74 € plus 10% VAT 16.809,27 € Invoice total 184.902,01 € Payment details: Payment within 90 days Braun Ltd - Treutel Unions 505 - 38003-6849 South Tobyside Stehr-Heaney Donato Cormier Leopold Forks 711 24085 McCluremouth Saint Pierre and Miquelon WARNING! This document is only for testing purposes. Do not make any payment! - Generated by invoicefaker.com Braun Ltd Treutel Unions 505 38003-6849 South Tobyside CEO: Liliana Jast EN715009365 586 / 5 / 535 Bank details: NL07LBKP8434276625 KPKMGASKW1P\u001b[00m\n"
     ]
    },
    {
     "data": {
      "text/html": [
       "<pre style=\"white-space:pre;overflow-x:auto;line-height:normal;font-family:Menlo,'DejaVu Sans Mono',consolas,'Courier New',monospace\"><span style=\"color: #008000; text-decoration-color: #008000; font-weight: bold\">🤖 Agent: </span><span style=\"color: #008000; text-decoration-color: #008000\">Invoice Retrieval Assistant</span>\n",
       "<span style=\"color: #c0c0c0; text-decoration-color: #c0c0c0\">    Status: </span><span style=\"color: #008000; text-decoration-color: #008000; font-weight: bold\">In Progress</span>\n",
       "└── <span style=\"color: #000080; text-decoration-color: #000080; font-weight: bold\">🧠 </span><span style=\"color: #000080; text-decoration-color: #000080\">Thinking...</span>\n",
       "</pre>\n"
      ],
      "text/plain": [
       "\u001b[1;32m🤖 Agent: \u001b[0m\u001b[32mInvoice Retrieval Assistant\u001b[0m\n",
       "\u001b[37m    Status: \u001b[0m\u001b[1;32mIn Progress\u001b[0m\n",
       "└── \u001b[1;34m🧠 \u001b[0m\u001b[34mThinking...\u001b[0m\n"
      ]
     },
     "metadata": {},
     "output_type": "display_data"
    },
    {
     "data": {
      "text/html": [
       "<pre style=\"white-space:pre;overflow-x:auto;line-height:normal;font-family:Menlo,'DejaVu Sans Mono',consolas,'Courier New',monospace\">\n",
       "</pre>\n"
      ],
      "text/plain": [
       "\n"
      ]
     },
     "metadata": {},
     "output_type": "display_data"
    },
    {
     "data": {
      "text/html": [
       "<pre style=\"white-space:pre;overflow-x:auto;line-height:normal;font-family:Menlo,'DejaVu Sans Mono',consolas,'Courier New',monospace\"><span style=\"color: #008000; text-decoration-color: #008000; font-weight: bold\">🤖 Agent: </span><span style=\"color: #008000; text-decoration-color: #008000\">Invoice Retrieval Assistant</span>\n",
       "<span style=\"color: #c0c0c0; text-decoration-color: #c0c0c0\">    Status: </span><span style=\"color: #008000; text-decoration-color: #008000; font-weight: bold\">In Progress</span>\n",
       "</pre>\n"
      ],
      "text/plain": [
       "\u001b[1;32m🤖 Agent: \u001b[0m\u001b[32mInvoice Retrieval Assistant\u001b[0m\n",
       "\u001b[37m    Status: \u001b[0m\u001b[1;32mIn Progress\u001b[0m\n"
      ]
     },
     "metadata": {},
     "output_type": "display_data"
    },
    {
     "data": {
      "text/html": [
       "<pre style=\"white-space:pre;overflow-x:auto;line-height:normal;font-family:Menlo,'DejaVu Sans Mono',consolas,'Courier New',monospace\">\n",
       "</pre>\n"
      ],
      "text/plain": [
       "\n"
      ]
     },
     "metadata": {},
     "output_type": "display_data"
    },
    {
     "data": {
      "text/html": [
       "<pre style=\"white-space:pre;overflow-x:auto;line-height:normal;font-family:Menlo,'DejaVu Sans Mono',consolas,'Courier New',monospace\"><span style=\"color: #008000; text-decoration-color: #008000; font-weight: bold\">🤖 Agent: </span><span style=\"color: #008000; text-decoration-color: #008000\">Invoice Retrieval Assistant</span>\n",
       "<span style=\"color: #c0c0c0; text-decoration-color: #c0c0c0\">    Status: </span><span style=\"color: #008000; text-decoration-color: #008000; font-weight: bold\">In Progress</span>\n",
       "</pre>\n"
      ],
      "text/plain": [
       "\u001b[1;32m🤖 Agent: \u001b[0m\u001b[32mInvoice Retrieval Assistant\u001b[0m\n",
       "\u001b[37m    Status: \u001b[0m\u001b[1;32mIn Progress\u001b[0m\n"
      ]
     },
     "metadata": {},
     "output_type": "display_data"
    },
    {
     "data": {
      "text/html": [
       "<pre style=\"white-space:pre;overflow-x:auto;line-height:normal;font-family:Menlo,'DejaVu Sans Mono',consolas,'Courier New',monospace\">\n",
       "</pre>\n"
      ],
      "text/plain": [
       "\n"
      ]
     },
     "metadata": {},
     "output_type": "display_data"
    },
    {
     "name": "stderr",
     "output_type": "stream",
     "text": [
      "Inserting batches in chromadb:   0%|          | 0/1 [00:00<?, ?it/s]/Users/mdashikadnan/Documents/adnanedu/python/ztm/crewai/crewai_venv/lib/python3.11/site-packages/chromadb/types.py:144: PydanticDeprecatedSince211: Accessing the 'model_fields' attribute on the instance is deprecated. Instead, you should access this attribute from the model class. Deprecated in Pydantic V2.11 to be removed in V3.0.\n",
      "  return self.model_fields  # pydantic 2.x\n",
      "Inserting batches in chromadb: 100%|██████████| 1/1 [00:00<00:00,  1.11it/s]\n",
      "2025-04-22 22:47:01,720 - 8080858816 - local_persistent_hnsw.py-local_persistent_hnsw:423 - WARNING: Number of requested results 3 is greater than number of elements in index 2, updating n_results = 2\n"
     ]
    },
    {
     "name": "stdout",
     "output_type": "stream",
     "text": [
      "\n",
      "\n",
      "\u001b[1m\u001b[95m# Agent:\u001b[00m \u001b[1m\u001b[92mInvoice Retrieval Assistant\u001b[00m\n",
      "\u001b[95m## Thought:\u001b[00m \u001b[92mThought: I have successfully extracted data from the Braun invoice. Now I need to do the same for the Simonis invoice in the file \"simonis_2025-03.pdf\".\u001b[00m\n",
      "\u001b[95m## Using tool:\u001b[00m \u001b[92mSearch a PDF's content\u001b[00m\n",
      "\u001b[95m## Tool Input:\u001b[00m \u001b[92m\n",
      "\"{\\\"query\\\": \\\"invoice\\\", \\\"pdf\\\": \\\"invoices/simonis_2025-03.pdf\\\"}\"\u001b[00m\n",
      "\u001b[95m## Tool Output:\u001b[00m \u001b[92m\n",
      "Relevant Content:\n",
      "Sample - Do not pay! INVOICE 84951 DATE 05.02.2025 PAYMENT DETAILS 07.03.2025 DESCRIPTION PRICE AMOUNT TOTAL Deleniti consequatur hic omnis. 918,80 € 59 54.209,20 € Quis qui cum eligendi. 162,67 € 82 13.338,94 € Aut error voluptatem voluptatem. 976,13 € 82 80.042,66 € Assumenda nemo. 171,00 € 29 4.959,00 € Qui ab. 309,57 € 76 23.527,32 € PRICE NET 176.077,12 € plus 7% VAT 12.325,40 € INVOICE TOTAL 188.402,52 € CUSTOMER Norwood Spinka ADDRESS Aurelia Wall 784 CITY 42644-0051 South Maudieland Simonis LLC COMPANY Barney Village 891 ADDRESS 24163-6226 Kaseytown CITY PAYMENT DETAILS: Payment within 30 days WARNING! This document is only for testing purposes. Do not make any payment! - Generated by invoicefaker.com Simonis LLC Barney Village 891 24163-6226 Kaseytown CEO: Garry Kilback EN658568060 193 / 590 / 193 Bank details: RS97378587727026913595 AADDWABV\n",
      "\n",
      "\n",
      "You ONLY have access to the following tools, and should NEVER make up tools that are not listed here:\n",
      "\n",
      "Tool Name: List files in directory\n",
      "Tool Arguments: {'directory': {'description': 'Mandatory directory to list content', 'type': 'str'}}\n",
      "Tool Description: A tool that can be used to recursively list a directory's content.\n",
      "Tool Name: Search a PDF's content\n",
      "Tool Arguments: {'query': {'description': \"Mandatory query you want to use to search the PDF's content\", 'type': 'str'}, 'pdf': {'description': 'Mandatory pdf path you want to search', 'type': 'str'}}\n",
      "Tool Description: A tool that can be used to semantic search a query from a PDF's content.\n",
      "\n",
      "IMPORTANT: Use the following format in your response:\n",
      "\n",
      "```\n",
      "Thought: you should always think about what to do\n",
      "Action: the action to take, only one name of [List files in directory, Search a PDF's content], just the name, exactly as it's written.\n",
      "Action Input: the input to the action, just a simple JSON object, enclosed in curly braces, using \" to wrap keys and values.\n",
      "Observation: the result of the action\n",
      "```\n",
      "\n",
      "Once all necessary information is gathered, return the following format:\n",
      "\n",
      "```\n",
      "Thought: I now know the final answer\n",
      "Final Answer: the final answer to the original input question\n",
      "```\u001b[00m\n"
     ]
    },
    {
     "data": {
      "text/html": [
       "<pre style=\"white-space:pre;overflow-x:auto;line-height:normal;font-family:Menlo,'DejaVu Sans Mono',consolas,'Courier New',monospace\"><span style=\"color: #008000; text-decoration-color: #008000; font-weight: bold\">🤖 Agent: </span><span style=\"color: #008000; text-decoration-color: #008000\">Invoice Retrieval Assistant</span>\n",
       "<span style=\"color: #c0c0c0; text-decoration-color: #c0c0c0\">    Status: </span><span style=\"color: #008000; text-decoration-color: #008000; font-weight: bold\">In Progress</span>\n",
       "└── <span style=\"color: #000080; text-decoration-color: #000080; font-weight: bold\">🧠 </span><span style=\"color: #000080; text-decoration-color: #000080\">Thinking...</span>\n",
       "</pre>\n"
      ],
      "text/plain": [
       "\u001b[1;32m🤖 Agent: \u001b[0m\u001b[32mInvoice Retrieval Assistant\u001b[0m\n",
       "\u001b[37m    Status: \u001b[0m\u001b[1;32mIn Progress\u001b[0m\n",
       "└── \u001b[1;34m🧠 \u001b[0m\u001b[34mThinking...\u001b[0m\n"
      ]
     },
     "metadata": {},
     "output_type": "display_data"
    },
    {
     "data": {
      "text/html": [
       "<pre style=\"white-space:pre;overflow-x:auto;line-height:normal;font-family:Menlo,'DejaVu Sans Mono',consolas,'Courier New',monospace\">\n",
       "</pre>\n"
      ],
      "text/plain": [
       "\n"
      ]
     },
     "metadata": {},
     "output_type": "display_data"
    },
    {
     "data": {
      "text/html": [
       "<pre style=\"white-space:pre;overflow-x:auto;line-height:normal;font-family:Menlo,'DejaVu Sans Mono',consolas,'Courier New',monospace\"><span style=\"color: #008000; text-decoration-color: #008000; font-weight: bold\">🤖 Agent: </span><span style=\"color: #008000; text-decoration-color: #008000\">Invoice Retrieval Assistant</span>\n",
       "<span style=\"color: #c0c0c0; text-decoration-color: #c0c0c0\">    Status: </span><span style=\"color: #008000; text-decoration-color: #008000; font-weight: bold\">In Progress</span>\n",
       "</pre>\n"
      ],
      "text/plain": [
       "\u001b[1;32m🤖 Agent: \u001b[0m\u001b[32mInvoice Retrieval Assistant\u001b[0m\n",
       "\u001b[37m    Status: \u001b[0m\u001b[1;32mIn Progress\u001b[0m\n"
      ]
     },
     "metadata": {},
     "output_type": "display_data"
    },
    {
     "data": {
      "text/html": [
       "<pre style=\"white-space:pre;overflow-x:auto;line-height:normal;font-family:Menlo,'DejaVu Sans Mono',consolas,'Courier New',monospace\">\n",
       "</pre>\n"
      ],
      "text/plain": [
       "\n"
      ]
     },
     "metadata": {},
     "output_type": "display_data"
    },
    {
     "name": "stdout",
     "output_type": "stream",
     "text": [
      "\n",
      "\n",
      "\u001b[1m\u001b[95m# Agent:\u001b[00m \u001b[1m\u001b[92mInvoice Retrieval Assistant\u001b[00m\n",
      "\u001b[95m## Final Answer:\u001b[00m \u001b[92m\n",
      "Braun Invoice:\n",
      "```\n",
      "Date: 2022-10-04\n",
      "Invoice No.: 31500\n",
      "Customer: Mr. Cormier\n",
      "Address: Stehr-Heaney, Donato Cormier, Leopold Forks, 711 24085 McCluremouth, Saint Pierre and Miquelon\n",
      "Items:\n",
      "1. Amount: 73 Pcs, Description: Quis ut excepturi quia odit., Price: 474,92 €, Total: 34.669,16 €\n",
      "2. Amount: 79 Pcs, Description: Et qui voluptatem libero., Price: 554,69 €, Total: 43.820,51 €\n",
      "3. Amount: 92 Pcs, Description: Accusamus ea autem., Price: 830,53 €, Total: 76.408,76 €\n",
      "4. Amount: 67 Pcs, Description: Consectetur ratione explicabo., Price: 196,93 €, Total: 13.194,31 €\n",
      "Price net: 168.092,74 €\n",
      "Plus 10% VAT: 16.809,27 €\n",
      "Invoice total: 184.902,01 €\n",
      "Payment details: Payment within 90 days\n",
      "CEO: Liliana Jast\n",
      "Bank details: NL07LBKP8434276625 KPKMGASKW1P\n",
      "```\n",
      "\n",
      "Simonis Invoice:\n",
      "```\n",
      "Date: 05.02.2025\n",
      "Invoice No.: 84951\n",
      "Customer: Norwood Spinka\n",
      "Address: Aurelia Wall 784, 42644-0051 South Maudieland\n",
      "Company: Simonis LLC, Barney Village 891, 24163-6226 Kaseytown\n",
      "Items:\n",
      "1. Description: Deleniti consequatur hic omnis., Price: 918,80 €, Amount: 59, Total: 54.209,20 €\n",
      "2. Description: Quis qui cum eligendi., Price: 162,67 €, Amount: 82, Total: 13.338,94 €\n",
      "3. Description: Aut error voluptatem voluptatem., Price: 976,13 €, Amount: 82, Total: 80.042,66 €\n",
      "4. Description: Assumenda nemo., Price: 171,00 €, Amount: 29, Total: 4.959,00 €\n",
      "5. Description: Qui ab., Price: 309,57 €, Amount: 76, Total: 23.527,32 €\n",
      "Price net: 176.077,12 €\n",
      "Plus 7% VAT: 12.325,40 €\n",
      "Invoice total: 188.402,52 €\n",
      "Payment details: Payment within 30 days\n",
      "CEO: Garry Kilback\n",
      "Bank details: RS97378587727026913595 AADDWABV\n",
      "```\u001b[00m\n",
      "\n",
      "\n"
     ]
    },
    {
     "data": {
      "text/html": [
       "<pre style=\"white-space:pre;overflow-x:auto;line-height:normal;font-family:Menlo,'DejaVu Sans Mono',consolas,'Courier New',monospace\"><span style=\"color: #008080; text-decoration-color: #008080; font-weight: bold\">🚀 Crew: crew</span>\n",
       "└── <span style=\"color: #808000; text-decoration-color: #808000; font-weight: bold\">📋 Task: bc126282-f3dc-43b5-80d6-4536097275d9</span>\n",
       "    <span style=\"color: #c0c0c0; text-decoration-color: #c0c0c0\">   Status: </span><span style=\"color: #bfbf7f; text-decoration-color: #bfbf7f\">Executing Task...</span>\n",
       "    └── <span style=\"color: #008000; text-decoration-color: #008000; font-weight: bold\">🤖 Agent: </span><span style=\"color: #008000; text-decoration-color: #008000\">Invoice Retrieval Assistant</span>\n",
       "        <span style=\"color: #c0c0c0; text-decoration-color: #c0c0c0\">    Status: </span><span style=\"color: #008000; text-decoration-color: #008000; font-weight: bold\">✅ Completed</span>\n",
       "</pre>\n"
      ],
      "text/plain": [
       "\u001b[1;36m🚀 Crew: \u001b[0m\u001b[1;36mcrew\u001b[0m\n",
       "└── \u001b[1;33m📋 Task: bc126282-f3dc-43b5-80d6-4536097275d9\u001b[0m\n",
       "    \u001b[37m   Status: \u001b[0m\u001b[2;33mExecuting Task...\u001b[0m\n",
       "    └── \u001b[1;32m🤖 Agent: \u001b[0m\u001b[32mInvoice Retrieval Assistant\u001b[0m\n",
       "        \u001b[37m    Status: \u001b[0m\u001b[1;32m✅ Completed\u001b[0m\n"
      ]
     },
     "metadata": {},
     "output_type": "display_data"
    },
    {
     "data": {
      "text/html": [
       "<pre style=\"white-space:pre;overflow-x:auto;line-height:normal;font-family:Menlo,'DejaVu Sans Mono',consolas,'Courier New',monospace\">\n",
       "</pre>\n"
      ],
      "text/plain": [
       "\n"
      ]
     },
     "metadata": {},
     "output_type": "display_data"
    },
    {
     "data": {
      "text/html": [
       "<pre style=\"white-space:pre;overflow-x:auto;line-height:normal;font-family:Menlo,'DejaVu Sans Mono',consolas,'Courier New',monospace\"><span style=\"color: #008080; text-decoration-color: #008080; font-weight: bold\">🚀 Crew: crew</span>\n",
       "└── <span style=\"color: #008000; text-decoration-color: #008000; font-weight: bold\">📋 Task: bc126282-f3dc-43b5-80d6-4536097275d9</span>\n",
       "    <span style=\"color: #c0c0c0; text-decoration-color: #c0c0c0\">   Assigned to: </span><span style=\"color: #008000; text-decoration-color: #008000\">Invoice Retrieval Assistant</span>\n",
       "    <span style=\"color: #c0c0c0; text-decoration-color: #c0c0c0\">   Status: </span><span style=\"color: #008000; text-decoration-color: #008000; font-weight: bold\">✅ Completed</span>\n",
       "    └── <span style=\"color: #008000; text-decoration-color: #008000; font-weight: bold\">🤖 Agent: </span><span style=\"color: #008000; text-decoration-color: #008000\">Invoice Retrieval Assistant</span>\n",
       "        <span style=\"color: #c0c0c0; text-decoration-color: #c0c0c0\">    Status: </span><span style=\"color: #008000; text-decoration-color: #008000; font-weight: bold\">✅ Completed</span>\n",
       "</pre>\n"
      ],
      "text/plain": [
       "\u001b[1;36m🚀 Crew: \u001b[0m\u001b[1;36mcrew\u001b[0m\n",
       "└── \u001b[1;32m📋 Task: bc126282-f3dc-43b5-80d6-4536097275d9\u001b[0m\n",
       "    \u001b[37m   Assigned to: \u001b[0m\u001b[32mInvoice Retrieval Assistant\u001b[0m\n",
       "    \u001b[37m   Status: \u001b[0m\u001b[1;32m✅ Completed\u001b[0m\n",
       "    └── \u001b[1;32m🤖 Agent: \u001b[0m\u001b[32mInvoice Retrieval Assistant\u001b[0m\n",
       "        \u001b[37m    Status: \u001b[0m\u001b[1;32m✅ Completed\u001b[0m\n"
      ]
     },
     "metadata": {},
     "output_type": "display_data"
    },
    {
     "data": {
      "text/html": [
       "<pre style=\"white-space:pre;overflow-x:auto;line-height:normal;font-family:Menlo,'DejaVu Sans Mono',consolas,'Courier New',monospace\"><span style=\"color: #008000; text-decoration-color: #008000\">╭──────────────────────────────────────────────── Task Completion ────────────────────────────────────────────────╮</span>\n",
       "<span style=\"color: #008000; text-decoration-color: #008000\">│</span>                                                                                                                 <span style=\"color: #008000; text-decoration-color: #008000\">│</span>\n",
       "<span style=\"color: #008000; text-decoration-color: #008000\">│</span>  <span style=\"color: #008000; text-decoration-color: #008000; font-weight: bold\">Task Completed</span>                                                                                                 <span style=\"color: #008000; text-decoration-color: #008000\">│</span>\n",
       "<span style=\"color: #008000; text-decoration-color: #008000\">│</span>  <span style=\"color: #c0c0c0; text-decoration-color: #c0c0c0\">Name: </span><span style=\"color: #008000; text-decoration-color: #008000\">bc126282-f3dc-43b5-80d6-4536097275d9</span>                                                                     <span style=\"color: #008000; text-decoration-color: #008000\">│</span>\n",
       "<span style=\"color: #008000; text-decoration-color: #008000\">│</span>  <span style=\"color: #c0c0c0; text-decoration-color: #c0c0c0\">Agent: </span><span style=\"color: #008000; text-decoration-color: #008000\">Invoice Retrieval Assistant</span>                                                                             <span style=\"color: #008000; text-decoration-color: #008000\">│</span>\n",
       "<span style=\"color: #008000; text-decoration-color: #008000\">│</span>                                                                                                                 <span style=\"color: #008000; text-decoration-color: #008000\">│</span>\n",
       "<span style=\"color: #008000; text-decoration-color: #008000\">│</span>                                                                                                                 <span style=\"color: #008000; text-decoration-color: #008000\">│</span>\n",
       "<span style=\"color: #008000; text-decoration-color: #008000\">╰─────────────────────────────────────────────────────────────────────────────────────────────────────────────────╯</span>\n",
       "</pre>\n"
      ],
      "text/plain": [
       "\u001b[32m╭─\u001b[0m\u001b[32m───────────────────────────────────────────────\u001b[0m\u001b[32m Task Completion \u001b[0m\u001b[32m───────────────────────────────────────────────\u001b[0m\u001b[32m─╮\u001b[0m\n",
       "\u001b[32m│\u001b[0m                                                                                                                 \u001b[32m│\u001b[0m\n",
       "\u001b[32m│\u001b[0m  \u001b[1;32mTask Completed\u001b[0m                                                                                                 \u001b[32m│\u001b[0m\n",
       "\u001b[32m│\u001b[0m  \u001b[37mName: \u001b[0m\u001b[32mbc126282-f3dc-43b5-80d6-4536097275d9\u001b[0m                                                                     \u001b[32m│\u001b[0m\n",
       "\u001b[32m│\u001b[0m  \u001b[37mAgent: \u001b[0m\u001b[32mInvoice Retrieval Assistant\u001b[0m                                                                             \u001b[32m│\u001b[0m\n",
       "\u001b[32m│\u001b[0m                                                                                                                 \u001b[32m│\u001b[0m\n",
       "\u001b[32m│\u001b[0m                                                                                                                 \u001b[32m│\u001b[0m\n",
       "\u001b[32m╰─────────────────────────────────────────────────────────────────────────────────────────────────────────────────╯\u001b[0m\n"
      ]
     },
     "metadata": {},
     "output_type": "display_data"
    },
    {
     "data": {
      "text/html": [
       "<pre style=\"white-space:pre;overflow-x:auto;line-height:normal;font-family:Menlo,'DejaVu Sans Mono',consolas,'Courier New',monospace\">\n",
       "</pre>\n"
      ],
      "text/plain": [
       "\n"
      ]
     },
     "metadata": {},
     "output_type": "display_data"
    },
    {
     "data": {
      "text/html": [
       "<pre style=\"white-space:pre;overflow-x:auto;line-height:normal;font-family:Menlo,'DejaVu Sans Mono',consolas,'Courier New',monospace\"><span style=\"color: #008080; text-decoration-color: #008080; font-weight: bold\">🚀 Crew: crew</span>\n",
       "├── <span style=\"color: #008000; text-decoration-color: #008000; font-weight: bold\">📋 Task: bc126282-f3dc-43b5-80d6-4536097275d9</span>\n",
       "│   <span style=\"color: #c0c0c0; text-decoration-color: #c0c0c0\">   Assigned to: </span><span style=\"color: #008000; text-decoration-color: #008000\">Invoice Retrieval Assistant</span>\n",
       "│   <span style=\"color: #c0c0c0; text-decoration-color: #c0c0c0\">   Status: </span><span style=\"color: #008000; text-decoration-color: #008000; font-weight: bold\">✅ Completed</span>\n",
       "│   └── <span style=\"color: #008000; text-decoration-color: #008000; font-weight: bold\">🤖 Agent: </span><span style=\"color: #008000; text-decoration-color: #008000\">Invoice Retrieval Assistant</span>\n",
       "│       <span style=\"color: #c0c0c0; text-decoration-color: #c0c0c0\">    Status: </span><span style=\"color: #008000; text-decoration-color: #008000; font-weight: bold\">✅ Completed</span>\n",
       "└── <span style=\"color: #808000; text-decoration-color: #808000; font-weight: bold\">📋 Task: 1c4afdcd-ad5e-4ce2-b7ea-3a81891efc7f</span>\n",
       "    <span style=\"color: #c0c0c0; text-decoration-color: #c0c0c0\">   Status: </span><span style=\"color: #bfbf7f; text-decoration-color: #bfbf7f\">Executing Task...</span>\n",
       "</pre>\n"
      ],
      "text/plain": [
       "\u001b[1;36m🚀 Crew: \u001b[0m\u001b[1;36mcrew\u001b[0m\n",
       "├── \u001b[1;32m📋 Task: bc126282-f3dc-43b5-80d6-4536097275d9\u001b[0m\n",
       "│   \u001b[37m   Assigned to: \u001b[0m\u001b[32mInvoice Retrieval Assistant\u001b[0m\n",
       "│   \u001b[37m   Status: \u001b[0m\u001b[1;32m✅ Completed\u001b[0m\n",
       "│   └── \u001b[1;32m🤖 Agent: \u001b[0m\u001b[32mInvoice Retrieval Assistant\u001b[0m\n",
       "│       \u001b[37m    Status: \u001b[0m\u001b[1;32m✅ Completed\u001b[0m\n",
       "└── \u001b[1;33m📋 Task: 1c4afdcd-ad5e-4ce2-b7ea-3a81891efc7f\u001b[0m\n",
       "    \u001b[37m   Status: \u001b[0m\u001b[2;33mExecuting Task...\u001b[0m\n"
      ]
     },
     "metadata": {},
     "output_type": "display_data"
    },
    {
     "data": {
      "text/html": [
       "<pre style=\"white-space:pre;overflow-x:auto;line-height:normal;font-family:Menlo,'DejaVu Sans Mono',consolas,'Courier New',monospace\">\n",
       "</pre>\n"
      ],
      "text/plain": [
       "\n"
      ]
     },
     "metadata": {},
     "output_type": "display_data"
    },
    {
     "data": {
      "text/html": [
       "<pre style=\"white-space:pre;overflow-x:auto;line-height:normal;font-family:Menlo,'DejaVu Sans Mono',consolas,'Courier New',monospace\"><span style=\"color: #008080; text-decoration-color: #008080; font-weight: bold\">🚀 Crew: crew</span>\n",
       "├── <span style=\"color: #008000; text-decoration-color: #008000; font-weight: bold\">📋 Task: bc126282-f3dc-43b5-80d6-4536097275d9</span>\n",
       "│   <span style=\"color: #c0c0c0; text-decoration-color: #c0c0c0\">   Assigned to: </span><span style=\"color: #008000; text-decoration-color: #008000\">Invoice Retrieval Assistant</span>\n",
       "│   <span style=\"color: #c0c0c0; text-decoration-color: #c0c0c0\">   Status: </span><span style=\"color: #008000; text-decoration-color: #008000; font-weight: bold\">✅ Completed</span>\n",
       "│   └── <span style=\"color: #008000; text-decoration-color: #008000; font-weight: bold\">🤖 Agent: </span><span style=\"color: #008000; text-decoration-color: #008000\">Invoice Retrieval Assistant</span>\n",
       "│       <span style=\"color: #c0c0c0; text-decoration-color: #c0c0c0\">    Status: </span><span style=\"color: #008000; text-decoration-color: #008000; font-weight: bold\">✅ Completed</span>\n",
       "└── <span style=\"color: #808000; text-decoration-color: #808000; font-weight: bold\">📋 Task: 1c4afdcd-ad5e-4ce2-b7ea-3a81891efc7f</span>\n",
       "    <span style=\"color: #c0c0c0; text-decoration-color: #c0c0c0\">   Status: </span><span style=\"color: #bfbf7f; text-decoration-color: #bfbf7f\">Executing Task...</span>\n",
       "    └── <span style=\"color: #008000; text-decoration-color: #008000; font-weight: bold\">🤖 Agent: </span><span style=\"color: #008000; text-decoration-color: #008000\">Data Organization Assistant</span>\n",
       "        <span style=\"color: #c0c0c0; text-decoration-color: #c0c0c0\">    Status: </span><span style=\"color: #008000; text-decoration-color: #008000; font-weight: bold\">In Progress</span>\n",
       "</pre>\n"
      ],
      "text/plain": [
       "\u001b[1;36m🚀 Crew: \u001b[0m\u001b[1;36mcrew\u001b[0m\n",
       "├── \u001b[1;32m📋 Task: bc126282-f3dc-43b5-80d6-4536097275d9\u001b[0m\n",
       "│   \u001b[37m   Assigned to: \u001b[0m\u001b[32mInvoice Retrieval Assistant\u001b[0m\n",
       "│   \u001b[37m   Status: \u001b[0m\u001b[1;32m✅ Completed\u001b[0m\n",
       "│   └── \u001b[1;32m🤖 Agent: \u001b[0m\u001b[32mInvoice Retrieval Assistant\u001b[0m\n",
       "│       \u001b[37m    Status: \u001b[0m\u001b[1;32m✅ Completed\u001b[0m\n",
       "└── \u001b[1;33m📋 Task: 1c4afdcd-ad5e-4ce2-b7ea-3a81891efc7f\u001b[0m\n",
       "    \u001b[37m   Status: \u001b[0m\u001b[2;33mExecuting Task...\u001b[0m\n",
       "    └── \u001b[1;32m🤖 Agent: \u001b[0m\u001b[32mData Organization Assistant\u001b[0m\n",
       "        \u001b[37m    Status: \u001b[0m\u001b[1;32mIn Progress\u001b[0m\n"
      ]
     },
     "metadata": {},
     "output_type": "display_data"
    },
    {
     "data": {
      "text/html": [
       "<pre style=\"white-space:pre;overflow-x:auto;line-height:normal;font-family:Menlo,'DejaVu Sans Mono',consolas,'Courier New',monospace\">\n",
       "</pre>\n"
      ],
      "text/plain": [
       "\n"
      ]
     },
     "metadata": {},
     "output_type": "display_data"
    },
    {
     "name": "stdout",
     "output_type": "stream",
     "text": [
      "\u001b[1m\u001b[95m# Agent:\u001b[00m \u001b[1m\u001b[92mData Organization Assistant\u001b[00m\n",
      "\u001b[95m## Task:\u001b[00m \u001b[92m\n",
      "        Format the provided data into a CSV file with the specified columns:\n",
      "        **['Date', 'Description', 'Total Amount', 'Issuer', 'Receiver']**\n",
      "        Ensure that all numeric values use a decimal point (.) instead of a comma (,).\n",
      "        Date should be formatted as DD-MM-YYYY.\n",
      "        Save the results strictly in CSV format without any additional text.\n",
      "    \u001b[00m\n",
      "\n",
      "\n",
      "\u001b[1m\u001b[95m# Agent:\u001b[00m \u001b[1m\u001b[92mData Organization Assistant\u001b[00m\n",
      "\u001b[95m## Final Answer:\u001b[00m \u001b[92m\n",
      "```\n",
      "Date,Description,Total Amount,Issuer,Receiver\n",
      "04-10-2022,Quis ut excepturi quia odit.,34669.16,Braun,Mr. Cormier\n",
      "04-10-2022,Et qui voluptatem libero.,43820.51,Braun,Mr. Cormier\n",
      "04-10-2022,Accusamus ea autem.,76408.76,Braun,Mr. Cormier\n",
      "04-10-2022,Consectetur ratione explicabo.,13194.31,Braun,Mr. Cormier\n",
      "05-02-2025,Deleniti consequatur hic omnis.,54209.20,Simonis LLC,Norwood Spinka\n",
      "05-02-2025,Quis qui cum eligendi.,13338.94,Simonis LLC,Norwood Spinka\n",
      "05-02-2025,Aut error voluptatem voluptatem.,80042.66,Simonis LLC,Norwood Spinka\n",
      "05-02-2025,Assumenda nemo.,4959.00,Simonis LLC,Norwood Spinka\n",
      "05-02-2025,Qui ab.,23527.32,Simonis LLC,Norwood Spinka\n",
      "```\u001b[00m\n",
      "\n",
      "\n"
     ]
    },
    {
     "data": {
      "text/html": [
       "<pre style=\"white-space:pre;overflow-x:auto;line-height:normal;font-family:Menlo,'DejaVu Sans Mono',consolas,'Courier New',monospace\"><span style=\"color: #008080; text-decoration-color: #008080; font-weight: bold\">🚀 Crew: crew</span>\n",
       "├── <span style=\"color: #008000; text-decoration-color: #008000; font-weight: bold\">📋 Task: bc126282-f3dc-43b5-80d6-4536097275d9</span>\n",
       "│   <span style=\"color: #c0c0c0; text-decoration-color: #c0c0c0\">   Assigned to: </span><span style=\"color: #008000; text-decoration-color: #008000\">Invoice Retrieval Assistant</span>\n",
       "│   <span style=\"color: #c0c0c0; text-decoration-color: #c0c0c0\">   Status: </span><span style=\"color: #008000; text-decoration-color: #008000; font-weight: bold\">✅ Completed</span>\n",
       "│   └── <span style=\"color: #008000; text-decoration-color: #008000; font-weight: bold\">🤖 Agent: </span><span style=\"color: #008000; text-decoration-color: #008000\">Invoice Retrieval Assistant</span>\n",
       "│       <span style=\"color: #c0c0c0; text-decoration-color: #c0c0c0\">    Status: </span><span style=\"color: #008000; text-decoration-color: #008000; font-weight: bold\">✅ Completed</span>\n",
       "└── <span style=\"color: #808000; text-decoration-color: #808000; font-weight: bold\">📋 Task: 1c4afdcd-ad5e-4ce2-b7ea-3a81891efc7f</span>\n",
       "    <span style=\"color: #c0c0c0; text-decoration-color: #c0c0c0\">   Status: </span><span style=\"color: #bfbf7f; text-decoration-color: #bfbf7f\">Executing Task...</span>\n",
       "    └── <span style=\"color: #008000; text-decoration-color: #008000; font-weight: bold\">🤖 Agent: </span><span style=\"color: #008000; text-decoration-color: #008000\">Data Organization Assistant</span>\n",
       "        <span style=\"color: #c0c0c0; text-decoration-color: #c0c0c0\">    Status: </span><span style=\"color: #008000; text-decoration-color: #008000; font-weight: bold\">✅ Completed</span>\n",
       "</pre>\n"
      ],
      "text/plain": [
       "\u001b[1;36m🚀 Crew: \u001b[0m\u001b[1;36mcrew\u001b[0m\n",
       "├── \u001b[1;32m📋 Task: bc126282-f3dc-43b5-80d6-4536097275d9\u001b[0m\n",
       "│   \u001b[37m   Assigned to: \u001b[0m\u001b[32mInvoice Retrieval Assistant\u001b[0m\n",
       "│   \u001b[37m   Status: \u001b[0m\u001b[1;32m✅ Completed\u001b[0m\n",
       "│   └── \u001b[1;32m🤖 Agent: \u001b[0m\u001b[32mInvoice Retrieval Assistant\u001b[0m\n",
       "│       \u001b[37m    Status: \u001b[0m\u001b[1;32m✅ Completed\u001b[0m\n",
       "└── \u001b[1;33m📋 Task: 1c4afdcd-ad5e-4ce2-b7ea-3a81891efc7f\u001b[0m\n",
       "    \u001b[37m   Status: \u001b[0m\u001b[2;33mExecuting Task...\u001b[0m\n",
       "    └── \u001b[1;32m🤖 Agent: \u001b[0m\u001b[32mData Organization Assistant\u001b[0m\n",
       "        \u001b[37m    Status: \u001b[0m\u001b[1;32m✅ Completed\u001b[0m\n"
      ]
     },
     "metadata": {},
     "output_type": "display_data"
    },
    {
     "data": {
      "text/html": [
       "<pre style=\"white-space:pre;overflow-x:auto;line-height:normal;font-family:Menlo,'DejaVu Sans Mono',consolas,'Courier New',monospace\">\n",
       "</pre>\n"
      ],
      "text/plain": [
       "\n"
      ]
     },
     "metadata": {},
     "output_type": "display_data"
    },
    {
     "data": {
      "text/html": [
       "<pre style=\"white-space:pre;overflow-x:auto;line-height:normal;font-family:Menlo,'DejaVu Sans Mono',consolas,'Courier New',monospace\"><span style=\"color: #008080; text-decoration-color: #008080; font-weight: bold\">🚀 Crew: crew</span>\n",
       "├── <span style=\"color: #008000; text-decoration-color: #008000; font-weight: bold\">📋 Task: bc126282-f3dc-43b5-80d6-4536097275d9</span>\n",
       "│   <span style=\"color: #c0c0c0; text-decoration-color: #c0c0c0\">   Assigned to: </span><span style=\"color: #008000; text-decoration-color: #008000\">Invoice Retrieval Assistant</span>\n",
       "│   <span style=\"color: #c0c0c0; text-decoration-color: #c0c0c0\">   Status: </span><span style=\"color: #008000; text-decoration-color: #008000; font-weight: bold\">✅ Completed</span>\n",
       "│   └── <span style=\"color: #008000; text-decoration-color: #008000; font-weight: bold\">🤖 Agent: </span><span style=\"color: #008000; text-decoration-color: #008000\">Invoice Retrieval Assistant</span>\n",
       "│       <span style=\"color: #c0c0c0; text-decoration-color: #c0c0c0\">    Status: </span><span style=\"color: #008000; text-decoration-color: #008000; font-weight: bold\">✅ Completed</span>\n",
       "└── <span style=\"color: #008000; text-decoration-color: #008000; font-weight: bold\">📋 Task: 1c4afdcd-ad5e-4ce2-b7ea-3a81891efc7f</span>\n",
       "    <span style=\"color: #c0c0c0; text-decoration-color: #c0c0c0\">   Assigned to: </span><span style=\"color: #008000; text-decoration-color: #008000\">Data Organization Assistant</span>\n",
       "    <span style=\"color: #c0c0c0; text-decoration-color: #c0c0c0\">   Status: </span><span style=\"color: #008000; text-decoration-color: #008000; font-weight: bold\">✅ Completed</span>\n",
       "    └── <span style=\"color: #008000; text-decoration-color: #008000; font-weight: bold\">🤖 Agent: </span><span style=\"color: #008000; text-decoration-color: #008000\">Data Organization Assistant</span>\n",
       "        <span style=\"color: #c0c0c0; text-decoration-color: #c0c0c0\">    Status: </span><span style=\"color: #008000; text-decoration-color: #008000; font-weight: bold\">✅ Completed</span>\n",
       "</pre>\n"
      ],
      "text/plain": [
       "\u001b[1;36m🚀 Crew: \u001b[0m\u001b[1;36mcrew\u001b[0m\n",
       "├── \u001b[1;32m📋 Task: bc126282-f3dc-43b5-80d6-4536097275d9\u001b[0m\n",
       "│   \u001b[37m   Assigned to: \u001b[0m\u001b[32mInvoice Retrieval Assistant\u001b[0m\n",
       "│   \u001b[37m   Status: \u001b[0m\u001b[1;32m✅ Completed\u001b[0m\n",
       "│   └── \u001b[1;32m🤖 Agent: \u001b[0m\u001b[32mInvoice Retrieval Assistant\u001b[0m\n",
       "│       \u001b[37m    Status: \u001b[0m\u001b[1;32m✅ Completed\u001b[0m\n",
       "└── \u001b[1;32m📋 Task: 1c4afdcd-ad5e-4ce2-b7ea-3a81891efc7f\u001b[0m\n",
       "    \u001b[37m   Assigned to: \u001b[0m\u001b[32mData Organization Assistant\u001b[0m\n",
       "    \u001b[37m   Status: \u001b[0m\u001b[1;32m✅ Completed\u001b[0m\n",
       "    └── \u001b[1;32m🤖 Agent: \u001b[0m\u001b[32mData Organization Assistant\u001b[0m\n",
       "        \u001b[37m    Status: \u001b[0m\u001b[1;32m✅ Completed\u001b[0m\n"
      ]
     },
     "metadata": {},
     "output_type": "display_data"
    },
    {
     "data": {
      "text/html": [
       "<pre style=\"white-space:pre;overflow-x:auto;line-height:normal;font-family:Menlo,'DejaVu Sans Mono',consolas,'Courier New',monospace\"><span style=\"color: #008000; text-decoration-color: #008000\">╭──────────────────────────────────────────────── Task Completion ────────────────────────────────────────────────╮</span>\n",
       "<span style=\"color: #008000; text-decoration-color: #008000\">│</span>                                                                                                                 <span style=\"color: #008000; text-decoration-color: #008000\">│</span>\n",
       "<span style=\"color: #008000; text-decoration-color: #008000\">│</span>  <span style=\"color: #008000; text-decoration-color: #008000; font-weight: bold\">Task Completed</span>                                                                                                 <span style=\"color: #008000; text-decoration-color: #008000\">│</span>\n",
       "<span style=\"color: #008000; text-decoration-color: #008000\">│</span>  <span style=\"color: #c0c0c0; text-decoration-color: #c0c0c0\">Name: </span><span style=\"color: #008000; text-decoration-color: #008000\">1c4afdcd-ad5e-4ce2-b7ea-3a81891efc7f</span>                                                                     <span style=\"color: #008000; text-decoration-color: #008000\">│</span>\n",
       "<span style=\"color: #008000; text-decoration-color: #008000\">│</span>  <span style=\"color: #c0c0c0; text-decoration-color: #c0c0c0\">Agent: </span><span style=\"color: #008000; text-decoration-color: #008000\">Data Organization Assistant</span>                                                                             <span style=\"color: #008000; text-decoration-color: #008000\">│</span>\n",
       "<span style=\"color: #008000; text-decoration-color: #008000\">│</span>                                                                                                                 <span style=\"color: #008000; text-decoration-color: #008000\">│</span>\n",
       "<span style=\"color: #008000; text-decoration-color: #008000\">│</span>                                                                                                                 <span style=\"color: #008000; text-decoration-color: #008000\">│</span>\n",
       "<span style=\"color: #008000; text-decoration-color: #008000\">╰─────────────────────────────────────────────────────────────────────────────────────────────────────────────────╯</span>\n",
       "</pre>\n"
      ],
      "text/plain": [
       "\u001b[32m╭─\u001b[0m\u001b[32m───────────────────────────────────────────────\u001b[0m\u001b[32m Task Completion \u001b[0m\u001b[32m───────────────────────────────────────────────\u001b[0m\u001b[32m─╮\u001b[0m\n",
       "\u001b[32m│\u001b[0m                                                                                                                 \u001b[32m│\u001b[0m\n",
       "\u001b[32m│\u001b[0m  \u001b[1;32mTask Completed\u001b[0m                                                                                                 \u001b[32m│\u001b[0m\n",
       "\u001b[32m│\u001b[0m  \u001b[37mName: \u001b[0m\u001b[32m1c4afdcd-ad5e-4ce2-b7ea-3a81891efc7f\u001b[0m                                                                     \u001b[32m│\u001b[0m\n",
       "\u001b[32m│\u001b[0m  \u001b[37mAgent: \u001b[0m\u001b[32mData Organization Assistant\u001b[0m                                                                             \u001b[32m│\u001b[0m\n",
       "\u001b[32m│\u001b[0m                                                                                                                 \u001b[32m│\u001b[0m\n",
       "\u001b[32m│\u001b[0m                                                                                                                 \u001b[32m│\u001b[0m\n",
       "\u001b[32m╰─────────────────────────────────────────────────────────────────────────────────────────────────────────────────╯\u001b[0m\n"
      ]
     },
     "metadata": {},
     "output_type": "display_data"
    },
    {
     "data": {
      "text/html": [
       "<pre style=\"white-space:pre;overflow-x:auto;line-height:normal;font-family:Menlo,'DejaVu Sans Mono',consolas,'Courier New',monospace\">\n",
       "</pre>\n"
      ],
      "text/plain": [
       "\n"
      ]
     },
     "metadata": {},
     "output_type": "display_data"
    },
    {
     "data": {
      "text/html": [
       "<pre style=\"white-space:pre;overflow-x:auto;line-height:normal;font-family:Menlo,'DejaVu Sans Mono',consolas,'Courier New',monospace\"><span style=\"color: #008080; text-decoration-color: #008080; font-weight: bold\">🚀 Crew: crew</span>\n",
       "├── <span style=\"color: #008000; text-decoration-color: #008000; font-weight: bold\">📋 Task: bc126282-f3dc-43b5-80d6-4536097275d9</span>\n",
       "│   <span style=\"color: #c0c0c0; text-decoration-color: #c0c0c0\">   Assigned to: </span><span style=\"color: #008000; text-decoration-color: #008000\">Invoice Retrieval Assistant</span>\n",
       "│   <span style=\"color: #c0c0c0; text-decoration-color: #c0c0c0\">   Status: </span><span style=\"color: #008000; text-decoration-color: #008000; font-weight: bold\">✅ Completed</span>\n",
       "│   └── <span style=\"color: #008000; text-decoration-color: #008000; font-weight: bold\">🤖 Agent: </span><span style=\"color: #008000; text-decoration-color: #008000\">Invoice Retrieval Assistant</span>\n",
       "│       <span style=\"color: #c0c0c0; text-decoration-color: #c0c0c0\">    Status: </span><span style=\"color: #008000; text-decoration-color: #008000; font-weight: bold\">✅ Completed</span>\n",
       "├── <span style=\"color: #008000; text-decoration-color: #008000; font-weight: bold\">📋 Task: 1c4afdcd-ad5e-4ce2-b7ea-3a81891efc7f</span>\n",
       "│   <span style=\"color: #c0c0c0; text-decoration-color: #c0c0c0\">   Assigned to: </span><span style=\"color: #008000; text-decoration-color: #008000\">Data Organization Assistant</span>\n",
       "│   <span style=\"color: #c0c0c0; text-decoration-color: #c0c0c0\">   Status: </span><span style=\"color: #008000; text-decoration-color: #008000; font-weight: bold\">✅ Completed</span>\n",
       "│   └── <span style=\"color: #008000; text-decoration-color: #008000; font-weight: bold\">🤖 Agent: </span><span style=\"color: #008000; text-decoration-color: #008000\">Data Organization Assistant</span>\n",
       "│       <span style=\"color: #c0c0c0; text-decoration-color: #c0c0c0\">    Status: </span><span style=\"color: #008000; text-decoration-color: #008000; font-weight: bold\">✅ Completed</span>\n",
       "└── <span style=\"color: #808000; text-decoration-color: #808000; font-weight: bold\">📋 Task: 856e7944-b0ab-4adc-af6a-59585180010e</span>\n",
       "    <span style=\"color: #c0c0c0; text-decoration-color: #c0c0c0\">   Status: </span><span style=\"color: #bfbf7f; text-decoration-color: #bfbf7f\">Executing Task...</span>\n",
       "</pre>\n"
      ],
      "text/plain": [
       "\u001b[1;36m🚀 Crew: \u001b[0m\u001b[1;36mcrew\u001b[0m\n",
       "├── \u001b[1;32m📋 Task: bc126282-f3dc-43b5-80d6-4536097275d9\u001b[0m\n",
       "│   \u001b[37m   Assigned to: \u001b[0m\u001b[32mInvoice Retrieval Assistant\u001b[0m\n",
       "│   \u001b[37m   Status: \u001b[0m\u001b[1;32m✅ Completed\u001b[0m\n",
       "│   └── \u001b[1;32m🤖 Agent: \u001b[0m\u001b[32mInvoice Retrieval Assistant\u001b[0m\n",
       "│       \u001b[37m    Status: \u001b[0m\u001b[1;32m✅ Completed\u001b[0m\n",
       "├── \u001b[1;32m📋 Task: 1c4afdcd-ad5e-4ce2-b7ea-3a81891efc7f\u001b[0m\n",
       "│   \u001b[37m   Assigned to: \u001b[0m\u001b[32mData Organization Assistant\u001b[0m\n",
       "│   \u001b[37m   Status: \u001b[0m\u001b[1;32m✅ Completed\u001b[0m\n",
       "│   └── \u001b[1;32m🤖 Agent: \u001b[0m\u001b[32mData Organization Assistant\u001b[0m\n",
       "│       \u001b[37m    Status: \u001b[0m\u001b[1;32m✅ Completed\u001b[0m\n",
       "└── \u001b[1;33m📋 Task: 856e7944-b0ab-4adc-af6a-59585180010e\u001b[0m\n",
       "    \u001b[37m   Status: \u001b[0m\u001b[2;33mExecuting Task...\u001b[0m\n"
      ]
     },
     "metadata": {},
     "output_type": "display_data"
    },
    {
     "data": {
      "text/html": [
       "<pre style=\"white-space:pre;overflow-x:auto;line-height:normal;font-family:Menlo,'DejaVu Sans Mono',consolas,'Courier New',monospace\">\n",
       "</pre>\n"
      ],
      "text/plain": [
       "\n"
      ]
     },
     "metadata": {},
     "output_type": "display_data"
    },
    {
     "data": {
      "text/html": [
       "<pre style=\"white-space:pre;overflow-x:auto;line-height:normal;font-family:Menlo,'DejaVu Sans Mono',consolas,'Courier New',monospace\"><span style=\"color: #008080; text-decoration-color: #008080; font-weight: bold\">🚀 Crew: crew</span>\n",
       "├── <span style=\"color: #008000; text-decoration-color: #008000; font-weight: bold\">📋 Task: bc126282-f3dc-43b5-80d6-4536097275d9</span>\n",
       "│   <span style=\"color: #c0c0c0; text-decoration-color: #c0c0c0\">   Assigned to: </span><span style=\"color: #008000; text-decoration-color: #008000\">Invoice Retrieval Assistant</span>\n",
       "│   <span style=\"color: #c0c0c0; text-decoration-color: #c0c0c0\">   Status: </span><span style=\"color: #008000; text-decoration-color: #008000; font-weight: bold\">✅ Completed</span>\n",
       "│   └── <span style=\"color: #008000; text-decoration-color: #008000; font-weight: bold\">🤖 Agent: </span><span style=\"color: #008000; text-decoration-color: #008000\">Invoice Retrieval Assistant</span>\n",
       "│       <span style=\"color: #c0c0c0; text-decoration-color: #c0c0c0\">    Status: </span><span style=\"color: #008000; text-decoration-color: #008000; font-weight: bold\">✅ Completed</span>\n",
       "├── <span style=\"color: #008000; text-decoration-color: #008000; font-weight: bold\">📋 Task: 1c4afdcd-ad5e-4ce2-b7ea-3a81891efc7f</span>\n",
       "│   <span style=\"color: #c0c0c0; text-decoration-color: #c0c0c0\">   Assigned to: </span><span style=\"color: #008000; text-decoration-color: #008000\">Data Organization Assistant</span>\n",
       "│   <span style=\"color: #c0c0c0; text-decoration-color: #c0c0c0\">   Status: </span><span style=\"color: #008000; text-decoration-color: #008000; font-weight: bold\">✅ Completed</span>\n",
       "│   └── <span style=\"color: #008000; text-decoration-color: #008000; font-weight: bold\">🤖 Agent: </span><span style=\"color: #008000; text-decoration-color: #008000\">Data Organization Assistant</span>\n",
       "│       <span style=\"color: #c0c0c0; text-decoration-color: #c0c0c0\">    Status: </span><span style=\"color: #008000; text-decoration-color: #008000; font-weight: bold\">✅ Completed</span>\n",
       "└── <span style=\"color: #808000; text-decoration-color: #808000; font-weight: bold\">📋 Task: 856e7944-b0ab-4adc-af6a-59585180010e</span>\n",
       "    <span style=\"color: #c0c0c0; text-decoration-color: #c0c0c0\">   Status: </span><span style=\"color: #bfbf7f; text-decoration-color: #bfbf7f\">Executing Task...</span>\n",
       "    └── <span style=\"color: #008000; text-decoration-color: #008000; font-weight: bold\">🤖 Agent: </span><span style=\"color: #008000; text-decoration-color: #008000\">Data Analyst Assistant</span>\n",
       "        <span style=\"color: #c0c0c0; text-decoration-color: #c0c0c0\">    Status: </span><span style=\"color: #008000; text-decoration-color: #008000; font-weight: bold\">In Progress</span>\n",
       "</pre>\n"
      ],
      "text/plain": [
       "\u001b[1;36m🚀 Crew: \u001b[0m\u001b[1;36mcrew\u001b[0m\n",
       "├── \u001b[1;32m📋 Task: bc126282-f3dc-43b5-80d6-4536097275d9\u001b[0m\n",
       "│   \u001b[37m   Assigned to: \u001b[0m\u001b[32mInvoice Retrieval Assistant\u001b[0m\n",
       "│   \u001b[37m   Status: \u001b[0m\u001b[1;32m✅ Completed\u001b[0m\n",
       "│   └── \u001b[1;32m🤖 Agent: \u001b[0m\u001b[32mInvoice Retrieval Assistant\u001b[0m\n",
       "│       \u001b[37m    Status: \u001b[0m\u001b[1;32m✅ Completed\u001b[0m\n",
       "├── \u001b[1;32m📋 Task: 1c4afdcd-ad5e-4ce2-b7ea-3a81891efc7f\u001b[0m\n",
       "│   \u001b[37m   Assigned to: \u001b[0m\u001b[32mData Organization Assistant\u001b[0m\n",
       "│   \u001b[37m   Status: \u001b[0m\u001b[1;32m✅ Completed\u001b[0m\n",
       "│   └── \u001b[1;32m🤖 Agent: \u001b[0m\u001b[32mData Organization Assistant\u001b[0m\n",
       "│       \u001b[37m    Status: \u001b[0m\u001b[1;32m✅ Completed\u001b[0m\n",
       "└── \u001b[1;33m📋 Task: 856e7944-b0ab-4adc-af6a-59585180010e\u001b[0m\n",
       "    \u001b[37m   Status: \u001b[0m\u001b[2;33mExecuting Task...\u001b[0m\n",
       "    └── \u001b[1;32m🤖 Agent: \u001b[0m\u001b[32mData Analyst Assistant\u001b[0m\n",
       "        \u001b[37m    Status: \u001b[0m\u001b[1;32mIn Progress\u001b[0m\n"
      ]
     },
     "metadata": {},
     "output_type": "display_data"
    },
    {
     "data": {
      "text/html": [
       "<pre style=\"white-space:pre;overflow-x:auto;line-height:normal;font-family:Menlo,'DejaVu Sans Mono',consolas,'Courier New',monospace\">\n",
       "</pre>\n"
      ],
      "text/plain": [
       "\n"
      ]
     },
     "metadata": {},
     "output_type": "display_data"
    },
    {
     "name": "stdout",
     "output_type": "stream",
     "text": [
      "\u001b[1m\u001b[95m# Agent:\u001b[00m \u001b[1m\u001b[92mData Analyst Assistant\u001b[00m\n",
      "\u001b[95m## Task:\u001b[00m \u001b[92m\n",
      "        Analyze the provided data and answer the following question:\n",
      "        **what is the total amount invoiced and all the names of personnel involved in the latest invoice file**\n",
      "        Ensure your response is based strictly on data-driven insights.\n",
      "    \u001b[00m\n",
      "\n",
      "\n",
      "\u001b[1m\u001b[95m# Agent:\u001b[00m \u001b[1m\u001b[92mData Analyst Assistant\u001b[00m\n",
      "\u001b[95m## Final Answer:\u001b[00m \u001b[92m\n",
      "The total amount invoiced in the latest invoice file, which is the Simonis Invoice dated 05.02.2025, is 188.402,52 €. The personnel involved are Garry Kilback (CEO of Simonis LLC) and Norwood Spinka (Customer).\u001b[00m\n",
      "\n",
      "\n"
     ]
    },
    {
     "data": {
      "text/html": [
       "<pre style=\"white-space:pre;overflow-x:auto;line-height:normal;font-family:Menlo,'DejaVu Sans Mono',consolas,'Courier New',monospace\"><span style=\"color: #008080; text-decoration-color: #008080; font-weight: bold\">🚀 Crew: crew</span>\n",
       "├── <span style=\"color: #008000; text-decoration-color: #008000; font-weight: bold\">📋 Task: bc126282-f3dc-43b5-80d6-4536097275d9</span>\n",
       "│   <span style=\"color: #c0c0c0; text-decoration-color: #c0c0c0\">   Assigned to: </span><span style=\"color: #008000; text-decoration-color: #008000\">Invoice Retrieval Assistant</span>\n",
       "│   <span style=\"color: #c0c0c0; text-decoration-color: #c0c0c0\">   Status: </span><span style=\"color: #008000; text-decoration-color: #008000; font-weight: bold\">✅ Completed</span>\n",
       "│   └── <span style=\"color: #008000; text-decoration-color: #008000; font-weight: bold\">🤖 Agent: </span><span style=\"color: #008000; text-decoration-color: #008000\">Invoice Retrieval Assistant</span>\n",
       "│       <span style=\"color: #c0c0c0; text-decoration-color: #c0c0c0\">    Status: </span><span style=\"color: #008000; text-decoration-color: #008000; font-weight: bold\">✅ Completed</span>\n",
       "├── <span style=\"color: #008000; text-decoration-color: #008000; font-weight: bold\">📋 Task: 1c4afdcd-ad5e-4ce2-b7ea-3a81891efc7f</span>\n",
       "│   <span style=\"color: #c0c0c0; text-decoration-color: #c0c0c0\">   Assigned to: </span><span style=\"color: #008000; text-decoration-color: #008000\">Data Organization Assistant</span>\n",
       "│   <span style=\"color: #c0c0c0; text-decoration-color: #c0c0c0\">   Status: </span><span style=\"color: #008000; text-decoration-color: #008000; font-weight: bold\">✅ Completed</span>\n",
       "│   └── <span style=\"color: #008000; text-decoration-color: #008000; font-weight: bold\">🤖 Agent: </span><span style=\"color: #008000; text-decoration-color: #008000\">Data Organization Assistant</span>\n",
       "│       <span style=\"color: #c0c0c0; text-decoration-color: #c0c0c0\">    Status: </span><span style=\"color: #008000; text-decoration-color: #008000; font-weight: bold\">✅ Completed</span>\n",
       "└── <span style=\"color: #808000; text-decoration-color: #808000; font-weight: bold\">📋 Task: 856e7944-b0ab-4adc-af6a-59585180010e</span>\n",
       "    <span style=\"color: #c0c0c0; text-decoration-color: #c0c0c0\">   Status: </span><span style=\"color: #bfbf7f; text-decoration-color: #bfbf7f\">Executing Task...</span>\n",
       "    └── <span style=\"color: #008000; text-decoration-color: #008000; font-weight: bold\">🤖 Agent: </span><span style=\"color: #008000; text-decoration-color: #008000\">Data Analyst Assistant</span>\n",
       "        <span style=\"color: #c0c0c0; text-decoration-color: #c0c0c0\">    Status: </span><span style=\"color: #008000; text-decoration-color: #008000; font-weight: bold\">✅ Completed</span>\n",
       "</pre>\n"
      ],
      "text/plain": [
       "\u001b[1;36m🚀 Crew: \u001b[0m\u001b[1;36mcrew\u001b[0m\n",
       "├── \u001b[1;32m📋 Task: bc126282-f3dc-43b5-80d6-4536097275d9\u001b[0m\n",
       "│   \u001b[37m   Assigned to: \u001b[0m\u001b[32mInvoice Retrieval Assistant\u001b[0m\n",
       "│   \u001b[37m   Status: \u001b[0m\u001b[1;32m✅ Completed\u001b[0m\n",
       "│   └── \u001b[1;32m🤖 Agent: \u001b[0m\u001b[32mInvoice Retrieval Assistant\u001b[0m\n",
       "│       \u001b[37m    Status: \u001b[0m\u001b[1;32m✅ Completed\u001b[0m\n",
       "├── \u001b[1;32m📋 Task: 1c4afdcd-ad5e-4ce2-b7ea-3a81891efc7f\u001b[0m\n",
       "│   \u001b[37m   Assigned to: \u001b[0m\u001b[32mData Organization Assistant\u001b[0m\n",
       "│   \u001b[37m   Status: \u001b[0m\u001b[1;32m✅ Completed\u001b[0m\n",
       "│   └── \u001b[1;32m🤖 Agent: \u001b[0m\u001b[32mData Organization Assistant\u001b[0m\n",
       "│       \u001b[37m    Status: \u001b[0m\u001b[1;32m✅ Completed\u001b[0m\n",
       "└── \u001b[1;33m📋 Task: 856e7944-b0ab-4adc-af6a-59585180010e\u001b[0m\n",
       "    \u001b[37m   Status: \u001b[0m\u001b[2;33mExecuting Task...\u001b[0m\n",
       "    └── \u001b[1;32m🤖 Agent: \u001b[0m\u001b[32mData Analyst Assistant\u001b[0m\n",
       "        \u001b[37m    Status: \u001b[0m\u001b[1;32m✅ Completed\u001b[0m\n"
      ]
     },
     "metadata": {},
     "output_type": "display_data"
    },
    {
     "data": {
      "text/html": [
       "<pre style=\"white-space:pre;overflow-x:auto;line-height:normal;font-family:Menlo,'DejaVu Sans Mono',consolas,'Courier New',monospace\">\n",
       "</pre>\n"
      ],
      "text/plain": [
       "\n"
      ]
     },
     "metadata": {},
     "output_type": "display_data"
    },
    {
     "data": {
      "text/html": [
       "<pre style=\"white-space:pre;overflow-x:auto;line-height:normal;font-family:Menlo,'DejaVu Sans Mono',consolas,'Courier New',monospace\"><span style=\"color: #008080; text-decoration-color: #008080; font-weight: bold\">🚀 Crew: crew</span>\n",
       "├── <span style=\"color: #008000; text-decoration-color: #008000; font-weight: bold\">📋 Task: bc126282-f3dc-43b5-80d6-4536097275d9</span>\n",
       "│   <span style=\"color: #c0c0c0; text-decoration-color: #c0c0c0\">   Assigned to: </span><span style=\"color: #008000; text-decoration-color: #008000\">Invoice Retrieval Assistant</span>\n",
       "│   <span style=\"color: #c0c0c0; text-decoration-color: #c0c0c0\">   Status: </span><span style=\"color: #008000; text-decoration-color: #008000; font-weight: bold\">✅ Completed</span>\n",
       "│   └── <span style=\"color: #008000; text-decoration-color: #008000; font-weight: bold\">🤖 Agent: </span><span style=\"color: #008000; text-decoration-color: #008000\">Invoice Retrieval Assistant</span>\n",
       "│       <span style=\"color: #c0c0c0; text-decoration-color: #c0c0c0\">    Status: </span><span style=\"color: #008000; text-decoration-color: #008000; font-weight: bold\">✅ Completed</span>\n",
       "├── <span style=\"color: #008000; text-decoration-color: #008000; font-weight: bold\">📋 Task: 1c4afdcd-ad5e-4ce2-b7ea-3a81891efc7f</span>\n",
       "│   <span style=\"color: #c0c0c0; text-decoration-color: #c0c0c0\">   Assigned to: </span><span style=\"color: #008000; text-decoration-color: #008000\">Data Organization Assistant</span>\n",
       "│   <span style=\"color: #c0c0c0; text-decoration-color: #c0c0c0\">   Status: </span><span style=\"color: #008000; text-decoration-color: #008000; font-weight: bold\">✅ Completed</span>\n",
       "│   └── <span style=\"color: #008000; text-decoration-color: #008000; font-weight: bold\">🤖 Agent: </span><span style=\"color: #008000; text-decoration-color: #008000\">Data Organization Assistant</span>\n",
       "│       <span style=\"color: #c0c0c0; text-decoration-color: #c0c0c0\">    Status: </span><span style=\"color: #008000; text-decoration-color: #008000; font-weight: bold\">✅ Completed</span>\n",
       "└── <span style=\"color: #008000; text-decoration-color: #008000; font-weight: bold\">📋 Task: 856e7944-b0ab-4adc-af6a-59585180010e</span>\n",
       "    <span style=\"color: #c0c0c0; text-decoration-color: #c0c0c0\">   Assigned to: </span><span style=\"color: #008000; text-decoration-color: #008000\">Data Analyst Assistant</span>\n",
       "    <span style=\"color: #c0c0c0; text-decoration-color: #c0c0c0\">   Status: </span><span style=\"color: #008000; text-decoration-color: #008000; font-weight: bold\">✅ Completed</span>\n",
       "    └── <span style=\"color: #008000; text-decoration-color: #008000; font-weight: bold\">🤖 Agent: </span><span style=\"color: #008000; text-decoration-color: #008000\">Data Analyst Assistant</span>\n",
       "        <span style=\"color: #c0c0c0; text-decoration-color: #c0c0c0\">    Status: </span><span style=\"color: #008000; text-decoration-color: #008000; font-weight: bold\">✅ Completed</span>\n",
       "</pre>\n"
      ],
      "text/plain": [
       "\u001b[1;36m🚀 Crew: \u001b[0m\u001b[1;36mcrew\u001b[0m\n",
       "├── \u001b[1;32m📋 Task: bc126282-f3dc-43b5-80d6-4536097275d9\u001b[0m\n",
       "│   \u001b[37m   Assigned to: \u001b[0m\u001b[32mInvoice Retrieval Assistant\u001b[0m\n",
       "│   \u001b[37m   Status: \u001b[0m\u001b[1;32m✅ Completed\u001b[0m\n",
       "│   └── \u001b[1;32m🤖 Agent: \u001b[0m\u001b[32mInvoice Retrieval Assistant\u001b[0m\n",
       "│       \u001b[37m    Status: \u001b[0m\u001b[1;32m✅ Completed\u001b[0m\n",
       "├── \u001b[1;32m📋 Task: 1c4afdcd-ad5e-4ce2-b7ea-3a81891efc7f\u001b[0m\n",
       "│   \u001b[37m   Assigned to: \u001b[0m\u001b[32mData Organization Assistant\u001b[0m\n",
       "│   \u001b[37m   Status: \u001b[0m\u001b[1;32m✅ Completed\u001b[0m\n",
       "│   └── \u001b[1;32m🤖 Agent: \u001b[0m\u001b[32mData Organization Assistant\u001b[0m\n",
       "│       \u001b[37m    Status: \u001b[0m\u001b[1;32m✅ Completed\u001b[0m\n",
       "└── \u001b[1;32m📋 Task: 856e7944-b0ab-4adc-af6a-59585180010e\u001b[0m\n",
       "    \u001b[37m   Assigned to: \u001b[0m\u001b[32mData Analyst Assistant\u001b[0m\n",
       "    \u001b[37m   Status: \u001b[0m\u001b[1;32m✅ Completed\u001b[0m\n",
       "    └── \u001b[1;32m🤖 Agent: \u001b[0m\u001b[32mData Analyst Assistant\u001b[0m\n",
       "        \u001b[37m    Status: \u001b[0m\u001b[1;32m✅ Completed\u001b[0m\n"
      ]
     },
     "metadata": {},
     "output_type": "display_data"
    },
    {
     "data": {
      "text/html": [
       "<pre style=\"white-space:pre;overflow-x:auto;line-height:normal;font-family:Menlo,'DejaVu Sans Mono',consolas,'Courier New',monospace\"><span style=\"color: #008000; text-decoration-color: #008000\">╭──────────────────────────────────────────────── Task Completion ────────────────────────────────────────────────╮</span>\n",
       "<span style=\"color: #008000; text-decoration-color: #008000\">│</span>                                                                                                                 <span style=\"color: #008000; text-decoration-color: #008000\">│</span>\n",
       "<span style=\"color: #008000; text-decoration-color: #008000\">│</span>  <span style=\"color: #008000; text-decoration-color: #008000; font-weight: bold\">Task Completed</span>                                                                                                 <span style=\"color: #008000; text-decoration-color: #008000\">│</span>\n",
       "<span style=\"color: #008000; text-decoration-color: #008000\">│</span>  <span style=\"color: #c0c0c0; text-decoration-color: #c0c0c0\">Name: </span><span style=\"color: #008000; text-decoration-color: #008000\">856e7944-b0ab-4adc-af6a-59585180010e</span>                                                                     <span style=\"color: #008000; text-decoration-color: #008000\">│</span>\n",
       "<span style=\"color: #008000; text-decoration-color: #008000\">│</span>  <span style=\"color: #c0c0c0; text-decoration-color: #c0c0c0\">Agent: </span><span style=\"color: #008000; text-decoration-color: #008000\">Data Analyst Assistant</span>                                                                                  <span style=\"color: #008000; text-decoration-color: #008000\">│</span>\n",
       "<span style=\"color: #008000; text-decoration-color: #008000\">│</span>                                                                                                                 <span style=\"color: #008000; text-decoration-color: #008000\">│</span>\n",
       "<span style=\"color: #008000; text-decoration-color: #008000\">│</span>                                                                                                                 <span style=\"color: #008000; text-decoration-color: #008000\">│</span>\n",
       "<span style=\"color: #008000; text-decoration-color: #008000\">╰─────────────────────────────────────────────────────────────────────────────────────────────────────────────────╯</span>\n",
       "</pre>\n"
      ],
      "text/plain": [
       "\u001b[32m╭─\u001b[0m\u001b[32m───────────────────────────────────────────────\u001b[0m\u001b[32m Task Completion \u001b[0m\u001b[32m───────────────────────────────────────────────\u001b[0m\u001b[32m─╮\u001b[0m\n",
       "\u001b[32m│\u001b[0m                                                                                                                 \u001b[32m│\u001b[0m\n",
       "\u001b[32m│\u001b[0m  \u001b[1;32mTask Completed\u001b[0m                                                                                                 \u001b[32m│\u001b[0m\n",
       "\u001b[32m│\u001b[0m  \u001b[37mName: \u001b[0m\u001b[32m856e7944-b0ab-4adc-af6a-59585180010e\u001b[0m                                                                     \u001b[32m│\u001b[0m\n",
       "\u001b[32m│\u001b[0m  \u001b[37mAgent: \u001b[0m\u001b[32mData Analyst Assistant\u001b[0m                                                                                  \u001b[32m│\u001b[0m\n",
       "\u001b[32m│\u001b[0m                                                                                                                 \u001b[32m│\u001b[0m\n",
       "\u001b[32m│\u001b[0m                                                                                                                 \u001b[32m│\u001b[0m\n",
       "\u001b[32m╰─────────────────────────────────────────────────────────────────────────────────────────────────────────────────╯\u001b[0m\n"
      ]
     },
     "metadata": {},
     "output_type": "display_data"
    },
    {
     "data": {
      "text/html": [
       "<pre style=\"white-space:pre;overflow-x:auto;line-height:normal;font-family:Menlo,'DejaVu Sans Mono',consolas,'Courier New',monospace\">\n",
       "</pre>\n"
      ],
      "text/plain": [
       "\n"
      ]
     },
     "metadata": {},
     "output_type": "display_data"
    },
    {
     "data": {
      "text/html": [
       "<pre style=\"white-space:pre;overflow-x:auto;line-height:normal;font-family:Menlo,'DejaVu Sans Mono',consolas,'Courier New',monospace\"><span style=\"color: #008000; text-decoration-color: #008000\">╭──────────────────────────────────────────────── Crew Completion ────────────────────────────────────────────────╮</span>\n",
       "<span style=\"color: #008000; text-decoration-color: #008000\">│</span>                                                                                                                 <span style=\"color: #008000; text-decoration-color: #008000\">│</span>\n",
       "<span style=\"color: #008000; text-decoration-color: #008000\">│</span>  <span style=\"color: #008000; text-decoration-color: #008000; font-weight: bold\">Crew Execution Completed</span>                                                                                       <span style=\"color: #008000; text-decoration-color: #008000\">│</span>\n",
       "<span style=\"color: #008000; text-decoration-color: #008000\">│</span>  <span style=\"color: #c0c0c0; text-decoration-color: #c0c0c0\">Name: </span><span style=\"color: #008000; text-decoration-color: #008000\">crew</span>                                                                                                     <span style=\"color: #008000; text-decoration-color: #008000\">│</span>\n",
       "<span style=\"color: #008000; text-decoration-color: #008000\">│</span>  <span style=\"color: #c0c0c0; text-decoration-color: #c0c0c0\">ID: </span><span style=\"color: #008000; text-decoration-color: #008000\">012370ae-4fd1-4c2f-9faf-22cf8a93cc9f</span>                                                                       <span style=\"color: #008000; text-decoration-color: #008000\">│</span>\n",
       "<span style=\"color: #008000; text-decoration-color: #008000\">│</span>                                                                                                                 <span style=\"color: #008000; text-decoration-color: #008000\">│</span>\n",
       "<span style=\"color: #008000; text-decoration-color: #008000\">│</span>                                                                                                                 <span style=\"color: #008000; text-decoration-color: #008000\">│</span>\n",
       "<span style=\"color: #008000; text-decoration-color: #008000\">╰─────────────────────────────────────────────────────────────────────────────────────────────────────────────────╯</span>\n",
       "</pre>\n"
      ],
      "text/plain": [
       "\u001b[32m╭─\u001b[0m\u001b[32m───────────────────────────────────────────────\u001b[0m\u001b[32m Crew Completion \u001b[0m\u001b[32m───────────────────────────────────────────────\u001b[0m\u001b[32m─╮\u001b[0m\n",
       "\u001b[32m│\u001b[0m                                                                                                                 \u001b[32m│\u001b[0m\n",
       "\u001b[32m│\u001b[0m  \u001b[1;32mCrew Execution Completed\u001b[0m                                                                                       \u001b[32m│\u001b[0m\n",
       "\u001b[32m│\u001b[0m  \u001b[37mName: \u001b[0m\u001b[32mcrew\u001b[0m                                                                                                     \u001b[32m│\u001b[0m\n",
       "\u001b[32m│\u001b[0m  \u001b[37mID: \u001b[0m\u001b[32m012370ae-4fd1-4c2f-9faf-22cf8a93cc9f\u001b[0m                                                                       \u001b[32m│\u001b[0m\n",
       "\u001b[32m│\u001b[0m                                                                                                                 \u001b[32m│\u001b[0m\n",
       "\u001b[32m│\u001b[0m                                                                                                                 \u001b[32m│\u001b[0m\n",
       "\u001b[32m╰─────────────────────────────────────────────────────────────────────────────────────────────────────────────────╯\u001b[0m\n"
      ]
     },
     "metadata": {},
     "output_type": "display_data"
    },
    {
     "data": {
      "text/html": [
       "<pre style=\"white-space:pre;overflow-x:auto;line-height:normal;font-family:Menlo,'DejaVu Sans Mono',consolas,'Courier New',monospace\">\n",
       "</pre>\n"
      ],
      "text/plain": [
       "\n"
      ]
     },
     "metadata": {},
     "output_type": "display_data"
    }
   ],
   "source": [
    "crew = Crew(\n",
    "    agents=[assistant_agent, organizer_agent, analyst_agent],  # List of agents involved\n",
    "    tasks=[assistant_task, organizer_task, analyst_task],  # List of tasks to execute\n",
    "    verbose=True,\n",
    "    process=Process.sequential  # Ensuring tasks are processed in order\n",
    ")\n",
    "result = crew.kickoff()  # Start the task execution"
   ]
  },
  {
   "cell_type": "code",
   "execution_count": 14,
   "metadata": {
    "colab": {
     "base_uri": "https://localhost:8080/",
     "height": 1000
    },
    "executionInfo": {
     "elapsed": 20,
     "status": "ok",
     "timestamp": 1738827460156,
     "user": {
      "displayName": "Gladys Mawarni",
      "userId": "03879441175200282144"
     },
     "user_tz": 0
    },
    "id": "i8Nt2Mnnoti1",
    "outputId": "c2f3ce7c-6592-4c0c-f95f-f43cdd477236"
   },
   "outputs": [
    {
     "data": {
      "text/markdown": [
       "Braun Invoice:\n",
       "```\n",
       "Date: 2022-10-04\n",
       "Invoice No.: 31500\n",
       "Customer: Mr. Cormier\n",
       "Address: Stehr-Heaney, Donato Cormier, Leopold Forks, 711 24085 McCluremouth, Saint Pierre and Miquelon\n",
       "Items:\n",
       "1. Amount: 73 Pcs, Description: Quis ut excepturi quia odit., Price: 474,92 €, Total: 34.669,16 €\n",
       "2. Amount: 79 Pcs, Description: Et qui voluptatem libero., Price: 554,69 €, Total: 43.820,51 €\n",
       "3. Amount: 92 Pcs, Description: Accusamus ea autem., Price: 830,53 €, Total: 76.408,76 €\n",
       "4. Amount: 67 Pcs, Description: Consectetur ratione explicabo., Price: 196,93 €, Total: 13.194,31 €\n",
       "Price net: 168.092,74 €\n",
       "Plus 10% VAT: 16.809,27 €\n",
       "Invoice total: 184.902,01 €\n",
       "Payment details: Payment within 90 days\n",
       "CEO: Liliana Jast\n",
       "Bank details: NL07LBKP8434276625 KPKMGASKW1P\n",
       "```\n",
       "\n",
       "Simonis Invoice:\n",
       "```\n",
       "Date: 05.02.2025\n",
       "Invoice No.: 84951\n",
       "Customer: Norwood Spinka\n",
       "Address: Aurelia Wall 784, 42644-0051 South Maudieland\n",
       "Company: Simonis LLC, Barney Village 891, 24163-6226 Kaseytown\n",
       "Items:\n",
       "1. Description: Deleniti consequatur hic omnis., Price: 918,80 €, Amount: 59, Total: 54.209,20 €\n",
       "2. Description: Quis qui cum eligendi., Price: 162,67 €, Amount: 82, Total: 13.338,94 €\n",
       "3. Description: Aut error voluptatem voluptatem., Price: 976,13 €, Amount: 82, Total: 80.042,66 €\n",
       "4. Description: Assumenda nemo., Price: 171,00 €, Amount: 29, Total: 4.959,00 €\n",
       "5. Description: Qui ab., Price: 309,57 €, Amount: 76, Total: 23.527,32 €\n",
       "Price net: 176.077,12 €\n",
       "Plus 7% VAT: 12.325,40 €\n",
       "Invoice total: 188.402,52 €\n",
       "Payment details: Payment within 30 days\n",
       "CEO: Garry Kilback\n",
       "Bank details: RS97378587727026913595 AADDWABV\n",
       "```"
      ],
      "text/plain": [
       "<IPython.core.display.Markdown object>"
      ]
     },
     "execution_count": 14,
     "metadata": {},
     "output_type": "execute_result"
    }
   ],
   "source": [
    "# raw data from the invoices\n",
    "Markdown(result.tasks_output[0].raw)"
   ]
  },
  {
   "cell_type": "code",
   "execution_count": 15,
   "metadata": {
    "colab": {
     "base_uri": "https://localhost:8080/"
    },
    "executionInfo": {
     "elapsed": 16,
     "status": "ok",
     "timestamp": 1738827460156,
     "user": {
      "displayName": "Gladys Mawarni",
      "userId": "03879441175200282144"
     },
     "user_tz": 0
    },
    "id": "mLdsDbzVpBeG",
    "outputId": "f01faf3e-d0bb-4550-f515-a85851d0b64a"
   },
   "outputs": [
    {
     "name": "stdout",
     "output_type": "stream",
     "text": [
      "```\n",
      "Date,Description,Total Amount,Issuer,Receiver\n",
      "04-10-2022,Quis ut excepturi quia odit.,34669.16,Braun,Mr. Cormier\n",
      "04-10-2022,Et qui voluptatem libero.,43820.51,Braun,Mr. Cormier\n",
      "04-10-2022,Accusamus ea autem.,76408.76,Braun,Mr. Cormier\n",
      "04-10-2022,Consectetur ratione explicabo.,13194.31,Braun,Mr. Cormier\n",
      "05-02-2025,Deleniti consequatur hic omnis.,54209.20,Simonis LLC,Norwood Spinka\n",
      "05-02-2025,Quis qui cum eligendi.,13338.94,Simonis LLC,Norwood Spinka\n",
      "05-02-2025,Aut error voluptatem voluptatem.,80042.66,Simonis LLC,Norwood Spinka\n",
      "05-02-2025,Assumenda nemo.,4959.00,Simonis LLC,Norwood Spinka\n",
      "05-02-2025,Qui ab.,23527.32,Simonis LLC,Norwood Spinka\n",
      "```\n"
     ]
    }
   ],
   "source": [
    "# table structured\n",
    "print(result.tasks_output[1].raw)"
   ]
  },
  {
   "cell_type": "code",
   "execution_count": 16,
   "metadata": {
    "id": "RYrBARSdVgzp"
   },
   "outputs": [],
   "source": [
    "# write to csv\n",
    "from io import StringIO\n",
    "\n",
    "df = pd.read_csv(StringIO(result.tasks_output[1].raw))\n",
    "df.dropna(inplace=True)\n",
    "df.to_csv('result.csv')"
   ]
  },
  {
   "cell_type": "code",
   "execution_count": 17,
   "metadata": {
    "colab": {
     "base_uri": "https://localhost:8080/",
     "height": 64
    },
    "executionInfo": {
     "elapsed": 12,
     "status": "ok",
     "timestamp": 1738827460157,
     "user": {
      "displayName": "Gladys Mawarni",
      "userId": "03879441175200282144"
     },
     "user_tz": 0
    },
    "id": "RtPL8CTEVtHU",
    "outputId": "3458e739-d057-4300-859e-4d15f575a390"
   },
   "outputs": [
    {
     "data": {
      "text/markdown": [
       "The total amount invoiced in the latest invoice file, which is the Simonis Invoice dated 05.02.2025, is 188.402,52 €. The personnel involved are Garry Kilback (CEO of Simonis LLC) and Norwood Spinka (Customer)."
      ],
      "text/plain": [
       "<IPython.core.display.Markdown object>"
      ]
     },
     "execution_count": 17,
     "metadata": {},
     "output_type": "execute_result"
    }
   ],
   "source": [
    "# answer to the question\n",
    "Markdown(result.tasks_output[2].raw)"
   ]
  }
 ],
 "metadata": {
  "colab": {
   "authorship_tag": "ABX9TyN31xssE8J9ClTAW9nxddGh",
   "provenance": []
  },
  "kernelspec": {
   "display_name": "Python 3",
   "name": "python3"
  },
  "language_info": {
   "codemirror_mode": {
    "name": "ipython",
    "version": 3
   },
   "file_extension": ".py",
   "mimetype": "text/x-python",
   "name": "python",
   "nbconvert_exporter": "python",
   "pygments_lexer": "ipython3",
   "version": "3.11.11"
  }
 },
 "nbformat": 4,
 "nbformat_minor": 0
}
