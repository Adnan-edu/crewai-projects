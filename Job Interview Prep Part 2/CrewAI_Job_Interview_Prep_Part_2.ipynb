{
 "cells": [
  {
   "cell_type": "code",
   "execution_count": 1,
   "id": "5d1fdcda",
   "metadata": {},
   "outputs": [
    {
     "data": {
      "text/plain": [
       "True"
      ]
     },
     "execution_count": 1,
     "metadata": {},
     "output_type": "execute_result"
    }
   ],
   "source": [
    "from dotenv import load_dotenv, find_dotenv\n",
    "load_dotenv(find_dotenv(), override=True)"
   ]
  },
  {
   "cell_type": "code",
   "execution_count": 3,
   "id": "576bf0ac",
   "metadata": {},
   "outputs": [],
   "source": [
    "# Import Libraries\n",
    "from langchain_openai import ChatOpenAI\n",
    "from crewai import Agent, Process, Crew, Task\n",
    "from IPython.display import display, Markdown\n",
    "from crewai_tools import ScrapeWebsiteTool, SerperDevTool\n",
    "import os"
   ]
  },
  {
   "cell_type": "code",
   "execution_count": 4,
   "id": "086fe2ff",
   "metadata": {},
   "outputs": [],
   "source": [
    "# Define the LLM\n",
    "llm = ChatOpenAI(model_name = \"gpt-4o\", temperature = 0.5)"
   ]
  },
  {
   "cell_type": "markdown",
   "id": "3f312346",
   "metadata": {},
   "source": [
    "## User Inputs"
   ]
  },
  {
   "cell_type": "code",
   "execution_count": 5,
   "id": "ebe20529",
   "metadata": {},
   "outputs": [],
   "source": [
    "# We need to know the Name, company, job position, job description\n",
    "interviewer = input(\"Enter the name of the interviewer (if unknown write NONE): \")\n",
    "company = input(\"Enter the company: \")\n",
    "job_position = input(\"Enter the job position: \")\n",
    "job_description = input(\"Enter the job description: \")"
   ]
  },
  {
   "cell_type": "markdown",
   "id": "a6e59039",
   "metadata": {},
   "source": [
    "## Research Crew"
   ]
  },
  {
   "cell_type": "markdown",
   "id": "a5674c01",
   "metadata": {},
   "source": [
    "### Research AI Agent"
   ]
  },
  {
   "cell_type": "code",
   "execution_count": 6,
   "id": "81091d63",
   "metadata": {},
   "outputs": [],
   "source": [
    "# Research Agent\n",
    "research_agent = Agent(\n",
    "    role = 'Research Agent',\n",
    "    goal = f\"Conduct in-depth research to serve as a basis for interview prep\",\n",
    "    backstory = \"\"\"\n",
    "    As a Research Specialist, your mission is to uncover detailed and relevant information about the interviewer and company.\n",
    "        This includes their professional backgrounds, recent projects, social media activity, public speaking engagements, and any insights that can help tailor the interview discussion.\n",
    "        The ultimate goal is to equip the candidate with backgrounds of the company and the interviewer.\n",
    "        \"\"\",\n",
    "    llm = llm,\n",
    "    tools = [ScrapeWebsiteTool(), SerperDevTool()]\n",
    ")"
   ]
  },
  {
   "cell_type": "markdown",
   "id": "54c26a5a",
   "metadata": {},
   "source": [
    "### Research Tasks"
   ]
  },
  {
   "cell_type": "code",
   "execution_count": 7,
   "id": "f4793d8f",
   "metadata": {},
   "outputs": [],
   "source": [
    "# Research Task\n",
    "research_company_task = Task(\n",
    "    description = f\"\"\"\n",
    "    Research about {company}  their position in the sector, and recent industry trends.\n",
    "    Focus on news and developments from the last year, as the current\n",
    "        year is 2024.\"\"\",\n",
    "    expected_output=f\"A comprehensive report in Markdown with bullet points about {company}\",\n",
    "    agent = research_agent\n",
    ")"
   ]
  },
  {
   "cell_type": "code",
   "execution_count": 9,
   "id": "336afcda",
   "metadata": {},
   "outputs": [],
   "source": [
    "# Research Interviewer Task\n",
    "research_person_task = Task(\n",
    "    description = f\"Research about {interviewer} with a focus on their professional background, recent projects, social media activity, and any insights that can help tailor the interview discussion.\",\n",
    "    expected_output=f\"A comprehensive report in Markdown with bullet points about {interviewer}\",\n",
    "    agent = research_agent)"
   ]
  }
 ],
 "metadata": {
  "kernelspec": {
   "display_name": "Python 3",
   "language": "python",
   "name": "python3"
  },
  "language_info": {
   "codemirror_mode": {
    "name": "ipython",
    "version": 3
   },
   "file_extension": ".py",
   "mimetype": "text/x-python",
   "name": "python",
   "nbconvert_exporter": "python",
   "pygments_lexer": "ipython3",
   "version": "3.11.11"
  }
 },
 "nbformat": 4,
 "nbformat_minor": 5
}
